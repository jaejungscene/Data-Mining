{
 "cells": [
  {
   "cell_type": "markdown",
   "metadata": {},
   "source": [
    "## PageRank & HITS(Hyperlink-Induced Topic Search)"
   ]
  },
  {
   "cell_type": "code",
   "execution_count": 25,
   "metadata": {},
   "outputs": [
    {
     "name": "stderr",
     "output_type": "stream",
     "text": [
      "/home/ljj0512/.local/lib/python3.6/site-packages/pyspark/context.py:238: FutureWarning: Python 3.6 support is deprecated in Spark 3.2.\n",
      "  FutureWarning\n"
     ]
    }
   ],
   "source": [
    "from pyspark.sql import *\n",
    "from pyspark.sql.functions import *\n",
    "from pyspark import SparkContext\n",
    "\n",
    "# create the Spark Session\n",
    "spark = SparkSession.builder.appName(\"spark\").getOrCreate()\n",
    "\n",
    "# create the Spark Context\n",
    "sc = spark.sparkContext"
   ]
  },
  {
   "cell_type": "code",
   "execution_count": null,
   "metadata": {},
   "outputs": [],
   "source": [
    "temp1 = sc.parallelize([(1,2),(4,2)])\n",
    "temp2 = sc.parallelize([(1,2)])"
   ]
  },
  {
   "cell_type": "code",
   "execution_count": 249,
   "metadata": {},
   "outputs": [
    {
     "name": "stdout",
     "output_type": "stream",
     "text": [
      "[(1, 2)]\n",
      "8192\n",
      "\n",
      "[(994, 918)]\n",
      "8161\n",
      "(816, 774)\n",
      "(816, 208)\n",
      "(816, 894)\n",
      "(816, 762)\n",
      "(816, 817)\n",
      "(816, 999)\n",
      "(816, 849)\n",
      "\n",
      "[(994, 8), (816, 7), (322, 9)]\n",
      "1000\n",
      "(774, 7)\n",
      "\n",
      "[(816, (774, 7))]\n",
      "8161\n",
      "(816, (774, 7))\n",
      "(816, (208, 7))\n",
      "(816, (894, 7))\n",
      "(816, (762, 7))\n",
      "(816, (817, 7))\n",
      "(816, (999, 7))\n",
      "(816, (849, 7))\n",
      "\n"
     ]
    }
   ],
   "source": [
    "edges = sc.textFile('./graph-full.txt').map(lambda line: line.split())\\\n",
    "                                            .map(lambda pair: (int(pair[0]), int(pair[1])))\n",
    "print(edges.take(1))\n",
    "print(edges.count())\n",
    "print()\n",
    "\n",
    "edges = edges.distinct()\n",
    "print(edges.take(1))\n",
    "print(edges.count())\n",
    "for i in edges.collect():\n",
    "    if i[0] == 816:\n",
    "        print(i)\n",
    "print()\n",
    "\n",
    "out_count = edges.map(lambda x: (x[0], 1))\n",
    "out_count = out_count.reduceByKey(lambda v1, v2: v1 + v2)\n",
    "print(out_count.take(3))\n",
    "print(out_count.count())\n",
    "for i in out_count.collect():\n",
    "    if i[0] == 774:\n",
    "        print(i)\n",
    "print()\n",
    "\n",
    "edges = edges.join(out_count)\n",
    "print(edges.take(1))\n",
    "print(edges.count())\n",
    "for i in edges.collect():\n",
    "    if i[0]==816:\n",
    "        print(i)\n",
    "print()\n"
   ]
  },
  {
   "cell_type": "code",
   "execution_count": 250,
   "metadata": {},
   "outputs": [
    {
     "name": "stdout",
     "output_type": "stream",
     "text": [
      "1000\n",
      "2\n",
      "[(1, 0.001)]\n",
      "1000\n",
      "[(864, ((394, 7), 0.001))]\n",
      "8161\n"
     ]
    }
   ],
   "source": [
    "import numpy as np\n",
    "r = [(i, 1/1000) for i in range(1, 1000 + 1)]\n",
    "print(len(r))\n",
    "print(len(r[0]))\n",
    "r = sc.parallelize(r)\n",
    "print(r.take(1))\n",
    "print(r.count())\n",
    "m = edges.join(r)  # (dest, beta * source_weight / source_out_degree)\n",
    "print(m.take(1))\n",
    "print(m.count())\n"
   ]
  },
  {
   "cell_type": "code",
   "execution_count": 229,
   "metadata": {},
   "outputs": [
    {
     "name": "stdout",
     "output_type": "stream",
     "text": [
      "['1\\t2', '2\\t3', '3\\t4']\n",
      "8192\n",
      "# node: 1000\n"
     ]
    }
   ],
   "source": [
    "data = sc.textFile(\"graph-full.txt\")\n",
    "print(data.take(3))\n",
    "print(data.count())\n",
    "check = data.map(lambda line: (line.split(\"\\t\")[0], 1)).reduceByKey(lambda x, y: x+y)\n",
    "num_node = check.count()\n",
    "print(\"# node:\", num_node)"
   ]
  },
  {
   "cell_type": "code",
   "execution_count": 68,
   "metadata": {},
   "outputs": [
    {
     "name": "stdout",
     "output_type": "stream",
     "text": [
      "[(1, [2, 586, 904, 502, 531, 689]), (2, [3, 505, 799, 781, 415, 713, 690, 433, 632, 440, 498]), (3, [4, 190, 545, 562, 796, 679, 981, 455, 619])]\n",
      "1000\n"
     ]
    }
   ],
   "source": [
    "graph = data.map(lambda line: (int(line.split(\"\\t\")[0]), [int(line.split(\"\\t\")[1])]) )\\\n",
    "            .reduceByKey(lambda x, y: x+y)\\\n",
    "                .sortByKey()\n",
    "print(graph.take(3))\n",
    "print(graph.count())"
   ]
  },
  {
   "cell_type": "code",
   "execution_count": 223,
   "metadata": {},
   "outputs": [
    {
     "name": "stdout",
     "output_type": "stream",
     "text": [
      "1 0\n",
      "0.16666666666666666\n",
      "585 0\n",
      "0.16666666666666666\n",
      "903 0\n",
      "0.16666666666666666\n",
      "501 0\n",
      "0.16666666666666666\n",
      "530 0\n",
      "0.16666666666666666\n",
      "688 0\n",
      "0.16666666666666666\n",
      "====================================================================================================\n",
      "0.16666666666666666\n",
      "0.16666666666666666\n",
      "0.16666666666666666\n",
      "(1000, 1000)\n",
      "0.16666666666666666\n"
     ]
    }
   ],
   "source": [
    "import numpy as np\n",
    "\n",
    "# M = np.matrix([ np.repeat(0,num_node) for _ in range(num_node) ])\n",
    "M = np.matrix(np.zeros((num_node, num_node), dtype = np.float))\n",
    "\n",
    "for i,(_,edges) in enumerate(graph.collect()):\n",
    "    n = len(edges)\n",
    "    for edge in edges:\n",
    "        M[edge-1,i] = 1/n\n",
    "        print(edge-1,i)\n",
    "        print(M[edge-1,i])\n",
    "    break\n",
    "\n",
    "# print(M)\n",
    "print(\"=\"*100)\n",
    "print(M[1,0])\n",
    "print(M[585,0])\n",
    "print(M[903,0])\n",
    "print(M.shape)\n",
    "print(M.max())"
   ]
  },
  {
   "cell_type": "code",
   "execution_count": 248,
   "metadata": {},
   "outputs": [
    {
     "name": "stdout",
     "output_type": "stream",
     "text": [
      "(1000, 1)\n",
      "[0.001]\n"
     ]
    }
   ],
   "source": [
    "import numpy as np\n",
    "r = np.repeat(1/num_node, num_node).reshape(1,-1).T\n",
    "print(r.shape)\n",
    "print(r[0])\n",
    "beta = 0.8\n",
    "iteration = 40"
   ]
  },
  {
   "cell_type": "code",
   "execution_count": 225,
   "metadata": {},
   "outputs": [],
   "source": [
    "for _ in range(iteration):\n",
    "    r = ((beta)*M@r) + ((1-beta)/num_node) "
   ]
  },
  {
   "cell_type": "code",
   "execution_count": 226,
   "metadata": {},
   "outputs": [
    {
     "name": "stdout",
     "output_type": "stream",
     "text": [
      "1  0.00019999999999999996\n",
      "3  0.00019999999999999996\n",
      "4  0.00019999999999999996\n",
      "5  0.00019999999999999996\n",
      "6  0.00019999999999999996\n"
     ]
    }
   ],
   "source": [
    "r1 = np.array(r)\n",
    "\n",
    "for _ in range(5):\n",
    "    # print(r.min())\n",
    "    print(r.argmin()+1,\"\",r1.min())\n",
    "    r[r.argmin()] = 1.\n"
   ]
  },
  {
   "cell_type": "code",
   "execution_count": 227,
   "metadata": {},
   "outputs": [
    {
     "name": "stdout",
     "output_type": "stream",
     "text": [
      "2  0.00022666666666666663\n",
      "502  0.00022666666666666663\n",
      "531  0.00022666666666666663\n",
      "586  0.00022666666666666663\n",
      "689  0.00022666666666666663\n"
     ]
    }
   ],
   "source": [
    "for _ in range(5):\n",
    "    # print(r.max())\n",
    "    print(r1.argmax()+1,\"\",r1.max())\n",
    "    r1[r1.argmax()] = 0.\n",
    "\n"
   ]
  },
  {
   "cell_type": "code",
   "execution_count": null,
   "metadata": {},
   "outputs": [],
   "source": []
  },
  {
   "cell_type": "code",
   "execution_count": 22,
   "metadata": {},
   "outputs": [
    {
     "name": "stdout",
     "output_type": "stream",
     "text": [
      "1024\n"
     ]
    }
   ],
   "source": [
    "x = np.array([[1,2],[3,4]])\n",
    "y = np.array([1,1])\n",
    "print(x@y)\n"
   ]
  }
 ],
 "metadata": {
  "kernelspec": {
   "display_name": "Python 3.6.9 64-bit",
   "language": "python",
   "name": "python3"
  },
  "language_info": {
   "codemirror_mode": {
    "name": "ipython",
    "version": 3
   },
   "file_extension": ".py",
   "mimetype": "text/x-python",
   "name": "python",
   "nbconvert_exporter": "python",
   "pygments_lexer": "ipython3",
   "version": "3.6.9"
  },
  "orig_nbformat": 4,
  "vscode": {
   "interpreter": {
    "hash": "31f2aee4e71d21fbe5cf8b01ff0e069b9275f58929596ceb00d14d90e3e16cd6"
   }
  }
 },
 "nbformat": 4,
 "nbformat_minor": 2
}
