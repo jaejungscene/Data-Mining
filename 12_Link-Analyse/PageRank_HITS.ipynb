{
 "cells": [
  {
   "cell_type": "code",
   "execution_count": 1,
   "metadata": {},
   "outputs": [],
   "source": [
    "import numpy as np\n",
    "from pyspark import SparkConf, SparkContext"
   ]
  },
  {
   "cell_type": "code",
   "execution_count": 2,
   "metadata": {},
   "outputs": [
    {
     "name": "stderr",
     "output_type": "stream",
     "text": [
      "/home/ljj0512/.local/lib/python3.6/site-packages/pyspark/context.py:238: FutureWarning: Python 3.6 support is deprecated in Spark 3.2.\n",
      "  FutureWarning\n"
     ]
    }
   ],
   "source": [
    "conf = SparkConf()\n",
    "sc = SparkContext(conf=conf)"
   ]
  },
  {
   "cell_type": "code",
   "execution_count": 6,
   "metadata": {},
   "outputs": [],
   "source": [
    "def page_rank():\n",
    "    n_node = 1000\n",
    "    beta = 0.8\n",
    "    edges = sc.textFile('./graph-full.txt').map(lambda line: line.split())\\\n",
    "                                            .map(lambda pair: (int(pair[0]), int(pair[1])))\n",
    "    edges = edges.distinct()\n",
    "    out_count = edges.map(lambda x: (x[0], 1))\n",
    "    out_count = out_count.reduceByKey(lambda v1, v2: v1 + v2)\n",
    "    edges = edges.join(out_count)\n",
    "    r = [(i, 1/n_node) for i in range(1, n_node + 1)]\n",
    "\n",
    "    for i in range(40):\n",
    "        r = sc.parallelize(r)\n",
    "        m = edges.join(r)  # (dest, beta * source_weight / source_out_degree)\n",
    "        m = m.map(lambda x: (x[1][0][0], beta * x[1][1] / x[1][0][1]))\n",
    "        m = m.reduceByKey(lambda v1, v2: v1 + v2)\n",
    "        m = m.mapValues(lambda v: v + (1 - beta) / n_node)\n",
    "        r = m.collect()\n",
    "\n",
    "    r = sc.parallelize(r)\n",
    "    print(r.top(5, lambda x: x[1]))\n",
    "    print(r.top(5, lambda x: -x[1]))"
   ]
  },
  {
   "cell_type": "code",
   "execution_count": 7,
   "metadata": {},
   "outputs": [],
   "source": [
    "def hits():\n",
    "    n_node = 100\n",
    "    lmb = 1\n",
    "    mu = 1\n",
    "    edges = sc.textFile('./graph-full.txt').map(lambda line: line.split()\n",
    "                                                      ).map(lambda pair: (int(pair[0]), int(pair[1])))\n",
    "    edges = edges.distinct()\n",
    "    reversed_edges = edges.map(lambda x: (x[1], x[0]))\n",
    "    h = [(i, 1) for i in range(1, n_node + 1)]\n",
    "    for i in range(40):\n",
    "        h = sc.parallelize(h)\n",
    "        h_t = edges.join(h)  # (source, (dest, h_source))\n",
    "        h_t = h_t.map(lambda x: (x[1][0], mu * x[1][1]))  # (dest, h_source)\n",
    "        h_t = h_t.reduceByKey(lambda v1, v2: v1 + v2)\n",
    "        max_a = h_t.max(lambda x: x[1])[1]\n",
    "        a = h_t.map(lambda x: (x[0], x[1] / max_a))\n",
    "\n",
    "        a_t = reversed_edges.join(a)  # (dest, (source, a_dest))\n",
    "        a_t = a_t.map(lambda x: (x[1][0], lmb * x[1][1]))  # (source, a_dest)\n",
    "        a_t = a_t.reduceByKey(lambda v1, v2: v1 + v2)\n",
    "        max_h = a_t.max(lambda x: x[1])[1]\n",
    "        h = a_t.map(lambda x: (x[0], x[1] / max_h))\n",
    "        h = h.collect()\n",
    "    h = sc.parallelize(h)\n",
    "    print(h.top(5, lambda x: x[1]))\n",
    "    print(a.top(5, lambda x: x[1]))\n",
    "    print(h.top(5, lambda x: -x[1]))\n",
    "    print(a.top(5, lambda x: -x[1]))"
   ]
  },
  {
   "cell_type": "code",
   "execution_count": 8,
   "metadata": {},
   "outputs": [
    {
     "name": "stdout",
     "output_type": "stream",
     "text": [
      "[(263, 0.002020291181518219), (537, 0.0019433415714531501), (965, 0.001925447807166263), (243, 0.0018526340162417314), (285, 0.0018273721700645142)]\n",
      "[(558, 0.0003286018525215297), (93, 0.0003513568937516577), (62, 0.00035314810510596274), (424, 0.00035481538649301454), (408, 0.00038779848719291705)]\n"
     ]
    }
   ],
   "source": [
    "page_rank()"
   ]
  },
  {
   "cell_type": "code",
   "execution_count": 9,
   "metadata": {},
   "outputs": [
    {
     "name": "stdout",
     "output_type": "stream",
     "text": [
      "[(840, 1.0), (155, 0.9499618624906542), (234, 0.8986645288972261), (389, 0.8634171101843793), (472, 0.8632841092495218)]\n",
      "[(893, 1.0), (16, 0.96355728496344), (799, 0.9510158161074022), (146, 0.9246703586198447), (473, 0.899866197360405)]\n",
      "[(23, 0.04206685489093654), (835, 0.057790593544330165), (141, 0.06453117646225179), (539, 0.06602659373418493), (889, 0.07678413939216455)]\n",
      "[(19, 0.0560831637760762), (135, 0.06653910487622795), (462, 0.075442286246419), (24, 0.08171239406816948), (910, 0.08571673456144879)]\n"
     ]
    }
   ],
   "source": [
    "hits()"
   ]
  }
 ],
 "metadata": {
  "kernelspec": {
   "display_name": "Python 3.6.9 64-bit",
   "language": "python",
   "name": "python3"
  },
  "language_info": {
   "codemirror_mode": {
    "name": "ipython",
    "version": 3
   },
   "file_extension": ".py",
   "mimetype": "text/x-python",
   "name": "python",
   "nbconvert_exporter": "python",
   "pygments_lexer": "ipython3",
   "version": "3.6.9"
  },
  "orig_nbformat": 4,
  "vscode": {
   "interpreter": {
    "hash": "31f2aee4e71d21fbe5cf8b01ff0e069b9275f58929596ceb00d14d90e3e16cd6"
   }
  }
 },
 "nbformat": 4,
 "nbformat_minor": 2
}
