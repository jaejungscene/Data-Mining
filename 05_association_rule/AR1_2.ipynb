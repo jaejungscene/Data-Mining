{
  "cells": [
    {
      "cell_type": "code",
      "execution_count": 5,
      "metadata": {
        "colab": {
          "base_uri": "https://localhost:8080/"
        },
        "id": "d-x4-nP78Q74",
        "outputId": "e6cbb8f7-9b39-4045-d734-86aac43df3fb"
      },
      "outputs": [],
      "source": [
        "# !pip install pyspark\n",
        "# !pip install -U -q PyDrive\n",
        "# !apt install openjdk-8-jdk-headless -qq"
      ]
    },
    {
      "cell_type": "code",
      "execution_count": 2,
      "metadata": {
        "id": "-7wILTU-8RXl"
      },
      "outputs": [],
      "source": [
        "# import os\n",
        "# os.environ[\"JAVA_HOME\"] = \"/usr/lib/jvm/java-8-openjdk-amd64\""
      ]
    },
    {
      "cell_type": "code",
      "execution_count": 4,
      "metadata": {
        "id": "kVQGYlgw8FUS"
      },
      "outputs": [],
      "source": [
        "import re\n",
        "import sys\n",
        "import itertools as it\n",
        "from pyspark import SparkConf, SparkContext\n",
        "from pyspark.sql import SparkSession"
      ]
    },
    {
      "cell_type": "code",
      "execution_count": 2,
      "metadata": {
        "id": "snjweBPs8lWW"
      },
      "outputs": [],
      "source": [
        "file_path = \"./\" # Your path"
      ]
    },
    {
      "cell_type": "code",
      "execution_count": 8,
      "metadata": {
        "id": "3Qw9LSgf8ytj"
      },
      "outputs": [],
      "source": [
        "\"\"\"\n",
        "Read and write the each data file.\n",
        "\"\"\"\n",
        "\n",
        "with open(file_path + 'browsing.txt', 'r') as browsing:\n",
        "  lines = browsing.readlines()\n",
        "\n",
        "with open(file_path + 'browsingBasket.txt', 'w') as bbrowsing:\n",
        "  for (num, line) in enumerate(lines):\n",
        "    bbrowsing.write(\"%d:%s\" % (num, line))"
      ]
    },
    {
      "cell_type": "code",
      "execution_count": 6,
      "metadata": {
        "id": "0mPmCH_j9Rxt"
      },
      "outputs": [
        {
          "name": "stderr",
          "output_type": "stream",
          "text": [
            "/home/ljj0512/.local/lib/python3.6/site-packages/pyspark/context.py:238: FutureWarning: Python 3.6 support is deprecated in Spark 3.2.\n",
            "  FutureWarning\n"
          ]
        }
      ],
      "source": [
        "# conf = SparkConf()\n",
        "# sc = SparkContext(conf = conf)\n",
        "spark = SparkSession.builder.getOrCreate()\n",
        "sc = spark.sparkContext"
      ]
    },
    {
      "cell_type": "code",
      "execution_count": 35,
      "metadata": {
        "id": "wMI3sVMk9URv"
      },
      "outputs": [
        {
          "name": "stdout",
          "output_type": "stream",
          "text": [
            "[['0', 'FRO11987 ELE17451 ELE89019 SNA90258 GRO99222 ']]\n",
            "31101\n"
          ]
        }
      ],
      "source": [
        "basklines = sc.textFile(file_path + 'browsingBasket.txt')\n",
        "basket_Items = basklines.map(lambda l: l.split(':'))\n",
        "print(basket_Items.take(1))\n",
        "# output ['0', 'FRO11987 ELE17451 ELE89019 SNA90258 GRO99222 ']\n",
        "print(basklines.count())\n",
        "# output 31101"
      ]
    },
    {
      "cell_type": "code",
      "execution_count": 37,
      "metadata": {
        "id": "devdr9j09dvp"
      },
      "outputs": [
        {
          "name": "stdout",
          "output_type": "stream",
          "text": [
            "[(0, ['ELE17451', 'ELE89019', 'FRO11987', 'GRO99222', 'SNA90258'])]\n",
            "31101\n"
          ]
        }
      ],
      "source": [
        "basketItems = basket_Items.map(lambda p: (int(p[0]), sorted(p[1].split())))\n",
        "print(basketItems.take(1))\n",
        "# output (0, ['ELE17451', 'ELE89019', 'FRO11987', 'GRO99222', 'SNA90258'])\n",
        "print(basketItems.count())\n",
        "# output 31101 <--- 총 basket 수"
      ]
    },
    {
      "cell_type": "code",
      "execution_count": 38,
      "metadata": {
        "id": "8nYZ9SWy904q"
      },
      "outputs": [],
      "source": [
        "def itemsOf_baskets(basket):\n",
        "  \"\"\"\n",
        "  Splitting baskets and items.\n",
        "\n",
        "  Return items in itemList.\n",
        "  \"\"\"\n",
        "  basketId = basket[0]\n",
        "  itemList = basket[1]\n",
        "  return [(item, 1) for item in itemList]"
      ]
    },
    {
      "cell_type": "code",
      "execution_count": 85,
      "metadata": {},
      "outputs": [
        {
          "name": "stdout",
          "output_type": "stream",
          "text": [
            "[[('ELE17451', 1), ('ELE89019', 1), ('FRO11987', 1), ('GRO99222', 1), ('SNA90258', 1)]]\n"
          ]
        }
      ],
      "source": [
        "items = basketItems.map(itemsOf_baskets)\n",
        "print(items.take(1))"
      ]
    },
    {
      "cell_type": "code",
      "execution_count": 39,
      "metadata": {
        "id": "AZbbGf9U96hE"
      },
      "outputs": [
        {
          "name": "stdout",
          "output_type": "stream",
          "text": [
            "[('ELE17451', 1)]\n",
            "380824\n"
          ]
        }
      ],
      "source": [
        "items = basketItems.map(itemsOf_baskets).flatMap(lambda x: x)\n",
        "print(items.take(1))\n",
        "# output ('ELE17451', 1)\n",
        "print(items.count())\n",
        "# 380824"
      ]
    },
    {
      "cell_type": "code",
      "execution_count": 40,
      "metadata": {
        "id": "JepFVUWd9-Rf"
      },
      "outputs": [],
      "source": [
        "supportThresh = 100"
      ]
    },
    {
      "cell_type": "code",
      "execution_count": 41,
      "metadata": {
        "id": "Av7MXCq6-CCs"
      },
      "outputs": [
        {
          "name": "stdout",
          "output_type": "stream",
          "text": [
            "12592\n"
          ]
        }
      ],
      "source": [
        "itemCounts = items.reduceByKey(lambda c1, c2: c1 + c2)\n",
        "print(itemCounts.count())\n",
        "#output 12592"
      ]
    },
    {
      "cell_type": "code",
      "execution_count": 56,
      "metadata": {
        "id": "tufUB7Qq-E8A"
      },
      "outputs": [
        {
          "name": "stdout",
          "output_type": "stream",
          "text": [
            "[('FRO11987', 104)]\n",
            "647\n"
          ]
        }
      ],
      "source": [
        "frequent_items = itemCounts.filter(lambda x: x[1] >= supportThresh)  # Filter by expression contained in lambda\n",
        "print(frequent_items.take(1))\n",
        "print(frequent_items.count())\n",
        "#output 647"
      ]
    },
    {
      "cell_type": "code",
      "execution_count": 24,
      "metadata": {
        "id": "GP03UACr-JJb"
      },
      "outputs": [
        {
          "name": "stdout",
          "output_type": "stream",
          "text": [
            "<class 'dict'>\n",
            "647\n",
            "('FRO11987', 104)\n"
          ]
        }
      ],
      "source": [
        "freqItems = frequent_items.collectAsMap()\n",
        "print(type(freqItems))\n",
        "print(len(freqItems)) #output 647\n",
        "print( next(iter(zip(freqItems.keys(), freqItems.values()))) ) "
      ]
    },
    {
      "cell_type": "code",
      "execution_count": 25,
      "metadata": {
        "id": "-b29SrYw-Nbu"
      },
      "outputs": [],
      "source": [
        "def frequentSingletons(basket):\n",
        "  \"\"\"\n",
        "  Return an array containing the frequency at which the items appear. (Refer to function as itemsOf_baskets -> not include combinations methods)\n",
        "\n",
        "  This function considers all frequencies.\n",
        "  \"\"\"\n",
        "  basketId = basket[0]\n",
        "  itemList = basket[1]\n",
        "  freqList = []\n",
        "\n",
        "  for item in itemList:\n",
        "    if item in freqItems:\n",
        "      freqList.append(item) # 각 usr의 item 중 freq한 itme 추출\n",
        "  return (basketId, sorted(freqList))"
      ]
    },
    {
      "cell_type": "code",
      "execution_count": 43,
      "metadata": {
        "id": "mBIyM3Aq-bdf"
      },
      "outputs": [
        {
          "name": "stdout",
          "output_type": "stream",
          "text": [
            "[(0, ['ELE17451', 'FRO11987', 'GRO99222', 'SNA90258'])]\n",
            "31101\n"
          ]
        }
      ],
      "source": [
        "basket_freqSingletons = basketItems.map(frequentSingletons)\n",
        "print(basket_freqSingletons.take(1))\n",
        "# output (0, ['ELE17451', 'FRO11987', 'GRO99222', 'SNA90258'])\n",
        "print(basket_freqSingletons.count())\n",
        "#output 31101"
      ]
    },
    {
      "cell_type": "markdown",
      "metadata": {},
      "source": [
        "## mark01"
      ]
    },
    {
      "cell_type": "code",
      "execution_count": 57,
      "metadata": {},
      "outputs": [
        {
          "name": "stdout",
          "output_type": "stream",
          "text": [
            "30879\n"
          ]
        }
      ],
      "source": [
        "# suport threshold == 100\n",
        "# frequent sigletons을 하나라도 가지고 있는 basket만을 filter\n",
        "basket_freqSingletons_count = basket_freqSingletons.filter(lambda x: len(x[1])!=0)\n",
        "print(basket_freqSingletons_count.count())\n",
        "#output 30879"
      ]
    },
    {
      "cell_type": "code",
      "execution_count": 44,
      "metadata": {
        "id": "Y3qfv6PE-gJM"
      },
      "outputs": [],
      "source": [
        "def item_pairs_of_basket(basket):\n",
        "  \"\"\"\n",
        "  Compare with above \"itemsOf_baskets\" function. -> use combinations methods\n",
        "  \"\"\"\n",
        "  basketId = basket[0]\n",
        "  itemList = basket[1]\n",
        "  return [(pair_of_items, 1) for pair_of_items in it.combinations(itemList, 2)] "
      ]
    },
    {
      "cell_type": "code",
      "execution_count": 45,
      "metadata": {
        "id": "xpUNbrCq-wRT"
      },
      "outputs": [
        {
          "name": "stdout",
          "output_type": "stream",
          "text": [
            "[(('ELE17451', 'FRO11987'), 1), (('ELE17451', 'GRO99222'), 1), (('ELE17451', 'SNA90258'), 1), (('FRO11987', 'GRO99222'), 1), (('FRO11987', 'SNA90258'), 1), (('GRO99222', 'SNA90258'), 1), (('ELE17451', 'ELE26917'), 1)]\n",
            "1358611\n"
          ]
        }
      ],
      "source": [
        "candidate_doubles = basket_freqSingletons.map(item_pairs_of_basket).flatMap(lambda x: x)\n",
        "print(candidate_doubles.take(7))\n",
        "# output (('ELE17451', 'FRO11987'), 1)\n",
        "print(candidate_doubles.count())\n",
        "#output 1358611"
      ]
    },
    {
      "cell_type": "code",
      "execution_count": 46,
      "metadata": {
        "id": "EoNGFqKg-3AH"
      },
      "outputs": [
        {
          "name": "stdout",
          "output_type": "stream",
          "text": [
            "[(('ELE17451', 'GRO99222'), 148)]\n",
            "149099\n"
          ]
        }
      ],
      "source": [
        "doubleCounts = candidate_doubles.reduceByKey(lambda c1, c2: c1 + c2)\n",
        "print(doubleCounts.take(1))\n",
        "#output (('ELE17451', 'GRO99222'), 148)\n",
        "print(doubleCounts.count())\n",
        "#output 149099"
      ]
    },
    {
      "cell_type": "code",
      "execution_count": 47,
      "metadata": {
        "id": "NsluzHvK-768"
      },
      "outputs": [
        {
          "name": "stdout",
          "output_type": "stream",
          "text": [
            "647\n"
          ]
        }
      ],
      "source": [
        "frequent_pairs = doubleCounts.filter(lambda x: x[1] >= supportThresh)\n",
        "print(frequent_items.count())"
      ]
    },
    {
      "cell_type": "code",
      "execution_count": 58,
      "metadata": {
        "id": "kUzwpdTa_AWQ"
      },
      "outputs": [
        {
          "name": "stdout",
          "output_type": "stream",
          "text": [
            "<class 'dict'>\n",
            "1334\n",
            "(('ELE17451', 'GRO99222'), 148)\n"
          ]
        }
      ],
      "source": [
        "freqPairs = frequent_pairs.collectAsMap()\n",
        "print(type(freqPairs))\n",
        "print(len(freqPairs)) #output 647\n",
        "print( next(iter(zip(freqPairs.keys(), freqPairs.values()))) ) "
      ]
    },
    {
      "cell_type": "code",
      "execution_count": 80,
      "metadata": {
        "id": "zgVGWOlO_DdX"
      },
      "outputs": [],
      "source": [
        "import itertools as it\n",
        "def frequentDoubletons(basket_freqSingles):\n",
        "  \"\"\"\n",
        "  Compared with SingleTons functions\n",
        "  \"\"\"\n",
        "  basketId = basket_freqSingles[0]\n",
        "  itemList = basket_freqSingles[1]\n",
        "  freqList = []\n",
        "\n",
        "  for item in it.combinations(itemList,2):\n",
        "    if item in freqPairs:\n",
        "      freqList.append(item) # 각 usr의 item 중 freq한 itme 추출\n",
        "  return (basketId, sorted(freqList))"
      ]
    },
    {
      "cell_type": "code",
      "execution_count": 81,
      "metadata": {},
      "outputs": [
        {
          "name": "stdout",
          "output_type": "stream",
          "text": [
            "[(0, ['ELE17451', 'FRO11987', 'GRO99222', 'SNA90258'])]\n"
          ]
        }
      ],
      "source": [
        "print(basket_freqSingletons.take(1))"
      ]
    },
    {
      "cell_type": "code",
      "execution_count": 84,
      "metadata": {
        "id": "IcTXILzB_VTf"
      },
      "outputs": [
        {
          "name": "stdout",
          "output_type": "stream",
          "text": [
            "[(0, [('ELE17451', 'GRO99222'), ('ELE17451', 'SNA90258'), ('GRO99222', 'SNA90258')])]\n",
            "31101\n",
            "24884\n"
          ]
        }
      ],
      "source": [
        "basket_freqDoubletons = basket_freqSingletons.map(frequentDoubletons)\n",
        "print(basket_freqDoubletons.take(1))\n",
        "#output (0, ['ELE17451', 'FRO11987', 'GRO99222', 'SNA90258'])\n",
        "print(basket_freqDoubletons.count())\n",
        "#output 31101\n",
        "\n",
        "basket_freqDoubletons_count = basket_freqDoubletons.filter(lambda x: len(x[1])!=0)\n",
        "print(basket_freqDoubletons_count.count())"
      ]
    },
    {
      "cell_type": "code",
      "execution_count": 86,
      "metadata": {
        "id": "YmA5DZmV_Z8K"
      },
      "outputs": [],
      "source": [
        "def item_triples_of_basket(basket_freqPairs):\n",
        "\tbasketId   = basket_freqPairs[0]\n",
        "\tfreq_pairs = basket_freqPairs[1]\n",
        "\tfreq_items = []\n",
        "\tfor p in freq_pairs:\n",
        "\t\ti1, i2 = p\n",
        "\t\tif i1 not in freq_items:\n",
        "\t\t\tfreq_items.append(i1)\n",
        "\t\tif i2 not in freq_items:\n",
        "\t\t\tfreq_items.append(i2)\n",
        "\treturn \t[ (pair_itmes,1) for pair_itmes in it.combinations(freq_items,3) ]"
      ]
    },
    {
      "cell_type": "code",
      "execution_count": 87,
      "metadata": {
        "id": "83-nIxQZACIg"
      },
      "outputs": [
        {
          "name": "stdout",
          "output_type": "stream",
          "text": [
            "[(('ELE17451', 'GRO99222', 'SNA90258'), 1)]\n"
          ]
        }
      ],
      "source": [
        "candidate_triples = basket_freqDoubletons.map(item_triples_of_basket).flatMap(lambda x: x)\n",
        "print(candidate_triples.take(1))"
      ]
    },
    {
      "cell_type": "code",
      "execution_count": 89,
      "metadata": {
        "id": "Q_7i56JUAHjL"
      },
      "outputs": [
        {
          "name": "stdout",
          "output_type": "stream",
          "text": [
            "558176\n",
            "140\n"
          ]
        }
      ],
      "source": [
        "tripleCounts = candidate_triples.reduceByKey(lambda c1, c2: c1 + c2)\n",
        "print(tripleCounts.count()) #output 558176\n",
        "frequent_triples = tripleCounts.filter(lambda x: x[1] >= supportThresh)\n",
        "print(frequent_triples.count()) #output 140"
      ]
    },
    {
      "cell_type": "code",
      "execution_count": 90,
      "metadata": {
        "id": "U8pFJ50KAPuN"
      },
      "outputs": [
        {
          "name": "stdout",
          "output_type": "stream",
          "text": [
            "<class 'dict'>\n",
            "140\n",
            "(('DAI62779', 'ELE17451', 'FRO78087'), 119)\n"
          ]
        }
      ],
      "source": [
        "freqTriples = frequent_triples.collectAsMap()\n",
        "print(type(freqTriples))\n",
        "print(len(freqTriples)) #output 647\n",
        "print( next(iter(zip(freqTriples.keys(), freqTriples.values()))) )"
      ]
    },
    {
      "cell_type": "code",
      "execution_count": 91,
      "metadata": {
        "id": "jcxlH7UBAULC"
      },
      "outputs": [],
      "source": [
        "def rules_fromPairs_sortByConf(pairs, items):\n",
        "  \"\"\"\n",
        "  Confidence, Lift, Conviction\n",
        "  \"\"\"\n",
        "  ruleList = []\n",
        "  for pair in pairs:\n",
        "    x = pair[0]\n",
        "    y = pair[1]\n",
        "\n",
        "    X_support = items[x]\n",
        "    Y_support = items[y]\n",
        "    XYsupport = pairs[pair]\n",
        "    Conf_XtoY = (1.0 * XYsupport) / X_support\n",
        "    Conf_YtoX = (1.0 * XYsupport) / Y_support\n",
        "    ruleList.append((Conf_XtoY, (x, y)))\n",
        "    ruleList.append((Conf_YtoX, (y, x)))\n",
        "  return sorted(ruleList, key = lambda x: (-x[0], x[1]))"
      ]
    },
    {
      "cell_type": "code",
      "execution_count": 92,
      "metadata": {
        "id": "DggJT8ZZB5tE"
      },
      "outputs": [],
      "source": [
        "one2oneRules = rules_fromPairs_sortByConf(freqPairs, freqItems)"
      ]
    },
    {
      "cell_type": "code",
      "execution_count": 93,
      "metadata": {
        "id": "1kDLKajvB-Hf"
      },
      "outputs": [],
      "source": [
        "topN = 5"
      ]
    },
    {
      "cell_type": "code",
      "execution_count": 94,
      "metadata": {
        "colab": {
          "base_uri": "https://localhost:8080/"
        },
        "id": "yDbURo6gB-pJ",
        "outputId": "fb01035a-d275-40db-e4ba-936296e0bf45"
      },
      "outputs": [
        {
          "name": "stdout",
          "output_type": "stream",
          "text": [
            "Conf: 1.00000000\tRule: DAI93865 => FRO40251\n",
            "Conf: 0.99917628\tRule: GRO85051 => FRO40251\n",
            "Conf: 0.99065421\tRule: GRO38636 => FRO40251\n",
            "Conf: 0.99056604\tRule: ELE12951 => FRO40251\n",
            "Conf: 0.98672566\tRule: DAI88079 => FRO40251\n",
            "\n",
            "\n",
            "\n"
          ]
        }
      ],
      "source": [
        "for i in range(topN):\n",
        "  print(\"Conf: %.8f\\tRule: %s => %s\" % (one2oneRules[i][0], one2oneRules[i][1][0], one2oneRules[i][1][1]))\n",
        "\n",
        "print(\"\\n\\n\")"
      ]
    },
    {
      "cell_type": "code",
      "execution_count": 127,
      "metadata": {
        "id": "dr6AqMgkCNe4"
      },
      "outputs": [],
      "source": [
        "def rules_fromTriples_sortByConf(triples, pairs):\n",
        "  \"\"\"\n",
        "  Confidence, Lift, Conviction\n",
        "  \"\"\"\n",
        "  ruleList = []\n",
        "  for triple in triples:\n",
        "    x = triple[0]\n",
        "    y = triple[1]\n",
        "    z = triple[2]\n",
        "\n",
        "    try:\n",
        "      XY_support = pairs[x,y]\n",
        "    except KeyError:\n",
        "      XY_support = pairs[y,x]\n",
        "\n",
        "    try:\n",
        "      XZ_support = pairs[x,z]\n",
        "    except KeyError:\n",
        "      XZ_support = pairs[z,x]\n",
        "\n",
        "    try:\n",
        "      YZ_support = pairs[y,z]\n",
        "    except KeyError:\n",
        "      YZ_support = pairs[z,y]\n",
        "\n",
        "    XYZ_support = triples[triple]\n",
        "\n",
        "    Conf_XYtoZ = (1.0 * XYZ_support) / XY_support\n",
        "    Conf_XZtoY = (1.0 * XYZ_support) / XZ_support\n",
        "    Conf_YZtoX = (1.0 * XYZ_support) / YZ_support\n",
        "    \n",
        "    ruleList.append((Conf_XYtoZ, ((x,y),z)))\n",
        "    ruleList.append((Conf_XZtoY, ((x,z),y)))\n",
        "    ruleList.append((Conf_YZtoX, ((y,z),x)))\n",
        "  return sorted(ruleList, key=lambda x: (-x[0],x[1]))\n"
      ]
    },
    {
      "cell_type": "code",
      "execution_count": 128,
      "metadata": {
        "id": "itnts-95DHjY"
      },
      "outputs": [
        {
          "name": "stdout",
          "output_type": "stream",
          "text": [
            "<class 'list'>\n",
            "420\n"
          ]
        }
      ],
      "source": [
        "two2oneRules = rules_fromTriples_sortByConf(freqTriples, freqPairs)\n",
        "print(type(two2oneRules))\n",
        "print(len(two2oneRules))"
      ]
    },
    {
      "cell_type": "code",
      "execution_count": 130,
      "metadata": {
        "colab": {
          "base_uri": "https://localhost:8080/"
        },
        "id": "yeX_3bZGDOoS",
        "outputId": "f33cc31c-221a-4c14-e354-141843186525"
      },
      "outputs": [
        {
          "name": "stdout",
          "output_type": "stream",
          "text": [
            "Conf: 0.98429319\tRule: (DAI62779, GRO85051) => FRO40251\n",
            "Conf: 0.96280992\tRule: (DAI62779, FRO92469) => FRO40251\n",
            "Conf: 0.95918367\tRule: (GRO73461, GRO85051) => FRO40251\n",
            "Conf: 0.95714286\tRule: (ELE92920, GRO81087) => DAI62779\n",
            "Conf: 0.94945055\tRule: (ELE92920, SNA18336) => DAI62779\n"
          ]
        }
      ],
      "source": [
        "for i in range(topN):\n",
        "  print(\"Conf: %.8f\\tRule: (%s, %s) => %s\" % (two2oneRules[i][0], two2oneRules[i][1][0][0], two2oneRules[i][1][0][1], two2oneRules[i][1][1]))"
      ]
    },
    {
      "cell_type": "code",
      "execution_count": 131,
      "metadata": {
        "id": "Hao59R5JDfLr"
      },
      "outputs": [],
      "source": [
        "def pOne2OneRules2file(rList, N, fname):\n",
        "  fp = open(fname, 'w+')\n",
        "  for i in range(N):\n",
        "    fp.write(\"Conf: %8f\\tRule: %s => %s\" % (rList[i][0], rList[i][1][0], rList[i][1][1]))\n",
        "  fp.close()\n",
        "\n",
        "def pTwo2OneRules2file(rList, N, fname):\n",
        "  fp = open(fname, 'w+')\n",
        "  for i in range(N):\n",
        "    fp.write(\"Conf: %.8f\\tRule: (%s, %s) => %s\" % (rList[i][0], rList[i][1][0][0], rList[i][1][0][1], rList[i][1][1]))"
      ]
    },
    {
      "cell_type": "code",
      "execution_count": 132,
      "metadata": {
        "id": "g8bT_IIpEEXO"
      },
      "outputs": [],
      "source": [
        "pOne2OneRules2file(one2oneRules, len(one2oneRules), '1-to-1-rules.txt')\n",
        "pTwo2OneRules2file(two2oneRules, len(two2oneRules), '2-to-1-rules.txt')"
      ]
    },
    {
      "cell_type": "code",
      "execution_count": 39,
      "metadata": {
        "id": "eBerNxm4Ee_d"
      },
      "outputs": [],
      "source": [
        "sc.stop()"
      ]
    },
    {
      "cell_type": "code",
      "execution_count": 39,
      "metadata": {
        "id": "72vjJ_ovEgL_"
      },
      "outputs": [],
      "source": []
    }
  ],
  "metadata": {
    "colab": {
      "collapsed_sections": [],
      "provenance": []
    },
    "kernelspec": {
      "display_name": "Python 3.6.9 64-bit",
      "language": "python",
      "name": "python3"
    },
    "language_info": {
      "codemirror_mode": {
        "name": "ipython",
        "version": 3
      },
      "file_extension": ".py",
      "mimetype": "text/x-python",
      "name": "python",
      "nbconvert_exporter": "python",
      "pygments_lexer": "ipython3",
      "version": "3.6.9"
    },
    "vscode": {
      "interpreter": {
        "hash": "31f2aee4e71d21fbe5cf8b01ff0e069b9275f58929596ceb00d14d90e3e16cd6"
      }
    }
  },
  "nbformat": 4,
  "nbformat_minor": 0
}
