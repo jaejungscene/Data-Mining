{
 "cells": [
  {
   "cell_type": "code",
   "execution_count": 1,
   "metadata": {},
   "outputs": [
    {
     "name": "stdout",
     "output_type": "stream",
     "text": [
      "<class 'str'>\n",
      "/home/jaejung/Workspace/Data-Mining/Project/backend/data/Books.db\n"
     ]
    },
    {
     "ename": "OperationalError",
     "evalue": "unable to open database file",
     "output_type": "error",
     "traceback": [
      "\u001b[0;31m---------------------------------------------------------------------------\u001b[0m",
      "\u001b[0;31mOperationalError\u001b[0m                          Traceback (most recent call last)",
      "\u001b[1;32m/home/jaejung/Workspace/Data-Mining/Project/backend/insert.ipynb Cell 1\u001b[0m line \u001b[0;36m2\n\u001b[1;32m      <a href='vscode-notebook-cell://ssh-remote%2B58.228.239.49/home/jaejung/Workspace/Data-Mining/Project/backend/insert.ipynb#W0sdnNjb2RlLXJlbW90ZQ%3D%3D?line=0'>1</a>\u001b[0m \u001b[39mfrom\u001b[39;00m \u001b[39mutils\u001b[39;00m \u001b[39mimport\u001b[39;00m search_database\n\u001b[0;32m----> <a href='vscode-notebook-cell://ssh-remote%2B58.228.239.49/home/jaejung/Workspace/Data-Mining/Project/backend/insert.ipynb#W0sdnNjb2RlLXJlbW90ZQ%3D%3D?line=1'>2</a>\u001b[0m search_database(\u001b[39m\"\u001b[39;49m\u001b[39m뇌 과학\u001b[39;49m\u001b[39m\"\u001b[39;49m, \u001b[39m\"\u001b[39;49m\u001b[39mKorean_book\u001b[39;49m\u001b[39m\"\u001b[39;49m)\n",
      "File \u001b[0;32m~/Workspace/Data-Mining/Project/backend/utils.py:16\u001b[0m, in \u001b[0;36msearch_database\u001b[0;34m(searchData, dbname)\u001b[0m\n\u001b[1;32m     14\u001b[0m     searchStr \u001b[39m=\u001b[39m searchStr \u001b[39m+\u001b[39m i \u001b[39m+\u001b[39m \u001b[39m\"\u001b[39m\u001b[39m%\u001b[39m\u001b[39m\"\u001b[39m\n\u001b[1;32m     15\u001b[0m \u001b[39mprint\u001b[39m(osp\u001b[39m.\u001b[39mjoin(osp\u001b[39m.\u001b[39mdirname(\u001b[39m__file__\u001b[39m), \u001b[39m\"\u001b[39m\u001b[39mdata\u001b[39m\u001b[39m\"\u001b[39m, \u001b[39m\"\u001b[39m\u001b[39mBooks.db\u001b[39m\u001b[39m\"\u001b[39m))\n\u001b[0;32m---> 16\u001b[0m conn \u001b[39m=\u001b[39m sqlite3\u001b[39m.\u001b[39;49mconnect(\u001b[39m\"\u001b[39;49m\u001b[39m/home/ljj0512/private/workspace/data-mining/project/backend/Books.db\u001b[39;49m\u001b[39m\"\u001b[39;49m)\n\u001b[1;32m     17\u001b[0m cur \u001b[39m=\u001b[39m conn\u001b[39m.\u001b[39mcursor()\n\u001b[1;32m     18\u001b[0m cur\u001b[39m.\u001b[39mexecute(\u001b[39mf\u001b[39m\u001b[39m\"\u001b[39m\u001b[39mSELECT id, title, author, publisher, genres, rating, pages FROM \u001b[39m\u001b[39m{\u001b[39;00mdbname\u001b[39m}\u001b[39;00m\u001b[39m WHERE title LIKE \u001b[39m\u001b[39m\\\"\u001b[39;00m\u001b[39m{\u001b[39;00msearchStr\u001b[39m}\u001b[39;00m\u001b[39m\\\"\u001b[39;00m\u001b[39m\"\u001b[39m)\n",
      "\u001b[0;31mOperationalError\u001b[0m: unable to open database file"
     ]
    }
   ],
   "source": [
    "from utils import search_database\n",
    "search_database(\"뇌 과학\", \"Korean_book\")"
   ]
  }
 ],
 "metadata": {
  "kernelspec": {
   "display_name": "Python 3",
   "language": "python",
   "name": "python3"
  },
  "language_info": {
   "codemirror_mode": {
    "name": "ipython",
    "version": 3
   },
   "file_extension": ".py",
   "mimetype": "text/x-python",
   "name": "python",
   "nbconvert_exporter": "python",
   "pygments_lexer": "ipython3",
   "version": "3.10.12"
  }
 },
 "nbformat": 4,
 "nbformat_minor": 2
}
