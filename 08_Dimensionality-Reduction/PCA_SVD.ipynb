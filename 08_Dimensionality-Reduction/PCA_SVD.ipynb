{
 "cells": [
  {
   "cell_type": "code",
   "execution_count": 1,
   "metadata": {},
   "outputs": [],
   "source": [
    "import numpy as np\n",
    "from scipy.linalg import svd, eigh\n",
    "\n",
    "M = np.array([\n",
    "    [1,2],\n",
    "    [2,1],\n",
    "    [3,4],\n",
    "    [4,3]\n",
    "])"
   ]
  },
  {
   "cell_type": "code",
   "execution_count": 24,
   "metadata": {},
   "outputs": [
    {
     "name": "stdout",
     "output_type": "stream",
     "text": [
      "U\n",
      " [[-0.27854301  0.5       ]\n",
      " [-0.27854301 -0.5       ]\n",
      " [-0.64993368  0.5       ]\n",
      " [-0.64993368 -0.5       ]]\n",
      "\n",
      "S\n",
      " [7.61577311 1.41421356]\n",
      "\n",
      "Vt\n",
      " [[-0.70710678 -0.70710678]\n",
      " [-0.70710678  0.70710678]]\n",
      "\n",
      "M\n",
      " [[1. 2.]\n",
      " [2. 1.]\n",
      " [3. 4.]\n",
      " [4. 3.]]\n"
     ]
    }
   ],
   "source": [
    "U, S, VT = svd(M,full_matrices=False)\n",
    "print(\"U\\n\",U,end='\\n\\n')\n",
    "print(\"S\\n\",S,end='\\n\\n')\n",
    "print(\"Vt\\n\",VT,end='\\n\\n')\n",
    "print(\"M\\n\", U@(S.reshape(1,-1).T*VT))\n",
    "\n"
   ]
  },
  {
   "cell_type": "code",
   "execution_count": 45,
   "metadata": {},
   "outputs": [
    {
     "name": "stdout",
     "output_type": "stream",
     "text": [
      "A1\n",
      " [[30 28]\n",
      " [28 30]]\n",
      "\n",
      "eigenvalues\n",
      " [58.0, 2.0]\n",
      "\n",
      "eigenvectors\n",
      " [[ 0.70710678 -0.70710678]\n",
      " [ 0.70710678  0.70710678]]\n",
      "\n"
     ]
    }
   ],
   "source": [
    "A1 = M.T@M   #symmetry\n",
    "print(\"A1\\n\",A1,end='\\n\\n')\n",
    "Evals1, Evecs1 = eigh(A1)\n",
    "Evals1 = sorted(Evals1, reverse=True)\n",
    "Evecs1 = np.array([[Evecs1[0,1],Evecs1[0,0]],[Evecs1[1,1],Evecs1[1,0]]])\n",
    "print(\"eigenvalues\\n\",Evals1,end='\\n\\n')\n",
    "print(\"eigenvectors\\n\",Evecs1,end='\\n\\n')"
   ]
  },
  {
   "cell_type": "code",
   "execution_count": 44,
   "metadata": {},
   "outputs": [
    {
     "name": "stdout",
     "output_type": "stream",
     "text": [
      "A2\n",
      " [[ 5  4 11 10]\n",
      " [ 4  5 10 11]\n",
      " [11 10 25 24]\n",
      " [10 11 24 25]]\n",
      "\n",
      "eigenvalues\n",
      " [58.00000000000002, 1.9999999999999973, 8.3552171924283e-15, 9.038791923008218e-16]\n",
      "\n",
      "eigenvectors\n",
      " [[ 0.          0.82000841]\n",
      " [-0.79259392  0.21025857]]\n",
      "\n"
     ]
    }
   ],
   "source": [
    "A2 = M@M.T   #symmetry\n",
    "print(\"A2\\n\",A2,end='\\n\\n')\n",
    "Evals2, Evecs2 = eigh(A2)\n",
    "Evals2 = sorted(Evals2, reverse=True)\n",
    "Evecs2 = np.array([[Evecs2[0,1],Evecs2[0,0]],[Evecs2[1,1],Evecs2[1,0]]])\n",
    "print(\"eigenvalues\\n\",Evals2,end='\\n\\n')\n",
    "print(\"eigenvectors\\n\",Evecs2,end='\\n\\n')"
   ]
  },
  {
   "cell_type": "code",
   "execution_count": 46,
   "metadata": {},
   "outputs": [
    {
     "name": "stdout",
     "output_type": "stream",
     "text": [
      "square of singular\n",
      " [58.  2.]\n",
      "\n",
      "eigenvalue1\n",
      " [58.0, 2.0]\n",
      "eigenvalue2\n",
      " [58.00000000000002, 1.9999999999999973, 8.3552171924283e-15, 9.038791923008218e-16]\n"
     ]
    }
   ],
   "source": [
    "# relation between sigular value and eigenvalue\n",
    "# the square of each singular value is equal to eigenvalue\n",
    "print(\"square of singular\\n\",S**2,end='\\n\\n')\n",
    "print(\"eigenvalue1\\n\",Evals1)\n",
    "print(\"eigenvalue2\\n\",Evals2)"
   ]
  },
  {
   "cell_type": "code",
   "execution_count": 39,
   "metadata": {},
   "outputs": [
    {
     "name": "stdout",
     "output_type": "stream",
     "text": [
      "[[1 2]\n",
      " [2 1]\n",
      " [3 4]\n",
      " [4 3]]\n",
      "[[-1.41421356e+00  2.37213427e-17]\n",
      " [ 1.41421356e+00  2.37213427e-17]]\n",
      "[1.00000000e+00 2.81351049e-34]\n",
      "[2.00000000e+00 3.35470445e-17]\n"
     ]
    }
   ],
   "source": [
    "from sklearn.decomposition import PCA\n",
    "print(M)\n",
    "pca = PCA(n_components=2)\n",
    "pca_A = pca.fit_transform(A)\n",
    "print(pca_A)\n",
    "print(pca.explained_variance_ratio_)\n",
    "print(pca.singular_values_)"
   ]
  }
 ],
 "metadata": {
  "kernelspec": {
   "display_name": "Python 3.10.4 ('data-mining')",
   "language": "python",
   "name": "python3"
  },
  "language_info": {
   "codemirror_mode": {
    "name": "ipython",
    "version": 3
   },
   "file_extension": ".py",
   "mimetype": "text/x-python",
   "name": "python",
   "nbconvert_exporter": "python",
   "pygments_lexer": "ipython3",
   "version": "3.10.4"
  },
  "orig_nbformat": 4,
  "vscode": {
   "interpreter": {
    "hash": "20bc2612d0fd8be19af488bbfe75d6267421c3080aa839bfd424fa57a3ef4dc6"
   }
  }
 },
 "nbformat": 4,
 "nbformat_minor": 2
}
