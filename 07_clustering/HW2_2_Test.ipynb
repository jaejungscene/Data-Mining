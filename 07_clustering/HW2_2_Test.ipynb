{
  "cells": [
    {
      "cell_type": "code",
      "execution_count": 3,
      "metadata": {
        "colab": {
          "base_uri": "https://localhost:8080/"
        },
        "id": "uVtFx9N1j-mD",
        "outputId": "b52c4ae1-b250-4713-a531-8f4ac7dfe548"
      },
      "outputs": [],
      "source": [
        "# !pip install pyspark\n",
        "# !pip install -U -q PyDrive\n",
        "# !apt install openjdk-8-jdk-headless -qq\n",
        "# import os\n",
        "# os.environ[\"JAVA_HOME\"] = \"/usr/lib/jvm/java-8-openjdk-amd64\""
      ]
    },
    {
      "cell_type": "code",
      "execution_count": 1,
      "metadata": {
        "id": "qYzjHCd3lKZ3"
      },
      "outputs": [],
      "source": [
        "import itertools\n",
        "from pyspark import SparkContext, SparkConf\n",
        "from pyspark.sql import *\n",
        "#from pyspark.sql.functions import * it overrides abs if we do it like that\n",
        "import re, sys, pickle\n",
        "from functools import reduce\n",
        "import pyspark.sql.functions as F\n",
        "import matplotlib.pyplot as pl"
      ]
    },
    {
      "cell_type": "code",
      "execution_count": 2,
      "metadata": {
        "id": "33kjDCINlNOX"
      },
      "outputs": [
        {
          "name": "stderr",
          "output_type": "stream",
          "text": [
            "/home/ljj0512/.local/lib/python3.6/site-packages/pyspark/context.py:238: FutureWarning: Python 3.6 support is deprecated in Spark 3.2.\n",
            "  FutureWarning\n"
          ]
        }
      ],
      "source": [
        "# create the Spark Session\n",
        "spark = SparkSession.builder.getOrCreate()\n",
        "\n",
        "# create the Spark Context\n",
        "sc = spark.sparkContext"
      ]
    },
    {
      "cell_type": "code",
      "execution_count": 36,
      "metadata": {
        "id": "mW0aY8_1lQDn"
      },
      "outputs": [],
      "source": [
        "#Euclidian\n",
        "def l22(u, v):\n",
        "    delta = [i-j for i,j in zip(u, v)]\n",
        "    return reduce(lambda a, b: a + b * b, delta, 0)\n",
        "    \n",
        "#Manhattan\n",
        "def l1(u, v):\n",
        "    delta = [i-j for i,j in zip(u, v)]\n",
        "    return reduce(lambda a, b: a + abs(b), delta, 0)\n",
        "\n",
        "def findCentroid(pt, cens, distFcn, phi):\n",
        "    best = float('inf')\n",
        "    besti = None\n",
        "    for i, cen in enumerate(cens.value):\n",
        "        cand = distFcn(pt, cen)\n",
        "        if cand < best:\n",
        "            best = cand\n",
        "            besti = i\n",
        "    phi += best\n",
        "    return besti, pt\n",
        "\n",
        "def aggregate_UV(cumulative, pt):\n",
        "    cumulative_pt, cumulative_cnt = cumulative\n",
        "    for i in range(len(pt)):\n",
        "        cumulative_pt[i] += pt[i]\n",
        "    return cumulative_pt, cumulative_cnt + 1\n",
        "\n",
        "def aggregate_UU(a, b):\n",
        "    a_pt, a_cnt = a\n",
        "    b_pt, b_cnt = b\n",
        "    for i in range(len(a_pt)):\n",
        "        a_pt[i] += b_pt[i]\n",
        "    return a_pt, a_cnt + b_cnt"
      ]
    },
    {
      "cell_type": "code",
      "execution_count": 43,
      "metadata": {
        "colab": {
          "base_uri": "https://localhost:8080/"
        },
        "id": "XosZ5y4OlSgI",
        "outputId": "5794147b-b154-41aa-88ec-e293a4a605c8"
      },
      "outputs": [
        {
          "name": "stdout",
          "output_type": "stream",
          "text": [
            "\n",
            "\n",
            "\n",
            "\n",
            "\n",
            "\n",
            "iteration 1\n",
            "\n",
            "\n",
            "\n",
            "\n",
            "\n",
            "\n",
            "\n",
            "\n",
            "\n",
            "\n",
            "\n",
            "\n",
            "iteration 2\n",
            "\n",
            "\n",
            "\n",
            "\n",
            "\n",
            "\n",
            "\n",
            "\n",
            "\n",
            "\n",
            "\n",
            "\n",
            "iteration 3\n",
            "\n",
            "\n",
            "\n",
            "\n",
            "\n",
            "\n",
            "\n",
            "\n",
            "\n",
            "\n",
            "\n",
            "\n",
            "iteration 4\n",
            "\n",
            "\n",
            "\n",
            "\n",
            "\n",
            "\n",
            "\n",
            "\n",
            "\n",
            "\n",
            "\n",
            "\n",
            "iteration 5\n",
            "\n",
            "\n",
            "\n",
            "\n",
            "\n",
            "\n",
            "\n",
            "\n",
            "\n",
            "\n",
            "\n",
            "\n",
            "iteration 6\n",
            "\n",
            "\n",
            "\n",
            "\n",
            "\n",
            "\n",
            "\n",
            "\n",
            "\n",
            "\n",
            "\n",
            "\n",
            "iteration 7\n",
            "\n",
            "\n",
            "\n",
            "\n",
            "\n",
            "\n",
            "\n",
            "\n",
            "\n",
            "\n",
            "\n",
            "\n",
            "iteration 8\n",
            "\n",
            "\n",
            "\n",
            "\n",
            "\n",
            "\n",
            "\n",
            "\n",
            "\n",
            "\n",
            "\n",
            "\n",
            "iteration 9\n",
            "\n",
            "\n",
            "\n",
            "\n",
            "\n",
            "\n",
            "\n",
            "\n",
            "\n",
            "\n",
            "\n",
            "\n",
            "iteration 10\n",
            "\n",
            "\n",
            "\n",
            "\n",
            "\n",
            "\n",
            "\n",
            "\n",
            "\n",
            "\n",
            "\n",
            "\n",
            "iteration 11\n",
            "\n",
            "\n",
            "\n",
            "\n",
            "\n",
            "\n",
            "\n",
            "\n",
            "\n",
            "\n",
            "\n",
            "\n",
            "iteration 12\n",
            "\n",
            "\n",
            "\n",
            "\n",
            "\n",
            "\n",
            "\n",
            "\n",
            "\n",
            "\n",
            "\n",
            "\n",
            "iteration 13\n",
            "\n",
            "\n",
            "\n",
            "\n",
            "\n",
            "\n",
            "\n",
            "\n",
            "\n",
            "\n",
            "\n",
            "\n",
            "iteration 14\n",
            "\n",
            "\n",
            "\n",
            "\n",
            "\n",
            "\n",
            "\n",
            "\n",
            "\n",
            "\n",
            "\n",
            "\n",
            "iteration 15\n",
            "\n",
            "\n",
            "\n",
            "\n",
            "\n",
            "\n",
            "\n",
            "\n",
            "\n",
            "\n",
            "\n",
            "\n",
            "iteration 16\n",
            "\n",
            "\n",
            "\n",
            "\n",
            "\n",
            "\n",
            "\n",
            "\n",
            "\n",
            "\n",
            "\n",
            "\n",
            "iteration 17\n",
            "\n",
            "\n",
            "\n",
            "\n",
            "\n",
            "\n",
            "\n",
            "\n",
            "\n",
            "\n",
            "\n",
            "\n",
            "iteration 18\n",
            "\n",
            "\n",
            "\n",
            "\n",
            "\n",
            "\n",
            "\n",
            "\n",
            "\n",
            "\n",
            "\n",
            "\n",
            "iteration 19\n",
            "\n",
            "\n",
            "\n",
            "\n",
            "\n",
            "\n",
            "\n",
            "\n",
            "\n",
            "\n",
            "\n",
            "\n",
            "iteration 20\n",
            "\n",
            "\n",
            "\n",
            "\n",
            "\n",
            "\n",
            "\n",
            "\n",
            "\n",
            "\n",
            "\n",
            "\n",
            "550117.142000\n",
            "464869.275879\n",
            "470897.382277\n",
            "483914.409173\n",
            "489216.071003\n",
            "487629.668550\n",
            "483711.923214\n",
            "475330.773493\n",
            "474871.238846\n",
            "457232.920115\n",
            "447494.386197\n",
            "450915.012577\n",
            "451250.367073\n",
            "451974.595540\n",
            "451570.364070\n",
            "452739.011366\n",
            "453082.730287\n",
            "450583.670860\n",
            "450368.749317\n",
            "449011.363726\n",
            "\n",
            "\n",
            "\n",
            "\n",
            "\n",
            "\n",
            "\n"
          ]
        }
      ],
      "source": [
        "dataFile = \"data.txt\"\n",
        "censFile = 'c1.txt' \n",
        "# censFile = 'c2.txt'\n",
        "distFcn = l1 #Manhattan\n",
        "# distFcn = l22 #Euclidian\n",
        "outFile = 'dist_' + distFcn.__name__ + '__' + censFile\n",
        "\n",
        "MAX_ITER = 20 #max iterations\n",
        "k = 10 #clusters\n",
        "NDATA = 4601\n",
        "NDIM = 58\n",
        "cens = []\n",
        "\n",
        "\n",
        "# init centroids - py way :D\n",
        "cens = []\n",
        "with open(censFile) as fh:\n",
        "    for line in fh:\n",
        "        if not line:\n",
        "            continue\n",
        "        cens.append(list(map(float, line.split())))\n",
        "\n",
        "cens = sc.broadcast(cens)\n",
        "\n",
        "# load data\n",
        "data = sc.textFile(dataFile)\n",
        "data = data.map(lambda l: list(map(float, l.split())))\n",
        "\n",
        "phi = sc.accumulator(0)\n",
        "totCosts = []\n",
        "\n",
        "for it in range(1, MAX_ITER + 1):\n",
        "    print('\\n' * 6 + 'iteration %d' % it + '\\n' * 6)\n",
        "\n",
        "    i_pt = data.map(lambda pt: findCentroid(pt, cens, distFcn, phi))\n",
        "    \n",
        "    # M: calc new centroid\n",
        "    i_sumCoors_cnt = i_pt.aggregateByKey(([0] * NDIM, 0),\n",
        "                                         aggregate_UV, aggregate_UU)\n",
        "    i_sumCoors_cnt = i_sumCoors_cnt.collect()\n",
        "    newCens = [None] * k\n",
        "    for i, sumCoors_cnt in i_sumCoors_cnt:\n",
        "        sumCoors, cnt = sumCoors_cnt\n",
        "        newCens[i] = [sumCoors[j] / cnt for j in range(len(sumCoors))]\n",
        "    assert not any([cen is None for cen in newCens])\n",
        "\n",
        "    # record cost, prep new iter\n",
        "    totCosts.append(phi.value)\n",
        "    phi.value = 0\n",
        "    cens.unpersist()\n",
        "    cens = sc.broadcast(newCens)\n",
        "\n",
        "print('\\n' * 6 + '%f\\n' * MAX_ITER % tuple(totCosts) + '\\n' * 6 )\n",
        "with open(outFile, 'wb') as fh:\n",
        "    pickle.dump(totCosts, fh)"
      ]
    },
    {
      "cell_type": "code",
      "execution_count": 48,
      "metadata": {},
      "outputs": [
        {
          "data": {
            "image/png": "[encoded data removed]",
            "text/plain": [
              "<Figure size 432x288 with 1 Axes>"
            ]
          },
          "metadata": {
            "needs_background": "light"
          },
          "output_type": "display_data"
        },
        {
          "data": {
            "image/png": "[encoded data removed]",
            "text/plain": [
              "<Figure size 432x288 with 1 Axes>"
            ]
          },
          "metadata": {
            "needs_background": "light"
          },
          "output_type": "display_data"
        },
        {
          "name": "stdout",
          "output_type": "stream",
          "text": [
            "Euclidian c1 0.2648391714456053\n",
            "Euclidian c2 0.7669795594605946\n",
            "Manhattan c1 0.18654709691385904\n",
            "Manhattan c2 0.5152079304669389\n"
          ]
        },
        {
          "data": {
            "image/png": "[encoded data removed]",
            "text/plain": [
              "<Figure size 432x288 with 1 Axes>"
            ]
          },
          "metadata": {
            "needs_background": "light"
          },
          "output_type": "display_data"
        },
        {
          "data": {
            "image/png": "[encoded data removed]",
            "text/plain": [
              "<Figure size 432x288 with 1 Axes>"
            ]
          },
          "metadata": {
            "needs_background": "light"
          },
          "output_type": "display_data"
        }
      ],
      "source": [
        "pl.close('all')\n",
        "\n",
        "with open('dist_l1__c1.txt', 'rb') as fh:\n",
        "    l1c1 = pickle.load(fh)\n",
        "with open('dist_l1__c2.txt', 'rb') as fh:\n",
        "    l1c2 = pickle.load(fh)\n",
        "with open('dist_l22__c1.txt', 'rb') as fh:\n",
        "    l22c1 = pickle.load(fh)\n",
        "with open('dist_l22__c2.txt', 'rb') as fh:\n",
        "    l22c2 = pickle.load(fh)\n",
        "\n",
        "pl.title(\"Manhattan Distance\")\n",
        "pl.plot(l1c1, label='c1')\n",
        "pl.plot(l1c2, label='c2')\n",
        "pl.xlabel(\"Iteration #\")\n",
        "pl.ylabel(\"Total Cost\")\n",
        "pl.legend()\n",
        "pl.savefig('plotManhattan.png', dpi=300, bbox_inches='tight')\n",
        "pl.show()\n",
        "\n",
        "pl.title(\"Euclidian Distance\")\n",
        "pl.plot(l22c1, label='c1')\n",
        "pl.plot(l22c2, label='c2')\n",
        "pl.xlabel(\"Iteration #\")\n",
        "pl.ylabel(\"Total Cost\")\n",
        "pl.legend()\n",
        "pl.savefig('plotEuclidian.png', dpi=300, bbox_inches='tight')\n",
        "pl.show()\n",
        "\n",
        "pl.figure()\n",
        "pl.title(\"Euclidian Distance c1\")\n",
        "pl.plot(l22c1, label='c1')\n",
        "pl.xlabel(\"Iteration #\")\n",
        "pl.ylabel(\"Total Cost\")\n",
        "pl.legend()\n",
        "pl.savefig('plotEuclidianC1.png', dpi=300, bbox_inches='tight')\n",
        "pl.figure()\n",
        "pl.title(\"Euclidian Distance c2\")\n",
        "pl.plot(l22c2, label='c2')\n",
        "pl.xlabel(\"Iteration #\")\n",
        "pl.ylabel(\"Total Cost\")\n",
        "pl.legend()\n",
        "pl.savefig('plotEuclidianC2.png', dpi=300, bbox_inches='tight')\n",
        "\n",
        "\n",
        "def change(L):\n",
        "    return (L[0] - L[10]) / L[0]\n",
        "\n",
        "print('Euclidian c1', change(l22c1))\n",
        "print('Euclidian c2', change(l22c2))\n",
        "print('Manhattan c1', change(l1c1))\n",
        "print('Manhattan c2', change(l1c2))"
      ]
    },
    {
      "cell_type": "code",
      "execution_count": 45,
      "metadata": {
        "colab": {
          "base_uri": "https://localhost:8080/",
          "height": 924
        },
        "id": "Dvonk4_vlrfR",
        "outputId": "ee51e08f-6f0b-41fd-86a8-0e6077a55725"
      },
      "outputs": [
        {
          "name": "stdout",
          "output_type": "stream",
          "text": [
            "Euclidian c1 0.2648391714456053\n",
            "Euclidian c2 0.7669795594605946\n",
            "Manhattan c1 0.18654709691385904\n",
            "Manhattan c2 0.5152079304669389\n"
          ]
        },
        {
          "data": {
            "image/png": "[encoded data removed]",
            "text/plain": [
              "<Figure size 432x288 with 1 Axes>"
            ]
          },
          "metadata": {
            "needs_background": "light"
          },
          "output_type": "display_data"
        },
        {
          "data": {
            "image/png": "[encoded data removed]",
            "text/plain": [
              "<Figure size 432x288 with 1 Axes>"
            ]
          },
          "metadata": {
            "needs_background": "light"
          },
          "output_type": "display_data"
        },
        {
          "data": {
            "image/png": "[encoded data removed]",
            "text/plain": [
              "<Figure size 432x288 with 1 Axes>"
            ]
          },
          "metadata": {
            "needs_background": "light"
          },
          "output_type": "display_data"
        }
      ],
      "source": [
        "pl.close('all')\n",
        "\n",
        "with open('dist_l1__c1.txt', 'rb') as fh:\n",
        "    l1c1 = pickle.load(fh)\n",
        "with open('dist_l1__c2.txt', 'rb') as fh:\n",
        "    l1c2 = pickle.load(fh)\n",
        "with open('dist_l22__c1.txt', 'rb') as fh:\n",
        "    l22c1 = pickle.load(fh)\n",
        "with open('dist_l22__c2.txt', 'rb') as fh:\n",
        "    l22c2 = pickle.load(fh)\n",
        "\n",
        "pl.title(\"Manhattan Distance\")\n",
        "pl.plot(l1c1, label='c1')\n",
        "pl.plot(l1c2, label='c2')\n",
        "pl.xlabel(\"Iteration #\")\n",
        "pl.ylabel(\"Total Cost\")\n",
        "pl.legend()\n",
        "pl.savefig('plotManhattan.png', dpi=300, bbox_inches='tight')\n",
        "\n",
        "pl.figure()\n",
        "pl.title(\"Euclidian Distance c1\")\n",
        "pl.plot(l22c1, label='c1')\n",
        "pl.xlabel(\"Iteration #\")\n",
        "pl.ylabel(\"Total Cost\")\n",
        "pl.legend()\n",
        "pl.savefig('plotEuclidianC1.png', dpi=300, bbox_inches='tight')\n",
        "pl.figure()\n",
        "pl.title(\"Euclidian Distance c2\")\n",
        "pl.plot(l22c2, label='c2')\n",
        "pl.xlabel(\"Iteration #\")\n",
        "pl.ylabel(\"Total Cost\")\n",
        "pl.legend()\n",
        "pl.savefig('plotEuclidianC2.png', dpi=300, bbox_inches='tight')\n",
        "\n",
        "\n",
        "def change(L):\n",
        "    return (L[0] - L[10]) / L[0]\n",
        "\n",
        "print('Euclidian c1', change(l22c1))\n",
        "print('Euclidian c2', change(l22c2))\n",
        "print('Manhattan c1', change(l1c1))\n",
        "print('Manhattan c2', change(l1c2))"
      ]
    },
    {
      "cell_type": "code",
      "execution_count": 15,
      "metadata": {},
      "outputs": [
        {
          "name": "stdout",
          "output_type": "stream",
          "text": [
            "[-1 -1  0]\n"
          ]
        }
      ],
      "source": [
        "x = np.array([1,2,4])\n",
        "y = np.array([2,3,4])\n",
        "print(x-y)"
      ]
    },
    {
      "cell_type": "code",
      "execution_count": 33,
      "metadata": {
        "id": "gw4BtnUlWLM5"
      },
      "outputs": [
        {
          "name": "stdout",
          "output_type": "stream",
          "text": [
            "49623174.615875006\n"
          ]
        }
      ],
      "source": [
        "import numpy as np\n",
        "from itertools import combinations\n",
        "cens = []\n",
        "file = \"c1.txt\"\n",
        "with open(file) as f:\n",
        "    for data in f:\n",
        "        cens.append(list(map(float, data.split(\" \"))))\n",
        "cens = np.array(cens)\n",
        "totalsum = 0\n",
        "for i, j in combinations(range(10), 2):\n",
        "    totalsum += ((cens[i]-cens[j])**2).sum()\n",
        "print(totalsum)"
      ]
    },
    {
      "cell_type": "code",
      "execution_count": 17,
      "metadata": {},
      "outputs": [
        {
          "data": {
            "text/plain": [
              "array([[-61.53398733,  -3.2837048 ],\n",
              "       [-61.54676798,  -3.45158553],\n",
              "       [-60.55366844,  -3.56866952],\n",
              "       [-61.73452068,  -3.25412302],\n",
              "       [-60.16323778,  -3.15120763],\n",
              "       [-61.41054242,  -3.55495102],\n",
              "       [-61.24614301,  -3.34088242],\n",
              "       [-61.46844032,  -3.27260686],\n",
              "       [-60.77441226,  -2.64869234],\n",
              "       [-60.77282618,  -3.25357102]])"
            ]
          },
          "execution_count": 17,
          "metadata": {},
          "output_type": "execute_result"
        }
      ],
      "source": [
        "import numpy as np\n",
        "import matplotlib.pyplot as plt\n",
        "import pandas as pd\n",
        "from sklearn.decomposition import PCA\n",
        "from scipy.linalg import svd, eigh\n",
        "cens = []\n",
        "file = \"c1.txt\"\n",
        "with open(file) as f:\n",
        "    for data in f:\n",
        "        cens.append(list(map(float, data.split(\" \"))))\n",
        "cens = np.array(cens).T\n",
        "\n",
        "pca = PCA(n_components=2, random_state=1004)\n",
        "iris_pca = pca.fit_transform(cens)\n",
        "iris_pca[:10]\n",
        "\n",
        "\n",
        "# ## Visualization\n",
        "\n",
        "# ## target\n",
        "# data['target'][:5]\n",
        "# # array([0, 0, 0, 0, 0])\n",
        "\n",
        "\n",
        "# ## mapping target name using numpy vectorization\n",
        "# species_map_dict = {\n",
        "#     0: 'setosa', \n",
        "#     1: 'versicolor', \n",
        "#     2: 'virginica'\n",
        "# }\n",
        "\n",
        "# iris_pca_df = pd.DataFrame({\n",
        "#     'pc_1': iris_pca[:, 0], \n",
        "#     'pc_2': iris_pca[:, 1], \n",
        "#     'species': np.vectorize(species_map_dict.get)(data['target']) # numpy broadcasting\n",
        "# })\n",
        "\n",
        "\n",
        "# iris_pca_df.head()\n",
        "\n",
        "# import seaborn as sns\n",
        "# import matplotlib.pyplot as plt\n",
        "\n",
        "# plt.rcParams['figure.figsize'] = (7, 7)\n",
        "# sns.scatterplot(\n",
        "#     x='pc_1', \n",
        "#     y='pc_2',\n",
        "#     hue='species', \n",
        "#     style='species',\n",
        "#     s=100,\n",
        "#     data=iris_pca_df\n",
        "# )\n",
        "\n",
        "# plt.title('PCA result of IRIS dataset')\n",
        "# plt.xlabel('Principal Component 1', fontsize=14)\n",
        "# plt.ylabel('Principal Component 2', fontsize=14)\n",
        "# plt.show()"
      ]
    },
    {
      "cell_type": "code",
      "execution_count": 34,
      "metadata": {},
      "outputs": [
        {
          "name": "stdout",
          "output_type": "stream",
          "text": [
            "2953317860.426528\n"
          ]
        }
      ],
      "source": [
        "import numpy as np\n",
        "from itertools import combinations\n",
        "cens = []\n",
        "file = \"c2.txt\"\n",
        "with open(file) as f:\n",
        "    for data in f:\n",
        "        cens.append(list(map(float, data.split(\" \"))))\n",
        "cens = np.array(cens)\n",
        "totalsum = 0\n",
        "for i, j in combinations(range(10), 2):\n",
        "    totalsum += ((cens[i]-cens[j])**2).sum()\n",
        "print(totalsum)"
      ]
    },
    {
      "cell_type": "code",
      "execution_count": 4,
      "metadata": {},
      "outputs": [
        {
          "name": "stdout",
          "output_type": "stream",
          "text": [
            "5\n",
            "6\n",
            "7\n",
            "8\n",
            "9\n",
            "10\n",
            "11\n",
            "12\n"
          ]
        }
      ],
      "source": [
        "from functools import reduce\n",
        "tup = (2,1,0,2)\n",
        "for i in range(8):\n",
        "    print(reduce(lambda x, y: x+y, tup, i))"
      ]
    }
  ],
  "metadata": {
    "accelerator": "GPU",
    "colab": {
      "collapsed_sections": [],
      "provenance": []
    },
    "gpuClass": "standard",
    "kernelspec": {
      "display_name": "Python 3.10.4 ('data-mining')",
      "language": "python",
      "name": "python3"
    },
    "language_info": {
      "codemirror_mode": {
        "name": "ipython",
        "version": 3
      },
      "file_extension": ".py",
      "mimetype": "text/x-python",
      "name": "python",
      "nbconvert_exporter": "python",
      "pygments_lexer": "ipython3",
      "version": "3.10.4"
    },
    "vscode": {
      "interpreter": {
        "hash": "20bc2612d0fd8be19af488bbfe75d6267421c3080aa839bfd424fa57a3ef4dc6"
      }
    }
  },
  "nbformat": 4,
  "nbformat_minor": 0
}
