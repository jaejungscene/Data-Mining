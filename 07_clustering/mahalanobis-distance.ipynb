{
 "cells": [
  {
   "cell_type": "code",
   "execution_count": 3,
   "metadata": {},
   "outputs": [
    {
     "name": "stdout",
     "output_type": "stream",
     "text": [
      "[ 68. 600.  40.]\n",
      "\n",
      "[[ -4.  -2.   0.   1.   5.]\n",
      " [-20. -30. -10.  60.   0.]\n",
      " [-11.  -7.  -3.   6.  15.]]\n",
      "[[  11.5    50.     34.75]\n",
      " [  50.   1250.    205.  ]\n",
      " [  34.75  205.    110.  ]]\n",
      "[[ 3.68851865e+00  6.27308946e-02 -1.28214415e+00]\n",
      " [ 6.27308946e-02  2.21900278e-03 -2.39526742e-02]\n",
      " [-1.28214415e+00 -2.39526742e-02  4.58770977e-01]]\n",
      "5.334540488762537\n",
      "2.0\n"
     ]
    }
   ],
   "source": [
    "import numpy as np\n",
    "import math\n",
    "x = np.array([64.,66.,68.,69.,73.])\n",
    "y = np.array([580.,570.,590.,660.,600.])\n",
    "z = np.array([29.,33.,37.,46.,55.])\n",
    "\n",
    "m = np.array([x.mean(), y.mean(), z.mean()])\n",
    "print(m)\n",
    "print()\n",
    "\n",
    "cov = np.stack([x,y,z]) - m.reshape(1,-1).T\n",
    "x_u = np.array([66.,640.,44.]) - m\n",
    "print(cov)\n",
    "\n",
    "cov = (cov@cov.T)/(len(x)-1)\n",
    "print(cov)\n",
    "incov = np.linalg.inv(cov)\n",
    "print(incov)\n",
    "\n",
    "print(math.sqrt(x_u.reshape(1,-1) @ incov @ x_u.reshape(1,-1).T))\n",
    "print(math.sqrt(4))\n",
    "# print(incov.shape)\n",
    "# print(x_u.reshape(1,-1).T.shape)"
   ]
  },
  {
   "cell_type": "code",
   "execution_count": null,
   "metadata": {},
   "outputs": [],
   "source": [
    "\n",
    "# pca = PCA(n_components=3, svd_solver='randomized', random_state=42)\n",
    "\n",
    "# # Assigning new features to the auto dataset and dropping compressed features\n",
    "# df_auto_vis = pd.DataFrame(pca.fit_transform(df_auto), columns=[\"Vis1\", \"Vis2\", \"Vis3\"])\n",
    "\n",
    "# # 3D plots of clusters\n",
    "# fig = plt.figure(figsize=(8, 6))\n",
    "# ax = Axes3D(fig, rect=[0, 0, .95, 1], elev=20, azim=60, auto_add_to_figure=False)\n",
    "# fig.add_axes(ax)\n",
    "# ax.scatter(df_auto_vis.iloc[:, 0], df_auto_vis.iloc[:, 1], df_auto_vis.iloc[:, 2], edgecolor='k')\n",
    "# ax.w_xaxis.set_ticklabels([])\n",
    "# ax.w_yaxis.set_ticklabels([])\n",
    "# ax.w_zaxis.set_ticklabels([])\n",
    "# ax.set_title('3D plot of KMeans Clustering')"
   ]
  },
  {
   "cell_type": "code",
   "execution_count": null,
   "metadata": {},
   "outputs": [],
   "source": []
  }
 ],
 "metadata": {
  "kernelspec": {
   "display_name": "Python 3.10.4 ('data-mining')",
   "language": "python",
   "name": "python3"
  },
  "language_info": {
   "codemirror_mode": {
    "name": "ipython",
    "version": 3
   },
   "file_extension": ".py",
   "mimetype": "text/x-python",
   "name": "python",
   "nbconvert_exporter": "python",
   "pygments_lexer": "ipython3",
   "version": "3.10.4"
  },
  "orig_nbformat": 4,
  "vscode": {
   "interpreter": {
    "hash": "20bc2612d0fd8be19af488bbfe75d6267421c3080aa839bfd424fa57a3ef4dc6"
   }
  }
 },
 "nbformat": 4,
 "nbformat_minor": 2
}
