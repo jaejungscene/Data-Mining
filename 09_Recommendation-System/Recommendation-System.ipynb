{
  "cells": [
    {
      "cell_type": "code",
      "execution_count": 9,
      "metadata": {
        "id": "JjMoGUBAC6mH"
      },
      "outputs": [],
      "source": [
        "import numpy as np\n",
        "from scipy import linalg   # Linear Algebra Library"
      ]
    },
    {
      "cell_type": "code",
      "execution_count": null,
      "metadata": {
        "colab": {
          "base_uri": "https://localhost:8080/"
        },
        "id": "PcI0NZ1wlk9x",
        "outputId": "fb555232-8187-4be5-e02e-99a4bd5ca4e2"
      },
      "outputs": [
        {
          "name": "stdout",
          "output_type": "stream",
          "text": [
            "Drive already mounted at /content/drive; to attempt to forcibly remount, call drive.mount(\"/content/drive\", force_remount=True).\n"
          ]
        }
      ],
      "source": [
        "# from google.colab import drive\n",
        "# drive.mount('/content/drive')"
      ]
    },
    {
      "cell_type": "code",
      "execution_count": 1,
      "metadata": {
        "id": "YTTCeJ6jEP1t"
      },
      "outputs": [],
      "source": [
        "shows_dir = \"./shows.txt\"\n",
        "user_shows_dir = \"./user-shows.txt\""
      ]
    },
    {
      "cell_type": "code",
      "execution_count": 2,
      "metadata": {
        "id": "7Zn_qKGXE6oR"
      },
      "outputs": [],
      "source": [
        "def init_P_Q(R):\n",
        "  \"\"\"\n",
        "  initialize matrices P and Q with diagonal matrix\n",
        "  \"\"\"\n",
        "  row_sum = []\n",
        "  col_sum = []\n",
        "  for row in R:\n",
        "    row_sum.append(np.sum(row))\n",
        "  for col in np.transpose(R):\n",
        "    col_sum.append(np.sum(col))\n",
        "  return np.diag(row_sum), np.diag(col_sum)"
      ]
    },
    {
      "cell_type": "code",
      "execution_count": 3,
      "metadata": {
        "id": "tz8XgF1vFI7H"
      },
      "outputs": [],
      "source": [
        "def factorize(x):\n",
        "  return np.where(x == 0, 0, x**-0.5)"
      ]
    },
    {
      "cell_type": "code",
      "execution_count": 4,
      "metadata": {
        "id": "AjfGesLeFQ1J"
      },
      "outputs": [],
      "source": [
        "def i_i_gamma(R, Q):\n",
        "  \"\"\"\n",
        "  Returns dot product all of them (R, sqrt_Q, R^t, R, sqrt_Q) --> Refer to (a) and (b). \n",
        "\n",
        "  multi_dot = multi dot product\n",
        "  \"\"\"\n",
        "\n",
        "  sqrt_Q = factorize(Q)\n",
        "  return np.linalg.multi_dot([R, sqrt_Q, np.transpose(R), R, sqrt_Q])"
      ]
    },
    {
      "cell_type": "code",
      "execution_count": 5,
      "metadata": {
        "id": "2Y32tPd9Fa0e"
      },
      "outputs": [],
      "source": [
        "def u_u_gamma(R, P):\n",
        "  \"\"\"\n",
        "  Returns dot product all of them (R^t, sqrt_P, R, R^t, sqrt_P) --> Refer to (a) and (b). \n",
        "\n",
        "  multi_dot = multi dot product\n",
        "  \"\"\"\n",
        "  sqrt_P = factorize(P)\n",
        "  return np.transpose(np.linalg.multi_dot([np.transpose(R), sqrt_P, R, np.transpose(R), sqrt_P]))"
      ]
    },
    {
      "cell_type": "code",
      "execution_count": 6,
      "metadata": {
        "id": "I62sZW1sFr64"
      },
      "outputs": [],
      "source": [
        "def get_top_indexes(arr, n):\n",
        "  \"\"\"\n",
        "  Returns the index of the top n elements in an array\n",
        "  \"\"\"\n",
        "  processed_arr = [(arr[i], i) for i in range(len(arr))]\n",
        "  processed_arr = sorted(processed_arr, key = lambda ele: (-ele[0], ele[1]))\n",
        "  return [ele[1] for ele in processed_arr[:n]]"
      ]
    },
    {
      "cell_type": "code",
      "execution_count": 7,
      "metadata": {
        "id": "pQQPXftbF74c"
      },
      "outputs": [],
      "source": [
        "def get_show_titles(shows_dir):\n",
        "  shows = []\n",
        "  with open(shows_dir) as f:\n",
        "    for line in f.readlines():\n",
        "      shows.append(line.strip(\"\\\"\\n\"))\n",
        "  return shows"
      ]
    },
    {
      "cell_type": "code",
      "execution_count": 10,
      "metadata": {
        "colab": {
          "base_uri": "https://localhost:8080/"
        },
        "id": "36thKy5AGNYO",
        "outputId": "cd5da6a1-3506-4d27-91d9-057b77644085"
      },
      "outputs": [
        {
          "name": "stderr",
          "output_type": "stream",
          "text": [
            "/home/ljj0512/.local/lib/python3.6/site-packages/ipykernel_launcher.py:2: RuntimeWarning: divide by zero encountered in power\n",
            "  \n"
          ]
        },
        {
          "name": "stdout",
          "output_type": "stream",
          "text": [
            "[96, 74, 45, 60, 9]\n",
            "[96, 74, 60, 45, 82]\n",
            "top 5 shows by user-user collaborative filtering: ['FOX 28 News at 10pm', 'Family Guy', '2009 NCAA Basketball Tournament', 'NBC 4 at Eleven', 'Two and a Half Men']\n",
            "top 5 shows by item-item collaborative filtering: ['FOX 28 News at 10pm', 'Family Guy', 'NBC 4 at Eleven', '2009 NCAA Basketball Tournament', 'Access Hollywood']\n"
          ]
        }
      ],
      "source": [
        "R = np.loadtxt(user_shows_dir)\n",
        "P, Q = init_P_Q(R)\n",
        "\n",
        "u_gamma = u_u_gamma(R, P)\n",
        "i_gamma = i_i_gamma(R, Q)\n",
        "\n",
        "u_top_indexes = get_top_indexes(u_gamma[499][:100], 5)   # Python’s 0-based indexing (originally it was 500)\n",
        "i_top_indexes = get_top_indexes(i_gamma[499][:100], 5)\n",
        "show_titles = get_show_titles(shows_dir)\n",
        "\n",
        "print(u_top_indexes)\n",
        "print(i_top_indexes)\n",
        "print (\"top 5 shows by user-user collaborative filtering: {0}\".format(list(map(lambda ele: show_titles[ele], u_top_indexes))))\n",
        "print (\"top 5 shows by item-item collaborative filtering: {0}\".format(list(map(lambda ele: show_titles[ele], i_top_indexes))))\\"
      ]
    }
  ],
  "metadata": {
    "colab": {
      "collapsed_sections": [],
      "provenance": []
    },
    "kernelspec": {
      "display_name": "Python 3.6.9 64-bit",
      "language": "python",
      "name": "python3"
    },
    "language_info": {
      "codemirror_mode": {
        "name": "ipython",
        "version": 3
      },
      "file_extension": ".py",
      "mimetype": "text/x-python",
      "name": "python",
      "nbconvert_exporter": "python",
      "pygments_lexer": "ipython3",
      "version": "3.6.9"
    },
    "vscode": {
      "interpreter": {
        "hash": "31f2aee4e71d21fbe5cf8b01ff0e069b9275f58929596ceb00d14d90e3e16cd6"
      }
    }
  },
  "nbformat": 4,
  "nbformat_minor": 0
}
