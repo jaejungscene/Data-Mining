{
  "nbformat": 4,
  "nbformat_minor": 0,
  "metadata": {
    "colab": {
      "provenance": [],
      "collapsed_sections": []
    },
    "kernelspec": {
      "name": "python3",
      "display_name": "Python 3"
    },
    "language_info": {
      "name": "python"
    }
  },
  "cells": [
    {
      "cell_type": "code",
      "execution_count": null,
      "metadata": {
        "id": "JjMoGUBAC6mH"
      },
      "outputs": [],
      "source": [
        "import numpy as np\n",
        "from scipy import linalg   # Linear Algebra Library"
      ]
    },
    {
      "cell_type": "code",
      "source": [
        "from google.colab import drive\n",
        "drive.mount('/content/drive')"
      ],
      "metadata": {
        "id": "PcI0NZ1wlk9x",
        "colab": {
          "base_uri": "https://localhost:8080/"
        },
        "outputId": "fb555232-8187-4be5-e02e-99a4bd5ca4e2"
      },
      "execution_count": null,
      "outputs": [
        {
          "output_type": "stream",
          "name": "stdout",
          "text": [
            "Drive already mounted at /content/drive; to attempt to forcibly remount, call drive.mount(\"/content/drive\", force_remount=True).\n"
          ]
        }
      ]
    },
    {
      "cell_type": "code",
      "source": [
        "shows_dir = \"/content/drive/MyDrive/HW2-3,4/q4/data/shows.txt\"\n",
        "user_shows_dir = \"/content/drive/MyDrive/HW2-3,4/q4/data/user-shows.txt\""
      ],
      "metadata": {
        "id": "YTTCeJ6jEP1t"
      },
      "execution_count": null,
      "outputs": []
    },
    {
      "cell_type": "code",
      "source": [
        "def init_P_Q(R):\n",
        "  \"\"\"\n",
        "  initialize matrices P and Q with diagonal matrix\n",
        "  \"\"\"\n",
        "  row_sum = []\n",
        "  col_sum = []\n",
        "  for row in R:\n",
        "    row_sum.append(np.sum(row))\n",
        "  for col in np.transpose(R):\n",
        "    col_sum.append(np.sum(col))\n",
        "  return np.diag(row_sum), np.diag(col_sum)"
      ],
      "metadata": {
        "id": "7Zn_qKGXE6oR"
      },
      "execution_count": null,
      "outputs": []
    },
    {
      "cell_type": "code",
      "source": [
        "def factorize(x):\n",
        "  return np.where(x == 0, 0, x**-0.5)"
      ],
      "metadata": {
        "id": "tz8XgF1vFI7H"
      },
      "execution_count": null,
      "outputs": []
    },
    {
      "cell_type": "code",
      "source": [
        "def i_i_gamma(R, Q):\n",
        "  \"\"\"\n",
        "  Returns dot product all of them (R, sqrt_Q, R^t, R, sqrt_Q) --> Refer to (a) and (b). \n",
        "\n",
        "  multi_dot = multi dot product\n",
        "  \"\"\"\n",
        "\n",
        "  sqrt_Q = factorize(Q)\n",
        "  return np.linalg.multi_dot([R, sqrt_Q, np.transpose(R), R, sqrt_Q])"
      ],
      "metadata": {
        "id": "AjfGesLeFQ1J"
      },
      "execution_count": null,
      "outputs": []
    },
    {
      "cell_type": "code",
      "source": [
        "def u_u_gamma(R, P):\n",
        "  \"\"\"\n",
        "  Returns dot product all of them (R^t, sqrt_P, R, R^t, sqrt_P) --> Refer to (a) and (b). \n",
        "\n",
        "  multi_dot = multi dot product\n",
        "  \"\"\"\n",
        "  sqrt_P = factorize(P)\n",
        "  return np.transpose(np.linalg.multi_dot([np.transpose(R), sqrt_P, R, np.transpose(R), sqrt_P]))"
      ],
      "metadata": {
        "id": "2Y32tPd9Fa0e"
      },
      "execution_count": null,
      "outputs": []
    },
    {
      "cell_type": "code",
      "source": [
        "def get_top_indexes(arr, n):\n",
        "  \"\"\"\n",
        "  Returns the index of the top n elements in an array\n",
        "  \"\"\"\n",
        "  processed_arr = [(arr[i], i) for i in range(len(arr))]\n",
        "  processed_arr = sorted(processed_arr, key = lambda ele: (-ele[0], ele[1]))\n",
        "  return [ele[1] for ele in processed_arr[:n]]"
      ],
      "metadata": {
        "id": "I62sZW1sFr64"
      },
      "execution_count": null,
      "outputs": []
    },
    {
      "cell_type": "code",
      "source": [
        "def get_show_titles(shows_dir):\n",
        "  shows = []\n",
        "  with open(shows_dir) as f:\n",
        "    for line in f.readlines():\n",
        "      shows.append(line.strip(\"\\\"\\n\"))\n",
        "  return shows"
      ],
      "metadata": {
        "id": "pQQPXftbF74c"
      },
      "execution_count": null,
      "outputs": []
    },
    {
      "cell_type": "code",
      "source": [
        "R = np.loadtxt(user_shows_dir)\n",
        "P, Q = init_P_Q(R)\n",
        "\n",
        "u_gamma = u_u_gamma(R, P)\n",
        "i_gamma = i_i_gamma(R, Q)\n",
        "\n",
        "u_top_indexes = get_top_indexes(u_gamma[499][:100], 5)   # Python’s 0-based indexing (originally it was 500)\n",
        "i_top_indexes = get_top_indexes(i_gamma[499][:100], 5)\n",
        "show_titles = get_show_titles(shows_dir)\n",
        "\n",
        "print(u_top_indexes)\n",
        "print(i_top_indexes)\n",
        "print (\"top 5 shows by user-user collaborative filtering: {0}\".format(list(map(lambda ele: show_titles[ele], u_top_indexes))))\n",
        "print (\"top 5 shows by item-item collaborative filtering: {0}\".format(list(map(lambda ele: show_titles[ele], i_top_indexes))))\\"
      ],
      "metadata": {
        "colab": {
          "base_uri": "https://localhost:8080/"
        },
        "id": "36thKy5AGNYO",
        "outputId": "cd5da6a1-3506-4d27-91d9-057b77644085"
      },
      "execution_count": null,
      "outputs": [
        {
          "output_type": "stream",
          "name": "stderr",
          "text": [
            "/usr/local/lib/python3.7/dist-packages/ipykernel_launcher.py:2: RuntimeWarning: divide by zero encountered in power\n",
            "  \n"
          ]
        },
        {
          "output_type": "stream",
          "name": "stdout",
          "text": [
            "[96, 74, 45, 60, 9]\n",
            "[96, 74, 60, 45, 82]\n",
            "top 5 shows by user-user collaborative filtering: ['FOX 28 News at 10pm', 'Family Guy', '2009 NCAA Basketball Tournament', 'NBC 4 at Eleven', 'Two and a Half Men']\n",
            "top 5 shows by item-item collaborative filtering: ['FOX 28 News at 10pm', 'Family Guy', 'NBC 4 at Eleven', '2009 NCAA Basketball Tournament', 'Access Hollywood']\n"
          ]
        }
      ]
    },
    {
      "cell_type": "code",
      "source": [],
      "metadata": {
        "id": "U7UUgcpPmMic"
      },
      "execution_count": null,
      "outputs": []
    }
  ]
}