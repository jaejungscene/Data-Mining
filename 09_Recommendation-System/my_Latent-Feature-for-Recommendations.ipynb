{
 "cells": [
  {
   "cell_type": "code",
   "execution_count": 40,
   "metadata": {},
   "outputs": [
    {
     "name": "stdout",
     "output_type": "stream",
     "text": [
      "90001\n",
      "(90000, 3)\n"
     ]
    }
   ],
   "source": [
    "import numpy as np\n",
    "with open(\"./ratings.train.txt\", \"r\") as f:\n",
    "    data = f.read()\n",
    "\n",
    "R = []\n",
    "print(len(data.split(\"\\n\")))\n",
    "n = 0\n",
    "for i in data.split(\"\\n\"):\n",
    "    if n == 90000:\n",
    "        break\n",
    "    R.append(list(map(int,i.split(\"\\t\"))))\n",
    "    n +=1\n",
    "    # break\n",
    "R = np.array(R)\n",
    "print(R.shape)"
   ]
  },
  {
   "cell_type": "code",
   "execution_count": null,
   "metadata": {},
   "outputs": [],
   "source": [
    "def draw_graph(lin_data, x0, x1, w, b):\n",
    "  lin_data.plot(kind=\"scatter\", x=\"input\", y=\"pollution\")\n",
    "  plt.xlim([-0.1, 0.6])\n",
    "  plt.ylim([-0.1, 8])\n",
    "  plt.plot([x0,x1],[h(x0,w,b),h(x1,w,b)], color=\"red\")\n",
    "  plt.show()"
   ]
  },
  {
   "cell_type": "code",
   "execution_count": 41,
   "metadata": {},
   "outputs": [
    {
     "name": "stdout",
     "output_type": "stream",
     "text": [
      "(90000, 20)\n",
      "(3, 20)\n"
     ]
    }
   ],
   "source": []
  },
  {
   "cell_type": "code",
   "execution_count": 54,
   "metadata": {},
   "outputs": [
    {
     "name": "stdout",
     "output_type": "stream",
     "text": [
      "(90000, 20)\n",
      "0.9999994099595219\n",
      "(3, 20)\n",
      "0.9838986286771791\n",
      "==============================\n",
      "4.119694728106026\n",
      "186\n",
      "[181.88030527]\n"
     ]
    }
   ],
   "source": [
    "import pandas as pd\n",
    "import numpy as np\n",
    "import matplotlib.pyplot as plt\n",
    "\n",
    "def h(x, w, b):\n",
    "  return w*x + b\n",
    "\n",
    "# E**2 = (Y_hat - Y)**2 = (w*x+b - Y)**2\n",
    "# w에 대한 편미분 값 = 2*x*(w*x+b - Y) = 2*E*x  <- 방향성이 중요함으로 2제거 가능\n",
    "# b에 대한 편미분 값 = 2*(w*x+b - Y) = 2*E  <- 방향성이 중요함으로 2제거 가능\n",
    "iteration = 40 # HyperParameter : 학습반복 횟수\n",
    "lr = 0.1 # HyperParameter : 학습율\n",
    "m = R.shape[0]\n",
    "k = 20\n",
    "n = R.shape[1]\n",
    "lamb = 0.1\n",
    "Q = np.random.rand(m,k)\n",
    "# Q = np.ones((m,k))\n",
    "print(Q.shape)\n",
    "print(Q.max())\n",
    "P = np.random.rand(n,k)\n",
    "# P = np.ones((n,k))\n",
    "print(P.shape)\n",
    "print(P.max())\n",
    "print(\"=\"*30)\n",
    "\n",
    "# print(Q[0,:]@P[0])\n",
    "# print(R[0,0])\n",
    "# print(R[0,0] - Q[0,:]@P[0].reshape(1,-1).T)\n",
    "\n",
    "error_list = []\n",
    "for it in range(iteration):\n",
    "  for i in range(m):\n",
    "    for u in range(n):\n",
    "      E = ( R[i,u] - Q[i,:]@P[u])\n",
    "      Q[i] -= lr * ((2*E)*P[u] + 2*lamb*Q[i])\n",
    "      P[u] -= lr * ((2*E)*Q[i] + 2*lamb*P[u])\n",
    "  print(f\"iter{it}:\",E)\n",
    "  error_list.append(E)\n",
    "\n",
    "plt.plot(x=iteration, y=E)\n",
    "\n"
   ]
  },
  {
   "cell_type": "code",
   "execution_count": 42,
   "metadata": {},
   "outputs": [
    {
     "name": "stdout",
     "output_type": "stream",
     "text": [
      "[1 2 3]\n",
      "[[1 2 3]]\n"
     ]
    }
   ],
   "source": [
    "print(np.array([1,2,3]))\n",
    "print(np.array([1,2,3]).reshape(1,-1))"
   ]
  }
 ],
 "metadata": {
  "kernelspec": {
   "display_name": "Python 3.10.4 ('data-mining')",
   "language": "python",
   "name": "python3"
  },
  "language_info": {
   "codemirror_mode": {
    "name": "ipython",
    "version": 3
   },
   "file_extension": ".py",
   "mimetype": "text/x-python",
   "name": "python",
   "nbconvert_exporter": "python",
   "pygments_lexer": "ipython3",
   "version": "3.10.4"
  },
  "orig_nbformat": 4,
  "vscode": {
   "interpreter": {
    "hash": "20bc2612d0fd8be19af488bbfe75d6267421c3080aa839bfd424fa57a3ef4dc6"
   }
  }
 },
 "nbformat": 4,
 "nbformat_minor": 2
}
