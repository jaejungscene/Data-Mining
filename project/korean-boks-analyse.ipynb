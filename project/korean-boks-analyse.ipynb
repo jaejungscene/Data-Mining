{
 "cells": [
  {
   "cell_type": "code",
   "execution_count": 1,
   "metadata": {},
   "outputs": [],
   "source": [
    "import sqlite3\n",
    "conn = sqlite3.connect(\"Books.db\")\n",
    "cur = conn.cursor()\n",
    "conn.execute('''\n",
    "        CREATE TABLE Foreign_book(\n",
    "            id INTEGER,\n",
    "            title TEXT,\n",
    "            genres TEXT,\n",
    "            author TEXT,\n",
    "            rating REAL, \n",
    "            publisher TEXT, \n",
    "            p_date INTEGER, \n",
    "            pages INTEGER, \n",
    "            description TEXT, \n",
    "            imgUrl TEXT\n",
    "        )\n",
    "''')\n",
    "conn.commit()\n",
    "conn.close()"
   ]
  },
  {
   "cell_type": "code",
   "execution_count": 2,
   "metadata": {},
   "outputs": [],
   "source": [
    "conn = sqlite3.connect(\"Books.db\")\n",
    "cur = conn.cursor()\n",
    "conn.execute(\"DROP TABLE foreign_book\")\n",
    "conn.commit()\n",
    "conn.close()"
   ]
  }
 ],
 "metadata": {
  "kernelspec": {
   "display_name": "Python 3.10.4 ('data-mining')",
   "language": "python",
   "name": "python3"
  },
  "language_info": {
   "codemirror_mode": {
    "name": "ipython",
    "version": 3
   },
   "file_extension": ".py",
   "mimetype": "text/x-python",
   "name": "python",
   "nbconvert_exporter": "python",
   "pygments_lexer": "ipython3",
   "version": "3.10.4"
  },
  "orig_nbformat": 4,
  "vscode": {
   "interpreter": {
    "hash": "20bc2612d0fd8be19af488bbfe75d6267421c3080aa839bfd424fa57a3ef4dc6"
   }
  }
 },
 "nbformat": 4,
 "nbformat_minor": 2
}
