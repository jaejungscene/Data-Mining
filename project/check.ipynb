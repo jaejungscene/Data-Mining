{
 "cells": [
  {
   "cell_type": "code",
   "execution_count": 17,
   "metadata": {},
   "outputs": [
    {
     "name": "stdout",
     "output_type": "stream",
     "text": [
      "asdf\n"
     ]
    }
   ],
   "source": [
    "print('asdf')"
   ]
  },
  {
   "cell_type": "code",
   "execution_count": 16,
   "metadata": {},
   "outputs": [
    {
     "name": "stdout",
     "output_type": "stream",
     "text": [
      "already in\n",
      "{'국내도서': 1}\n"
     ]
    }
   ],
   "source": [
    "x= ['국대도서',\"해외도서\",\"asdf\"]\n",
    "k = \"국대도서\"\n",
    "if k not in x:\n",
    "    x.append(k)\n",
    "else:\n",
    "    print(\"already in\")\n",
    "\n",
    "y = {}\n",
    "y[\"국내도서\"] = 1\n",
    "print(y)"
   ]
  },
  {
   "cell_type": "code",
   "execution_count": 5,
   "metadata": {},
   "outputs": [
    {
     "name": "stdout",
     "output_type": "stream",
     "text": [
      "52478\n",
      "bookId                                       2767052-the-hunger-games\n",
      "title                                                The Hunger Games\n",
      "series                                            The Hunger Games #1\n",
      "author                                                Suzanne Collins\n",
      "rating                                                           4.33\n",
      "description         WINNING MEANS FAME AND FORTUNE.LOSING MEANS CE...\n",
      "language                                                      English\n",
      "isbn                                                    9780439023481\n",
      "genres              ['Young Adult', 'Fiction', 'Dystopia', 'Fantas...\n",
      "characters          ['Katniss Everdeen', 'Peeta Mellark', 'Cato (H...\n",
      "bookFormat                                                  Hardcover\n",
      "edition                                                 First Edition\n",
      "pages                                                             374\n",
      "publisher                                            Scholastic Press\n",
      "publishDate                                                  09/14/08\n",
      "firstPublishDate                                                  NaN\n",
      "awards              ['Locus Award Nominee for Best Young Adult Boo...\n",
      "numRatings                                                    6376780\n",
      "ratingsByStars      ['3444695', '1921313', '745221', '171994', '93...\n",
      "likedPercent                                                       96\n",
      "setting             ['District 12, Panem', 'Capitol, Panem', 'Pane...\n",
      "coverImg            https://i.gr-assets.com/images/S/compressed.ph...\n",
      "bbeScore                                                      2993816\n",
      "bbeVotes                                                        30516\n",
      "price                                                            5.09\n",
      "Name: 0, dtype: object\n",
      "https://i.gr-assets.com/images/S/compressed.photo.goodreads.com/books/1586722975l/2767052.jpg\n",
      "WINNING MEANS FAME AND FORTUNE.LOSING MEANS CERTAIN DEATH.THE HUNGER GAMES HAVE BEGUN. . . .In the ruins of a place once known as North America lies the nation of Panem, a shining Capitol surrounded by twelve outlying districts. The Capitol is harsh and cruel and keeps the districts in line by forcing them all to send one boy and once girl between the ages of twelve and eighteen to participate in the annual Hunger Games, a fight to the death on live TV.Sixteen-year-old Katniss Everdeen regards it as a death sentence when she steps forward to take her sister's place in the Games. But Katniss has been close to dead before—and survival, for her, is second nature. Without really meaning to, she becomes a contender. But if she is to win, she will have to start making choices that weight survival against humanity and life against love.\n"
     ]
    }
   ],
   "source": [
    "import pandas as pd\n",
    "\n",
    "data = pd.read_csv(\"./data/foreign-books.csv\")\n",
    "print(len(data))\n",
    "print(data.iloc[0])\n",
    "print(data[\"coverImg\"].iloc[0])\n",
    "print(data[\"description\"].iloc[0])"
   ]
  },
  {
   "cell_type": "code",
   "execution_count": 41,
   "metadata": {},
   "outputs": [
    {
     "name": "stdout",
     "output_type": "stream",
     "text": [
      "['Young Adult', 'Fiction', 'Dystopia', 'Fantasy', 'Science Fiction', 'Romance', 'Adventure', 'Teen', 'Post Apocalyptic', 'Action']\n",
      "['Fantasy', 'Young Adult', 'Fiction', 'Magic', 'Childrens', 'Adventure', 'Audiobook', 'Middle Grade', 'Classics', 'Science Fiction Fantasy']\n",
      "==============================\n",
      "['Young Adult', 'Fiction', 'Dystopia', 'Fantasy', 'Science Fiction', 'Romance', 'Adventure', 'Teen', 'Post Apocalyptic', 'Action']['Fantasy', 'Young Adult', 'Fiction', 'Magic', 'Childrens', 'Adventure', 'Audiobook', 'Middle Grade', 'Classics', 'Science Fiction Fantasy']\n",
      "==============================\n",
      "52478\n",
      "['Young Adult', 'Fiction', 'Dystopia', 'Fantasy', 'Science Fiction', 'Romance', 'Adventure', 'Teen', 'Post Apocalyptic', 'Action']\n"
     ]
    }
   ],
   "source": [
    "import pandas as pd\n",
    "\n",
    "data = pd.read_csv(\"./data/foreign-books.csv\")\n",
    "# print(data.shape)\n",
    "# print(data.iloc[:1])\n",
    "def Union(lis1, lis2):\n",
    "    f = lis1+lis2\n",
    "    return f\n",
    "print(data[\"genres\"][0])\n",
    "print(data[\"genres\"][1])\n",
    "print(\"=\"*30)\n",
    "print(Union(data[\"genres\"][0], data[\"genres\"][1]))\n",
    "print(\"=\"*30)\n",
    "print(data.shape[0])\n",
    "genr_list = []\n",
    "for i in range(data.shape[0]):\n",
    "    genr_list.append(data[\"genres\"][i])\n",
    "print(genr_list[0])"
   ]
  },
  {
   "cell_type": "code",
   "execution_count": 61,
   "metadata": {},
   "outputs": [
    {
     "name": "stdout",
     "output_type": "stream",
     "text": [
      "<class 'str'>\n",
      "['Fantasy', 'Young Adult', 'Fiction', 'Magic', 'Childrens', 'Adventure', 'Audiobook', 'Middle Grade', 'Classics', 'Science Fiction Fantasy']\n",
      "['Classics', 'Fiction', 'Historical Fiction', 'School', 'Literature', 'Young Adult', 'Historical', 'Novels', 'Read For School', 'High School']\n",
      "[\"['Young Adult', 'Fiction', 'Dystopia', 'Fantasy', 'Science Fiction', 'Romance', 'Adventure', 'Teen', 'Post Apocalyptic', 'Action']\", \"['Fantasy', 'Young Adult', 'Fiction', 'Magic', 'Childrens', 'Adventure', 'Audiobook', 'Middle Grade', 'Classics', 'Science Fiction Fantasy']\", \"['Classics', 'Fiction', 'Historical Fiction', 'School', 'Literature', 'Young Adult', 'Historical', 'Novels', 'Read For School', 'High School']\"]\n"
     ]
    }
   ],
   "source": [
    "genr_list = []\n",
    "\n",
    "for i in range(data.shape[0]):\n",
    "    if i == 3:\n",
    "        break\n",
    "    genr_list.append(data[\"genres\"][i])\n",
    "print(type(genr_list[0]))\n",
    "print(genr_list[1])\n",
    "print(genr_list[2])\n",
    "print(genr_list)"
   ]
  },
  {
   "cell_type": "code",
   "execution_count": 1,
   "metadata": {},
   "outputs": [
    {
     "name": "stderr",
     "output_type": "stream",
     "text": [
      "/home/ljj0512/.local/lib/python3.6/site-packages/pyspark/context.py:238: FutureWarning: Python 3.6 support is deprecated in Spark 3.2.\n",
      "  FutureWarning\n"
     ]
    }
   ],
   "source": [
    "from pyspark.sql import *\n",
    "from pyspark.sql.functions import *\n",
    "from pyspark import SparkContext\n",
    "import pandas as pd\n",
    "\n",
    "# create the Spark Session\n",
    "spark = SparkSession.builder.appName(\"spakr\").getOrCreate()\n",
    "\n",
    "# create the Spark Context\n",
    "sc = spark.sparkContext"
   ]
  },
  {
   "cell_type": "code",
   "execution_count": 50,
   "metadata": {},
   "outputs": [
    {
     "name": "stdout",
     "output_type": "stream",
     "text": [
      "['Young Adult', 'Fiction', 'Dystopia', 'Fantasy', 'Science Fiction', 'Romance', 'Adventure', 'Teen', 'Post Apocalyptic', 'Action']\n",
      "[\"['Young Adult', 'Fiction', 'Dystopia', 'Fantasy', 'Science Fiction', 'Romance', 'Adventure', 'Teen', 'Post Apocalyptic', 'Action']\", \"['Fantasy', 'Young Adult', 'Fiction', 'Magic', 'Childrens', 'Adventure', 'Audiobook', 'Middle Grade', 'Classics', 'Science Fiction Fantasy']\"]\n",
      "[(\"['Young Adult', 'Fiction', 'Dystopia', 'Fantasy', 'Science Fiction', 'Romance', 'Adventure', 'Teen', 'Post Apocalyptic', 'Action']\", 1), (\"['Fantasy', 'Young Adult', 'Fiction', 'Magic', 'Childrens', 'Adventure', 'Audiobook', 'Middle Grade', 'Classics', 'Science Fiction Fantasy']\", 1), (\"['Classics', 'Fiction', 'Historical Fiction', 'School', 'Literature', 'Young Adult', 'Historical', 'Novels', 'Read For School', 'High School']\", 1)]\n"
     ]
    }
   ],
   "source": [
    "rdd = sc.parallelize(genr_list)\n",
    "print(rdd.take(1)[0])\n",
    "print(rdd.take(2))\n",
    "rdd1 = rdd.map(lambda line: (line, 1))\n",
    "print(rdd1.take(3))"
   ]
  }
 ],
 "metadata": {
  "kernelspec": {
   "display_name": "Python 3.6.9 64-bit",
   "language": "python",
   "name": "python3"
  },
  "language_info": {
   "codemirror_mode": {
    "name": "ipython",
    "version": 3
   },
   "file_extension": ".py",
   "mimetype": "text/x-python",
   "name": "python",
   "nbconvert_exporter": "python",
   "pygments_lexer": "ipython3",
   "version": "3.6.9"
  },
  "orig_nbformat": 4,
  "vscode": {
   "interpreter": {
    "hash": "31f2aee4e71d21fbe5cf8b01ff0e069b9275f58929596ceb00d14d90e3e16cd6"
   }
  }
 },
 "nbformat": 4,
 "nbformat_minor": 2
}
