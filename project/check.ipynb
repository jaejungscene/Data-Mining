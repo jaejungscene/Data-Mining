{
 "cells": [
  {
   "cell_type": "code",
   "execution_count": 2,
   "metadata": {},
   "outputs": [
    {
     "name": "stdout",
     "output_type": "stream",
     "text": [
      "b'<error>\\r\\n\\t\\t<msg>NO KEY VALUE:\\xec\\x9d\\xb8\\xec\\xa6\\x9d\\xed\\x82\\xa4\\xea\\xb0\\x92\\xec\\x9d\\xb4 \\xec\\x97\\x86\\xec\\x8a\\xb5\\xeb\\x8b\\x88\\xeb\\x8b\\xa4. \\xec\\x9d\\xb8\\xec\\xa6\\x9d\\xed\\x82\\xa4\\xea\\xb0\\x92\\xec\\x9d\\x84 \\xeb\\x84\\xa3\\xec\\x9c\\xbc\\xec\\x84\\xb8\\xec\\x9a\\x94.(\\xeb\\xb0\\x9c\\xea\\xb8\\x89\\xeb\\xb0\\x9b\\xec\\x9c\\xbc\\xec\\x8b\\xa0 \\xed\\x82\\xa4\\xea\\xb0\\x92\\xec\\x9d\\xb4 \\xec\\x97\\x86\\xec\\x9c\\xbc\\xeb\\xa9\\xb4 \\xea\\xb4\\x80\\xeb\\xa6\\xac\\xec\\x9e\\x90\\xec\\x97\\x90\\xea\\xb2\\x8c \\xeb\\xac\\xb8\\xec\\x9d\\x98\\xed\\x95\\x98\\xec\\x84\\xb8\\xec\\x9a\\x94.)</msg>\\r\\n\\t\\t<error_code>010</error_code>\\r\\n\\t</error>\\r\\n'\n"
     ]
    }
   ],
   "source": [
    "import requests\n",
    "\n",
    "data = requests.get(\"https://www.nl.go.kr/NL/search/openApi/search.do?key=&kwd=%ED%86%A0%EC%A7%80\")\n",
    "print(data.content)"
   ]
  }
 ],
 "metadata": {
  "kernelspec": {
   "display_name": "Python 3.10.4 ('data-mining')",
   "language": "python",
   "name": "python3"
  },
  "language_info": {
   "codemirror_mode": {
    "name": "ipython",
    "version": 3
   },
   "file_extension": ".py",
   "mimetype": "text/x-python",
   "name": "python",
   "nbconvert_exporter": "python",
   "pygments_lexer": "ipython3",
   "version": "3.10.4"
  },
  "orig_nbformat": 4,
  "vscode": {
   "interpreter": {
    "hash": "20bc2612d0fd8be19af488bbfe75d6267421c3080aa839bfd424fa57a3ef4dc6"
   }
  }
 },
 "nbformat": 4,
 "nbformat_minor": 2
}
