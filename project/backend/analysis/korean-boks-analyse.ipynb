{
 "cells": [
  {
   "cell_type": "code",
   "execution_count": 1,
   "metadata": {},
   "outputs": [
    {
     "name": "stderr",
     "output_type": "stream",
     "text": [
      "/home/ljj0512/.local/lib/python3.6/site-packages/pyspark/context.py:238: FutureWarning: Python 3.6 support is deprecated in Spark 3.2.\n",
      "  FutureWarning\n"
     ]
    }
   ],
   "source": [
    "from pyspark.sql import *\n",
    "from pyspark.sql.functions import *\n",
    "from pyspark import SparkContext\n",
    "import pandas as pd\n",
    "\n",
    "# create the Spark Session\n",
    "spark = SparkSession.builder.appName(\"spark\").getOrCreate()\n",
    "\n",
    "# create the Spark Context\n",
    "sc = spark.sparkContext"
   ]
  },
  {
   "cell_type": "code",
   "execution_count": 137,
   "metadata": {},
   "outputs": [
    {
     "name": "stdout",
     "output_type": "stream",
     "text": [
      "[(15638, '우리의 일상을 지배하는 IT 거인들')]\n"
     ]
    }
   ],
   "source": [
    "import sqlite3\n",
    "conn = sqlite3.connect(\"Books.db\")\n",
    "cur = conn.cursor()\n",
    "cur.execute(\"SELECT rowid, title FROM Korean_book WHERE title==\\'우리의 일상을 지배하는 IT 거인들\\'\")\n",
    "check = cur.fetchall()\n",
    "print(check)\n",
    "conn.commit()\n",
    "conn.close()\n"
   ]
  },
  {
   "cell_type": "code",
   "execution_count": 143,
   "metadata": {},
   "outputs": [
    {
     "name": "stdout",
     "output_type": "stream",
     "text": [
      "44945\n"
     ]
    }
   ],
   "source": [
    "import sqlite3\n",
    "conn = sqlite3.connect(\"Books.db\")\n",
    "cur = conn.cursor()\n",
    "cur.execute(\"SELECT title, author FROM Korean_book\")\n",
    "data = cur.fetchall()\n",
    "print(len(data))\n",
    "conn.commit()\n",
    "conn.close()\n"
   ]
  },
  {
   "cell_type": "code",
   "execution_count": 144,
   "metadata": {},
   "outputs": [
    {
     "name": "stdout",
     "output_type": "stream",
     "text": [
      "[('하얼빈', '김훈'), ('아버지의 해방일지', '정지아')]\n",
      "44945\n"
     ]
    }
   ],
   "source": [
    "rdd = sc.parallelize(data)\n",
    "print(rdd.take(2))\n",
    "print(rdd.count())"
   ]
  },
  {
   "cell_type": "code",
   "execution_count": 145,
   "metadata": {},
   "outputs": [
    {
     "name": "stdout",
     "output_type": "stream",
     "text": [
      "44945\n",
      "0\n"
     ]
    }
   ],
   "source": [
    "S = set({})\n",
    "D = set({})\n",
    "for d in rdd.collect():\n",
    "    if d in S:\n",
    "        D.add(d[0])\n",
    "    else:\n",
    "        S.add(d)\n",
    "\n",
    "print(len(S))\n",
    "print(len(D)) # <--- 실제 중복 데이터(책 제목과 글쓴이도 다른)"
   ]
  },
  {
   "cell_type": "code",
   "execution_count": 146,
   "metadata": {},
   "outputs": [
    {
     "ename": "IndexError",
     "evalue": "list index out of range",
     "output_type": "error",
     "traceback": [
      "\u001b[0;31m---------------------------------------------------------------------------\u001b[0m",
      "\u001b[0;31mIndexError\u001b[0m                                Traceback (most recent call last)",
      "\u001b[0;32m<ipython-input-146-a21e0a7c762f>\u001b[0m in \u001b[0;36m<module>\u001b[0;34m\u001b[0m\n\u001b[0;32m----> 1\u001b[0;31m \u001b[0mprint\u001b[0m\u001b[0;34m(\u001b[0m\u001b[0mlist\u001b[0m\u001b[0;34m(\u001b[0m\u001b[0mD\u001b[0m\u001b[0;34m)\u001b[0m\u001b[0;34m[\u001b[0m\u001b[0;36m0\u001b[0m\u001b[0;34m]\u001b[0m\u001b[0;34m)\u001b[0m\u001b[0;34m\u001b[0m\u001b[0;34m\u001b[0m\u001b[0m\n\u001b[0m\u001b[1;32m      2\u001b[0m \u001b[0mreal_dup_data\u001b[0m \u001b[0;34m=\u001b[0m \u001b[0mlist\u001b[0m\u001b[0;34m(\u001b[0m\u001b[0mD\u001b[0m\u001b[0;34m)\u001b[0m\u001b[0;34m\u001b[0m\u001b[0;34m\u001b[0m\u001b[0m\n\u001b[1;32m      3\u001b[0m \u001b[0mprint\u001b[0m\u001b[0;34m(\u001b[0m\u001b[0mlen\u001b[0m\u001b[0;34m(\u001b[0m\u001b[0mreal_dup_data\u001b[0m\u001b[0;34m)\u001b[0m\u001b[0;34m)\u001b[0m\u001b[0;34m\u001b[0m\u001b[0;34m\u001b[0m\u001b[0m\n",
      "\u001b[0;31mIndexError\u001b[0m: list index out of range"
     ]
    }
   ],
   "source": [
    "print(list(D)[0])\n",
    "real_dup_data = list(D)\n",
    "print(len(real_dup_data))"
   ]
  },
  {
   "cell_type": "code",
   "execution_count": 142,
   "metadata": {},
   "outputs": [],
   "source": [
    "import sqlite3\n",
    "conn = sqlite3.connect(\"Books.db\")\n",
    "cur = conn.cursor()\n",
    "\n",
    "# 하나 빼고 중복되는 도서들 모두 삭제\n",
    "for i in range(len(real_dup_data)):\n",
    "    cur.execute(f\"SELECT rowid FROM Korean_book WHERE title=\\\"{real_dup_data[i]}\\\"\")\n",
    "    same = cur.fetchall()\n",
    "    del_id = []\n",
    "    for num, (item) in enumerate(same):\n",
    "        if num==0:\n",
    "            pass\n",
    "        else:\n",
    "            del_id.append(item[0])\n",
    "\n",
    "    for id in del_id:\n",
    "        cur.execute(f\"DELETE FROM Korean_book WHERE rowid={id}\")\n",
    "    conn.commit()\n",
    "    cur.execute(f\"SELECT rowid FROM Korean_book WHERE title=\\\"{real_dup_data[i]}\\\"\")\n",
    "    same = cur.fetchall()\n",
    "\n",
    "conn.close()"
   ]
  },
  {
   "cell_type": "code",
   "execution_count": 147,
   "metadata": {},
   "outputs": [
    {
     "name": "stdout",
     "output_type": "stream",
     "text": [
      "44945\n",
      "0\n"
     ]
    }
   ],
   "source": [
    "## 중복 도서 삭제 확인\n",
    "S = set({})\n",
    "D = set({})\n",
    "for d in rdd.collect():\n",
    "    if d in S:\n",
    "        D.add(d[0])\n",
    "    else:\n",
    "        S.add(d)\n",
    "\n",
    "print(len(S))\n",
    "print(len(D)) # <--- 실제 중복 데이터(책 제목과 글쓴이도 다른)"
   ]
  },
  {
   "cell_type": "code",
   "execution_count": 60,
   "metadata": {},
   "outputs": [
    {
     "name": "stdout",
     "output_type": "stream",
     "text": [
      "61185\n"
     ]
    }
   ],
   "source": [
    "import sqlite3\n",
    "conn = sqlite3.connect(\"Books.db\")\n",
    "cur = conn.cursor()\n",
    "cur.execute(\"SELECT title FROM Korean_book\")\n",
    "data1 = cur.fetchall()\n",
    "print(len(data1))\n",
    "conn.commit()\n",
    "conn.close()"
   ]
  },
  {
   "cell_type": "code",
   "execution_count": 61,
   "metadata": {},
   "outputs": [
    {
     "name": "stdout",
     "output_type": "stream",
     "text": [
      "['하얼빈', '아버지의 해방일지']\n",
      "61185\n"
     ]
    }
   ],
   "source": [
    "rdd = sc.parallelize(data).map(lambda line: line[0])\n",
    "print(rdd.take(2))\n",
    "print(rdd.count())"
   ]
  },
  {
   "cell_type": "code",
   "execution_count": 62,
   "metadata": {},
   "outputs": [
    {
     "name": "stdout",
     "output_type": "stream",
     "text": [
      "44616\n",
      "12631\n"
     ]
    }
   ],
   "source": [
    "S1 = set({})\n",
    "D1 = set({})\n",
    "for title in rdd.collect():\n",
    "    if title in S1:\n",
    "        D1.add(title)\n",
    "    else:\n",
    "        S1.add(title)\n",
    "\n",
    "print(len(S1))\n",
    "print(len(D1)) # <--- 책 이름만 같은 중복 데이터"
   ]
  },
  {
   "cell_type": "code",
   "execution_count": 72,
   "metadata": {},
   "outputs": [
    {
     "name": "stdout",
     "output_type": "stream",
     "text": [
      "270\n"
     ]
    }
   ],
   "source": [
    "same_title_but_diff_author = set({})\n",
    "for d in D1:\n",
    "    if d in D:\n",
    "        pass\n",
    "    else:\n",
    "        same_title_but_diff_author.add(d)\n",
    "\n",
    "print(len(same_title_but_diff_author))"
   ]
  },
  {
   "cell_type": "code",
   "execution_count": 71,
   "metadata": {},
   "outputs": [
    {
     "name": "stdout",
     "output_type": "stream",
     "text": [
      "(21377, '외식산업의 이해', '국내도서,경제/경영,관광/호텔,호텔,외식/식음료,대학교재', '김관식 외', None, '양림출판사', 20190830, 359, '▶ 이 책은 외식사업을 다룬 이론서입니다.', 'https://contents.kyobobook.co.kr/sih/fit-in/142x0/pdt/9791189369125.jpg')\n",
      "\n",
      "(21751, '외식산업의 이해', '국내도서,경제/경영,관광/호텔,호텔,외식/식음료,대학교재', '나정기', 7.5, '백산출판사', 20130210, 661, '『외식산업의 이해』는 외식산업의 개요를 시작으로 외식업체 운영의 문제점과 실패요인까지 총 19장으로 구성된 책이다. 외식산업과 관련된 산업의 이해 및 발전배경, 현황과 전망, 분류 등을 정리할 수 있다.', 'https://contents.kyobobook.co.kr/sih/fit-in/142x0/pdt/9788977392267.jpg')\n",
      "\n"
     ]
    }
   ],
   "source": [
    "import sqlite3\n",
    "conn = sqlite3.connect(\"Books.db\")\n",
    "cur = conn.cursor()\n",
    "cur.execute(\"SELECT * FROM Korean_book WHERE title=\\\"외식산업의 이해\\\"\")\n",
    "same = cur.fetchall()\n",
    "for i in same:\n",
    "    print(i)\n",
    "    print()\n",
    "conn.commit()\n",
    "conn.close()"
   ]
  },
  {
   "cell_type": "code",
   "execution_count": null,
   "metadata": {},
   "outputs": [],
   "source": []
  },
  {
   "cell_type": "code",
   "execution_count": 4,
   "metadata": {},
   "outputs": [
    {
     "name": "stdout",
     "output_type": "stream",
     "text": [
      "박희윤\n",
      "김민형\n",
      "이상원\n",
      "이재정\n"
     ]
    }
   ],
   "source": [
    "temp = sc.parallelize([('이재정', '박희윤'), (\"김민형\", \"이재정\"), (\"이재정\", \"박희윤\")])\n",
    "temp.take(1)\n",
    "temp1 = temp.distinct()\n",
    "for i in temp1.collect():\n",
    "    print(i)\n"
   ]
  },
  {
   "cell_type": "code",
   "execution_count": 34,
   "metadata": {},
   "outputs": [
    {
     "name": "stdout",
     "output_type": "stream",
     "text": [
      "{('이재정', '박희윤')}\n",
      "('이재정', '박희윤')\n",
      "already\n"
     ]
    }
   ],
   "source": [
    "s = set({('이재정', '박희윤')})\n",
    "x = ('이재정', '박희윤')\n",
    "print(s)\n",
    "print(x)\n",
    "if x in s:\n",
    "    print(\"already\")\n",
    "else:\n",
    "    print(\"not in set\")"
   ]
  }
 ],
 "metadata": {
  "kernelspec": {
   "display_name": "Python 3.6.9 64-bit",
   "language": "python",
   "name": "python3"
  },
  "language_info": {
   "codemirror_mode": {
    "name": "ipython",
    "version": 3
   },
   "file_extension": ".py",
   "mimetype": "text/x-python",
   "name": "python",
   "nbconvert_exporter": "python",
   "pygments_lexer": "ipython3",
   "version": "3.6.9"
  },
  "orig_nbformat": 4,
  "vscode": {
   "interpreter": {
    "hash": "31f2aee4e71d21fbe5cf8b01ff0e069b9275f58929596ceb00d14d90e3e16cd6"
   }
  }
 },
 "nbformat": 4,
 "nbformat_minor": 2
}
