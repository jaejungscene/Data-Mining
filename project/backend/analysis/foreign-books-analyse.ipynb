{
 "cells": [
  {
   "cell_type": "code",
   "execution_count": 2,
   "metadata": {},
   "outputs": [
    {
     "name": "stderr",
     "output_type": "stream",
     "text": [
      "/home/ljj0512/.local/lib/python3.6/site-packages/pyspark/context.py:238: FutureWarning: Python 3.6 support is deprecated in Spark 3.2.\n",
      "  FutureWarning\n"
     ]
    }
   ],
   "source": [
    "from pyspark.sql import *\n",
    "from pyspark.sql.functions import *\n",
    "from pyspark import SparkContext\n",
    "import pandas as pd\n",
    "\n",
    "# create the Spark Session\n",
    "spark = SparkSession.builder.appName(\"spark\").getOrCreate()\n",
    "\n",
    "# create the Spark Context\n",
    "sc = spark.sparkContext"
   ]
  },
  {
   "cell_type": "markdown",
   "metadata": {},
   "source": [
    "## count total number of genres"
   ]
  },
  {
   "cell_type": "code",
   "execution_count": 1,
   "metadata": {},
   "outputs": [
    {
     "name": "stdout",
     "output_type": "stream",
     "text": [
      "52478\n",
      "<class 'list'>\n",
      "<class 'tuple'>\n",
      "('Young Adult, Fiction, Dystopia, Fantasy, Science Fiction, Romance, Adventure, Teen, Post Apocalyptic, Action',)\n"
     ]
    }
   ],
   "source": [
    "import sqlite3\n",
    "con = sqlite3.connect(\"./Books.db\")\n",
    "cur = con.cursor()\n",
    "cur.execute(\"SELECT genres FROM Foreign_book\")\n",
    "data = cur.fetchall()\n",
    "print(len(data))\n",
    "print(type(data))\n",
    "print(type(data[0]))\n",
    "print(data[0])"
   ]
  },
  {
   "cell_type": "code",
   "execution_count": 3,
   "metadata": {},
   "outputs": [
    {
     "name": "stdout",
     "output_type": "stream",
     "text": [
      "['Young Adult, Fiction, Dystopia, Fantasy, Science Fiction, Romance, Adventure, Teen, Post Apocalyptic, Action']\n",
      "<class 'list'>\n",
      "<class 'str'>\n"
     ]
    }
   ],
   "source": [
    "rdd = sc.parallelize(data).map(lambda genres: genres[0])\n",
    "print(rdd.take(1))\n",
    "print(type(rdd.take(1)))\n",
    "print(type(rdd.take(1)[0]))"
   ]
  },
  {
   "cell_type": "code",
   "execution_count": 4,
   "metadata": {},
   "outputs": [
    {
     "name": "stdout",
     "output_type": "stream",
     "text": [
      "[('Young Adult', 'Fiction', 'Dystopia', 'Fantasy', 'Science Fiction', 'Romance', 'Adventure', 'Teen', 'Post Apocalyptic', 'Action')]\n",
      "52478\n"
     ]
    }
   ],
   "source": [
    "rdd1 = rdd.map(lambda line: tuple(line.split(\", \")))\n",
    "print(rdd1.take(1))\n",
    "print(rdd1.count())"
   ]
  },
  {
   "cell_type": "code",
   "execution_count": 5,
   "metadata": {},
   "outputs": [
    {
     "name": "stdout",
     "output_type": "stream",
     "text": [
      "['Young Adult', 'Fiction', 'Dystopia', 'Fantasy', 'Science Fiction']\n",
      "412341\n"
     ]
    }
   ],
   "source": [
    "rdd2 = rdd1.flatMap(lambda x: x)\n",
    "print(rdd2.take(5))\n",
    "print(rdd2.count())"
   ]
  },
  {
   "cell_type": "code",
   "execution_count": 17,
   "metadata": {},
   "outputs": [
    {
     "name": "stdout",
     "output_type": "stream",
     "text": [
      "total genres: 983\n"
     ]
    }
   ],
   "source": [
    "genre_set = set({})\n",
    "\n",
    "for i, value in enumerate(rdd2.collect()):\n",
    "    genre_set.add(value)\n",
    "\n",
    "print(\"total genres:\",len(genre_set))"
   ]
  },
  {
   "cell_type": "code",
   "execution_count": 16,
   "metadata": {},
   "outputs": [
    {
     "name": "stdout",
     "output_type": "stream",
     "text": [
      "total genres: 983\n",
      "('Young Adult', 11869)\n",
      "('Fiction', 31638)\n",
      "('Dystopia', 1692)\n",
      "('Fantasy', 15046)\n",
      "('Science Fiction', 5374)\n"
     ]
    }
   ],
   "source": [
    "genre_dic = {}\n",
    "\n",
    "for i, value in enumerate(rdd2.collect()):\n",
    "    if value in genre_dic:\n",
    "        genre_dic[value] += 1\n",
    "    else:\n",
    "        genre_dic[value] = 1\n",
    "\n",
    "print(\"total genres:\",len(genre_dic))\n",
    "it = zip(genre_dic.keys(), genre_dic.values())\n",
    "print(next(it))\n",
    "print(next(it))\n",
    "print(next(it))\n",
    "print(next(it))\n",
    "print(next(it))"
   ]
  },
  {
   "cell_type": "markdown",
   "metadata": {},
   "source": [
    "## contruct matrix for content-based recommendation"
   ]
  },
  {
   "cell_type": "code",
   "execution_count": 18,
   "metadata": {},
   "outputs": [],
   "source": [
    "#\n",
    "#"
   ]
  },
  {
   "cell_type": "code",
   "execution_count": 22,
   "metadata": {},
   "outputs": [],
   "source": [
    "genres_list = (data[\"genres\"].iloc[:].tolist())"
   ]
  },
  {
   "cell_type": "code",
   "execution_count": 20,
   "metadata": {},
   "outputs": [
    {
     "name": "stdout",
     "output_type": "stream",
     "text": [
      "[]\n"
     ]
    }
   ],
   "source": [
    "import sqlite3\n",
    "conn = sqlite3.connect(\"Books.db\")\n",
    "cur = conn.cursor()\n",
    "cur.execute(\"SELECT title FROM Korean_book WHERE rowid=24416\")\n",
    "data = cur.fetchall()\n",
    "print(data)\n",
    "conn.commit()\n",
    "conn.close()"
   ]
  },
  {
   "cell_type": "code",
   "execution_count": 23,
   "metadata": {},
   "outputs": [
    {
     "name": "stdout",
     "output_type": "stream",
     "text": [
      "0.01590846210843544\n",
      "0.0\n",
      "0.04466970555754857\n",
      "0.10099833641376377\n"
     ]
    }
   ],
   "source": [
    "import numpy as np\n",
    "x = np.array([10,0,1,1])\n",
    "y = np.array([9,1,0,0])\n",
    "z = np.array([3,0,1,1])\n",
    "from scipy.spatial import distance\n",
    "print(distance.cosine(x, y))\n",
    "print(distance.cosine(x, x))\n",
    "print(distance.cosine(x, z))\n",
    "print(distance.cosine(y, z))"
   ]
  },
  {
   "cell_type": "code",
   "execution_count": 28,
   "metadata": {},
   "outputs": [
    {
     "name": "stdout",
     "output_type": "stream",
     "text": [
      "0.9840915378915646\n",
      "0.9553302944424514\n"
     ]
    }
   ],
   "source": [
    "import math\n",
    "def consine_similarity(x, y):\n",
    "    return x.dot(y)/(np.sqrt((x**2).sum())*np.sqrt((y**2).sum()))\n",
    "\n",
    "print(consine_similarity(x,y))\n",
    "print(consine_similarity(x,z))\n",
    "# print(consine_similarity(y,z))\n"
   ]
  },
  {
   "cell_type": "code",
   "execution_count": 13,
   "metadata": {},
   "outputs": [
    {
     "name": "stdout",
     "output_type": "stream",
     "text": [
      "52478\n",
      "bookId                                       2767052-the-hunger-games\n",
      "title                                                The Hunger Games\n",
      "series                                            The Hunger Games #1\n",
      "author                                                Suzanne Collins\n",
      "rating                                                           4.33\n",
      "description         WINNING MEANS FAME AND FORTUNE.LOSING MEANS CE...\n",
      "language                                                      English\n",
      "isbn                                                    9780439023481\n",
      "genres              ['Young Adult', 'Fiction', 'Dystopia', 'Fantas...\n",
      "characters          ['Katniss Everdeen', 'Peeta Mellark', 'Cato (H...\n",
      "bookFormat                                                  Hardcover\n",
      "edition                                                 First Edition\n",
      "pages                                                             374\n",
      "publisher                                            Scholastic Press\n",
      "publishDate                                                  09/14/08\n",
      "firstPublishDate                                                  NaN\n",
      "awards              ['Locus Award Nominee for Best Young Adult Boo...\n",
      "numRatings                                                    6376780\n",
      "ratingsByStars      ['3444695', '1921313', '745221', '171994', '93...\n",
      "likedPercent                                                       96\n",
      "setting             ['District 12, Panem', 'Capitol, Panem', 'Pane...\n",
      "coverImg            https://i.gr-assets.com/images/S/compressed.ph...\n",
      "bbeScore                                                      2993816\n",
      "bbeVotes                                                        30516\n",
      "price                                                            5.09\n",
      "Name: 0, dtype: object\n",
      "https://i.gr-assets.com/images/S/compressed.photo.goodreads.com/books/1586722975l/2767052.jpg\n",
      "WINNING MEANS FAME AND FORTUNE.LOSING MEANS CERTAIN DEATH.THE HUNGER GAMES HAVE BEGUN. . . .In the ruins of a place once known as North America lies the nation of Panem, a shining Capitol surrounded by twelve outlying districts. The Capitol is harsh and cruel and keeps the districts in line by forcing them all to send one boy and once girl between the ages of twelve and eighteen to participate in the annual Hunger Games, a fight to the death on live TV.Sixteen-year-old Katniss Everdeen regards it as a death sentence when she steps forward to take her sister's place in the Games. But Katniss has been close to dead before—and survival, for her, is second nature. Without really meaning to, she becomes a contender. But if she is to win, she will have to start making choices that weight survival against humanity and life against love.\n"
     ]
    }
   ],
   "source": [
    "import pandas as pd\n",
    "\n",
    "data = pd.read_csv(\"./data/foreign-books.csv\")\n",
    "title = data[\"title\"].iloc[0]\n",
    "\n",
    "print(len(data))\n",
    "print(data.iloc[0])\n",
    "print(data[\"coverImg\"].iloc[0])\n",
    "print(data[\"description\"].iloc[0])"
   ]
  },
  {
   "cell_type": "code",
   "execution_count": 6,
   "metadata": {},
   "outputs": [
    {
     "name": "stdout",
     "output_type": "stream",
     "text": [
      "The Hunger Games\n",
      "Young Adult, Fiction, Dystopia, Fantasy, Science Fiction, Romance, Adventure, Teen, Post Apocalyptic, Action\n",
      "Suzanne Collins\n",
      "4.33\n",
      "Scholastic Press\n",
      "09/14/08\n",
      "374\n",
      "English\n",
      "WINNING MEANS FAME AND FORTUNE.LOSING MEANS CERTAIN DEATH.THE HUNGER GAMES HAVE BEGUN. . . .In the ruins of a place once known as North America lies the nation of Panem, a shining Capitol surrounded by twelve outlying districts. The Capitol is harsh and cruel and keeps the districts in line by forcing them all to send one boy and once girl between the ages of twelve and eighteen to participate in the annual Hunger Games, a fight to the death on live TV.Sixteen-year-old Katniss Everdeen regards it as a death sentence when she steps forward to take her sister's place in the Games. But Katniss has been close to dead before—and survival, for her, is second nature. Without really meaning to, she becomes a contender. But if she is to win, she will have to start making choices that weight survival against humanity and life against love.\n",
      "https://i.gr-assets.com/images/S/compressed.photo.goodreads.com/books/1586722975l/2767052.jpg\n",
      "52478\n"
     ]
    }
   ],
   "source": [
    "import pandas as pd\n",
    "data = pd.read_csv(\"./data/foreign-books.csv\")\n",
    "title = data[\"title\"].iloc[0]\n",
    "genres = data[\"genres\"].iloc[0].replace(\"[\",\"\").replace(\"]\",\"\").replace(\"\\'\",\"\")\n",
    "author = data[\"author\"].iloc[0]\n",
    "rating = data[\"rating\"].iloc[0]\n",
    "publisher = data[\"publisher\"].iloc[0]\n",
    "p_date = data[\"publishDate\"].iloc[0]\n",
    "pages = data[\"pages\"].iloc[0]\n",
    "language = data[\"language\"].iloc[0]\n",
    "description = data[\"description\"][0]\n",
    "imgUrl = data[\"coverImg\"][0]\n",
    "\n",
    "print(title)\n",
    "print(genres)\n",
    "print(author)\n",
    "print(rating)\n",
    "print(publisher)\n",
    "print(p_date)\n",
    "print(pages)\n",
    "print(language)\n",
    "print(description)\n",
    "print(imgUrl)\n",
    "print(len(data))"
   ]
  }
 ],
 "metadata": {
  "kernelspec": {
   "display_name": "Python 3.6.9 64-bit",
   "language": "python",
   "name": "python3"
  },
  "language_info": {
   "codemirror_mode": {
    "name": "ipython",
    "version": 3
   },
   "file_extension": ".py",
   "mimetype": "text/x-python",
   "name": "python",
   "nbconvert_exporter": "python",
   "pygments_lexer": "ipython3",
   "version": "3.6.9"
  },
  "orig_nbformat": 4,
  "vscode": {
   "interpreter": {
    "hash": "31f2aee4e71d21fbe5cf8b01ff0e069b9275f58929596ceb00d14d90e3e16cd6"
   }
  }
 },
 "nbformat": 4,
 "nbformat_minor": 2
}
