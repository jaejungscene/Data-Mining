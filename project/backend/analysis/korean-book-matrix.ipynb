{
 "cells": [
  {
   "cell_type": "code",
   "execution_count": 62,
   "metadata": {},
   "outputs": [],
   "source": [
    "KOR_MAX_LEN_n_2 = 72\n",
    "FOR_MAX_LEN_n_2 = 82\n",
    "\n",
    "def k_gram_hash(text, n, where):\n",
    "    result = []\n",
    "    if len(text) > n:\n",
    "        for i in range(len(text)):\n",
    "            if i+n > len(text):\n",
    "                break\n",
    "            result.append(hash(text[i:i+n]))\n",
    "    else:\n",
    "        result.append(hash(text))\n",
    "    # if where == \"korean\":\n",
    "    #     result = result + [0.0 for _ in range(KOR_MAX_LEN_n_2 - len(result))]\n",
    "    # else:\n",
    "    #     result = result + [0.0 for _ in range(FOR_MAX_LEN_n_2 - len(result))]\n",
    "    return result"
   ]
  },
  {
   "cell_type": "markdown",
   "metadata": {},
   "source": [
    "# make korean book matrix"
   ]
  },
  {
   "cell_type": "markdown",
   "metadata": {},
   "source": [
    "## title vector(not ncessary)"
   ]
  },
  {
   "cell_type": "code",
   "execution_count": 48,
   "metadata": {},
   "outputs": [
    {
     "name": "stdout",
     "output_type": "stream",
     "text": [
      "44019\n",
      "43677\n"
     ]
    }
   ],
   "source": [
    "## title의 연관성은 속도를 너무 늦춰 profile vector에서 제외\n",
    "import sqlite3\n",
    "con = sqlite3.connect(\"../Books.db\")\n",
    "cur = con.cursor()\n",
    "cur.execute(\"SELECT title FROM Korean_book\")\n",
    "titles = cur.fetchall()\n",
    "print(len(titles))\n",
    "\n",
    "S = set()\n",
    "\n",
    "# hashing 값이 겹치는 title값이 존재\n",
    "for i, title in enumerate(titles):\n",
    "    S.add(hash(title[0]))\n",
    "print(len(S))\n",
    "\n",
    "cur.close()\n",
    "con.close()"
   ]
  },
  {
   "cell_type": "code",
   "execution_count": 49,
   "metadata": {},
   "outputs": [
    {
     "name": "stdout",
     "output_type": "stream",
     "text": [
      "title len: 44019\n",
      "max: 73\n"
     ]
    }
   ],
   "source": [
    "## window 2로 shingling 했을 때 최대값 == 73\n",
    "# from k_gram import k_gram_hash\n",
    "import sqlite3\n",
    "con = sqlite3.connect(\"../Books.db\")\n",
    "cur = con.cursor()\n",
    "cur.execute(\"SELECT title FROM Korean_book\")\n",
    "titles = cur.fetchall()\n",
    "print(\"title len:\",len(titles))\n",
    "\n",
    "window = 2\n",
    "max = 0\n",
    "for i, title in enumerate(titles):\n",
    "    result = k_gram_hash(title[0], window, \"korean\")\n",
    "    if max < len(result):\n",
    "        max = len(result)\n",
    "\n",
    "print(\"max:\",max)\n",
    "\n",
    "cur.close()\n",
    "con.close()"
   ]
  },
  {
   "cell_type": "code",
   "execution_count": 50,
   "metadata": {},
   "outputs": [
    {
     "name": "stdout",
     "output_type": "stream",
     "text": [
      "title len: 44019\n",
      "max: 72\n"
     ]
    }
   ],
   "source": [
    "## window 2로 shingling 했을 때 최대값 == 73\n",
    "# from k_gram import k_gram_hash\n",
    "import sqlite3\n",
    "con = sqlite3.connect(\"../Books.db\")\n",
    "cur = con.cursor()\n",
    "cur.execute(\"SELECT title FROM Korean_book\")\n",
    "titles = cur.fetchall()\n",
    "print(\"title len:\",len(titles))\n",
    "\n",
    "window = 3\n",
    "max = 0\n",
    "for i, title in enumerate(titles):\n",
    "    result = k_gram_hash(title[0], window, \"korean\")\n",
    "    if max < len(result):\n",
    "        max = len(result)\n",
    "\n",
    "print(\"max:\",max)\n",
    "\n",
    "cur.close()\n",
    "con.close()"
   ]
  },
  {
   "cell_type": "code",
   "execution_count": 54,
   "metadata": {},
   "outputs": [
    {
     "name": "stdout",
     "output_type": "stream",
     "text": [
      "title len: 44019\n",
      "43677\n"
     ]
    }
   ],
   "source": [
    "# from k_gram import k_gram_hash\n",
    "import sqlite3\n",
    "con = sqlite3.connect(\"../Books.db\")\n",
    "cur = con.cursor()\n",
    "cur.execute(\"SELECT title FROM Korean_book\")\n",
    "titles = cur.fetchall()\n",
    "print(\"title len:\",len(titles))\n",
    "\n",
    "window = 3\n",
    "S = set()\n",
    "\n",
    "# hashing 값이 겹치는 title값이 존재\n",
    "for i, title in enumerate(titles):\n",
    "    S.add(tuple(k_gram_hash(title[0], window, \"korean\")))\n",
    "print(len(S))\n",
    "\n",
    "cur.close()\n",
    "con.close()"
   ]
  },
  {
   "cell_type": "markdown",
   "metadata": {},
   "source": [
    "## author"
   ]
  },
  {
   "cell_type": "code",
   "execution_count": 42,
   "metadata": {},
   "outputs": [
    {
     "name": "stdout",
     "output_type": "stream",
     "text": [
      "43954\n",
      "hashing 전 28511\n",
      "hashing 후 28511\n"
     ]
    }
   ],
   "source": [
    "## 변함 없음\n",
    "import sqlite3\n",
    "con = sqlite3.connect(\"../Books.db\")\n",
    "cur = con.cursor()\n",
    "cur.execute(\"SELECT author FROM Korean_book\")\n",
    "author = cur.fetchall()\n",
    "print(len(author))\n",
    "\n",
    "S = set()\n",
    "for i, author in enumerate(author):\n",
    "    S.add((author[0]))\n",
    "print(\"hashing 전\",len(S))\n",
    "\n",
    "\n",
    "cur.execute(\"SELECT author FROM Korean_book\")\n",
    "author = cur.fetchall()\n",
    "S = set()\n",
    "for i, author in enumerate(author):\n",
    "    S.add(hash(author[0]))\n",
    "print(\"hashing 후\",len(S))\n",
    "\n",
    "cur.close()\n",
    "con.close()"
   ]
  },
  {
   "cell_type": "code",
   "execution_count": 43,
   "metadata": {},
   "outputs": [
    {
     "name": "stdout",
     "output_type": "stream",
     "text": [
      "김훈\n",
      "-3266072922087748418\n",
      "9131436933363082112\n",
      "[-3266072922087748418, 9131436933363082112, -5120780271224788902, -5120780271224788902, -1649250777256377040]\n",
      "43954\n"
     ]
    }
   ],
   "source": [
    "import sqlite3\n",
    "con = sqlite3.connect(\"../Books.db\")\n",
    "cur = con.cursor()\n",
    "cur.execute(\"SELECT author FROM Korean_book\")\n",
    "authors = cur.fetchall()\n",
    "print(authors[0][0])\n",
    "print(hash(authors[0][0]))\n",
    "print(hash(authors[1][0]))\n",
    "\n",
    "author_list = []\n",
    "for author in authors:\n",
    "    author_list.append(hash(author[0]))\n",
    "print(author_list[0:5])\n",
    "print(len(author_list))"
   ]
  },
  {
   "cell_type": "markdown",
   "metadata": {},
   "source": [
    "## publisher"
   ]
  },
  {
   "cell_type": "code",
   "execution_count": 44,
   "metadata": {},
   "outputs": [
    {
     "name": "stdout",
     "output_type": "stream",
     "text": [
      "43954\n",
      "hashing 전 5777\n",
      "hashing 후 5777\n"
     ]
    }
   ],
   "source": [
    "## 변함 없음\n",
    "import sqlite3\n",
    "con = sqlite3.connect(\"../Books.db\")\n",
    "cur = con.cursor()\n",
    "cur.execute(\"SELECT publisher FROM Korean_book\")\n",
    "publisher = cur.fetchall()\n",
    "print(len(publisher))\n",
    "\n",
    "\n",
    "S = set()\n",
    "for i, publisher in enumerate(publisher):\n",
    "    S.add((publisher[0]))\n",
    "print(\"hashing 전\",len(S))\n",
    "\n",
    "\n",
    "cur.execute(\"SELECT publisher FROM Korean_book\")\n",
    "publisher = cur.fetchall()\n",
    "S = set()\n",
    "for i, publisher in enumerate(publisher):\n",
    "    S.add((publisher[0]))\n",
    "print(\"hashing 후\",len(S))\n",
    "\n",
    "\n",
    "cur.close()\n",
    "con.close()"
   ]
  },
  {
   "cell_type": "code",
   "execution_count": 45,
   "metadata": {},
   "outputs": [
    {
     "name": "stdout",
     "output_type": "stream",
     "text": [
      "43954\n",
      "-1906457553807237985\n",
      "-1457571378354832108\n",
      "[-1906457553807237985, -1457571378354832108]\n",
      "43954\n"
     ]
    }
   ],
   "source": [
    "import sqlite3\n",
    "con = sqlite3.connect(\"../Books.db\")\n",
    "cur = con.cursor()\n",
    "cur.execute(\"SELECT publisher FROM Korean_book\")\n",
    "publishers = cur.fetchall()\n",
    "print(len(publishers))\n",
    "print(hash(publishers[0][0]))\n",
    "print(hash(publishers[1][0]))\n",
    "\n",
    "publisher_list = []\n",
    "for publisher in publishers:\n",
    "    publisher_list.append(hash(publisher[0]))\n",
    "print(publisher_list[:2])\n",
    "print(len(publisher_list))"
   ]
  },
  {
   "cell_type": "markdown",
   "metadata": {},
   "source": [
    "## rating"
   ]
  },
  {
   "cell_type": "code",
   "execution_count": 46,
   "metadata": {},
   "outputs": [
    {
     "name": "stdout",
     "output_type": "stream",
     "text": [
      "43954\n",
      "975\n",
      "992\n",
      "969\n",
      "[975, 992, 969, 981]\n",
      "43954\n"
     ]
    }
   ],
   "source": [
    "import sqlite3\n",
    "con = sqlite3.connect(\"../Books.db\")\n",
    "cur = con.cursor()\n",
    "cur.execute(\"SELECT rating FROM Korean_book\")\n",
    "ratings = cur.fetchall()\n",
    "print(len(ratings))\n",
    "print(int(100*(ratings[0][0])))\n",
    "print(int(100*(ratings[1][0])))\n",
    "print(int(100*(ratings[2][0])))\n",
    "\n",
    "rating_list = []\n",
    "for rating in ratings:\n",
    "    if rating[0] == None:\n",
    "        rating_list.append(0)\n",
    "    else:\n",
    "        rating_list.append(int(100*(rating[0])))\n",
    "print(rating_list[:4])\n",
    "print(len(rating_list))"
   ]
  },
  {
   "cell_type": "markdown",
   "metadata": {},
   "source": [
    "## page"
   ]
  },
  {
   "cell_type": "code",
   "execution_count": 47,
   "metadata": {},
   "outputs": [
    {
     "name": "stdout",
     "output_type": "stream",
     "text": [
      "43954\n",
      "308\n",
      "268\n",
      "320\n",
      "\n",
      "[308, 268, 320]\n",
      "43954\n"
     ]
    }
   ],
   "source": [
    "import sqlite3\n",
    "con = sqlite3.connect(\"../Books.db\")\n",
    "cur = con.cursor()\n",
    "cur.execute(\"SELECT pages,id FROM Korean_book\")\n",
    "pages = cur.fetchall()\n",
    "print(len(pages))\n",
    "print(pages[0][0])\n",
    "print(pages[1][0])\n",
    "print(pages[2][0])\n",
    "print()\n",
    "\n",
    "page_list = []\n",
    "for i, page in enumerate(pages):\n",
    "    if page[0] == None:\n",
    "        page_list.append(0)\n",
    "    else:\n",
    "        page_list.append(page[0])\n",
    "print(page_list[:3])\n",
    "print(len(page_list))"
   ]
  },
  {
   "cell_type": "markdown",
   "metadata": {},
   "source": [
    "## id"
   ]
  },
  {
   "cell_type": "code",
   "execution_count": 48,
   "metadata": {},
   "outputs": [
    {
     "name": "stdout",
     "output_type": "stream",
     "text": [
      "43954\n",
      "0\n",
      "1\n",
      "2\n",
      "\n",
      "[0, 1, 2]\n",
      "43954\n"
     ]
    }
   ],
   "source": [
    "import sqlite3\n",
    "con = sqlite3.connect(\"../Books.db\")\n",
    "cur = con.cursor()\n",
    "cur.execute(\"SELECT id FROM Korean_book\")\n",
    "ids = cur.fetchall()\n",
    "print(len(ids))\n",
    "print(ids[0][0])\n",
    "print(ids[1][0])\n",
    "print(ids[2][0])\n",
    "print()\n",
    "\n",
    "id_list = []\n",
    "for i, id in enumerate(ids):\n",
    "    if id[0] == None:\n",
    "        id_list.append(0)\n",
    "    else:\n",
    "        id_list.append(id[0])\n",
    "print(id_list[:3])\n",
    "print(len(id_list))"
   ]
  },
  {
   "cell_type": "markdown",
   "metadata": {},
   "source": [
    "## genre"
   ]
  },
  {
   "cell_type": "code",
   "execution_count": 11,
   "metadata": {},
   "outputs": [
    {
     "name": "stdout",
     "output_type": "stream",
     "text": [
      "<class 'str'>\n",
      "2856\n"
     ]
    }
   ],
   "source": [
    "with open(\"../data/korean-all-genres.txt\", \"rb\") as f:\n",
    "    all_genres = f.read().decode(\"utf-8\")\n",
    "\n",
    "print(type(all_genres))\n",
    "all_genres = all_genres.split(\"\\n\")\n",
    "print(len(all_genres))"
   ]
  },
  {
   "cell_type": "code",
   "execution_count": 12,
   "metadata": {},
   "outputs": [
    {
     "name": "stdout",
     "output_type": "stream",
     "text": [
      "2855\n",
      "인식론\n"
     ]
    }
   ],
   "source": [
    "all_genres.remove(\"\")\n",
    "print(len(all_genres))\n",
    "print(all_genres[-1])"
   ]
  },
  {
   "cell_type": "code",
   "execution_count": 13,
   "metadata": {},
   "outputs": [
    {
     "name": "stdout",
     "output_type": "stream",
     "text": [
      "<class 'int'>\n"
     ]
    }
   ],
   "source": [
    "print(type(author_list[0]))"
   ]
  },
  {
   "cell_type": "code",
   "execution_count": 14,
   "metadata": {},
   "outputs": [
    {
     "name": "stdout",
     "output_type": "stream",
     "text": [
      "(43954, 2855)\n"
     ]
    }
   ],
   "source": [
    "import sqlite3\n",
    "import numpy as np\n",
    "con = sqlite3.connect(\"../Books.db\")\n",
    "cur = con.cursor()\n",
    "cur.execute(\"SELECT genres FROM Korean_book\")\n",
    "genres = cur.fetchall()\n",
    "\n",
    "genre_list = []\n",
    "for genre in genres:\n",
    "    binary = [0 for _ in range(len(all_genres))]\n",
    "    genre = genre[0].split(\",\")\n",
    "    for i,g in enumerate(all_genres):\n",
    "        if g in genre:\n",
    "            binary[i] = 1\n",
    "    genre_list.append(binary)\n",
    "print(np.array(genre_list).shape)"
   ]
  },
  {
   "cell_type": "code",
   "execution_count": 15,
   "metadata": {},
   "outputs": [
    {
     "name": "stdout",
     "output_type": "stream",
     "text": [
      "['국내도서', '소설', '한국소설', '역사/대하소설', '장르소설', '역사소설']\n",
      "5\n",
      "5\n",
      "\n",
      "['국내도서', '예술/대중문화', '디자인/색채', '디자인', '디자인이론']\n",
      "4\n",
      "4\n"
     ]
    }
   ],
   "source": [
    "import sqlite3\n",
    "import numpy as np\n",
    "con = sqlite3.connect(\"../Books.db\")\n",
    "cur = con.cursor()\n",
    "cur.execute(\"SELECT genres FROM Korean_book\")\n",
    "genres = cur.fetchall()\n",
    "print(genres[0][0].split(\",\"))\n",
    "print(len(genres[0][0].split(\",\"))-1)\n",
    "print(np.array(genre_list[0]).sum())\n",
    "print()\n",
    "print(genres[23022][0].split(\",\"))\n",
    "print(len(genres[23022][0].split(\",\"))-1)\n",
    "print(np.array(genre_list[23022]).sum())"
   ]
  },
  {
   "cell_type": "code",
   "execution_count": 17,
   "metadata": {},
   "outputs": [
    {
     "name": "stdout",
     "output_type": "stream",
     "text": [
      "(43954, 6)\n"
     ]
    }
   ],
   "source": [
    "korbook = pd.DataFrame({\n",
    "    \"id\":id_list,\n",
    "    \"genre\":genre_list,\n",
    "    \"rating\": rating_list,\n",
    "    \"page\": page_list,\n",
    "    \"author\":author_list,\n",
    "    \"publisher\": publisher_list\n",
    "})\n",
    "print(korbook.shape)"
   ]
  },
  {
   "cell_type": "code",
   "execution_count": 18,
   "metadata": {},
   "outputs": [],
   "source": [
    "korbook.to_csv(\"../data/KorBookDataFrame.csv\")"
   ]
  },
  {
   "cell_type": "code",
   "execution_count": 20,
   "metadata": {},
   "outputs": [
    {
     "name": "stdout",
     "output_type": "stream",
     "text": [
      "(43954, 2855)\n"
     ]
    }
   ],
   "source": [
    "import numpy as np\n",
    "genre_numpy = np.array(genre_list)\n",
    "print(genre_numpy.shape)"
   ]
  },
  {
   "cell_type": "code",
   "execution_count": 49,
   "metadata": {},
   "outputs": [
    {
     "name": "stdout",
     "output_type": "stream",
     "text": [
      "(1, 43954)\n",
      "(1, 43954)\n",
      "(1, 43954)\n",
      "(1, 43954)\n",
      "(1, 43954)\n"
     ]
    }
   ],
   "source": [
    "id_numpy = np.array([id_list])\n",
    "print(id_numpy.shape)\n",
    "rating_numpy = np.array([rating_list])\n",
    "print(rating_numpy.shape)\n",
    "page_numpy = np.array([page_list])\n",
    "print(page_numpy.shape)\n",
    "author_numpy = np.array([author_list])\n",
    "print(author_numpy.shape)\n",
    "publisher_numpy = np.array([publisher_list])\n",
    "print(publisher_numpy.shape)"
   ]
  },
  {
   "cell_type": "code",
   "execution_count": null,
   "metadata": {},
   "outputs": [],
   "source": [
    "korBookMatrix = np.concatenate((\n",
    "    id_numpy.T,\n",
    "    genre_numpy,\n",
    "    rating_numpy.T,\n",
    "    page_numpy.T,\n",
    "    author_numpy.T,\n",
    "    publisher_numpy.T\n",
    "), axis=1)"
   ]
  },
  {
   "cell_type": "code",
   "execution_count": 56,
   "metadata": {},
   "outputs": [
    {
     "name": "stdout",
     "output_type": "stream",
     "text": [
      "(43954, 2860)\n"
     ]
    }
   ],
   "source": [
    "print(korBookMatrix.shape)"
   ]
  },
  {
   "cell_type": "code",
   "execution_count": 55,
   "metadata": {},
   "outputs": [],
   "source": [
    "np.savetxt(\"../data/KorBookMatrix.csv\", korBookMatrix, delimiter=\",\")"
   ]
  },
  {
   "cell_type": "code",
   "execution_count": 38,
   "metadata": {},
   "outputs": [],
   "source": [
    "from numpy import genfromtxt\n",
    "korBookMatrix = genfromtxt(\"../data/KorBookMatrix.csv\", delimiter=\",\")"
   ]
  },
  {
   "cell_type": "code",
   "execution_count": 54,
   "metadata": {},
   "outputs": [
    {
     "name": "stdout",
     "output_type": "stream",
     "text": [
      "12.0\n",
      "5.0\n",
      "975.0\n",
      "308.0\n",
      "author: -3.2660729220877486e+18\n",
      "-3266072922087748418\n",
      "-1.906457553807238e+18\n",
      "-1906457553807237985\n"
     ]
    }
   ],
   "source": [
    "print(korBookMatrix[10,0])\n",
    "print(korBookMatrix[0,1:2856].sum())\n",
    "print(korBookMatrix[0,2856])\n",
    "print(korBookMatrix[0,2857])\n",
    "print(\"author:\",korBookMatrix[0,2858])\n",
    "print(hash((\"김훈\")))\n",
    "print(korBookMatrix[0,2859])\n",
    "print(hash((\"문학동네\")))"
   ]
  },
  {
   "cell_type": "code",
   "execution_count": null,
   "metadata": {},
   "outputs": [],
   "source": [
    "import pickle\n",
    "with open(\"korBookMatrix.pkl\", \"wb\") as f:\n",
    "    pickle.dump(korBookMatrix, f)"
   ]
  }
 ],
 "metadata": {
  "kernelspec": {
   "display_name": "Python 3.6.9 64-bit",
   "language": "python",
   "name": "python3"
  },
  "language_info": {
   "codemirror_mode": {
    "name": "ipython",
    "version": 3
   },
   "file_extension": ".py",
   "mimetype": "text/x-python",
   "name": "python",
   "nbconvert_exporter": "python",
   "pygments_lexer": "ipython3",
   "version": "3.6.9"
  },
  "orig_nbformat": 4,
  "vscode": {
   "interpreter": {
    "hash": "31f2aee4e71d21fbe5cf8b01ff0e069b9275f58929596ceb00d14d90e3e16cd6"
   }
  }
 },
 "nbformat": 4,
 "nbformat_minor": 2
}
