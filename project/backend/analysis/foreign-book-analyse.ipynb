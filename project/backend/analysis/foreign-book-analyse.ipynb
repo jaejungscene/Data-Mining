{
 "cells": [
  {
   "cell_type": "code",
   "execution_count": 1,
   "metadata": {},
   "outputs": [
    {
     "name": "stderr",
     "output_type": "stream",
     "text": [
      "/home/ljj0512/.local/lib/python3.6/site-packages/pyspark/context.py:238: FutureWarning: Python 3.6 support is deprecated in Spark 3.2.\n",
      "  FutureWarning\n"
     ]
    }
   ],
   "source": [
    "from pyspark.sql import *\n",
    "from pyspark.sql.functions import *\n",
    "from pyspark import SparkContext\n",
    "\n",
    "# create the Spark Session\n",
    "spark = SparkSession.builder.appName(\"spark\").getOrCreate()\n",
    "\n",
    "# create the Spark Context\n",
    "sc = spark.sparkContext"
   ]
  },
  {
   "cell_type": "code",
   "execution_count": 3,
   "metadata": {},
   "outputs": [
    {
     "name": "stdout",
     "output_type": "stream",
     "text": [
      "(47835, 987)\n",
      "982\n"
     ]
    }
   ],
   "source": [
    "####################################\n",
    "# [0] = book unique id -> 1\n",
    "# [1:983] = genre vector -> 982\n",
    "# [983] = rating -> 1\n",
    "# [984] = page -> 1\n",
    "# [985] = author -> 1\n",
    "# [986] = publisher -> 1\n",
    "# 하나의 book profile 크기 = 987\n",
    "####################################\n",
    "import time\n",
    "import pickle\n",
    "with open(\"../data/ForBookMatrix.pkl\", \"rb\") as f:\n",
    "    ForBookMatrix = pickle.load(f)\n",
    "print(ForBookMatrix.shape)\n",
    "\n",
    "import numpy as np\n",
    "with open(f\"../data/foreign-all-genres-dic.pkl\", \"rb\") as f:\n",
    "    genres_dic = pickle.load(f)\n",
    "print(len(genres_dic))"
   ]
  },
  {
   "cell_type": "markdown",
   "metadata": {},
   "source": [
    "# genre만 받았을 경우"
   ]
  },
  {
   "cell_type": "code",
   "execution_count": 13,
   "metadata": {},
   "outputs": [
    {
     "name": "stdout",
     "output_type": "stream",
     "text": [
      "1\n",
      "2\n",
      "3\n",
      "4\n",
      "13\n",
      "17\n",
      "35\n",
      "57\n"
     ]
    }
   ],
   "source": [
    "genres = [\"Young Adult\", \"Fiction\", \"Dystopia\", \"Fantasy\", \"Science Fiction\", \"Romance\", \"Adventure\", \"Teen\"]\n",
    "\n",
    "# 0을 남겨둠\n",
    "userProfile = np.zeros((1,len(genres_dic)+1))\n",
    "for genre in genres:\n",
    "    userProfile[0,genres_dic[genre]] = 1.\n",
    "\n",
    "for i in range(len(userProfile[0])):\n",
    "    if userProfile[0,i] == 1.0:\n",
    "        print(i)"
   ]
  },
  {
   "cell_type": "markdown",
   "metadata": {},
   "source": [
    "### 일반적인 content based search"
   ]
  },
  {
   "cell_type": "code",
   "execution_count": 14,
   "metadata": {},
   "outputs": [],
   "source": [
    "from numpy.linalg import norm\n",
    "\n",
    "def cos_similarity(x :np.array, y :np.array):\n",
    "    return ( (np.dot(x,y))/(norm(x)*norm(y)) )"
   ]
  },
  {
   "cell_type": "code",
   "execution_count": 15,
   "metadata": {},
   "outputs": [],
   "source": [
    "def linear_search(ForBookMatrix, userProfile, topNum):\n",
    "    similarity = map(\n",
    "        lambda bookProfile: \\\n",
    "            (int(bookProfile[0]),cos_similarity(bookProfile[1:983], userProfile[0,1:]))\n",
    "            ,ForBookMatrix)\n",
    "    best = sorted(list(similarity), key=lambda t: -t[1])\n",
    "    return best[:topNum]\n"
   ]
  },
  {
   "cell_type": "code",
   "execution_count": 17,
   "metadata": {},
   "outputs": [
    {
     "name": "stdout",
     "output_type": "stream",
     "text": [
      "[(0, 0.8944271909999159), (21, 0.8944271909999159), (151, 0.8944271909999159), (184, 0.8944271909999159), (221, 0.8944271909999159)]\n",
      "====================================================================================================\n",
      "0.6767556667327881 (second)\n"
     ]
    }
   ],
   "source": [
    "start = time.time()\n",
    "print(linear_search(ForBookMatrix, userProfile, 100)[:5])\n",
    "print(\"=\"*100)\n",
    "print(time.time()-start,\"(second)\")"
   ]
  },
  {
   "cell_type": "code",
   "execution_count": 19,
   "metadata": {},
   "outputs": [
    {
     "name": "stdout",
     "output_type": "stream",
     "text": [
      "iter1| [(31847, 0.25), (45117, 0.25)]\n",
      "iter2| [(8315, 0.4472135954999579), (11355, 0.4472135954999579)]\n",
      "iter3| [(26846, 0.40824829046386296), (38573, 0.40824829046386296)]\n",
      "iter4| [(39420, 0.2886751345948129), (38724, 0.20412414523193154)]\n",
      "iter5| [(11181, 0.3333333333333333), (12297, 0.3333333333333333)]\n",
      "iter6| [(17474, 0.31622776601683794), (21312, 0.31622776601683794)]\n",
      "iter7| [(2374, 0.5773502691896258), (4363, 0.5773502691896258)]\n",
      "iter8| [(25805, 0.33333333333333337), (11727, 0.2886751345948129)]\n",
      "iter9| [(19226, 0.5), (37779, 0.5)]\n",
      "iter10| [(46894, 0.31622776601683794), (29507, 0.2357022603955158)]\n",
      "====================================================================================================\n",
      "0.6068754911422729\n"
     ]
    }
   ],
   "source": [
    "# 평균 타임 계속해서 0.86s 정도 나옴\n",
    "iterNum = 10\n",
    "sizes = np.random.randint(low=1, high=10, size=iterNum)\n",
    "addTime = 0\n",
    "for i, size in enumerate(sizes):\n",
    "    r = np.random.randint(low=1, high=982, size=size)\n",
    "    userProfile = np.zeros((1,len(genres_dic)+1))\n",
    "    userProfile[0,r] = 1.0\n",
    "    start = time.time()\n",
    "    best = linear_search(ForBookMatrix, userProfile, 100)\n",
    "    addTime += time.time()-start\n",
    "    print(f\"iter{i+1}|\",best[:2])\n",
    "\n",
    "print(\"=\"*100)\n",
    "print(addTime/iterNum)"
   ]
  },
  {
   "cell_type": "markdown",
   "metadata": {},
   "source": [
    "### LSH를 통한 content based search"
   ]
  },
  {
   "cell_type": "code",
   "execution_count": null,
   "metadata": {},
   "outputs": [],
   "source": [
    "### 충분히 빠르기 때문에 할 필요가 없음"
   ]
  }
 ],
 "metadata": {
  "kernelspec": {
   "display_name": "Python 3.6.9 64-bit",
   "language": "python",
   "name": "python3"
  },
  "language_info": {
   "codemirror_mode": {
    "name": "ipython",
    "version": 3
   },
   "file_extension": ".py",
   "mimetype": "text/x-python",
   "name": "python",
   "nbconvert_exporter": "python",
   "pygments_lexer": "ipython3",
   "version": "3.6.9"
  },
  "orig_nbformat": 4,
  "vscode": {
   "interpreter": {
    "hash": "31f2aee4e71d21fbe5cf8b01ff0e069b9275f58929596ceb00d14d90e3e16cd6"
   }
  }
 },
 "nbformat": 4,
 "nbformat_minor": 2
}
