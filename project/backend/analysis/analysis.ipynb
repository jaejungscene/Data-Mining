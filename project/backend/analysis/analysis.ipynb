{
 "cells": [
  {
   "cell_type": "code",
   "execution_count": 61,
   "metadata": {},
   "outputs": [
    {
     "name": "stdout",
     "output_type": "stream",
     "text": [
      "44021\n",
      "43679\n"
     ]
    }
   ],
   "source": [
    "import sqlite3\n",
    "con = sqlite3.connect(\"../Books.db\")\n",
    "cur = con.cursor()\n",
    "cur.execute(\"SELECT title FROM Korean_book\")\n",
    "titles = cur.fetchall()\n",
    "print(len(titles))\n",
    "\n",
    "S = set()\n",
    "\n",
    "# hashing 값이 겹치는 title값이 존재\n",
    "for i, title in enumerate(titles):\n",
    "    S.add(hash(title[0]))\n",
    "print(len(S))\n",
    "\n",
    "cur.close()\n",
    "con.close()"
   ]
  },
  {
   "cell_type": "code",
   "execution_count": 77,
   "metadata": {},
   "outputs": [
    {
     "name": "stdout",
     "output_type": "stream",
     "text": [
      "44021\n",
      "82\n"
     ]
    }
   ],
   "source": [
    "## window 2로 shingling 했을 때 최대값 == 82\n",
    "from k_gram import k_gram_hash\n",
    "import sqlite3\n",
    "con = sqlite3.connect(\"../Books.db\")\n",
    "cur = con.cursor()\n",
    "cur.execute(\"SELECT title FROM Korean_book\")\n",
    "titles = cur.fetchall()\n",
    "print(len(titles))\n",
    "\n",
    "window = 2\n",
    "max = 0\n",
    "for i, title in enumerate(titles):\n",
    "    result = k_gram_hash(title[0], window, \"korean\")\n",
    "    if max < len(result):\n",
    "        max = len(result)\n",
    "print(max)\n",
    "\n",
    "cur.close()\n",
    "con.close()"
   ]
  },
  {
   "cell_type": "code",
   "execution_count": 82,
   "metadata": {},
   "outputs": [
    {
     "name": "stdout",
     "output_type": "stream",
     "text": [
      "44021\n"
     ]
    },
    {
     "ename": "TypeError",
     "evalue": "k_gram_hash() takes 2 positional arguments but 3 were given",
     "output_type": "error",
     "traceback": [
      "\u001b[0;31m---------------------------------------------------------------------------\u001b[0m",
      "\u001b[0;31mTypeError\u001b[0m                                 Traceback (most recent call last)",
      "\u001b[0;32m<ipython-input-82-2141fb675663>\u001b[0m in \u001b[0;36m<module>\u001b[0;34m\u001b[0m\n\u001b[1;32m     11\u001b[0m \u001b[0mmax\u001b[0m \u001b[0;34m=\u001b[0m \u001b[0;36m0\u001b[0m\u001b[0;34m\u001b[0m\u001b[0;34m\u001b[0m\u001b[0m\n\u001b[1;32m     12\u001b[0m \u001b[0;32mfor\u001b[0m \u001b[0mi\u001b[0m\u001b[0;34m,\u001b[0m \u001b[0mtitle\u001b[0m \u001b[0;32min\u001b[0m \u001b[0menumerate\u001b[0m\u001b[0;34m(\u001b[0m\u001b[0mtitles\u001b[0m\u001b[0;34m)\u001b[0m\u001b[0;34m:\u001b[0m\u001b[0;34m\u001b[0m\u001b[0;34m\u001b[0m\u001b[0m\n\u001b[0;32m---> 13\u001b[0;31m     \u001b[0mresult\u001b[0m \u001b[0;34m=\u001b[0m \u001b[0mk_gram_hash\u001b[0m\u001b[0;34m(\u001b[0m\u001b[0mtitle\u001b[0m\u001b[0;34m[\u001b[0m\u001b[0;36m0\u001b[0m\u001b[0;34m]\u001b[0m\u001b[0;34m,\u001b[0m \u001b[0mwindow\u001b[0m\u001b[0;34m,\u001b[0m \u001b[0;34m\"korean\"\u001b[0m\u001b[0;34m)\u001b[0m\u001b[0;34m\u001b[0m\u001b[0;34m\u001b[0m\u001b[0m\n\u001b[0m\u001b[1;32m     14\u001b[0m     \u001b[0;32mif\u001b[0m \u001b[0mmax\u001b[0m \u001b[0;34m<\u001b[0m \u001b[0mlen\u001b[0m\u001b[0;34m(\u001b[0m\u001b[0mresult\u001b[0m\u001b[0;34m)\u001b[0m\u001b[0;34m:\u001b[0m\u001b[0;34m\u001b[0m\u001b[0;34m\u001b[0m\u001b[0m\n\u001b[1;32m     15\u001b[0m         \u001b[0mmax\u001b[0m \u001b[0;34m=\u001b[0m \u001b[0mlen\u001b[0m\u001b[0;34m(\u001b[0m\u001b[0mresult\u001b[0m\u001b[0;34m)\u001b[0m\u001b[0;34m\u001b[0m\u001b[0;34m\u001b[0m\u001b[0m\n",
      "\u001b[0;31mTypeError\u001b[0m: k_gram_hash() takes 2 positional arguments but 3 were given"
     ]
    }
   ],
   "source": [
    "## window 2로 shingling 했을 때 최대값 == 82\n",
    "from k_gram import k_gram_hash\n",
    "import sqlite3\n",
    "con = sqlite3.connect(\"../Books.db\")\n",
    "cur = con.cursor()\n",
    "cur.execute(\"SELECT title FROM Korean_book\")\n",
    "titles = cur.fetchall()\n",
    "print(len(titles))\n",
    "\n",
    "window = 3\n",
    "max = 0\n",
    "for i, title in enumerate(titles):\n",
    "    result = k_gram_hash(title[0], window, \"korean\")\n",
    "    if max < len(result):\n",
    "        max = len(result)\n",
    "print(max)\n",
    "\n",
    "cur.close()\n",
    "con.close()"
   ]
  },
  {
   "cell_type": "code",
   "execution_count": 62,
   "metadata": {},
   "outputs": [
    {
     "name": "stdout",
     "output_type": "stream",
     "text": [
      "44021\n",
      "28529\n"
     ]
    }
   ],
   "source": [
    "import sqlite3\n",
    "con = sqlite3.connect(\"../Books.db\")\n",
    "cur = con.cursor()\n",
    "cur.execute(\"SELECT author FROM Korean_book\")\n",
    "author = cur.fetchall()\n",
    "print(len(author))\n",
    "\n",
    "S = set()\n",
    "\n",
    "# hashing 값이 겹치는 author값이 존재\n",
    "for i, author in enumerate(author):\n",
    "    S.add(hash(author[0]))\n",
    "print(len(S))\n",
    "\n",
    "cur.close()\n",
    "con.close()"
   ]
  },
  {
   "cell_type": "code",
   "execution_count": 75,
   "metadata": {},
   "outputs": [
    {
     "name": "stdout",
     "output_type": "stream",
     "text": [
      "44021\n",
      "5786\n"
     ]
    }
   ],
   "source": [
    "import sqlite3\n",
    "con = sqlite3.connect(\"../Books.db\")\n",
    "cur = con.cursor()\n",
    "cur.execute(\"SELECT publisher FROM Korean_book\")\n",
    "author = cur.fetchall()\n",
    "print(len(author))\n",
    "\n",
    "S = set()\n",
    "\n",
    "# hashing 값이 겹치는 publisher값이 존재\n",
    "for i, author in enumerate(author):\n",
    "    S.add(hash(author[0]))\n",
    "print(len(S))\n",
    "\n",
    "cur.close()\n",
    "con.close()"
   ]
  },
  {
   "cell_type": "code",
   "execution_count": 81,
   "metadata": {},
   "outputs": [
    {
     "ename": "TypeError",
     "evalue": "k_gram_hash() takes 2 positional arguments but 3 were given",
     "output_type": "error",
     "traceback": [
      "\u001b[0;31m---------------------------------------------------------------------------\u001b[0m",
      "\u001b[0;31mTypeError\u001b[0m                                 Traceback (most recent call last)",
      "\u001b[0;32m<ipython-input-81-d09a59abfa1e>\u001b[0m in \u001b[0;36m<module>\u001b[0;34m\u001b[0m\n\u001b[1;32m      3\u001b[0m \u001b[0my\u001b[0m \u001b[0;34m=\u001b[0m \u001b[0;34m\"달러구트 꿈 백화점2\"\u001b[0m\u001b[0;34m\u001b[0m\u001b[0;34m\u001b[0m\u001b[0m\n\u001b[1;32m      4\u001b[0m \u001b[0mz\u001b[0m \u001b[0;34m=\u001b[0m \u001b[0;34m\"하얼빈\"\u001b[0m\u001b[0;34m\u001b[0m\u001b[0;34m\u001b[0m\u001b[0m\n\u001b[0;32m----> 5\u001b[0;31m \u001b[0mprint\u001b[0m\u001b[0;34m(\u001b[0m\u001b[0mk_gram_hash\u001b[0m\u001b[0;34m(\u001b[0m\u001b[0mx\u001b[0m\u001b[0;34m,\u001b[0m \u001b[0;36m2\u001b[0m\u001b[0;34m,\u001b[0m \u001b[0;34m\"korean\"\u001b[0m\u001b[0;34m)\u001b[0m\u001b[0;34m)\u001b[0m\u001b[0;34m\u001b[0m\u001b[0;34m\u001b[0m\u001b[0m\n\u001b[0m\u001b[1;32m      6\u001b[0m \u001b[0mprint\u001b[0m\u001b[0;34m(\u001b[0m\u001b[0mlen\u001b[0m\u001b[0;34m(\u001b[0m\u001b[0mk_gram_hash\u001b[0m\u001b[0;34m(\u001b[0m\u001b[0mx\u001b[0m\u001b[0;34m,\u001b[0m \u001b[0;36m2\u001b[0m\u001b[0;34m,\u001b[0m \u001b[0;34m\"korean\"\u001b[0m\u001b[0;34m)\u001b[0m\u001b[0;34m)\u001b[0m\u001b[0;34m)\u001b[0m\u001b[0;34m\u001b[0m\u001b[0;34m\u001b[0m\u001b[0m\n\u001b[1;32m      7\u001b[0m \u001b[0;31m# print(k_gram_hash(y, 2))\u001b[0m\u001b[0;34m\u001b[0m\u001b[0;34m\u001b[0m\u001b[0;34m\u001b[0m\u001b[0m\n",
      "\u001b[0;31mTypeError\u001b[0m: k_gram_hash() takes 2 positional arguments but 3 were given"
     ]
    }
   ],
   "source": [
    "from k_gram import k_gram_hash\n",
    "x = \"달러구트 꿈 백화점\"\n",
    "y = \"달러구트 꿈 백화점2\"\n",
    "z = \"하얼빈\"\n",
    "print(k_gram_hash(x, 2, \"korean\"))\n",
    "print(len(k_gram_hash(x, 2, \"korean\")))\n",
    "# print(k_gram_hash(y, 2))\n",
    "# print(len(k_gram_hash(y, 2)))\n",
    "# print(k_gram_hash(z, 2))\n",
    "# print(len(k_gram_hash(z, 2)))"
   ]
  },
  {
   "cell_type": "code",
   "execution_count": 74,
   "metadata": {},
   "outputs": [
    {
     "name": "stdout",
     "output_type": "stream",
     "text": [
      "1.0000000000000002\n",
      "0.9622504486493763\n"
     ]
    }
   ],
   "source": [
    "from simfunc import cos_similarity\n",
    "import numpy as np\n",
    "\n",
    "x = np.array([1,0,1,1])\n",
    "y = np.array([1,0,1,1])\n",
    "print(cos_similarity(x, y))\n",
    "y = np.array([1,0,2,2])\n",
    "print(cos_similarity(x, y))"
   ]
  },
  {
   "cell_type": "code",
   "execution_count": 23,
   "metadata": {},
   "outputs": [
    {
     "name": "stdout",
     "output_type": "stream",
     "text": [
      "501\n"
     ]
    }
   ],
   "source": [
    "Set = set({})\n",
    "n = 1000\n",
    "for i in range(1,100001):\n",
    "    Set.add(1000%i)\n",
    "print(len(Set))"
   ]
  },
  {
   "cell_type": "code",
   "execution_count": 3,
   "metadata": {},
   "outputs": [
    {
     "name": "stdout",
     "output_type": "stream",
     "text": [
      "numpy              1.19.5\n",
      "Note: you may need to restart the kernel to use updated packages.\n"
     ]
    }
   ],
   "source": [
    "from similarity import cos_similarity\n",
    "\n"
   ]
  },
  {
   "cell_type": "code",
   "execution_count": 3,
   "metadata": {},
   "outputs": [
    {
     "name": "stdout",
     "output_type": "stream",
     "text": [
      "-5727950208456709617\n",
      "<class 'int'>\n"
     ]
    }
   ],
   "source": [
    "s = \"이재정\"\n",
    "print(hash(s))\n",
    "s = \"hello\"\n",
    "print(hash(s))"
   ]
  }
 ],
 "metadata": {
  "kernelspec": {
   "display_name": "Python 3.6.9 64-bit",
   "language": "python",
   "name": "python3"
  },
  "language_info": {
   "codemirror_mode": {
    "name": "ipython",
    "version": 3
   },
   "file_extension": ".py",
   "mimetype": "text/x-python",
   "name": "python",
   "nbconvert_exporter": "python",
   "pygments_lexer": "ipython3",
   "version": "3.6.9"
  },
  "orig_nbformat": 4,
  "vscode": {
   "interpreter": {
    "hash": "31f2aee4e71d21fbe5cf8b01ff0e069b9275f58929596ceb00d14d90e3e16cd6"
   }
  }
 },
 "nbformat": 4,
 "nbformat_minor": 2
}
