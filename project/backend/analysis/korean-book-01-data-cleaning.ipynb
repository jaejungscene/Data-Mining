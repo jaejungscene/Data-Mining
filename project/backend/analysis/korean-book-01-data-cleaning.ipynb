{
 "cells": [
  {
   "cell_type": "markdown",
   "metadata": {},
   "source": [
    "## crawling한 korean books에서 중복되는 책들을 삭제, 에디션만 다른 동일한 내용의 책 삭제"
   ]
  },
  {
   "cell_type": "code",
   "execution_count": 1,
   "metadata": {},
   "outputs": [
    {
     "name": "stderr",
     "output_type": "stream",
     "text": [
      "Setting default log level to \"WARN\".\n",
      "To adjust logging level use sc.setLogLevel(newLevel). For SparkR, use setLogLevel(newLevel).\n"
     ]
    },
    {
     "name": "stdout",
     "output_type": "stream",
     "text": [
      "22/10/14 14:46:43 WARN NativeCodeLoader: Unable to load native-hadoop library for your platform... using builtin-java classes where applicable\n",
      "22/10/14 14:46:44 WARN Utils: Service 'SparkUI' could not bind on port 4040. Attempting port 4041.\n"
     ]
    }
   ],
   "source": [
    "from pyspark.sql import *\n",
    "from pyspark.sql.functions import *\n",
    "from pyspark import SparkContext\n",
    "import pandas as pd\n",
    "\n",
    "# create the Spark Session\n",
    "spark = SparkSession.builder.appName(\"spark\").getOrCreate()\n",
    "\n",
    "# create the Spark Context\n",
    "sc = spark.sparkContext"
   ]
  },
  {
   "cell_type": "code",
   "execution_count": 2,
   "metadata": {},
   "outputs": [
    {
     "name": "stdout",
     "output_type": "stream",
     "text": [
      "44945\n"
     ]
    }
   ],
   "source": [
    "import sqlite3\n",
    "conn = sqlite3.connect(\"../Books.db\")\n",
    "cur = conn.cursor()\n",
    "cur.execute(\"SELECT title, author FROM Korean_book\")\n",
    "data = cur.fetchall()\n",
    "print(len(data))\n",
    "conn.commit()\n",
    "conn.close()\n"
   ]
  },
  {
   "cell_type": "code",
   "execution_count": 3,
   "metadata": {},
   "outputs": [
    {
     "name": "stderr",
     "output_type": "stream",
     "text": [
      "[Stage 0:>                                                      (0 + 104) / 104]\r"
     ]
    },
    {
     "name": "stdout",
     "output_type": "stream",
     "text": [
      "44616\n",
      "0\n"
     ]
    },
    {
     "name": "stderr",
     "output_type": "stream",
     "text": [
      "                                                                                \r"
     ]
    }
   ],
   "source": [
    "## 중복 도서 삭제 확인\n",
    "rdd = sc.parallelize(data)\n",
    "S = set({})\n",
    "D = set({})\n",
    "for d in rdd.collect():\n",
    "    if d in S:\n",
    "        D.add(d[0])\n",
    "    else:\n",
    "        S.add(d[0])\n",
    "\n",
    "print(len(S))\n",
    "print(len(D)) # <--- 실제 중복 데이터(책 제목과 글쓴이도 다른)\n",
    "real_dup_data = list(D)"
   ]
  },
  {
   "cell_type": "code",
   "execution_count": null,
   "metadata": {},
   "outputs": [],
   "source": [
    "import sqlite3\n",
    "conn = sqlite3.connect(\"../Books.db\")\n",
    "cur = conn.cursor()\n",
    "\n",
    "# 하나 빼고 중복되는 도서들 모두 삭제\n",
    "for i in range(len(real_dup_data)):\n",
    "    cur.execute(f\"SELECT rowid FROM Korean_book WHERE title=\\\"{real_dup_data[i]}\\\"\")\n",
    "    same = cur.fetchall()\n",
    "    del_id = []\n",
    "    for num, (item) in enumerate(same):\n",
    "        if num==0:\n",
    "            pass\n",
    "        else:\n",
    "            del_id.append(item[0])\n",
    "\n",
    "    for id in del_id:\n",
    "        cur.execute(f\"DELETE FROM Korean_book WHERE rowid={id}\")\n",
    "    conn.commit()\n",
    "    cur.execute(f\"SELECT rowid FROM Korean_book WHERE title=\\\"{real_dup_data[i]}\\\"\")\n",
    "    same = cur.fetchall()\n",
    "\n",
    "conn.close()"
   ]
  },
  {
   "cell_type": "code",
   "execution_count": 3,
   "metadata": {},
   "outputs": [
    {
     "name": "stdout",
     "output_type": "stream",
     "text": [
      "    10\t아몬드(100만 부 기념 특별판)\t손원평\t★★★ 아시아권 최초, 2020 일본 서점대상 번역소설 부문 수상\n",
      "★★★ 미국, 프랑스, 일본, 중국, 스페인, 태국 등 20여 개국 번역 수출 계약\n",
      "★★★ 2017 교보문고 올해의 한국소설, 2021 영풍문고 올해의 책 \n",
      "★★★ 2022 뮤지컬, 연극으로 재탄생 \n",
      "\n",
      "아시아를 넘은 세계문학의 명작, 모든 세대에게 사랑받을 작품. 일본 서점대상\n",
      "청소년과 성인 독자들에게 널리 알려져야 할 경이로운 책. 월스트리트저널 리뷰\n",
      "\n",
      "2017년 출간되어 꾸준히 사랑받아 온 손원평 작가의 첫 장편소설 『아몬드』가 출간 5년 만에 국내 판매 100만 부를 맞아 특별판을 출간한다. 전 세계, 전 세대 독자들에게 꾸준히 큰 감동을 전하며 한국 영어덜트 소설의 기준을 세운 『아몬드』 ‘100만 부 기념 특별판’에는 ‘다시 쓰는 작가의 말’이 수록되었으며, 새로운 일러스트가 담긴 표지로 단장하여 독자들의 소장 욕구를 자극한다. \n",
      "『아몬드』는 감정을 느끼지 못하는 소년의 특별한 성장 이야기로, 첫 장을 읽기 시작하면 끝까지 놓을 수 없는 흡인력 강한 작품이다. 인물들이 타인과 관계 맺고 슬픔에 공감하며 성장해 나가는 과정을 탁월하게 묘사했다는 평을 얻었으며, 영화처럼 펼쳐지는 극적인 사건과 매혹적인 문체가 돋보인다.\n",
      "또한 『아몬드』는 지금까지 미국, 스페인, 일본 등 20여 개국으로 번역 수출되어 전 세계의 독자들을 만나고 있으며, 국내 및 해외에서 뮤지컬과 연극으로도 재탄생된 바 있다. 지난 2020년에는 아시아권 최초로 일본 서점대상의 번역소설 부문을 수상하면서 “아시아를 넘은 세계문학의 명작”으로 자리매김했다. ‘감정’이라는 보편적인 주제로 동시대를 살아가는 모든 사람의 마음을 사로잡는 책이다.\n",
      "    30\t아몬드\t손원평\t영화와도 같은 강렬한 사건과 매혹적인 문체로 시선을 사로잡는 한국형 영 어덜트 소설 『아몬드』. 타인의 감정에 무감각해진 공감 불능인 이 시대에 큰 울림을 주는 이 작품은 감정을 느끼지 못하는 한 소년의 특별한 성장을 그리고 있다. 감정을 느끼는 데 어려움을 겪는 열여섯 살 소년 선윤재와 어두운 상처를 간직한 곤이, 그와 반대로 맑은 감성을 지닌 도라와 윤재를 돕고 싶어 하는 심 박사 사이에서 펼쳐지는 이야기가 우리로 하여금 타인의 감정을 이해한다는 것이 얼마나 어려운 일인지, 그럼에도 그것이 얼마나 소중한 일인지 다시 한 번 생각해 볼 기회를 전한다.\n",
      "\n",
      "감정 표현 불능증을 앓고 있는 열여섯 살 소년 선윤재. ‘아몬드’라 불리는 편도체가 작아 분노도 공포도 잘 느끼지 못하는 그는 타고난 침착성, 엄마와 할머니의 지극한 사랑 덕에 별 탈 없이 지냈지만 크리스마스이브이던 열여섯 번째 생일날 벌어진 비극적인 사고로 가족을 잃는다. 그렇게 세상에 홀로 남겨진 윤재 앞에 ‘곤이’가 나타난다. 놀이동산에서 엄마의 손을 잠깐 놓은 사이 사라진 후 13년 만에 가족의 품으로 돌아오게 된 곤이는 분노로 가득 찬 아이다. 곤이는 윤재를 괴롭히고 윤재에게 화를 쏟아 내지만, 감정의 동요가 없는 윤재 앞에서 오히려 쩔쩔매고 만다. 그 후 두 소년은 남들이 이해할 수 없는 특별한 우정을 쌓아가고, 윤재는 조금씩 내면의 변화를 겪는데…….\n",
      "----------------------------------------------------------------------------------------------------\n"
     ]
    }
   ],
   "source": [
    "## 에디션만 다른 같은 이름의 도서 check\n",
    "import sqlite3\n",
    "conn = sqlite3.connect(\"../Books.db\")\n",
    "cur = conn.cursor()\n",
    "cur.execute(\"SELECT rowid, title, author FROM Korean_book\")\n",
    "data = cur.fetchall()\n",
    "# print(data[0])\n",
    "\n",
    "for id, title, author in data:\n",
    "    for i, t, a in data:\n",
    "        if id!=i and author==a:\n",
    "            if (title in t) or (t in title):\n",
    "                print(f\"{id:-6}\\t{title}\\t{author}\")\n",
    "                print(f\"{i:-6}\\t{t}\\t{a}\")\n",
    "                print(\"-\"*100)\n",
    "            else:\n",
    "                pass\n"
   ]
  }
 ],
 "metadata": {
  "kernelspec": {
   "display_name": "Python 3.6.9 64-bit",
   "language": "python",
   "name": "python3"
  },
  "language_info": {
   "codemirror_mode": {
    "name": "ipython",
    "version": 3
   },
   "file_extension": ".py",
   "mimetype": "text/x-python",
   "name": "python",
   "nbconvert_exporter": "python",
   "pygments_lexer": "ipython3",
   "version": "3.6.9"
  },
  "orig_nbformat": 4,
  "vscode": {
   "interpreter": {
    "hash": "31f2aee4e71d21fbe5cf8b01ff0e069b9275f58929596ceb00d14d90e3e16cd6"
   }
  }
 },
 "nbformat": 4,
 "nbformat_minor": 2
}
