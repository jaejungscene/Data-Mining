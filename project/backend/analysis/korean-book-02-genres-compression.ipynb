{
 "cells": [
  {
   "cell_type": "code",
   "execution_count": 9,
   "metadata": {},
   "outputs": [
    {
     "name": "stderr",
     "output_type": "stream",
     "text": [
      "/home/ljj0512/.local/lib/python3.6/site-packages/pyspark/context.py:238: FutureWarning: Python 3.6 support is deprecated in Spark 3.2.\n",
      "  FutureWarning\n"
     ]
    }
   ],
   "source": [
    "from pyspark.sql import *\n",
    "from pyspark.sql.functions import *\n",
    "from pyspark import SparkContext\n",
    "import pandas as pd\n",
    "\n",
    "# create the Spark Session\n",
    "spark = SparkSession.builder.appName(\"spark\").getOrCreate()\n",
    "\n",
    "# create the Spark Context\n",
    "sc = spark.sparkContext"
   ]
  },
  {
   "cell_type": "markdown",
   "metadata": {},
   "source": [
    "## 02 check the number of genres"
   ]
  },
  {
   "cell_type": "code",
   "execution_count": 10,
   "metadata": {},
   "outputs": [
    {
     "name": "stdout",
     "output_type": "stream",
     "text": [
      "[('국내도서,소설,한국소설,역사/대하소설,장르소설,역사소설',), ('국내도서,소설,한국소설,한국소설일반',), ('국내도서,소설,한국소설,한국소설일반',)]\n"
     ]
    }
   ],
   "source": [
    "import sqlite3\n",
    "conn = sqlite3.connect(\"../Books.db\")\n",
    "cur = conn.cursor()\n",
    "cur.execute(\"SELECT genres FROM Korean_book\")\n",
    "check = cur.fetchall()\n",
    "print(check[0:3])\n",
    "conn.commit()\n",
    "conn.close()\n"
   ]
  },
  {
   "cell_type": "code",
   "execution_count": 11,
   "metadata": {},
   "outputs": [
    {
     "name": "stdout",
     "output_type": "stream",
     "text": [
      "44945\n",
      "[('국내도서', 1), ('소설', 1), ('한국소설', 1), ('역사/대하소설', 1), ('장르소설', 1)]\n",
      "245812\n"
     ]
    }
   ],
   "source": [
    "rdd = sc.parallelize(check).map(lambda line: line[0].split(\",\"))\n",
    "print(rdd.count())\n",
    "rdd = rdd.flatMap(lambda x: x).map(lambda x: (x,1))\n",
    "print(rdd.take(5))\n",
    "print(rdd.count())\n"
   ]
  },
  {
   "cell_type": "code",
   "execution_count": 14,
   "metadata": {},
   "outputs": [
    {
     "name": "stdout",
     "output_type": "stream",
     "text": [
      "[('국내도서', 44945), ('인문', 7859), ('대학교재', 7242), ('경제/경영', 5377), ('외국어', 4332)]\n",
      "total genres: 2861\n"
     ]
    }
   ],
   "source": [
    "rdd = rdd.reduceByKey(lambda x, y: x+y).sortBy(lambda x: -x[1])\n",
    "print(rdd.take(5))\n",
    "print(\"total genres:\",rdd.count()-1) # <-- (-1)은 국내도서를 없애기 위해"
   ]
  },
  {
   "cell_type": "markdown",
   "metadata": {},
   "source": [
    "## pracitice"
   ]
  },
  {
   "cell_type": "code",
   "execution_count": 4,
   "metadata": {},
   "outputs": [
    {
     "name": "stdout",
     "output_type": "stream",
     "text": [
      "박희윤\n",
      "김민형\n",
      "이상원\n",
      "이재정\n"
     ]
    }
   ],
   "source": [
    "temp = sc.parallelize([('이재정', '박희윤'), (\"김민형\", \"이재정\"), (\"이재정\", \"박희윤\")])\n",
    "temp.take(1)\n",
    "temp1 = temp.distinct()\n",
    "for i in temp1.collect():\n",
    "    print(i)\n"
   ]
  },
  {
   "cell_type": "code",
   "execution_count": 34,
   "metadata": {},
   "outputs": [
    {
     "name": "stdout",
     "output_type": "stream",
     "text": [
      "{('이재정', '박희윤')}\n",
      "('이재정', '박희윤')\n",
      "already\n"
     ]
    }
   ],
   "source": [
    "s = set({('이재정', '박희윤')})\n",
    "x = ('이재정', '박희윤')\n",
    "print(s)\n",
    "print(x)\n",
    "if x in s:\n",
    "    print(\"already\")\n",
    "else:\n",
    "    print(\"not in set\")"
   ]
  },
  {
   "cell_type": "code",
   "execution_count": 25,
   "metadata": {},
   "outputs": [
    {
     "name": "stdout",
     "output_type": "stream",
     "text": [
      "false\n"
     ]
    }
   ],
   "source": [
    "x = \"asdfstringasdf\"\n",
    "y = \"stirng\"\n",
    "if y in x:\n",
    "    print(\"true\")\n",
    "else:\n",
    "    print(\"false\")"
   ]
  }
 ],
 "metadata": {
  "kernelspec": {
   "display_name": "Python 3.6.9 64-bit",
   "language": "python",
   "name": "python3"
  },
  "language_info": {
   "codemirror_mode": {
    "name": "ipython",
    "version": 3
   },
   "file_extension": ".py",
   "mimetype": "text/x-python",
   "name": "python",
   "nbconvert_exporter": "python",
   "pygments_lexer": "ipython3",
   "version": "3.6.9"
  },
  "orig_nbformat": 4,
  "vscode": {
   "interpreter": {
    "hash": "31f2aee4e71d21fbe5cf8b01ff0e069b9275f58929596ceb00d14d90e3e16cd6"
   }
  }
 },
 "nbformat": 4,
 "nbformat_minor": 2
}
