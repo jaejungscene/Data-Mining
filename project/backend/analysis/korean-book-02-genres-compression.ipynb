{
 "cells": [
  {
   "cell_type": "code",
   "execution_count": 1,
   "metadata": {},
   "outputs": [
    {
     "name": "stderr",
     "output_type": "stream",
     "text": [
      "/home/ljj0512/.local/lib/python3.6/site-packages/pyspark/context.py:238: FutureWarning: Python 3.6 support is deprecated in Spark 3.2.\n",
      "  FutureWarning\n"
     ]
    }
   ],
   "source": [
    "from pyspark.sql import *\n",
    "from pyspark.sql.functions import *\n",
    "from pyspark import SparkContext\n",
    "import pandas as pd\n",
    "\n",
    "# create the Spark Session\n",
    "spark = SparkSession.builder.appName(\"spark\").getOrCreate()\n",
    "\n",
    "# create the Spark Context\n",
    "sc = spark.sparkContext"
   ]
  },
  {
   "cell_type": "markdown",
   "metadata": {},
   "source": [
    "## check the total number of genres"
   ]
  },
  {
   "cell_type": "code",
   "execution_count": 2,
   "metadata": {},
   "outputs": [
    {
     "name": "stdout",
     "output_type": "stream",
     "text": [
      "[('국내도서,소설,한국소설,역사/대하소설,장르소설,역사소설',), ('국내도서,소설,한국소설,한국소설일반',), ('국내도서,소설,한국소설,한국소설일반',)]\n"
     ]
    }
   ],
   "source": [
    "import sqlite3\n",
    "conn = sqlite3.connect(\"../Books.db\")\n",
    "cur = conn.cursor()\n",
    "cur.execute(\"SELECT genres FROM Korean_book\")\n",
    "check = cur.fetchall()\n",
    "print(check[0:3])\n",
    "conn.commit()\n",
    "conn.close()\n"
   ]
  },
  {
   "cell_type": "code",
   "execution_count": 3,
   "metadata": {},
   "outputs": [
    {
     "name": "stdout",
     "output_type": "stream",
     "text": [
      "44749\n",
      "[('국내도서', 1), ('소설', 1), ('한국소설', 1), ('역사/대하소설', 1), ('장르소설', 1)]\n",
      "244815\n"
     ]
    }
   ],
   "source": [
    "rdd = sc.parallelize(check).map(lambda line: line[0].split(\",\"))\n",
    "print(rdd.count())\n",
    "rdd = rdd.flatMap(lambda x: x).map(lambda x: (x,1))\n",
    "print(rdd.take(5))\n",
    "print(rdd.count())\n"
   ]
  },
  {
   "cell_type": "code",
   "execution_count": 12,
   "metadata": {},
   "outputs": [
    {
     "name": "stdout",
     "output_type": "stream",
     "text": [
      "total genres: 2860\n"
     ]
    }
   ],
   "source": [
    "rdd1 = rdd.reduceByKey(lambda x, y: x+y).sortBy(lambda x: -x[1]) # descending\n",
    "rdd2 = rdd.reduceByKey(lambda x, y: x+y).sortBy(lambda x: x[1]) # ascending\n",
    "print(\"total genres:\",rdd1.count()-1) # <-- (-1)은 국내도서를 없애기 위해"
   ]
  },
  {
   "cell_type": "code",
   "execution_count": 13,
   "metadata": {},
   "outputs": [
    {
     "name": "stdout",
     "output_type": "stream",
     "text": [
      "0| ('국내도서', 44749)\n",
      "1| ('인문', 7794)\n",
      "2| ('대학교재', 7241)\n",
      "3| ('경제/경영', 5368)\n",
      "4| ('외국어', 4323)\n",
      "5| ('소설', 3211)\n",
      "6| ('청소년', 3074)\n",
      "7| ('컴퓨터/IT', 2829)\n",
      "8| ('시/에세이', 2815)\n",
      "9| ('기술/공학', 2793)\n",
      "10| ('예술/대중문화', 2783)\n",
      "11| ('취미/실용/스포츠', 2562)\n",
      "12| ('과학', 2415)\n",
      "13| ('역사/문화', 2300)\n",
      "14| ('정치/사회', 2277)\n",
      "15| ('자기계발', 2221)\n",
      "16| ('요리', 1879)\n",
      "17| ('건강', 1725)\n",
      "18| ('종교', 1638)\n",
      "19| ('컴퓨터', 1458)\n",
      "20| ('가정/육아', 1091)\n",
      "21| ('교육학', 1079)\n",
      "22| ('고전소설/문학선', 917)\n",
      "23| ('기술공학', 887)\n",
      "24| ('나라별에세이', 885)\n",
      "25| ('인물/자전적에세이', 882)\n",
      "26| ('장르소설', 874)\n",
      "27| ('중/고등참고서', 863)\n",
      "28| ('철학', 785)\n",
      "29| ('인문학일반', 767)\n"
     ]
    }
   ],
   "source": [
    "top = 30\n",
    "\n",
    "for i, value in enumerate(rdd1.collect()):\n",
    "    if top <= 0:\n",
    "        break\n",
    "    print(f\"{i}| {value}\")\n",
    "    top-=1\n",
    "\n",
    "genre_idx = [1,2,3,4,5,7,8,9,10,11,12,13,14,15,16]"
   ]
  },
  {
   "cell_type": "code",
   "execution_count": 14,
   "metadata": {},
   "outputs": [
    {
     "name": "stdout",
     "output_type": "stream",
     "text": [
      "0| ('인간과사회', 1)\n",
      "1| ('경찰기타과목', 1)\n",
      "2| ('여성정책/제도', 1)\n",
      "3| ('아시아정치', 1)\n",
      "4| ('내과일반', 1)\n",
      "5| ('노년에세이', 1)\n",
      "6| ('어린이성경책', 1)\n",
      "7| ('대한성서공회', 1)\n",
      "8| ('음악사일반', 1)\n",
      "9| ('라흐마니노프', 1)\n",
      "10| ('의학윤리', 1)\n",
      "11| ('프로엔지니어링', 1)\n",
      "12| ('성악/합창이론', 1)\n",
      "13| ('포스트모더니즘', 1)\n",
      "14| ('액션/무협만화', 1)\n",
      "15| ('식품학사전', 1)\n",
      "16| ('중국근대사', 1)\n",
      "17| ('PD/기자/아나운서', 1)\n",
      "18| ('케라스/텐서플로', 1)\n",
      "19| ('한국어학습일반', 1)\n",
      "20| ('공무원교육학', 1)\n",
      "21| ('장보드리야르', 1)\n",
      "22| ('유가/유교', 1)\n",
      "23| ('자기계발/공부방법/진로', 1)\n",
      "24| ('.NET일반', 1)\n",
      "25| ('중국작가론', 1)\n",
      "26| ('공무원헌법', 1)\n",
      "27| ('순자', 1)\n",
      "28| ('친일문학론', 1)\n",
      "29| ('발생생물학', 1)\n"
     ]
    }
   ],
   "source": [
    "top = 30\n",
    "\n",
    "for i, value in enumerate(rdd2.collect()):\n",
    "    if top <= 0:\n",
    "        break\n",
    "    print(f\"{i}| {value}\")\n",
    "    top-=1\n"
   ]
  },
  {
   "cell_type": "markdown",
   "metadata": {},
   "source": [
    "## pracitice"
   ]
  },
  {
   "cell_type": "code",
   "execution_count": 4,
   "metadata": {},
   "outputs": [
    {
     "name": "stdout",
     "output_type": "stream",
     "text": [
      "박희윤\n",
      "김민형\n",
      "이상원\n",
      "이재정\n"
     ]
    }
   ],
   "source": [
    "temp = sc.parallelize([('이재정', '박희윤'), (\"김민형\", \"이재정\"), (\"이재정\", \"박희윤\")])\n",
    "temp.take(1)\n",
    "temp1 = temp.distinct()\n",
    "for i in temp1.collect():\n",
    "    print(i)\n"
   ]
  },
  {
   "cell_type": "code",
   "execution_count": 34,
   "metadata": {},
   "outputs": [
    {
     "name": "stdout",
     "output_type": "stream",
     "text": [
      "{('이재정', '박희윤')}\n",
      "('이재정', '박희윤')\n",
      "already\n"
     ]
    }
   ],
   "source": [
    "s = set({('이재정', '박희윤')})\n",
    "x = ('이재정', '박희윤')\n",
    "print(s)\n",
    "print(x)\n",
    "if x in s:\n",
    "    print(\"already\")\n",
    "else:\n",
    "    print(\"not in set\")"
   ]
  },
  {
   "cell_type": "code",
   "execution_count": 25,
   "metadata": {},
   "outputs": [
    {
     "name": "stdout",
     "output_type": "stream",
     "text": [
      "false\n"
     ]
    }
   ],
   "source": [
    "x = \"asdfstringasdf\"\n",
    "y = \"stirng\"\n",
    "if y in x:\n",
    "    print(\"true\")\n",
    "else:\n",
    "    print(\"false\")"
   ]
  }
 ],
 "metadata": {
  "kernelspec": {
   "display_name": "Python 3.6.9 64-bit",
   "language": "python",
   "name": "python3"
  },
  "language_info": {
   "codemirror_mode": {
    "name": "ipython",
    "version": 3
   },
   "file_extension": ".py",
   "mimetype": "text/x-python",
   "name": "python",
   "nbconvert_exporter": "python",
   "pygments_lexer": "ipython3",
   "version": "3.6.9"
  },
  "orig_nbformat": 4,
  "vscode": {
   "interpreter": {
    "hash": "31f2aee4e71d21fbe5cf8b01ff0e069b9275f58929596ceb00d14d90e3e16cd6"
   }
  }
 },
 "nbformat": 4,
 "nbformat_minor": 2
}
