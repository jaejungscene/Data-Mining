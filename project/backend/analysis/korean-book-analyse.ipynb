{
 "cells": [
  {
   "cell_type": "code",
   "execution_count": 1,
   "metadata": {},
   "outputs": [
    {
     "name": "stderr",
     "output_type": "stream",
     "text": [
      "/home/ljj0512/.local/lib/python3.6/site-packages/pyspark/context.py:238: FutureWarning: Python 3.6 support is deprecated in Spark 3.2.\n",
      "  FutureWarning\n"
     ]
    }
   ],
   "source": [
    "from pyspark.sql import *\n",
    "from pyspark.sql.functions import *\n",
    "from pyspark import SparkContext\n",
    "\n",
    "# create the Spark Session\n",
    "spark = SparkSession.builder.appName(\"spark\").getOrCreate()\n",
    "\n",
    "# create the Spark Context\n",
    "sc = spark.sparkContext"
   ]
  },
  {
   "cell_type": "code",
   "execution_count": 54,
   "metadata": {},
   "outputs": [
    {
     "name": "stdout",
     "output_type": "stream",
     "text": [
      "(43954, 2860)\n",
      "2855\n"
     ]
    }
   ],
   "source": [
    "####################################\n",
    "# [0] = book unique id -> 1\n",
    "# [1:2856] = genre vector -> 2855\n",
    "# [2856] = rating -> 1\n",
    "# [2857] = page -> 1\n",
    "# [2858] = author -> 1\n",
    "# [2859] = publisher -> 1\n",
    "# 하나의 book profile 크기 = 2860\n",
    "####################################\n",
    "import time\n",
    "import pickle\n",
    "with open(\"../data/KorBookMatrix.pkl\", \"rb\") as f:\n",
    "    KorBookMatrix = pickle.load(f)\n",
    "print(KorBookMatrix.shape)\n",
    "\n",
    "import numpy as np\n",
    "with open(f\"../data/korean-all-genres-dic.pkl\", \"rb\") as f:\n",
    "    genres_dic = pickle.load(f)\n",
    "print(len(genres_dic))"
   ]
  },
  {
   "cell_type": "markdown",
   "metadata": {},
   "source": [
    "# genre만 받았을 경우"
   ]
  },
  {
   "cell_type": "code",
   "execution_count": 19,
   "metadata": {},
   "outputs": [
    {
     "name": "stdout",
     "output_type": "stream",
     "text": [
      "5\n",
      "27\n",
      "39\n",
      "287\n",
      "1010\n"
     ]
    }
   ],
   "source": [
    "genres = [\"소설\", \"한국소설\", \"역사/대하소설\", \"장르소설\", \"역사소설\"]\n",
    "\n",
    "# 0을 남겨둠\n",
    "userProfile = np.zeros((1,len(genres_dic)+1))\n",
    "for genre in genres:\n",
    "    userProfile[0,genres_dic[genre]] = 1.\n",
    "\n",
    "for i in range(len(userProfile[0])):\n",
    "    if userProfile[0,i] == 1.0:\n",
    "        print(i)"
   ]
  },
  {
   "cell_type": "markdown",
   "metadata": {},
   "source": [
    "### 일반적인 content based search"
   ]
  },
  {
   "cell_type": "code",
   "execution_count": 20,
   "metadata": {},
   "outputs": [],
   "source": [
    "from numpy.linalg import norm\n",
    "\n",
    "def cos_similarity(x :np.array, y :np.array):\n",
    "    return ( (np.dot(x,y))/(norm(x)*norm(y)) )"
   ]
  },
  {
   "cell_type": "code",
   "execution_count": 50,
   "metadata": {},
   "outputs": [],
   "source": [
    "def linear_search(KorBookMatrix, userProfile, topNum):\n",
    "    similarity = map(\n",
    "        lambda bookProfile: \\\n",
    "            (int(bookProfile[0]),cos_similarity(bookProfile[1:2856], userProfile[0,1:]))\n",
    "            ,KorBookMatrix)\n",
    "    best = sorted(list(similarity), key=lambda t: -t[1])\n",
    "    return best[:topNum]\n"
   ]
  },
  {
   "cell_type": "code",
   "execution_count": 60,
   "metadata": {},
   "outputs": [
    {
     "name": "stdout",
     "output_type": "stream",
     "text": [
      "[(0, 0.9999999999999998), (42, 0.9999999999999998), (129, 0.9999999999999998), (184, 0.9999999999999998), (198, 0.9999999999999998)]\n",
      "====================================================================================================\n",
      "0.7161579132080078 (second)\n"
     ]
    }
   ],
   "source": [
    "start = time.time()\n",
    "print(linear_search(KorBookMatrix, userProfile, 100)[:5])\n",
    "print(\"=\"*100)\n",
    "print(time.time()-start,\"(second)\")"
   ]
  },
  {
   "cell_type": "code",
   "execution_count": 66,
   "metadata": {},
   "outputs": [
    {
     "name": "stdout",
     "output_type": "stream",
     "text": [
      "iter1| [(24416, 0.2886751345948129), (24424, 0.2886751345948129)]\n",
      "iter2| [(13909, 0.35355339059327373), (13925, 0.35355339059327373)]\n",
      "iter3| [(57152, 0.5), (57159, 0.5)]\n",
      "iter4| [(52734, 0.2581988897471611), (52744, 0.2581988897471611)]\n",
      "iter5| [(15370, 0.19245008972987526), (15371, 0.19245008972987526)]\n",
      "iter6| [(29704, 0.35355339059327373), (29705, 0.35355339059327373)]\n",
      "iter7| [(49520, 0.3086066999241838), (997, 0.23570226039551587)]\n",
      "iter8| [(14374, 0.40824829046386296), (14380, 0.40824829046386296)]\n",
      "iter9| [(27673, 0.2581988897471611), (27693, 0.2581988897471611)]\n",
      "iter10| [(17408, 0.2581988897471611), (17436, 0.2581988897471611)]\n",
      "====================================================================================================\n",
      "0.8629757642745972\n"
     ]
    }
   ],
   "source": [
    "# 평균 타임 계속해서 0.86s 정도 나옴\n",
    "iterNum = 10\n",
    "sizes = np.random.randint(low=1, high=10, size=iterNum)\n",
    "addTime = 0\n",
    "for i, size in enumerate(sizes):\n",
    "    r = np.random.randint(low=1, high=2855, size=size)\n",
    "    userProfile = np.zeros((1,len(genres_dic)+1))\n",
    "    userProfile[0,r] = 1.0\n",
    "    start = time.time()\n",
    "    best = linear_search(KorBookMatrix, userProfile, 100)\n",
    "    addTime += time.time()-start\n",
    "    print(f\"iter{i+1}|\",best[:2])\n",
    "\n",
    "print(\"=\"*100)\n",
    "print(addTime/iterNum)"
   ]
  },
  {
   "cell_type": "code",
   "execution_count": 69,
   "metadata": {},
   "outputs": [
    {
     "name": "stdout",
     "output_type": "stream",
     "text": [
      "0.9428090415820635\n",
      "0.9428090415820635\n"
     ]
    }
   ],
   "source": [
    "x = np.array([1,2,1])\n",
    "y = np.array([2,2,2])\n",
    "print(cos_similarity(x, y))\n",
    "y = np.array([1,1,1])\n",
    "print(cos_similarity(x, y))"
   ]
  },
  {
   "cell_type": "markdown",
   "metadata": {},
   "source": [
    "### LSH를 통한 content based search"
   ]
  },
  {
   "cell_type": "code",
   "execution_count": null,
   "metadata": {},
   "outputs": [],
   "source": [
    "### 충분히 빠르기 때문에 할 필요가 없음"
   ]
  },
  {
   "cell_type": "markdown",
   "metadata": {},
   "source": [
    "# book과 genre를 같이 받았을 경우"
   ]
  },
  {
   "cell_type": "markdown",
   "metadata": {},
   "source": [
    "### book과 genre 모두를 각각 vector로 하여 user profile을 matrix으로 만들어 search "
   ]
  },
  {
   "cell_type": "code",
   "execution_count": null,
   "metadata": {},
   "outputs": [],
   "source": []
  },
  {
   "cell_type": "markdown",
   "metadata": {},
   "source": [
    "### book과 genre에 대한 정보를 하나로 합쳐 하나의 vector를 가지고 search"
   ]
  },
  {
   "cell_type": "code",
   "execution_count": null,
   "metadata": {},
   "outputs": [],
   "source": []
  },
  {
   "cell_type": "markdown",
   "metadata": {},
   "source": [
    "### 위 하나의 vector를 가지고 LSH search"
   ]
  },
  {
   "cell_type": "code",
   "execution_count": null,
   "metadata": {},
   "outputs": [],
   "source": []
  },
  {
   "cell_type": "code",
   "execution_count": null,
   "metadata": {},
   "outputs": [],
   "source": [
    "\n",
    "def linear_search(A, query_index, num_neighbors):\n",
    "    all_neighbors = filter(lambda i: i != query_index, range(len(A)))\n",
    "    distances = map(lambda r: (r, l1(A[r], A[query_index])), all_neighbors)\n",
    "    best_neighbors = sorted(distances, key = lambda t: t[1])[:num_neighbors]\n",
    "\n",
    "    return [t[0] for t in best_neighbors]"
   ]
  }
 ],
 "metadata": {
  "kernelspec": {
   "display_name": "Python 3.6.9 64-bit",
   "language": "python",
   "name": "python3"
  },
  "language_info": {
   "codemirror_mode": {
    "name": "ipython",
    "version": 3
   },
   "file_extension": ".py",
   "mimetype": "text/x-python",
   "name": "python",
   "nbconvert_exporter": "python",
   "pygments_lexer": "ipython3",
   "version": "3.6.9"
  },
  "orig_nbformat": 4,
  "vscode": {
   "interpreter": {
    "hash": "31f2aee4e71d21fbe5cf8b01ff0e069b9275f58929596ceb00d14d90e3e16cd6"
   }
  }
 },
 "nbformat": 4,
 "nbformat_minor": 2
}
