{
 "cells": [
  {
   "cell_type": "code",
<<<<<<< HEAD
   "execution_count": 6,
=======
   "execution_count": 13,
>>>>>>> cf1ccebb782f5c56896b689abaf2a0e7b2f76236
   "metadata": {},
   "outputs": [],
   "source": [
    "import hashlib\n",
    "\n",
    "def myHash(s):\n",
    "    if s == None:\n",
    "        return 0\n",
    "    else:\n",
    "        return int(hashlib.sha1(s.encode(\"utf-8\")).hexdigest(), 16) % (10 ** 9)"
   ]
  },
  {
   "cell_type": "code",
   "execution_count": 1,
   "metadata": {},
   "outputs": [
    {
     "name": "stderr",
     "output_type": "stream",
     "text": [
      "/home/ljj0512/.local/lib/python3.6/site-packages/pyspark/context.py:238: FutureWarning: Python 3.6 support is deprecated in Spark 3.2.\n",
      "  FutureWarning\n"
     ]
    }
   ],
   "source": [
    "from pyspark.sql import *\n",
    "from pyspark.sql.functions import *\n",
    "from pyspark import SparkContext\n",
    "\n",
    "# create the Spark Session\n",
    "spark = SparkSession.builder.appName(\"spark\").getOrCreate()\n",
    "\n",
    "# create the Spark Context\n",
    "sc = spark.sparkContext"
   ]
  },
  {
   "cell_type": "code",
<<<<<<< HEAD
   "execution_count": 13,
=======
   "execution_count": 147,
>>>>>>> cf1ccebb782f5c56896b689abaf2a0e7b2f76236
   "metadata": {},
   "outputs": [
    {
     "name": "stdout",
     "output_type": "stream",
     "text": [
<<<<<<< HEAD
      "(43511, 2850)\n",
      "2848\n"
=======
      "(43925, 2857)\n",
      "2855\n"
>>>>>>> cf1ccebb782f5c56896b689abaf2a0e7b2f76236
     ]
    }
   ],
   "source": [
    "####################################\n",
    "# [0] = book unique id -> 1\n",
<<<<<<< HEAD
    "# [1:2856] = genre vector -> 2848\n",
    "# [2856] = author -> 1\n",
    "# 하나의 book profile 크기 = 2850\n",
=======
    "# [1:2856] = genre vector -> 2855\n",
    "# [2856] = author -> 1\n",
    "# 하나의 book profile 크기 = 2857\n",
>>>>>>> cf1ccebb782f5c56896b689abaf2a0e7b2f76236
    "####################################\n",
    "GENRE_DIM = 2848\n",
    "import time\n",
    "import pickle\n",
    "with open(\"../data/KorBookMatrix.pkl\", \"rb\") as f:\n",
    "    KorBookMatrix = pickle.load(f)\n",
    "print(KorBookMatrix.shape)\n",
    "\n",
    "import numpy as np\n",
    "with open(f\"../data/korean-all-genres-dic.pkl\", \"rb\") as f:\n",
    "    genres_dic = pickle.load(f)\n",
    "print(len(genres_dic))"
   ]
  },
  {
<<<<<<< HEAD
   "cell_type": "code",
   "execution_count": 14,
=======
   "cell_type": "code",
   "execution_count": 148,
   "metadata": {},
   "outputs": [
    {
     "name": "stdout",
     "output_type": "stream",
     "text": [
      "0\n",
      "0\n",
      "765562941\n",
      "765562941\n"
     ]
    }
   ],
   "source": [
    "print(KorBookMatrix[0,0])\n",
    "print(KorBookMatrix[0,2850])\n",
    "print(KorBookMatrix[0,2856])\n",
    "print(myHash(\"김훈\"))"
   ]
  },
  {
   "cell_type": "code",
   "execution_count": 331,
   "metadata": {},
   "outputs": [],
   "source": [
    "GENRE_DIM = 2855"
   ]
  },
  {
   "cell_type": "markdown",
   "metadata": {},
   "source": [
    "# genre만 받았을 경우"
   ]
  },
  {
   "cell_type": "markdown",
   "metadata": {},
   "source": [
    "### 일반적인 content based search"
   ]
  },
  {
   "cell_type": "code",
   "execution_count": 322,
   "metadata": {},
   "outputs": [],
   "source": [
    "from numpy.linalg import norm\n",
    "\n",
    "def cos_similarity(x :np.array, y :np.array):\n",
    "    return ( (np.dot(x,y))/(norm(x)*norm(y)) )"
   ]
  },
  {
   "cell_type": "code",
   "execution_count": 335,
   "metadata": {},
   "outputs": [],
   "source": [
    "def linear_search(KorBookMatrix, userProfile, topNum, genre_dim):\n",
    "    similarity = map(\n",
    "        lambda bookProfile: \\\n",
    "            (int(bookProfile[0]),cos_similarity(bookProfile[1:genre_dim+1], userProfile[0,1:]))\n",
    "            ,KorBookMatrix)\n",
    "    best = sorted(similarity, key=lambda t: -t[1])[:topNum]\n",
    "    return [t[0] for t in best]\n",
    "    # return [t for t in best]\n"
   ]
  },
  {
   "cell_type": "code",
   "execution_count": 336,
>>>>>>> cf1ccebb782f5c56896b689abaf2a0e7b2f76236
   "metadata": {},
   "outputs": [
    {
     "name": "stdout",
     "output_type": "stream",
     "text": [
<<<<<<< HEAD
      "0\n",
      "0\n",
      "765562941\n",
      "765562941\n"
=======
      "5, 27, 39, 287, 1010, "
>>>>>>> cf1ccebb782f5c56896b689abaf2a0e7b2f76236
     ]
    }
   ],
   "source": [
<<<<<<< HEAD
    "print(KorBookMatrix[0,0])\n",
    "print(KorBookMatrix[0,2844])\n",
    "print(KorBookMatrix[0,2849])\n",
    "print(myHash(\"김훈\"))"
=======
    "\n",
    "# test genres\n",
    "genres = [\"소설\", \"한국소설\", \"역사/대하소설\", \"장르소설\", \"역사소설\"]\n",
    "\n",
    "# 0을 남겨둠\n",
    "userProfile = np.zeros((1,len(genres_dic)+1))\n",
    "for genre in genres:\n",
    "    userProfile[0,genres_dic[genre]] = 1.\n",
    "\n",
    "for i in range(len(userProfile[0])):\n",
    "    if userProfile[0,i] == 1.0:\n",
    "        print(i,end=\", \")"
   ]
  },
  {
   "cell_type": "code",
   "execution_count": 337,
   "metadata": {},
   "outputs": [
    {
     "name": "stdout",
     "output_type": "stream",
     "text": [
      "[0, 42, 129, 184, 198, 202, 205, 216, 246, 306]\n",
      "====================================================================================================\n",
      "1.0172805786132812 (second)\n"
     ]
    }
   ],
   "source": [
    "start = time.time()\n",
    "print(linear_search(KorBookMatrix, userProfile, 100, GENRE_DIM)[:10])\n",
    "print(\"=\"*100)\n",
    "print(time.time()-start,\"(second)\")"
   ]
  },
  {
   "cell_type": "code",
   "execution_count": 326,
   "metadata": {},
   "outputs": [
    {
     "name": "stdout",
     "output_type": "stream",
     "text": [
      "iter1| [4473, 4591, 4787, 6591, 4848, 51489, 11255, 28714, 25019, 0]\n",
      "iter2| [37489, 37616, 46904, 46905, 46906, 46907, 46910, 46911, 46914, 46916]\n",
      "iter3| [8397, 8419, 8434, 34954, 35024, 35092, 35122, 8423, 8452, 8454]\n",
      "iter4| [15375, 15400, 15405, 15448, 15460, 15478, 15495, 15506, 15507, 15508]\n",
      "iter5| [30211, 30212, 30228, 30232, 30233, 30238, 30239, 30242, 30250, 30257]\n",
      "iter6| [54524, 54560, 38411, 38415, 38458, 38473, 38504, 38628, 38656, 54547]\n",
      "iter7| [51489, 29420, 29625, 0, 1, 2, 3, 4, 5, 6]\n",
      "iter8| [17368, 17370, 17371, 17372, 17373, 17375, 17376, 17377, 17380, 17384]\n",
      "iter9| [38926, 38942, 38951, 38952, 39038, 39100, 39154, 39490, 39527, 38932]\n",
      "iter10| [34906, 51950, 51957, 51990, 51996, 52020, 52078, 52133, 52142, 25562]\n",
      "====================================================================================================\n",
      "average time: 0.9456707239151001\n"
     ]
    }
   ],
   "source": [
    "iterNum = 10\n",
    "sizes = np.random.randint(low=1, high=10, size=iterNum)\n",
    "addTime = 0\n",
    "for i, size in enumerate(sizes):\n",
    "    r = np.random.randint(low=1, high=2855, size=size)\n",
    "    userProfile = np.zeros((1,len(genres_dic)+1))\n",
    "    userProfile[0,r] = 1.0\n",
    "    start = time.time()\n",
    "    best = linear_search(KorBookMatrix, userProfile, 100)\n",
    "    addTime += time.time()-start\n",
    "    print(f\"iter{i+1}|\",best[:10])\n",
    "\n",
    "print(\"=\"*100)\n",
    "print(\"average time:\",addTime/iterNum)"
>>>>>>> cf1ccebb782f5c56896b689abaf2a0e7b2f76236
   ]
  },
  {
   "cell_type": "markdown",
   "metadata": {},
   "source": [
<<<<<<< HEAD
    "# only get \"genre\" from user."
   ]
  },
  {
   "cell_type": "markdown",
   "metadata": {},
   "source": [
    "### general \"content based linear search\""
=======
    "### LSH를 통한 content based search"
>>>>>>> cf1ccebb782f5c56896b689abaf2a0e7b2f76236
   ]
  },
  {
   "cell_type": "code",
<<<<<<< HEAD
   "execution_count": 15,
=======
   "execution_count": 327,
>>>>>>> cf1ccebb782f5c56896b689abaf2a0e7b2f76236
   "metadata": {},
   "outputs": [],
   "source": [
    "# k == the number of \"row\"\n",
    "# L == the number of \"band\"\n",
    "DIMENSION = 2855\n",
    "\n",
    "def create_function(dimensions, thresholds):\n",
    "    def f(v):\n",
    "        boolarray = [v[dimensions[i]] >= thresholds[i] for i in range(len(dimensions))]\n",
    "        return \"\".join(map(str, map(int, boolarray)))\n",
    "    return f\n",
    "\n",
    "\n",
    "def create_functions(k, L, num_dimensions = DIMENSION, min=0, max=1):\n",
    "    functions = []\n",
    "    for i in range(L):\n",
    "        dimensions = np.random.randint(low = 0,\n",
    "                                        high = num_dimensions,\n",
    "                                        size = k)\n",
    "        thresholds = np.random.randint(low = min,\n",
    "                                        high = max+1,\n",
    "                                        size = k)\n",
    "        functions.append(create_function(dimensions, thresholds))\n",
    "    return functions\n",
    "\n",
    "\n",
    "# 하나의 shingling에 대한 hash_vector 추출\n",
    "def hash_vector(functions, v):\n",
    "    return np.array([f(v) for f in functions])\n",
    "\n",
    "\n",
    "def hash_data(functions, A):\n",
    "    # v(shape:(400,)) is a each row of A(matrix)(shape:(59499, 400))\n",
    "    return np.array(list(map(lambda v: hash_vector(functions, v), A)))\n",
    "\n",
    "\n",
    "# 하나의 band라도 맞으면 filtering됨.\n",
    "def get_candidates(hashed_A, hashed_point):\n",
    "    return filter(lambda i: any(hashed_point == hashed_A[i]), range(len(hashed_A)))\n",
    "\n",
    "\n",
    "# return == (hash functions, signature matrix of A)\n",
    "def lsh_setup(A, k = 20, L = 70):\n",
    "    functions = create_functions(k = k, L = L)\n",
    "    hashed_A = hash_data(functions, A)\n",
    "    return (functions, hashed_A)\n",
    "\n",
    "\n",
    "def lsh_search(A, hashed_A, functions, userProfile, topNum = 10):\n",
    "    # A == KorBookProfile\n",
    "    # hashed_A == signature matrix of KorBookProfile\n",
    "    # 원래 데이터 vector에서 hash-vector 추출\n",
    "    hashed_userProfile = hash_vector(functions, userProfile[0])\n",
    "    candidate_row_nums = get_candidates(hashed_A, hashed_userProfile)\n",
    "    similarity = map(lambda r: (A[r,0], cos_similarity(A[r,1:DIMENSION+1], userProfile[0,1:])), candidate_row_nums)\n",
    "    best = sorted(similarity, key=lambda t: -t[1])[:topNum]\n",
    "    return [int(t[0]) for t in best]\n",
    "    # return [t for t in best]"
   ]
  },
  {
   "cell_type": "code",
<<<<<<< HEAD
   "execution_count": 16,
=======
   "execution_count": 328,
>>>>>>> cf1ccebb782f5c56896b689abaf2a0e7b2f76236
   "metadata": {},
   "outputs": [
    {
     "name": "stdout",
     "output_type": "stream",
     "text": [
      "(43925, 2855)\n",
      "(43925, 1)\n"
     ]
    }
   ],
   "source": [
<<<<<<< HEAD
    "def linear_search(KorBookMatrix, userProfile, topNum, genre_dim):\n",
    "    similarity = map(\n",
    "        lambda bookProfile: \\\n",
    "            (int(bookProfile[0]),cos_similarity(bookProfile[1:genre_dim+1], userProfile[0,1:]))\n",
    "            ,KorBookMatrix)\n",
    "    best = sorted(similarity, key=lambda t: -t[1])[:topNum]\n",
    "    return [t[0] for t in best]\n",
    "    # return [t for t in best]\n"
=======
    "A = KorBookMatrix[:,1:2856]\n",
    "print(A.shape)\n",
    "funcs, hashed_A = lsh_setup(A, k=1, L=1)\n",
    "print(hashed_A.shape)"
   ]
  },
  {
   "cell_type": "code",
   "execution_count": 329,
   "metadata": {},
   "outputs": [
    {
     "name": "stdout",
     "output_type": "stream",
     "text": [
      "5, 27, 39, 287, 1010, \n"
     ]
    }
   ],
   "source": [
    "# test genres\n",
    "genres = [\"소설\", \"한국소설\", \"역사/대하소설\", \"장르소설\", \"역사소설\"]\n",
    "\n",
    "# 0을 남겨둠\n",
    "userProfile = np.zeros((1,len(genres_dic)+1))\n",
    "for genre in genres:\n",
    "    userProfile[0,genres_dic[genre]] = 1.\n",
    "\n",
    "for i in range(len(userProfile[0])):\n",
    "    if userProfile[0,i] == 1.0:\n",
    "        print(i,end=\", \")\n",
    "\n",
    "print()"
>>>>>>> cf1ccebb782f5c56896b689abaf2a0e7b2f76236
   ]
  },
  {
   "cell_type": "code",
<<<<<<< HEAD
   "execution_count": 17,
=======
   "execution_count": 321,
>>>>>>> cf1ccebb782f5c56896b689abaf2a0e7b2f76236
   "metadata": {},
   "outputs": [
    {
     "name": "stdout",
     "output_type": "stream",
     "text": [
<<<<<<< HEAD
      "5, 27, 40, 282, 1001, "
     ]
    }
   ],
   "source": [
    "\n",
    "# test genres\n",
    "genres = [\"소설\", \"한국소설\", \"역사/대하소설\", \"장르소설\", \"역사소설\"]\n",
    "\n",
    "# 0을 남겨둠\n",
    "userProfile = np.zeros((1,len(genres_dic)+1))\n",
    "for genre in genres:\n",
    "    userProfile[0,genres_dic[genre]] = 1.\n",
    "\n",
    "for i in range(len(userProfile[0])):\n",
    "    if userProfile[0,i] == 1.0:\n",
    "        print(i,end=\", \")"
   ]
  },
  {
   "cell_type": "code",
   "execution_count": 18,
   "metadata": {},
   "outputs": [
    {
     "name": "stdout",
     "output_type": "stream",
     "text": [
      "[0, 42, 122, 129, 184, 198, 202, 205, 216, 246]\n",
      "====================================================================================================\n",
      "1.0399692058563232 (second)\n"
=======
      "[0, 42, 129, 184, 198, 202, 205, 216, 246, 306]\n",
      "====================================================================================================\n",
      "1.1160027980804443 (second)\n"
>>>>>>> cf1ccebb782f5c56896b689abaf2a0e7b2f76236
     ]
    }
   ],
   "source": [
    "start = time.time()\n",
<<<<<<< HEAD
    "print(linear_search(KorBookMatrix, userProfile, 100, GENRE_DIM)[:10])\n",
=======
    "print(lsh_search(KorBookMatrix, hashed_A, funcs, userProfile, 100)[:10])\n",
>>>>>>> cf1ccebb782f5c56896b689abaf2a0e7b2f76236
    "print(\"=\"*100)\n",
    "print(time.time()-start,\"(second)\")"
   ]
  },
  {
   "cell_type": "code",
<<<<<<< HEAD
   "execution_count": 21,
=======
   "execution_count": 141,
>>>>>>> cf1ccebb782f5c56896b689abaf2a0e7b2f76236
   "metadata": {},
   "outputs": [
    {
     "name": "stdout",
     "output_type": "stream",
     "text": [
<<<<<<< HEAD
      "iter1| [14877, 14910, 14912, 14928, 14930, 14937, 14944, 14964, 14968, 14970]\n",
      "iter2| [46654, 46655, 46656, 46657, 46658, 46660, 46661, 46662, 46663, 46664]\n",
      "iter3| [11372, 11373, 11377, 11394, 11407, 11410, 11414, 11418, 11420, 11431]\n",
      "iter4| [31421, 31424, 31443, 31471, 31485, 31489, 31492, 31503, 31505, 31515]\n",
      "iter5| [55662, 55669, 55674, 55675, 55679, 55680, 55681, 55694, 55696, 55704]\n",
      "iter6| [54909, 54912, 54918, 54926, 54933, 54938, 54946, 54948, 54956, 54960]\n",
      "iter7| [35409, 35415, 35468, 35520, 35540, 35541, 35594, 27428, 27429, 27433]\n",
      "iter8| [11367, 12369, 12370, 12371, 12373, 12374, 12375, 12376, 12382, 12384]\n",
      "iter9| [24941, 0, 1, 2, 6, 7, 12, 13, 14, 15]\n",
      "iter10| [4370, 4371, 4372, 4373, 4374, 4375, 4376, 4377, 4378, 4380]\n",
      "iter11| [13397, 13404, 13411, 13416, 13417, 13420, 13422, 13425, 13428, 13432]\n",
      "iter12| [22926, 22936, 22964, 22966, 23006, 23015, 23024, 23046, 23056, 23071]\n",
      "iter13| [24916, 24919, 24936, 24937, 24941, 24947, 24948, 24959, 24969, 24974]\n",
      "iter14| [28945, 28959, 29149, 29160, 28923, 28936, 28938, 28939, 28952, 28953]\n",
      "iter15| [28160, 27919, 27922, 27927, 27931, 27948, 27964, 27965, 27979, 27993]\n",
      "iter16| [25689, 25696, 25709, 25749, 25752, 25754, 25769, 25795, 25802, 25810]\n",
      "iter17| [17408, 17436, 17448, 17457, 17485, 17488, 17617, 17640, 17702, 17741]\n",
      "iter18| [12397, 12410, 12423, 12424, 12425, 12427, 12435, 12437, 12438, 12445]\n",
      "iter19| [34915, 34928, 34931, 34949, 34953, 34955, 34971, 34979, 34992, 34993]\n",
      "iter20| [20447, 42918, 42922, 42931, 30128, 20583, 20591, 20694, 20701, 42956]\n",
      "====================================================================================================\n",
      "average time: 0.9489548444747925\n"
=======
      "error: 0.9999999999999998\n"
     ]
    }
   ],
   "source": [
    "x = np.array(lsh_search(KorBookMatrix, hashed_A, funcs, userProfile, 100))\n",
    "y = np.array(linear_search(KorBookMatrix, userProfile, 100))\n",
    "print(\"error:\",cos_similarity(x, y))"
   ]
  },
  {
   "cell_type": "code",
   "execution_count": 330,
   "metadata": {},
   "outputs": [
    {
     "name": "stdout",
     "output_type": "stream",
     "text": [
      "iter1| [57399, 57400, 57401, 57402, 57403, 57404, 57405, 57406, 57407, 57409]\n",
      "iter1| similarity:  1.0\n",
      "--------------------------------------------------\n",
      "iter2| [27263, 27264, 27292, 27294, 27305, 27346, 33907, 33909, 33910, 33912]\n",
      "iter2| similarity:  1.0000000000000002\n",
      "--------------------------------------------------\n",
      "iter3| [13399, 13617, 33232, 33286, 33306, 33320, 33324, 33325, 33356, 50036]\n",
      "iter3| similarity:  1.0\n",
      "--------------------------------------------------\n",
      "iter4| [10630, 10668, 50712, 42907, 42910, 42918, 42920, 42922, 42923, 42931]\n",
      "iter4| similarity:  1.0\n",
      "--------------------------------------------------\n",
      "iter5| [10402, 10406, 10445, 10647, 10651, 10686, 10689, 10704, 10849, 13381]\n",
      "iter5| similarity:  1.0000000000000002\n",
      "--------------------------------------------------\n",
      "iter6| [27667, 27672, 27679, 27692, 27698, 27701, 27712, 27719, 27731, 27740]\n",
      "iter6| similarity:  1.0000000000000002\n",
      "--------------------------------------------------\n",
      "iter7| [18214, 17870, 17871, 17876, 17879, 17880, 17882, 17886, 17887, 17889]\n",
      "iter7| similarity:  1.0\n",
      "--------------------------------------------------\n",
      "iter8| [30166, 30173, 30180, 30182, 30189, 30224, 30226, 30268, 30301, 30320]\n",
      "iter8| similarity:  1.0000000000000002\n",
      "--------------------------------------------------\n",
      "iter9| [19899, 19931, 19935, 19970, 20166, 20167, 20194, 20225, 20245, 20248]\n",
      "iter9| similarity:  1.0\n",
      "--------------------------------------------------\n",
      "iter10| [13395, 13403, 13561, 13658, 13674, 13695, 13786, 13793, 13804, 17871]\n",
      "iter10| similarity:  1.0\n",
      "--------------------------------------------------\n",
      "==================================================\n",
      "average time: 1.0122608184814452\n"
>>>>>>> cf1ccebb782f5c56896b689abaf2a0e7b2f76236
     ]
    }
   ],
   "source": [
<<<<<<< HEAD
    "iterNum = 20\n",
=======
    "iterNum = 10\n",
>>>>>>> cf1ccebb782f5c56896b689abaf2a0e7b2f76236
    "sizes = np.random.randint(low=1, high=10, size=iterNum)\n",
    "addTime = 0\n",
    "# avgErr = 0\n",
    "for i, size in enumerate(sizes):\n",
<<<<<<< HEAD
    "    r = np.random.randint(low=1, high=GENRE_DIM, size=size)\n",
    "    userProfile = np.zeros((1,len(genres_dic)+1))\n",
    "    userProfile[0,r] = 1.0\n",
    "    start = time.time()\n",
    "    best = linear_search(KorBookMatrix, userProfile, 100, GENRE_DIM)\n",
    "    addTime += time.time()-start\n",
    "    print(f\"iter{i+1}|\",best[:10])\n",
    "\n",
    "print(\"=\"*100)\n",
    "print(\"average time:\",addTime/iterNum) # linear search average time"
=======
    "    r = np.random.randint(low=1, high=DIMENSION, size=size)\n",
    "    userProfile = np.zeros((1,len(genres_dic)+1))\n",
    "    userProfile[0,r] = 1.0\n",
    "    start = time.time()\n",
    "    best = lsh_search(KorBookMatrix, hashed_A, funcs, userProfile, 100)\n",
    "    addTime += time.time()-start\n",
    "    x = np.array(best)\n",
    "    y = np.array(linear_search(KorBookMatrix, userProfile, 100))\n",
    "    print(f\"iter{i+1}|\",best[:10])\n",
    "    print(f\"iter{i+1}| similarity: \",cos_similarity(x, y))\n",
    "    print(\"-\"*50)\n",
    "\n",
    "print(\"=\"*50)\n",
    "print(\"average time:\",addTime/iterNum)"
>>>>>>> cf1ccebb782f5c56896b689abaf2a0e7b2f76236
   ]
  },
  {
   "cell_type": "markdown",
   "metadata": {},
   "source": [
<<<<<<< HEAD
    "### LSH를 통한 content based search"
=======
    "# book과 genre를 같이 받았을 경우"
>>>>>>> cf1ccebb782f5c56896b689abaf2a0e7b2f76236
   ]
  },
  {
   "cell_type": "code",
<<<<<<< HEAD
   "execution_count": 22,
   "metadata": {},
   "outputs": [],
   "source": [
    "# k == the number of \"row\"\n",
    "# L == the number of \"band\"\n",
    "def create_function(dimensions, thresholds):\n",
    "    def f(v):\n",
    "        boolarray = [v[dimensions[i]] >= thresholds[i] for i in range(len(dimensions))]\n",
    "        return \"\".join(map(str, map(int, boolarray)))\n",
    "    return f\n",
    "\n",
    "\n",
    "def create_functions(k, L, num_dimensions = GENRE_DIM, min=0, max=1):\n",
    "    functions = []\n",
    "    for i in range(L):\n",
    "        dimensions = np.random.randint(low = 0,\n",
    "                                        high = num_dimensions,\n",
    "                                        size = k)\n",
    "        thresholds = np.random.randint(low = min,\n",
    "                                        high = max+1,\n",
    "                                        size = k)\n",
    "        functions.append(create_function(dimensions, thresholds))\n",
    "    return functions\n",
    "\n",
    "\n",
    "# 하나의 shingling에 대한 hash_vector 추출\n",
    "def hash_vector(functions, v):\n",
    "    return np.array([f(v) for f in functions])\n",
    "\n",
    "\n",
    "def hash_data(functions, A):\n",
    "    # v(shape:(400,)) is a each row of A(matrix)(shape:(59499, 400))\n",
    "    return np.array(list(map(lambda v: hash_vector(functions, v), A)))\n",
    "\n",
    "\n",
    "# 하나의 band라도 맞으면 filtering됨.\n",
    "def get_candidates(hashed_A, hashed_point):\n",
    "    return filter(lambda i: any(hashed_point == hashed_A[i]), range(len(hashed_A)))\n",
    "\n",
    "\n",
    "# return == (hash functions, signature matrix of A)\n",
    "def lsh_setup(A, k = 20, L = 70):\n",
    "    functions = create_functions(k = k, L = L)\n",
    "    hashed_A = hash_data(functions, A)\n",
    "    return (functions, hashed_A)\n",
    "\n",
    "\n",
    "def lsh_search(A, hashed_A, functions, userProfile, topNum = 10):\n",
    "    # A == KorBookProfile\n",
    "    # hashed_A == signature matrix of KorBookProfile\n",
    "    # 원래 데이터 vector에서 hash-vector 추출\n",
    "    hashed_userProfile = hash_vector(functions, userProfile[0])\n",
    "    candidate_row_nums = get_candidates(hashed_A, hashed_userProfile)\n",
    "    similarity = map(lambda r: (A[r,0], cos_similarity(A[r,1:GENRE_DIM+1], userProfile[0,1:])), candidate_row_nums)\n",
    "    best = sorted(similarity, key=lambda t: -t[1])[:topNum]\n",
    "    return [int(t[0]) for t in best]\n",
    "    # return [t for t in best]"
=======
   "execution_count": null,
   "metadata": {},
   "outputs": [],
   "source": [
    "import hashlib\n",
    "def myHash(s):\n",
    "    if s == None:\n",
    "        return 0\n",
    "    else:\n",
    "        return int(hashlib.sha1(s.encode(\"utf-8\")).hexdigest(), 16) % (10 ** 9)"
>>>>>>> cf1ccebb782f5c56896b689abaf2a0e7b2f76236
   ]
  },
  {
   "cell_type": "code",
<<<<<<< HEAD
   "execution_count": 23,
=======
   "execution_count": 153,
>>>>>>> cf1ccebb782f5c56896b689abaf2a0e7b2f76236
   "metadata": {},
   "outputs": [
    {
     "name": "stdout",
     "output_type": "stream",
     "text": [
<<<<<<< HEAD
      "(43511, 2847)\n",
      "(43511, 1)\n"
=======
      "<class 'numpy.int64'>\n",
      "0\n"
>>>>>>> cf1ccebb782f5c56896b689abaf2a0e7b2f76236
     ]
    }
   ],
   "source": [
<<<<<<< HEAD
    "A = KorBookMatrix[:,1:GENRE_DIM]\n",
    "print(A.shape)\n",
    "funcs, hashed_A = lsh_setup(A, k=1, L=1)\n",
    "print(hashed_A.shape)"
=======
    "print(type(KorBookMatrix[0,1]))\n",
    "print((KorBookMatrix[0,1]))"
>>>>>>> cf1ccebb782f5c56896b689abaf2a0e7b2f76236
   ]
  },
  {
   "cell_type": "code",
   "execution_count": 24,
   "metadata": {},
   "outputs": [
    {
     "name": "stdout",
     "output_type": "stream",
     "text": [
      "5, 27, 40, 282, 1001, \n"
     ]
    }
   ],
   "source": [
<<<<<<< HEAD
    "# test genres\n",
    "genres = [\"소설\", \"한국소설\", \"역사/대하소설\", \"장르소설\", \"역사소설\"]\n",
    "\n",
    "# 0을 남겨둠\n",
    "userProfile = np.zeros((1,len(genres_dic)+1))\n",
    "for genre in genres:\n",
    "    userProfile[0,genres_dic[genre]] = 1.\n",
    "\n",
    "for i in range(len(userProfile[0])):\n",
    "    if userProfile[0,i] == 1.0:\n",
    "        print(i,end=\", \")\n",
    "\n",
    "print()"
=======
    "### book과 genre 모두를 각각 vector로 하여 user profile을 matrix으로 만들어 search "
>>>>>>> cf1ccebb782f5c56896b689abaf2a0e7b2f76236
   ]
  },
  {
   "cell_type": "code",
<<<<<<< HEAD
   "execution_count": 25,
=======
   "execution_count": 156,
>>>>>>> cf1ccebb782f5c56896b689abaf2a0e7b2f76236
   "metadata": {},
   "outputs": [
    {
     "name": "stdout",
     "output_type": "stream",
     "text": [
      "[0, 42, 122, 129, 184, 198, 202, 205, 216, 246]\n",
      "====================================================================================================\n",
      "1.0741381645202637 (second)\n"
     ]
    }
   ],
   "source": [
<<<<<<< HEAD
    "start = time.time()\n",
    "print(lsh_search(KorBookMatrix, hashed_A, funcs, userProfile, 100)[:10])\n",
    "print(\"=\"*100)\n",
    "print(time.time()-start,\"(second)\")"
   ]
  },
  {
   "cell_type": "code",
   "execution_count": 27,
   "metadata": {},
   "outputs": [
    {
     "name": "stdout",
     "output_type": "stream",
     "text": [
      "error: 1.0\n"
     ]
    }
   ],
   "source": [
    "x = np.array(lsh_search(KorBookMatrix, hashed_A, funcs, userProfile, 100))\n",
    "y = np.array(linear_search(KorBookMatrix, userProfile, 100, GENRE_DIM))\n",
    "print(\"error:\",cos_similarity(x, y))"
   ]
  },
  {
   "cell_type": "code",
   "execution_count": 29,
   "metadata": {},
   "outputs": [
    {
     "name": "stdout",
     "output_type": "stream",
     "text": [
      "iter1| [55564, 7404, 7467, 7508, 7627, 7634, 7661, 7867, 42910, 42940]\n",
      "iter1| similarity:  1.0000000000000002\n",
      "--------------------------------------------------\n",
      "iter2| [30918, 30943, 30956, 30969, 30983, 31034, 31054, 50659, 50672, 50688]\n",
      "iter2| similarity:  1.0000000000000002\n",
      "--------------------------------------------------\n",
      "iter3| [42283, 43163, 43248, 43283, 41663, 40158, 40165, 40239, 40245, 40252]\n",
      "iter3| similarity:  1.0\n",
      "--------------------------------------------------\n",
      "iter4| [54682, 54741, 54747, 54750, 54762, 54765, 54770, 54775, 54785, 54791]\n",
      "iter4| similarity:  1.0\n",
      "--------------------------------------------------\n",
      "iter5| [14870, 14871, 14872, 14877, 14882, 14883, 14887, 14891, 14893, 14894]\n",
      "iter5| similarity:  0.9999999999999998\n",
      "--------------------------------------------------\n",
      "iter6| [28763, 28772, 28789, 28824, 28857, 28876, 28891, 34712, 8298, 28696]\n",
      "iter6| similarity:  0.9999999999999998\n",
      "--------------------------------------------------\n",
      "iter7| [48654, 48655, 48656, 48657, 48659, 48662, 48663, 48665, 48666, 48668]\n",
      "iter7| similarity:  1.0000000000000002\n",
      "--------------------------------------------------\n",
      "iter8| [31172, 31306, 4927, 5046, 31166, 31167, 31178, 31182, 31193, 31196]\n",
      "iter8| similarity:  1.0\n",
      "--------------------------------------------------\n",
      "iter9| [54154, 54155, 54158, 54159, 54160, 54163, 54169, 54171, 54173, 54175]\n",
      "iter9| similarity:  0.9999999999999999\n",
      "--------------------------------------------------\n",
      "iter10| [55206, 55240, 55241, 55303, 55340, 55351, 55397, 7872, 7877, 7878]\n",
      "iter10| similarity:  1.0000000000000002\n",
      "--------------------------------------------------\n",
      "==================================================\n",
      "average time: 1.0043157100677491\n"
     ]
    }
   ],
   "source": [
    "iterNum = 10\n",
    "sizes = np.random.randint(low=1, high=10, size=iterNum)\n",
    "addTime = 0\n",
    "# avgErr = 0\n",
    "for i, size in enumerate(sizes):\n",
    "    r = np.random.randint(low=1, high=GENRE_DIM, size=size)\n",
    "    userProfile = np.zeros((1,len(genres_dic)+1))\n",
    "    userProfile[0,r] = 1.0\n",
    "    start = time.time()\n",
    "    best = lsh_search(KorBookMatrix, hashed_A, funcs, userProfile, 100)\n",
    "    addTime += time.time()-start\n",
    "    x = np.array(best)\n",
    "    y = np.array(linear_search(KorBookMatrix, userProfile, 100, GENRE_DIM))\n",
    "    print(f\"iter{i+1}|\",best[:10])\n",
    "    print(f\"iter{i+1}| similarity: \",cos_similarity(x, y))\n",
    "    print(\"-\"*50)\n",
    "\n",
    "print(\"=\"*50)\n",
    "print(\"average time:\",addTime/iterNum) # lsh search average time"
=======
    "# from numpy.linalg import norm\n",
    "\n",
    "# def mySimilarity(x :np.array, user :np.array):\n",
    "#     similarity = 0\n",
    "#     for i in user:\n",
    "#         similarity += cos_similarity(i,x)\n",
    "#     return ( similarity/user.shape[0] )"
>>>>>>> cf1ccebb782f5c56896b689abaf2a0e7b2f76236
   ]
  },
  {
   "cell_type": "code",
   "execution_count": 204,
   "metadata": {},
   "outputs": [
    {
     "name": "stdout",
     "output_type": "stream",
     "text": [
      "(3, 2857)\n",
      "0.0\n",
      "470449543.0\n",
      "470449543\n",
      "514441238.0\n",
      "514441238\n"
     ]
    }
   ],
   "source": [
    "# # test setting\n",
    "# genres = [\"소설\", \"한국소설\", \"역사/대하소설\", \"장르소설\", \"역사소설\"]\n",
    "# data = [\n",
    "#     {\n",
    "#         \"author\":\"정지아\",\n",
    "#         \"id\":1,\n",
    "#         \"genres\":[\"소설\", \"한국소설\",\"한국소설일반\"]\n",
    "#     },\n",
    "#     {\n",
    "#         \"author\":\"이미예\",\n",
    "#         \"id\":8,\n",
    "#         \"genres\":[\"소설\", \"한국소설\",\"판타지소설\",\"장르소설\"]\n",
    "#     }\n",
    "# ]\n",
    "\n",
    "# # 0을 남겨둠\n",
    "# usrPro01 = np.zeros((1, len(genres_dic)+2))\n",
    "# for genre in genres:\n",
    "#     usrPro01[0,genres_dic[genre]] = 1.\n",
    "\n",
    "# userProfile = [usrPro01]\n",
    "# for one in data:\n",
    "#     temp = np.zeros((1, len(genres_dic)+2))\n",
    "#     for genre in one[\"genres\"]:\n",
    "#         temp[0,genres_dic[genre]] = 1.\n",
    "#     temp[0,0] = (one[\"id\"])\n",
    "#     temp[0,-1] = myHash(one[\"author\"])\n",
    "#     userProfile.append(temp)\n",
    "\n",
    "# userProfile = np.concatenate(userProfile)\n",
    "# print(userProfile.shape)\n",
    "# print(userProfile[0,-1])\n",
    "# print(userProfile[1,-1])\n",
    "# print(myHash(\"정지아\"))\n",
    "# print(userProfile[2,-1])\n",
    "# print(myHash(\"이미예\"))"
   ]
  },
  {
   "cell_type": "code",
<<<<<<< HEAD
   "execution_count": 99,
   "metadata": {},
   "outputs": [],
   "source": [
    "import hashlib\n",
    "def myHash(s):\n",
    "    if s == None:\n",
    "        return 0\n",
    "    else:\n",
    "        return int(hashlib.sha1(s.encode(\"utf-8\")).hexdigest(), 16) % (10 ** 9)"
   ]
  },
  {
   "cell_type": "markdown",
=======
   "execution_count": 206,
>>>>>>> cf1ccebb782f5c56896b689abaf2a0e7b2f76236
   "metadata": {},
   "outputs": [
    {
     "name": "stdout",
     "output_type": "stream",
     "text": [
      "470449543.0\n",
      "470449543\n",
      "true\n"
     ]
    }
   ],
   "source": [
    "# print(userProfile[1,-1])\n",
    "# print(myHash(\"정지아\"))\n",
    "# if userProfile[1,-1]==(myHash(\"정지아\")):\n",
    "#     print(\"true\")"
   ]
  },
  {
   "cell_type": "code",
<<<<<<< HEAD
   "execution_count": 101,
   "metadata": {},
   "outputs": [],
   "source": [
    "def multi_linear_search(ForBookMatrix, userProfile, topNum, genre_dim):\n",
    "    similarity = map(\n",
    "        lambda bookProfile: (\n",
    "            int(bookProfile[0]),\n",
    "            np.max([ cos_similarity(bookProfile[1:genre_dim+1],userProfile[i,1:-1]) for i in range(len(userProfile)) ])\n",
    "        )\n",
    "        ,KorBookMatrix\n",
    "    )\n",
    "    best = sorted(similarity, key=lambda t: -t[1])[:topNum]\n",
    "    return [t[0] for t in best]\n",
    "    # return [t for t in best]\n"
=======
   "execution_count": 197,
   "metadata": {},
   "outputs": [
    {
     "name": "stdout",
     "output_type": "stream",
     "text": [
      "(3, 2856)\n",
      "0.0\n",
      "470449543.0\n"
     ]
    }
   ],
   "source": [
    "# temp = userProfile[:,1:]\n",
    "# print(temp.shape)\n",
    "# print(temp[0,-1])\n",
    "# print(temp[1,-1])"
   ]
  },
  {
   "cell_type": "code",
   "execution_count": 198,
   "metadata": {},
   "outputs": [],
   "source": [
    "# def linear_search(KorBookMatrix, userProfile, topNum):\n",
    "#     similarity = map(\n",
    "#         lambda bookProfile: \\\n",
    "#             (int(bookProfile[0]),mySimilarity(bookProfile[1:], userProfile[:,1:]))\n",
    "#             ,KorBookMatrix)\n",
    "#     best = sorted(similarity, key=lambda t: -t[1])[:topNum]\n",
    "#     return [t[0] for t in best]\n",
    "#     # return [t for t in best]\n"
>>>>>>> cf1ccebb782f5c56896b689abaf2a0e7b2f76236
   ]
  },
  {
   "cell_type": "code",
<<<<<<< HEAD
   "execution_count": 108,
   "metadata": {},
   "outputs": [
    {
     "name": "stdout",
     "output_type": "stream",
     "text": [
      "5\n",
      "5\n",
      "(6, 2850)\n",
      "\n",
      "[0, 5153, 2675, 1893, 1808, 1246]\n",
      "\n",
      "[0.0, 611530178.0, 268103269.0, 113137678.0, 132245888.0, 300236986.0]\n",
      "\n",
      "[5, 6, 4, 3, 4, 4]\n",
      "\n"
     ]
    }
   ],
   "source": [
    "# test setting\n",
    "# data = [\n",
    "#     {\n",
    "#         \"author\":\"정지아\",\n",
    "#         \"id\":1,\n",
    "#         \"genres\":[\"소설\", \"한국소설\",\"한국소설일반\"]\n",
    "#     },\n",
    "#     {\n",
    "#         \"author\":\"이미예\",\n",
    "#         \"id\":8,\n",
    "#         \"genres\":[\"소설\", \"한국소설\",\"판타지소설\",\"장르소설\"]\n",
    "#     }\n",
    "# ]\n",
    "\n",
    "import sqlite3\n",
    "\n",
    "tableName = \"Korean_book\"\n",
    "con = sqlite3.connect(\"../Books.db\")\n",
    "cur = con.cursor()\n",
    "\n",
    "data = []\n",
    "count = 0\n",
    "SIZE_OF_USER_PROFILE = 5\n",
    "rowid_list = np.random.randint(low=1, high=10000, size=100000)\n",
    "for rowid in rowid_list:\n",
    "    if count >= SIZE_OF_USER_PROFILE:\n",
    "        break\n",
    "    cur.execute(f\"SELECT id, author, genres FROM {tableName} WHERE id=={rowid}\")\n",
    "    try:\n",
    "        temp = cur.fetchall()[0]\n",
    "    except:\n",
    "        continue\n",
    "    temp = {\n",
    "        \"id\": temp[0],\n",
    "        \"author\": temp[1],\n",
    "        \"genres\": temp[2].split(\",\")[1:]\n",
    "    }\n",
    "    data.append(temp)\n",
    "    count+=1\n",
    "\n",
    "genres = [\"소설\", \"한국소설\", \"역사/대하소설\", \"장르소설\", \"역사소설\"]\n",
    "print(len(data))\n",
    "print(count)\n",
    "\n",
    "\n",
    "# 0을 남겨둠\n",
    "usrPro01 = np.zeros((1, len(genres_dic)+2))\n",
    "for genre in genres:\n",
    "    usrPro01[0,genres_dic[genre]] = 1.\n",
    "\n",
    "userProfile = [usrPro01]\n",
    "for one in data:\n",
    "    temp = np.zeros((1, len(genres_dic)+2))\n",
    "    for genre in one[\"genres\"]:\n",
    "        temp[0,genres_dic[genre]] = 1.\n",
    "    temp[0,0] = (one[\"id\"])\n",
    "    temp[0,-1] = myHash(one[\"author\"])\n",
    "    userProfile.append(temp)\n",
    "userProfile = np.concatenate(userProfile)\n",
    "\n",
    "\n",
    "print(userProfile.shape)\n",
    "print()\n",
    "print([int(userProfile[i,0]) for i in range(len(userProfile))])\n",
    "print()\n",
    "print([userProfile[i,-1] for i in range(len(userProfile))])\n",
    "print()\n",
    "print([int(userProfile[i,1:-1].sum()) for i in range(len(userProfile))])\n",
    "print()"
   ]
  },
  {
   "cell_type": "code",
   "execution_count": 111,
   "metadata": {},
   "outputs": [
    {
     "name": "stdout",
     "output_type": "stream",
     "text": [
      "best:  [9373, 9375, 9378, 9380, 9382, 9384, 9386, 9387, 9394, 9396]\n",
      "average time:  2.3276937007904053 (second)\n",
      "shape of userProfile:  (2, 2850)\n",
      "====================================================================================================\n",
      "best:  [9373, 9375, 9378, 9380, 9382, 9384, 9386, 9387, 9394, 9396]\n",
      "average time:  3.153485059738159 (second)\n",
      "shape of userProfile:  (3, 2850)\n",
      "====================================================================================================\n",
      "best:  [9373, 9375, 9378, 9380, 9382, 9384, 9386, 9387, 9394, 9396]\n",
      "average time:  3.9905173778533936 (second)\n",
      "shape of userProfile:  (4, 2850)\n",
      "====================================================================================================\n",
      "best:  [9373, 9375, 9378, 9380, 9382, 9384, 9386, 9387, 9394, 9396]\n",
      "average time:  5.025768518447876 (second)\n",
      "shape of userProfile:  (5, 2850)\n",
      "====================================================================================================\n",
      "best:  [9373, 9375, 9378, 9380, 9382, 9384, 9386, 9387, 9394, 9396]\n",
      "average time:  5.791831731796265 (second)\n",
      "shape of userProfile:  (6, 2850)\n",
      "====================================================================================================\n"
=======
   "execution_count": 199,
   "metadata": {},
   "outputs": [
    {
     "name": "stderr",
     "output_type": "stream",
     "text": [
      "/home/ljj0512/.local/lib/python3.6/site-packages/ipykernel_launcher.py:4: RuntimeWarning: invalid value encountered in true_divide\n",
      "  after removing the cwd from sys.path.\n"
     ]
    },
    {
     "ename": "KeyboardInterrupt",
     "evalue": "",
     "output_type": "error",
     "traceback": [
      "\u001b[0;31m---------------------------------------------------------------------------\u001b[0m",
      "\u001b[0;31mKeyboardInterrupt\u001b[0m                         Traceback (most recent call last)",
      "\u001b[0;32m<ipython-input-199-935d565e1a77>\u001b[0m in \u001b[0;36m<module>\u001b[0;34m\u001b[0m\n\u001b[1;32m      1\u001b[0m \u001b[0mstart\u001b[0m \u001b[0;34m=\u001b[0m \u001b[0mtime\u001b[0m\u001b[0;34m.\u001b[0m\u001b[0mtime\u001b[0m\u001b[0;34m(\u001b[0m\u001b[0;34m)\u001b[0m\u001b[0;34m\u001b[0m\u001b[0;34m\u001b[0m\u001b[0m\n\u001b[0;32m----> 2\u001b[0;31m \u001b[0mprint\u001b[0m\u001b[0;34m(\u001b[0m\u001b[0mlinear_search\u001b[0m\u001b[0;34m(\u001b[0m\u001b[0mKorBookMatrix\u001b[0m\u001b[0;34m,\u001b[0m \u001b[0muserProfile\u001b[0m\u001b[0;34m,\u001b[0m \u001b[0;36m100\u001b[0m\u001b[0;34m)\u001b[0m\u001b[0;34m[\u001b[0m\u001b[0;34m:\u001b[0m\u001b[0;36m10\u001b[0m\u001b[0;34m]\u001b[0m\u001b[0;34m)\u001b[0m\u001b[0;34m\u001b[0m\u001b[0;34m\u001b[0m\u001b[0m\n\u001b[0m\u001b[1;32m      3\u001b[0m \u001b[0mprint\u001b[0m\u001b[0;34m(\u001b[0m\u001b[0;34m\"=\"\u001b[0m\u001b[0;34m*\u001b[0m\u001b[0;36m100\u001b[0m\u001b[0;34m)\u001b[0m\u001b[0;34m\u001b[0m\u001b[0;34m\u001b[0m\u001b[0m\n\u001b[1;32m      4\u001b[0m \u001b[0mprint\u001b[0m\u001b[0;34m(\u001b[0m\u001b[0mtime\u001b[0m\u001b[0;34m.\u001b[0m\u001b[0mtime\u001b[0m\u001b[0;34m(\u001b[0m\u001b[0;34m)\u001b[0m\u001b[0;34m-\u001b[0m\u001b[0mstart\u001b[0m\u001b[0;34m,\u001b[0m\u001b[0;34m\"(second)\"\u001b[0m\u001b[0;34m)\u001b[0m\u001b[0;34m\u001b[0m\u001b[0;34m\u001b[0m\u001b[0m\n",
      "\u001b[0;32m<ipython-input-198-51b477f8ac21>\u001b[0m in \u001b[0;36mlinear_search\u001b[0;34m(KorBookMatrix, userProfile, topNum)\u001b[0m\n\u001b[1;32m      4\u001b[0m             \u001b[0;34m(\u001b[0m\u001b[0mint\u001b[0m\u001b[0;34m(\u001b[0m\u001b[0mbookProfile\u001b[0m\u001b[0;34m[\u001b[0m\u001b[0;36m0\u001b[0m\u001b[0;34m]\u001b[0m\u001b[0;34m)\u001b[0m\u001b[0;34m,\u001b[0m\u001b[0mmySimilarity\u001b[0m\u001b[0;34m(\u001b[0m\u001b[0mbookProfile\u001b[0m\u001b[0;34m[\u001b[0m\u001b[0;36m1\u001b[0m\u001b[0;34m:\u001b[0m\u001b[0;34m]\u001b[0m\u001b[0;34m,\u001b[0m \u001b[0muserProfile\u001b[0m\u001b[0;34m[\u001b[0m\u001b[0;34m:\u001b[0m\u001b[0;34m,\u001b[0m\u001b[0;36m1\u001b[0m\u001b[0;34m:\u001b[0m\u001b[0;34m]\u001b[0m\u001b[0;34m)\u001b[0m\u001b[0;34m)\u001b[0m\u001b[0;34m\u001b[0m\u001b[0;34m\u001b[0m\u001b[0m\n\u001b[1;32m      5\u001b[0m             ,KorBookMatrix)\n\u001b[0;32m----> 6\u001b[0;31m     \u001b[0mbest\u001b[0m \u001b[0;34m=\u001b[0m \u001b[0msorted\u001b[0m\u001b[0;34m(\u001b[0m\u001b[0msimilarity\u001b[0m\u001b[0;34m,\u001b[0m \u001b[0mkey\u001b[0m\u001b[0;34m=\u001b[0m\u001b[0;32mlambda\u001b[0m \u001b[0mt\u001b[0m\u001b[0;34m:\u001b[0m \u001b[0;34m-\u001b[0m\u001b[0mt\u001b[0m\u001b[0;34m[\u001b[0m\u001b[0;36m1\u001b[0m\u001b[0;34m]\u001b[0m\u001b[0;34m)\u001b[0m\u001b[0;34m[\u001b[0m\u001b[0;34m:\u001b[0m\u001b[0mtopNum\u001b[0m\u001b[0;34m]\u001b[0m\u001b[0;34m\u001b[0m\u001b[0;34m\u001b[0m\u001b[0m\n\u001b[0m\u001b[1;32m      7\u001b[0m     \u001b[0;32mreturn\u001b[0m \u001b[0;34m[\u001b[0m\u001b[0mt\u001b[0m\u001b[0;34m[\u001b[0m\u001b[0;36m0\u001b[0m\u001b[0;34m]\u001b[0m \u001b[0;32mfor\u001b[0m \u001b[0mt\u001b[0m \u001b[0;32min\u001b[0m \u001b[0mbest\u001b[0m\u001b[0;34m]\u001b[0m\u001b[0;34m\u001b[0m\u001b[0;34m\u001b[0m\u001b[0m\n\u001b[1;32m      8\u001b[0m     \u001b[0;31m# return [t for t in best]\u001b[0m\u001b[0;34m\u001b[0m\u001b[0;34m\u001b[0m\u001b[0;34m\u001b[0m\u001b[0m\n",
      "\u001b[0;32m<ipython-input-198-51b477f8ac21>\u001b[0m in \u001b[0;36m<lambda>\u001b[0;34m(bookProfile)\u001b[0m\n\u001b[1;32m      2\u001b[0m     similarity = map(\n\u001b[1;32m      3\u001b[0m         \u001b[0;32mlambda\u001b[0m \u001b[0mbookProfile\u001b[0m\u001b[0;34m:\u001b[0m\u001b[0;31m \u001b[0m\u001b[0;31m\\\u001b[0m\u001b[0;34m\u001b[0m\u001b[0;34m\u001b[0m\u001b[0m\n\u001b[0;32m----> 4\u001b[0;31m             \u001b[0;34m(\u001b[0m\u001b[0mint\u001b[0m\u001b[0;34m(\u001b[0m\u001b[0mbookProfile\u001b[0m\u001b[0;34m[\u001b[0m\u001b[0;36m0\u001b[0m\u001b[0;34m]\u001b[0m\u001b[0;34m)\u001b[0m\u001b[0;34m,\u001b[0m\u001b[0mmySimilarity\u001b[0m\u001b[0;34m(\u001b[0m\u001b[0mbookProfile\u001b[0m\u001b[0;34m[\u001b[0m\u001b[0;36m1\u001b[0m\u001b[0;34m:\u001b[0m\u001b[0;34m]\u001b[0m\u001b[0;34m,\u001b[0m \u001b[0muserProfile\u001b[0m\u001b[0;34m[\u001b[0m\u001b[0;34m:\u001b[0m\u001b[0;34m,\u001b[0m\u001b[0;36m1\u001b[0m\u001b[0;34m:\u001b[0m\u001b[0;34m]\u001b[0m\u001b[0;34m)\u001b[0m\u001b[0;34m)\u001b[0m\u001b[0;34m\u001b[0m\u001b[0;34m\u001b[0m\u001b[0m\n\u001b[0m\u001b[1;32m      5\u001b[0m             ,KorBookMatrix)\n\u001b[1;32m      6\u001b[0m     \u001b[0mbest\u001b[0m \u001b[0;34m=\u001b[0m \u001b[0msorted\u001b[0m\u001b[0;34m(\u001b[0m\u001b[0msimilarity\u001b[0m\u001b[0;34m,\u001b[0m \u001b[0mkey\u001b[0m\u001b[0;34m=\u001b[0m\u001b[0;32mlambda\u001b[0m \u001b[0mt\u001b[0m\u001b[0;34m:\u001b[0m \u001b[0;34m-\u001b[0m\u001b[0mt\u001b[0m\u001b[0;34m[\u001b[0m\u001b[0;36m1\u001b[0m\u001b[0;34m]\u001b[0m\u001b[0;34m)\u001b[0m\u001b[0;34m[\u001b[0m\u001b[0;34m:\u001b[0m\u001b[0mtopNum\u001b[0m\u001b[0;34m]\u001b[0m\u001b[0;34m\u001b[0m\u001b[0;34m\u001b[0m\u001b[0m\n",
      "\u001b[0;32m<ipython-input-156-bbcce5d765d3>\u001b[0m in \u001b[0;36mmySimilarity\u001b[0;34m(x, y)\u001b[0m\n\u001b[1;32m      5\u001b[0m     \u001b[0;32mif\u001b[0m \u001b[0mx\u001b[0m\u001b[0;34m.\u001b[0m\u001b[0mshape\u001b[0m\u001b[0;34m[\u001b[0m\u001b[0;36m0\u001b[0m\u001b[0;34m]\u001b[0m\u001b[0;34m>\u001b[0m\u001b[0;36m1\u001b[0m\u001b[0;34m:\u001b[0m\u001b[0;34m\u001b[0m\u001b[0;34m\u001b[0m\u001b[0m\n\u001b[1;32m      6\u001b[0m         \u001b[0;32mfor\u001b[0m \u001b[0mi\u001b[0m \u001b[0;32min\u001b[0m \u001b[0mx\u001b[0m\u001b[0;34m:\u001b[0m\u001b[0;34m\u001b[0m\u001b[0;34m\u001b[0m\u001b[0m\n\u001b[0;32m----> 7\u001b[0;31m             \u001b[0msimilarity\u001b[0m \u001b[0;34m+=\u001b[0m \u001b[0mcos_similarity\u001b[0m\u001b[0;34m(\u001b[0m\u001b[0mi\u001b[0m\u001b[0;34m,\u001b[0m\u001b[0my\u001b[0m\u001b[0;34m)\u001b[0m\u001b[0;34m\u001b[0m\u001b[0;34m\u001b[0m\u001b[0m\n\u001b[0m\u001b[1;32m      8\u001b[0m         \u001b[0;32mreturn\u001b[0m \u001b[0;34m(\u001b[0m \u001b[0msimilarity\u001b[0m\u001b[0;34m/\u001b[0m\u001b[0mx\u001b[0m\u001b[0;34m.\u001b[0m\u001b[0mshape\u001b[0m\u001b[0;34m[\u001b[0m\u001b[0;36m0\u001b[0m\u001b[0;34m]\u001b[0m \u001b[0;34m)\u001b[0m\u001b[0;34m\u001b[0m\u001b[0;34m\u001b[0m\u001b[0m\n\u001b[1;32m      9\u001b[0m     \u001b[0;32mif\u001b[0m \u001b[0my\u001b[0m\u001b[0;34m.\u001b[0m\u001b[0mshape\u001b[0m\u001b[0;34m[\u001b[0m\u001b[0;36m0\u001b[0m\u001b[0;34m]\u001b[0m\u001b[0;34m>\u001b[0m\u001b[0;36m1\u001b[0m\u001b[0;34m:\u001b[0m\u001b[0;34m\u001b[0m\u001b[0;34m\u001b[0m\u001b[0m\n",
      "\u001b[0;32m<ipython-input-112-ed8cef3f9810>\u001b[0m in \u001b[0;36mcos_similarity\u001b[0;34m(x, y)\u001b[0m\n\u001b[1;32m      2\u001b[0m \u001b[0;34m\u001b[0m\u001b[0m\n\u001b[1;32m      3\u001b[0m \u001b[0;32mdef\u001b[0m \u001b[0mcos_similarity\u001b[0m\u001b[0;34m(\u001b[0m\u001b[0mx\u001b[0m \u001b[0;34m:\u001b[0m\u001b[0mnp\u001b[0m\u001b[0;34m.\u001b[0m\u001b[0marray\u001b[0m\u001b[0;34m,\u001b[0m \u001b[0my\u001b[0m \u001b[0;34m:\u001b[0m\u001b[0mnp\u001b[0m\u001b[0;34m.\u001b[0m\u001b[0marray\u001b[0m\u001b[0;34m)\u001b[0m\u001b[0;34m:\u001b[0m\u001b[0;34m\u001b[0m\u001b[0;34m\u001b[0m\u001b[0m\n\u001b[0;32m----> 4\u001b[0;31m     \u001b[0;32mreturn\u001b[0m \u001b[0;34m(\u001b[0m \u001b[0;34m(\u001b[0m\u001b[0mnp\u001b[0m\u001b[0;34m.\u001b[0m\u001b[0mdot\u001b[0m\u001b[0;34m(\u001b[0m\u001b[0mx\u001b[0m\u001b[0;34m,\u001b[0m\u001b[0my\u001b[0m\u001b[0;34m)\u001b[0m\u001b[0;34m)\u001b[0m\u001b[0;34m/\u001b[0m\u001b[0;34m(\u001b[0m\u001b[0mnorm\u001b[0m\u001b[0;34m(\u001b[0m\u001b[0mx\u001b[0m\u001b[0;34m)\u001b[0m\u001b[0;34m*\u001b[0m\u001b[0mnorm\u001b[0m\u001b[0;34m(\u001b[0m\u001b[0my\u001b[0m\u001b[0;34m)\u001b[0m\u001b[0;34m)\u001b[0m \u001b[0;34m)\u001b[0m\u001b[0;34m\u001b[0m\u001b[0;34m\u001b[0m\u001b[0m\n\u001b[0m",
      "\u001b[0;32m<__array_function__ internals>\u001b[0m in \u001b[0;36mnorm\u001b[0;34m(*args, **kwargs)\u001b[0m\n",
      "\u001b[0;32m~/.local/lib/python3.6/site-packages/numpy/linalg/linalg.py\u001b[0m in \u001b[0;36mnorm\u001b[0;34m(x, ord, axis, keepdims)\u001b[0m\n\u001b[1;32m   2529\u001b[0m             \u001b[0;32melse\u001b[0m\u001b[0;34m:\u001b[0m\u001b[0;34m\u001b[0m\u001b[0;34m\u001b[0m\u001b[0m\n\u001b[1;32m   2530\u001b[0m                 \u001b[0msqnorm\u001b[0m \u001b[0;34m=\u001b[0m \u001b[0mdot\u001b[0m\u001b[0;34m(\u001b[0m\u001b[0mx\u001b[0m\u001b[0;34m,\u001b[0m \u001b[0mx\u001b[0m\u001b[0;34m)\u001b[0m\u001b[0;34m\u001b[0m\u001b[0;34m\u001b[0m\u001b[0m\n\u001b[0;32m-> 2531\u001b[0;31m             \u001b[0mret\u001b[0m \u001b[0;34m=\u001b[0m \u001b[0msqrt\u001b[0m\u001b[0;34m(\u001b[0m\u001b[0msqnorm\u001b[0m\u001b[0;34m)\u001b[0m\u001b[0;34m\u001b[0m\u001b[0;34m\u001b[0m\u001b[0m\n\u001b[0m\u001b[1;32m   2532\u001b[0m             \u001b[0;32mif\u001b[0m \u001b[0mkeepdims\u001b[0m\u001b[0;34m:\u001b[0m\u001b[0;34m\u001b[0m\u001b[0;34m\u001b[0m\u001b[0m\n\u001b[1;32m   2533\u001b[0m                 \u001b[0mret\u001b[0m \u001b[0;34m=\u001b[0m \u001b[0mret\u001b[0m\u001b[0;34m.\u001b[0m\u001b[0mreshape\u001b[0m\u001b[0;34m(\u001b[0m\u001b[0mndim\u001b[0m\u001b[0;34m*\u001b[0m\u001b[0;34m[\u001b[0m\u001b[0;36m1\u001b[0m\u001b[0;34m]\u001b[0m\u001b[0;34m)\u001b[0m\u001b[0;34m\u001b[0m\u001b[0;34m\u001b[0m\u001b[0m\n",
      "\u001b[0;31mKeyboardInterrupt\u001b[0m: "
>>>>>>> cf1ccebb782f5c56896b689abaf2a0e7b2f76236
     ]
    }
   ],
   "source": [
<<<<<<< HEAD
    "### vector가 만아질수록 linear하게 time이 증가한다!\n",
    "import sqlite3\n",
    "\n",
    "tableName = \"Korean_book\"\n",
    "con = sqlite3.connect(\"../Books.db\")\n",
    "cur = con.cursor()\n",
    "\n",
    "data = []\n",
    "count = 0\n",
    "list = [i for i in range(1,6)]\n",
    "rowid_list = np.random.randint(low=1, high=10000, size=100000)\n",
    "\n",
    "for sizeof_userProfile in list:\n",
    "    for rowid in rowid_list:\n",
    "        if count >= sizeof_userProfile:\n",
    "            break\n",
    "        cur.execute(f\"SELECT id, author, genres FROM {tableName} WHERE id=={rowid}\")\n",
    "        try:\n",
    "            temp = cur.fetchall()[0]\n",
    "        except:\n",
    "            continue\n",
    "        temp = {\n",
    "            \"id\": temp[0],\n",
    "            \"author\": temp[1],\n",
    "            \"genres\": temp[2].split(\",\")[1:]\n",
    "        }\n",
    "        data.append(temp)\n",
    "        count+=1\n",
    "    genres = [\"소설\", \"한국소설\", \"역사/대하소설\", \"장르소설\", \"역사소설\"]\n",
    "    usrPro01 = np.zeros((1, len(genres_dic)+2))\n",
    "    for genre in genres:\n",
    "        usrPro01[0,genres_dic[genre]] = 1.\n",
    "\n",
    "    userProfile = [usrPro01]\n",
    "    for one in data:\n",
    "        temp = np.zeros((1, len(genres_dic)+2))\n",
    "        for genre in one[\"genres\"]:\n",
    "            temp[0,genres_dic[genre]] = 1.\n",
    "        temp[0,0] = (one[\"id\"])\n",
    "        temp[0,-1] = myHash(one[\"author\"])\n",
    "        userProfile.append(temp)\n",
    "    userProfile = np.concatenate(userProfile)\n",
    "\n",
    "    start = time.time()\n",
    "    print(\"best: \",multi_linear_search(KorBookMatrix, userProfile, 100, GENRE_DIM)[:10])\n",
    "    print(\"average time: \",time.time()-start,\"(second)\")\n",
    "    print(\"shape of userProfile: \",userProfile.shape)\n",
    "    print(\"=\"*100)"
=======
    "# ## 너무 오래 걸림\n",
    "# start = time.time()\n",
    "# print(linear_search(KorBookMatrix, userProfile, 100)[:10])\n",
    "# print(\"=\"*100)\n",
    "# print(time.time()-start,\"(second)\")"
>>>>>>> cf1ccebb782f5c56896b689abaf2a0e7b2f76236
   ]
  },
  {
   "cell_type": "markdown",
   "metadata": {},
   "source": [
    "### book과 genre에 대한 정보를 하나로 합쳐 하나의 vector를 가지고 search"
   ]
  },
  {
   "cell_type": "code",
<<<<<<< HEAD
   "execution_count": 134,
   "metadata": {},
   "outputs": [
    {
     "name": "stdout",
     "output_type": "stream",
     "text": [
      "4\n",
      "39\n",
      "125\n",
      "4\n",
      "39\n",
      "312\n",
      "26\n",
      "<class 'list'>\n",
      "\n",
      "2\n",
      "[1, 8]\n",
      "\n",
      "1.0\n",
      "(2848,)\n",
      "12.0\n",
      "\n",
      "2\n",
      "[470449543, 514441238]\n"
     ]
    }
   ],
   "source": [
    "# test setting\n",
    "genres = [\"소설\", \"한국소설\", \"역사/대하소설\", \"장르소설\", \"역사소설\"]\n",
    "data = [\n",
    "    {\n",
    "        \"title\":\"아버지의 해방일지\",\n",
    "        \"author\":\"정지아\",\n",
    "        \"id\":1,\n",
    "        \"genres\":[\"소설\", \"한국소설\",\"한국소설일반\"]\n",
    "    },\n",
    "    {\n",
    "        \"title\":\"달러구트 꿈 백화점\",\n",
    "        \"author\":\"이미예\",\n",
    "        \"id\":8,\n",
    "        \"genres\":[\"소설\", \"한국소설\",\"판타지소설\",\"장르소설\"]\n",
    "    }\n",
    "]\n",
    "\n",
    "# 0을 남겨둠\n",
    "genreVec = np.zeros((len(genres_dic)))\n",
    "for genre in genres:\n",
    "    genreVec[genres_dic[genre]] = 1.\n",
    "\n",
    "idVec = []\n",
    "authorVec = []\n",
    "for one in data:\n",
    "    for genre in one[\"genres\"]:\n",
    "        print(genres_dic[genre]-1)\n",
    "        genreVec[genres_dic[genre]-1] += 1.\n",
    "    idVec.append(one[\"id\"])\n",
    "    authorVec.append(myHash(one[\"author\"]))\n",
    "\n",
    "userProfile = [idVec, genreVec, authorVec]\n",
    "print(type(userProfile))\n",
    "print()\n",
    "print(len(userProfile[0]))\n",
    "print(userProfile[0])\n",
    "print()\n",
    "print(userProfile[1][5])\n",
    "print(userProfile[1].shape)\n",
    "print(userProfile[1].sum())\n",
    "print()\n",
    "print(len(userProfile[2]))\n",
    "print(userProfile[2])"
   ]
  },
  {
   "cell_type": "code",
   "execution_count": 135,
   "metadata": {},
   "outputs": [],
   "source": [
    "from numpy.linalg import norm\n",
    "\n",
    "def mySimilarity(x :np.array, user :np.array):\n",
    "    if(any(x[0]==user[0])):\n",
    "        return 0\n",
    "    elif(any(x[-1]==user[2])):\n",
    "        return 1.3*((np.dot(x[1:-1],user[1]))/(norm(x[1:-1])*norm((user[1]>0))))\n",
    "    else:\n",
    "        return ( (np.dot(x[1:-1],user[1]))/(norm(x[1:-1])*norm((user[1]>0))) )"
=======
   "execution_count": 319,
   "metadata": {},
   "outputs": [
    {
     "name": "stdout",
     "output_type": "stream",
     "text": [
      "4\n",
      "38\n",
      "123\n",
      "4\n",
      "38\n",
      "304\n",
      "26\n",
      "<class 'list'>\n",
      "\n",
      "2\n",
      "[1, 8]\n",
      "\n",
      "1.0\n",
      "(2855,)\n",
      "12.0\n",
      "\n",
      "2\n",
      "[470449543, 514441238]\n"
     ]
    }
   ],
   "source": [
    "# test setting\n",
    "genres = [\"소설\", \"한국소설\", \"역사/대하소설\", \"장르소설\", \"역사소설\"]\n",
    "data = [\n",
    "    {\n",
    "        \"title\":\"아버지의 해방일지\",\n",
    "        \"author\":\"정지아\",\n",
    "        \"id\":1,\n",
    "        \"genres\":[\"소설\", \"한국소설\",\"한국소설일반\"]\n",
    "    },\n",
    "    {\n",
    "        \"title\":\"달러구트 꿈 백화점\",\n",
    "        \"author\":\"이미예\",\n",
    "        \"id\":8,\n",
    "        \"genres\":[\"소설\", \"한국소설\",\"판타지소설\",\"장르소설\"]\n",
    "    }\n",
    "]\n",
    "\n",
    "# 0을 남겨둠\n",
    "genreVec = np.zeros((len(genres_dic)))\n",
    "for genre in genres:\n",
    "    genreVec[genres_dic[genre]] = 1.\n",
    "\n",
    "idVec = []\n",
    "authorVec = []\n",
    "for one in data:\n",
    "    for genre in one[\"genres\"]:\n",
    "        print(genres_dic[genre]-1)\n",
    "        genreVec[genres_dic[genre]-1] += 1.\n",
    "    idVec.append(one[\"id\"])\n",
    "    authorVec.append(myHash(one[\"author\"]))\n",
    "\n",
    "userProfile = [idVec, genreVec, authorVec]\n",
    "print(type(userProfile))\n",
    "print()\n",
    "print(len(userProfile[0]))\n",
    "print(userProfile[0])\n",
    "print()\n",
    "print(userProfile[1][5])\n",
    "print(userProfile[1].shape)\n",
    "print(userProfile[1].sum())\n",
    "print()\n",
    "print(len(userProfile[2]))\n",
    "print(userProfile[2])"
>>>>>>> cf1ccebb782f5c56896b689abaf2a0e7b2f76236
   ]
  },
  {
   "cell_type": "code",
<<<<<<< HEAD
   "execution_count": 136,
=======
   "execution_count": 312,
>>>>>>> cf1ccebb782f5c56896b689abaf2a0e7b2f76236
   "metadata": {},
   "outputs": [
    {
     "name": "stdout",
     "output_type": "stream",
     "text": [
<<<<<<< HEAD
      "0\n",
      "0.7216878364870323\n",
      "\n",
      "0.9128709291752769\n",
      "0.7216878364870323\n",
      "\n"
=======
      "(2855,)\n"
>>>>>>> cf1ccebb782f5c56896b689abaf2a0e7b2f76236
     ]
    }
   ],
   "source": [
<<<<<<< HEAD
    "print(mySimilarity(KorBookMatrix[1,:],userProfile)) # 같은 북이 있어서 0이다.\n",
    "print(cos_similarity(KorBookMatrix[1,1:GENRE_DIM+1],userProfile[1]))\n",
    "print()\n",
    "\n",
    "print(mySimilarity(KorBookMatrix[2,:],userProfile)) # 같은 북이 아니지만 author같아 값이 높아짐.\n",
    "print(cos_similarity(KorBookMatrix[2,1:GENRE_DIM+1],userProfile[1]))\n",
    "print()"
=======
    "print(userProfile[1].shape)"
>>>>>>> cf1ccebb782f5c56896b689abaf2a0e7b2f76236
   ]
  },
  {
   "cell_type": "code",
<<<<<<< HEAD
   "execution_count": 137,
=======
   "execution_count": 313,
   "metadata": {},
   "outputs": [
    {
     "name": "stdout",
     "output_type": "stream",
     "text": [
      "1\n",
      "[1, 8]\n",
      "[ True False]\n",
      "True\n",
      "\n",
      "470449543\n",
      "[470449543, 514441238]\n",
      "[ True False]\n",
      "True\n",
      "\n",
      "543238319\n",
      "[470449543, 514441238]\n",
      "[False False]\n",
      "False\n"
     ]
    }
   ],
   "source": [
    "print(KorBookMatrix[1,0])\n",
    "print(userProfile[0])\n",
    "print(KorBookMatrix[1,0]==userProfile[0])\n",
    "print(any(KorBookMatrix[1,0]==userProfile[0]))\n",
    "print()\n",
    "print(KorBookMatrix[1,-1])\n",
    "print(userProfile[2])\n",
    "print(KorBookMatrix[1,-1]==userProfile[2])\n",
    "print(any(KorBookMatrix[1,-1]==userProfile[2]))\n",
    "print()\n",
    "print(KorBookMatrix[2,-1])\n",
    "print(userProfile[2])\n",
    "print(KorBookMatrix[2,-1]==userProfile[2])\n",
    "print(any(KorBookMatrix[2,-1]==userProfile[2]))\n"
   ]
  },
  {
   "cell_type": "code",
   "execution_count": 314,
   "metadata": {},
   "outputs": [
    {
     "name": "stdout",
     "output_type": "stream",
     "text": [
      "1.0\n",
      "12.0\n",
      "10\n"
     ]
    }
   ],
   "source": [
    "# temp = np.zeros((1, len(genres_dic)+1))\n",
    "# print(temp[0,userProfile[1]])\n",
    "from numpy.linalg import norm\n",
    "from math import sqrt\n",
    "x = np.array([0,0,1,0])\n",
    "y = np.array([2.,0,1.,0])\n",
    "print(np.dot(x,y))\n",
    "# print(y[:-1])\n",
    "# print((y>0).sum())\n",
    "# print(norm((y>0)))\n",
    "# print(sqrt(2))\n",
    "# z = np.ones(tuple(y),dtype=bool)\n",
    "# print(z)\n",
    "print(userProfile[1].sum())\n",
    "print((userProfile[1]>0).sum())"
   ]
  },
  {
   "cell_type": "code",
   "execution_count": 315,
>>>>>>> cf1ccebb782f5c56896b689abaf2a0e7b2f76236
   "metadata": {},
   "outputs": [],
   "source": [
    "from numpy.linalg import norm\n",
    "\n",
<<<<<<< HEAD
    "def mySimilarity(x :np.array, user :np.array):\n",
    "    if(any(x[0]==user[0])):\n",
    "        return 0\n",
    "    elif(any(x[-1]==user[2])):\n",
    "        return 1.3*((np.dot(x[1:-1],user[1]))/(norm(x[1:-1])*norm((user[1]>0))))\n",
    "    else:\n",
    "        return ( (np.dot(x[1:-1],user[1]))/(norm(x[1:-1])*norm((user[1]>0))) )\n",
    "\n",
    "def my_search(Matrix, userProfile, topNum):\n",
    "    similarity = map(\n",
    "        lambda bookProfile: \\\n",
    "            (int(bookProfile[0]),mySimilarity(bookProfile, userProfile))\n",
    "            ,Matrix)\n",
    "    best = sorted(similarity, key=lambda t: -t[1])[:topNum]\n",
    "    return [t[0] for t in best]\n",
    "    # return [t for t in best]\n"
=======
    "\n",
    "def mySimilarity(x :np.array, user :np.array):\n",
    "    # print(user[2])\n",
    "    # print(x[-1])\n",
    "    if(any(x[0]==user[0])):\n",
    "        return 0\n",
    "    elif(any(x[-1]==user[2])):\n",
    "        # print(\"001\")\n",
    "        # print(np.dot(x[:-1],user[1]))\n",
    "        return 1.3*((np.dot(x[1:-1],user[1]))/(norm(x[1:-1])*norm((user[1]>0))))\n",
    "    else:\n",
    "        # print(\"002\")\n",
    "        return ( (np.dot(x[1:-1],user[1]))/(norm(x[1:-1])*norm((user[1]>0))) )"
>>>>>>> cf1ccebb782f5c56896b689abaf2a0e7b2f76236
   ]
  },
  {
   "cell_type": "code",
<<<<<<< HEAD
   "execution_count": 127,
=======
   "execution_count": 316,
   "metadata": {},
   "outputs": [
    {
     "name": "stdout",
     "output_type": "stream",
     "text": [
      "0\n",
      "0.7216878364870323\n",
      "\n",
      "0.9128709291752769\n",
      "0.7216878364870323\n",
      "\n",
      "(2855,)\n",
      "1\n",
      "(2855,)\n",
      "2.0\n"
     ]
    }
   ],
   "source": [
    "print(mySimilarity(KorBookMatrix[1,:],userProfile)) # 같은 북이 있어서 0이다.\n",
    "print(cos_similarity(KorBookMatrix[1,1:2856],userProfile[1]))\n",
    "print()\n",
    "\n",
    "print(mySimilarity(KorBookMatrix[2,:],userProfile))\n",
    "print(cos_similarity(KorBookMatrix[2,1:2856],userProfile[1]))\n",
    "print()\n",
    "\n",
    "print(KorBookMatrix[1,1:-1].shape)\n",
    "print(KorBookMatrix[1,1:-1][4])\n",
    "print(userProfile[1].shape)\n",
    "print(userProfile[1][4])"
   ]
  },
  {
   "cell_type": "code",
   "execution_count": 317,
>>>>>>> cf1ccebb782f5c56896b689abaf2a0e7b2f76236
   "metadata": {},
   "outputs": [
    {
     "name": "stdout",
     "output_type": "stream",
     "text": [
      "original size of userProfile:  2\n",
      "best:  [6548, 6555, 6825, 4960, 4974, 4998, 5002, 5050, 5085, 5123]\n",
      "average time:  1.6758043766021729 (second)\n",
      "shape of genreVec:  (2848,)\n",
      "====================================================================================================\n",
      "original size of userProfile:  3\n",
      "best:  [6548, 6555, 6825, 4960, 4974, 4998, 5002, 5050, 5085, 5123]\n",
      "average time:  1.5315368175506592 (second)\n",
      "shape of genreVec:  (2848,)\n",
      "====================================================================================================\n",
      "original size of userProfile:  4\n",
      "best:  [6548, 6555, 6825, 4960, 4974, 4998, 5002, 5050, 5085, 5123]\n",
      "average time:  1.5557630062103271 (second)\n",
      "shape of genreVec:  (2848,)\n",
      "====================================================================================================\n",
      "original size of userProfile:  5\n",
      "best:  [6548, 6555, 6825, 4960, 4974, 4998, 5002, 5050, 5085, 5123]\n",
      "average time:  1.5238525867462158 (second)\n",
      "shape of genreVec:  (2848,)\n",
      "====================================================================================================\n",
      "original size of userProfile:  6\n",
      "best:  [6548, 6555, 6825, 4960, 4974, 4998, 5002, 5050, 5085, 5123]\n",
      "average time:  1.5219948291778564 (second)\n",
      "shape of genreVec:  (2848,)\n",
      "====================================================================================================\n"
     ]
    }
   ],
   "source": [
<<<<<<< HEAD
    "### vector가 만아질수록 time이 증가하지 않는다!!!\n",
    "import sqlite3\n",
    "\n",
    "tableName = \"Korean_book\"\n",
    "con = sqlite3.connect(\"../Books.db\")\n",
    "cur = con.cursor()\n",
    "\n",
    "data = []\n",
    "count = 0\n",
    "list = [i for i in range(1,6)]\n",
    "rowid_list = np.random.randint(low=1, high=10000, size=100000)\n",
    "\n",
    "for sizeof_userProfile in list:\n",
    "    for rowid in rowid_list:\n",
    "        if count >= sizeof_userProfile:\n",
    "            break\n",
    "        cur.execute(f\"SELECT id, author, genres FROM {tableName} WHERE id=={rowid}\")\n",
    "        try:\n",
    "            temp = cur.fetchall()[0]\n",
    "        except:\n",
    "            continue\n",
    "        temp = {\n",
    "            \"id\": temp[0],\n",
    "            \"author\": temp[1],\n",
    "            \"genres\": temp[2].split(\",\")[1:]\n",
    "        }\n",
    "        data.append(temp)\n",
    "        count+=1\n",
    "    genres = [\"소설\", \"한국소설\", \"역사/대하소설\", \"장르소설\", \"역사소설\"] # user에게서 받은 장르라 가정\n",
    "    genreVec = np.zeros((len(genres_dic)))\n",
    "    for genre in genres:\n",
    "        genreVec[genres_dic[genre]] = 1.\n",
    "\n",
    "    idVec = []\n",
    "    authorVec = []\n",
    "    for one in data:\n",
    "        for genre in one[\"genres\"]:\n",
    "            genreVec[genres_dic[genre]-1] += 1.\n",
    "        idVec.append(one[\"id\"])\n",
    "        authorVec.append(myHash(one[\"author\"]))\n",
    "    userProfile = [idVec, genreVec, authorVec]\n",
    "\n",
    "    start = time.time()\n",
    "    print(\"original size of userProfile: \", sizeof_userProfile+1)\n",
    "    print(\"best: \",my_search(KorBookMatrix, userProfile, 100)[:10])\n",
    "    print(\"average time: \",time.time()-start,\"(second)\")\n",
    "    print(\"shape of genreVec: \", genreVec.shape)\n",
    "    print(\"=\"*100)"
=======
    "from numpy.linalg import norm\n",
    "\n",
    "def mySimilarity(x :np.array, user :np.array):\n",
    "    if(any(x[0]==user[0])):\n",
    "        return 0\n",
    "    elif(any(x[-1]==user[2])):\n",
    "        return 1.3*((np.dot(x[1:-1],user[1]))/(norm(x[1:-1])*norm((user[1]>0))))\n",
    "    else:\n",
    "        return ( (np.dot(x[1:-1],user[1]))/(norm(x[1:-1])*norm((user[1]>0))) )\n",
    "\n",
    "def my_search(KorBookMatrix, userProfile, topNum):\n",
    "    similarity = map(\n",
    "        lambda bookProfile: \\\n",
    "            (int(bookProfile[0]),mySimilarity(bookProfile, userProfile))\n",
    "            ,KorBookMatrix)\n",
    "    best = sorted(similarity, key=lambda t: -t[1])[:topNum]\n",
    "    return [t[0] for t in best]\n",
    "    # return [t for t in best]\n"
>>>>>>> cf1ccebb782f5c56896b689abaf2a0e7b2f76236
   ]
  },
  {
   "cell_type": "code",
<<<<<<< HEAD
   "execution_count": 139,
=======
   "execution_count": 318,
>>>>>>> cf1ccebb782f5c56896b689abaf2a0e7b2f76236
   "metadata": {},
   "outputs": [
    {
     "name": "stdout",
     "output_type": "stream",
     "text": [
<<<<<<< HEAD
      "best:  [2992, 2999, 3007, 3014, 3029, 3054, 3075, 3079, 3086, 3091]\n",
      "average time:  2.191152811050415 (second)\n",
      "shape of userProfile:  (2, 2850)\n",
      "----------------------------------------------------------------------------------------------------\n",
      "best:  [3173, 3353, 3360, 3365, 3153, 3287, 2992, 2999, 3007, 3014]\n",
      "average time:  1.5144336223602295 (second)\n",
      "shape of userProfile:  2850\n",
      "####################################################################################################\n",
      "best:  [2992, 2999, 3007, 3014, 3029, 3054, 3075, 3079, 3086, 3091]\n",
      "average time:  3.085005044937134 (second)\n",
      "shape of userProfile:  (3, 2850)\n",
      "----------------------------------------------------------------------------------------------------\n",
      "best:  [3173, 3353, 3360, 3365, 3153, 3287, 2992, 2999, 3007, 3014]\n",
      "average time:  1.5324220657348633 (second)\n",
      "shape of userProfile:  2850\n",
      "####################################################################################################\n",
      "best:  [2992, 2999, 3007, 3014, 3029, 3054, 3075, 3079, 3086, 3091]\n",
      "average time:  3.9806113243103027 (second)\n",
      "shape of userProfile:  (4, 2850)\n",
      "----------------------------------------------------------------------------------------------------\n",
      "best:  [3173, 3353, 3360, 3365, 2992, 2999, 3007, 3014, 3029, 3054]\n",
      "average time:  1.553612232208252 (second)\n",
      "shape of userProfile:  2850\n",
      "####################################################################################################\n",
      "best:  [2992, 2999, 3007, 3014, 3029, 3054, 3075, 3079, 3086, 3091]\n",
      "average time:  4.860814809799194 (second)\n",
      "shape of userProfile:  (5, 2850)\n",
      "----------------------------------------------------------------------------------------------------\n",
      "best:  [3173, 3353, 3360, 3365, 2992, 2999, 3007, 3014, 3029, 3054]\n",
      "average time:  1.5167255401611328 (second)\n",
      "shape of userProfile:  2850\n",
      "####################################################################################################\n",
      "best:  [2992, 2999, 3007, 3014, 3029, 3054, 3075, 3079, 3086, 3091]\n",
      "average time:  5.80403208732605 (second)\n",
      "shape of userProfile:  (6, 2850)\n",
      "----------------------------------------------------------------------------------------------------\n",
      "best:  [3173, 3353, 3360, 3365, 2992, 2999, 3007, 3014, 3029, 3054]\n",
      "average time:  1.540421485900879 (second)\n",
      "shape of userProfile:  2850\n",
      "####################################################################################################\n"
=======
      "[11, 77, 87, 170, 74, 147, 213, 220, 262, 471]\n",
      "====================================================================================================\n",
      "1.6823859214782715 (second)\n"
>>>>>>> cf1ccebb782f5c56896b689abaf2a0e7b2f76236
     ]
    }
   ],
   "source": [
<<<<<<< HEAD
    "### 비교\n",
    "## 확실히 my idea가\n",
    "import sqlite3\n",
    "\n",
    "tableName = \"Korean_book\"\n",
    "con = sqlite3.connect(\"../Books.db\")\n",
    "cur = con.cursor()\n",
    "\n",
    "data = []\n",
    "count = 0\n",
    "list = [i for i in range(1,6)]\n",
    "rowid_list = np.random.randint(low=1, high=10000, size=100000)\n",
    "\n",
    "for sizeof_userProfile in list:\n",
    "    for rowid in rowid_list:\n",
    "        if count >= sizeof_userProfile:\n",
    "            break\n",
    "        cur.execute(f\"SELECT id, author, genres FROM {tableName} WHERE id=={rowid}\")\n",
    "        try:\n",
    "            temp = cur.fetchall()[0]\n",
    "        except:\n",
    "            continue\n",
    "        temp = {\n",
    "            \"id\": temp[0],\n",
    "            \"author\": temp[1],\n",
    "            \"genres\": temp[2].split(\",\")[1:]\n",
    "        }\n",
    "        data.append(temp)\n",
    "        count+=1\n",
    "    genres = [\"소설\", \"한국소설\", \"역사/대하소설\", \"장르소설\", \"역사소설\"]\n",
    "\n",
    "\n",
    "    genreVec = np.zeros((len(genres_dic)))\n",
    "    for genre in genres:\n",
    "        genreVec[genres_dic[genre]] = 1.\n",
    "    idVec = []\n",
    "    authorVec = []\n",
    "    for one in data:\n",
    "        for genre in one[\"genres\"]:\n",
    "            genreVec[genres_dic[genre]-1] += 1.\n",
    "        idVec.append(one[\"id\"])\n",
    "        authorVec.append(myHash(one[\"author\"]))\n",
    "    MySearchUserProfile = [idVec, genreVec, authorVec]\n",
    "\n",
    "\n",
    "    usrPro01 = np.zeros((1, len(genres_dic)+2))\n",
    "    for genre in genres:\n",
    "        usrPro01[0,genres_dic[genre]] = 1.\n",
    "    userProfile = [usrPro01]\n",
    "    for one in data:\n",
    "        temp = np.zeros((1, len(genres_dic)+2))\n",
    "        for genre in one[\"genres\"]:\n",
    "            temp[0,genres_dic[genre]] = 1.\n",
    "        temp[0,0] = (one[\"id\"])\n",
    "        temp[0,-1] = myHash(one[\"author\"])\n",
    "        userProfile.append(temp)\n",
    "    LinearUserProfile = np.concatenate(userProfile)\n",
    "\n",
    "    start = time.time()\n",
    "    print(\"best: \",multi_linear_search(KorBookMatrix, LinearUserProfile, 100, GENRE_DIM)[:10])\n",
    "    print(\"average time: \",time.time()-start,\"(second)\")\n",
    "    print(\"shape of userProfile: \",LinearUserProfile.shape)\n",
    "    print(\"-\"*100)\n",
    "    start = time.time()\n",
    "    print(\"best: \",my_search(KorBookMatrix, MySearchUserProfile, 100)[:10])\n",
    "    print(\"average time: \",time.time()-start,\"(second)\")\n",
    "    print(\"shape of userProfile: \", genreVec.shape[0]+2)\n",
    "    print(\"#\"*100)"
=======
    "start = time.time()\n",
    "print(my_search(KorBookMatrix, userProfile, 100)[:10])\n",
    "print(\"=\"*100)\n",
    "print(time.time()-start,\"(second)\")"
>>>>>>> cf1ccebb782f5c56896b689abaf2a0e7b2f76236
   ]
  }
 ],
 "metadata": {
  "kernelspec": {
   "display_name": "Python 3.6.9 64-bit",
   "language": "python",
   "name": "python3"
  },
  "language_info": {
   "codemirror_mode": {
    "name": "ipython",
    "version": 3
   },
   "file_extension": ".py",
   "mimetype": "text/x-python",
   "name": "python",
   "nbconvert_exporter": "python",
   "pygments_lexer": "ipython3",
   "version": "3.6.9"
  },
  "orig_nbformat": 4,
  "vscode": {
   "interpreter": {
    "hash": "31f2aee4e71d21fbe5cf8b01ff0e069b9275f58929596ceb00d14d90e3e16cd6"
   }
  }
 },
 "nbformat": 4,
 "nbformat_minor": 2
}
