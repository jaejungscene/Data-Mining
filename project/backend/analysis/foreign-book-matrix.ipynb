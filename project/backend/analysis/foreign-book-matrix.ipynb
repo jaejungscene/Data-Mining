{
 "cells": [
  {
   "cell_type": "code",
   "execution_count": 62,
   "metadata": {},
   "outputs": [],
   "source": [
    "KOR_MAX_LEN_n_2 = 72\n",
    "FOR_MAX_LEN_n_2 = 82\n",
    "\n",
    "def k_gram_hash(text, n, where):\n",
    "    result = []\n",
    "    if len(text) > n:\n",
    "        for i in range(len(text)):\n",
    "            if i+n > len(text):\n",
    "                break\n",
    "            result.append(hash(text[i:i+n]))\n",
    "    else:\n",
    "        result.append(hash(text))\n",
    "    # if where == \"korean\":\n",
    "    #     result = result + [0.0 for _ in range(KOR_MAX_LEN_n_2 - len(result))]\n",
    "    # else:\n",
    "    #     result = result + [0.0 for _ in range(FOR_MAX_LEN_n_2 - len(result))]\n",
    "    return result"
   ]
  },
  {
   "cell_type": "markdown",
   "metadata": {},
   "source": [
    "# make foreign book matrix"
   ]
  },
  {
   "cell_type": "markdown",
   "metadata": {},
   "source": [
    "## title vector(not ncessary)"
   ]
  },
  {
   "cell_type": "code",
   "execution_count": 48,
   "metadata": {},
   "outputs": [
    {
     "name": "stdout",
     "output_type": "stream",
     "text": [
      "44019\n",
      "43677\n"
     ]
    }
   ],
   "source": [
    "## title의 연관성은 속도를 너무 늦춰 profile vector에서 제외\n",
    "import sqlite3\n",
    "con = sqlite3.connect(\"../Books.db\")\n",
    "cur = con.cursor()\n",
    "cur.execute(\"SELECT title FROM Korean_book\")\n",
    "titles = cur.fetchall()\n",
    "print(len(titles))\n",
    "\n",
    "S = set()\n",
    "\n",
    "# hashing 값이 겹치는 title값이 존재\n",
    "for i, title in enumerate(titles):\n",
    "    S.add(hash(title[0]))\n",
    "print(len(S))\n",
    "\n",
    "cur.close()\n",
    "con.close()"
   ]
  },
  {
   "cell_type": "code",
   "execution_count": 49,
   "metadata": {},
   "outputs": [
    {
     "name": "stdout",
     "output_type": "stream",
     "text": [
      "title len: 44019\n",
      "max: 73\n"
     ]
    }
   ],
   "source": [
    "## window 2로 shingling 했을 때 최대값 == 73\n",
    "# from k_gram import k_gram_hash\n",
    "import sqlite3\n",
    "con = sqlite3.connect(\"../Books.db\")\n",
    "cur = con.cursor()\n",
    "cur.execute(\"SELECT title FROM Korean_book\")\n",
    "titles = cur.fetchall()\n",
    "print(\"title len:\",len(titles))\n",
    "\n",
    "window = 2\n",
    "max = 0\n",
    "for i, title in enumerate(titles):\n",
    "    result = k_gram_hash(title[0], window, \"korean\")\n",
    "    if max < len(result):\n",
    "        max = len(result)\n",
    "\n",
    "print(\"max:\",max)\n",
    "\n",
    "cur.close()\n",
    "con.close()"
   ]
  },
  {
   "cell_type": "code",
   "execution_count": 50,
   "metadata": {},
   "outputs": [
    {
     "name": "stdout",
     "output_type": "stream",
     "text": [
      "title len: 44019\n",
      "max: 72\n"
     ]
    }
   ],
   "source": [
    "## window 2로 shingling 했을 때 최대값 == 73\n",
    "# from k_gram import k_gram_hash\n",
    "import sqlite3\n",
    "con = sqlite3.connect(\"../Books.db\")\n",
    "cur = con.cursor()\n",
    "cur.execute(\"SELECT title FROM Korean_book\")\n",
    "titles = cur.fetchall()\n",
    "print(\"title len:\",len(titles))\n",
    "\n",
    "window = 3\n",
    "max = 0\n",
    "for i, title in enumerate(titles):\n",
    "    result = k_gram_hash(title[0], window, \"korean\")\n",
    "    if max < len(result):\n",
    "        max = len(result)\n",
    "\n",
    "print(\"max:\",max)\n",
    "\n",
    "cur.close()\n",
    "con.close()"
   ]
  },
  {
   "cell_type": "code",
   "execution_count": 54,
   "metadata": {},
   "outputs": [
    {
     "name": "stdout",
     "output_type": "stream",
     "text": [
      "title len: 44019\n",
      "43677\n"
     ]
    }
   ],
   "source": [
    "# from k_gram import k_gram_hash\n",
    "import sqlite3\n",
    "con = sqlite3.connect(\"../Books.db\")\n",
    "cur = con.cursor()\n",
    "cur.execute(\"SELECT title FROM Korean_book\")\n",
    "titles = cur.fetchall()\n",
    "print(\"title len:\",len(titles))\n",
    "\n",
    "window = 3\n",
    "S = set()\n",
    "\n",
    "# hashing 값이 겹치는 title값이 존재\n",
    "for i, title in enumerate(titles):\n",
    "    S.add(tuple(k_gram_hash(title[0], window, \"korean\")))\n",
    "print(len(S))\n",
    "\n",
    "cur.close()\n",
    "con.close()"
   ]
  },
  {
   "cell_type": "markdown",
   "metadata": {},
   "source": [
    "## author vector"
   ]
  },
  {
   "cell_type": "code",
   "execution_count": 91,
   "metadata": {},
   "outputs": [
    {
     "name": "stdout",
     "output_type": "stream",
     "text": [
      "47835\n",
      "hashing 전 25144\n",
      "hashing 후 25144\n"
     ]
    }
   ],
   "source": [
    "## 변함 없음\n",
    "import sqlite3\n",
    "con = sqlite3.connect(\"../Books.db\")\n",
    "cur = con.cursor()\n",
    "cur.execute(\"SELECT author FROM Foreign_book\")\n",
    "author = cur.fetchall()\n",
    "print(len(author))\n",
    "\n",
    "S = set()\n",
    "for i, author in enumerate(author):\n",
    "    S.add((author[0]))\n",
    "print(\"hashing 전\",len(S))\n",
    "\n",
    "\n",
    "cur.execute(\"SELECT author FROM Foreign_book\")\n",
    "author = cur.fetchall()\n",
    "S = set()\n",
    "for i, author in enumerate(author):\n",
    "    S.add(hash(author[0]))\n",
    "print(\"hashing 후\",len(S))\n",
    "\n",
    "cur.close()\n",
    "con.close()"
   ]
  },
  {
   "cell_type": "code",
   "execution_count": 92,
   "metadata": {},
   "outputs": [
    {
     "name": "stdout",
     "output_type": "stream",
     "text": [
      "Suzanne Collins\n",
      "-8950419322885849737\n",
      "-7053359308171576579\n",
      "[-8950419322885849737, -7053359308171576579, -4774589207700705762, -5294586983771885413, 2613209962993129671]\n",
      "47835\n"
     ]
    }
   ],
   "source": [
    "import sqlite3\n",
    "con = sqlite3.connect(\"../Books.db\")\n",
    "cur = con.cursor()\n",
    "cur.execute(\"SELECT author FROM Foreign_book\")\n",
    "authors = cur.fetchall()\n",
    "print(authors[0][0])\n",
    "print(hash(authors[0][0]))\n",
    "print(hash(authors[1][0]))\n",
    "\n",
    "author_list = []\n",
    "for author in authors:\n",
    "    author_list.append(hash(author[0]))\n",
    "print(author_list[0:5])\n",
    "print(len(author_list))"
   ]
  },
  {
   "cell_type": "markdown",
   "metadata": {},
   "source": [
    "## publisher"
   ]
  },
  {
   "cell_type": "code",
   "execution_count": 93,
   "metadata": {},
   "outputs": [
    {
     "name": "stdout",
     "output_type": "stream",
     "text": [
      "47835\n",
      "hashing 전 9460\n",
      "hashing 후 9460\n"
     ]
    }
   ],
   "source": [
    "## 변함 없음\n",
    "import sqlite3\n",
    "con = sqlite3.connect(\"../Books.db\")\n",
    "cur = con.cursor()\n",
    "cur.execute(\"SELECT publisher FROM Foreign_book\")\n",
    "publisher = cur.fetchall()\n",
    "print(len(publisher))\n",
    "\n",
    "\n",
    "S = set()\n",
    "for i, publisher in enumerate(publisher):\n",
    "    S.add((publisher[0]))\n",
    "print(\"hashing 전\",len(S))\n",
    "\n",
    "\n",
    "cur.execute(\"SELECT publisher FROM Foreign_book\")\n",
    "publisher = cur.fetchall()\n",
    "S = set()\n",
    "for i, publisher in enumerate(publisher):\n",
    "    S.add((publisher[0]))\n",
    "print(\"hashing 후\",len(S))\n",
    "\n",
    "\n",
    "cur.close()\n",
    "con.close()"
   ]
  },
  {
   "cell_type": "code",
   "execution_count": 94,
   "metadata": {},
   "outputs": [
    {
     "name": "stdout",
     "output_type": "stream",
     "text": [
      "47835\n",
      "4211030327100336265\n",
      "-3802909921517544344\n",
      "[4211030327100336265, -3802909921517544344]\n",
      "47835\n"
     ]
    }
   ],
   "source": [
    "import sqlite3\n",
    "con = sqlite3.connect(\"../Books.db\")\n",
    "cur = con.cursor()\n",
    "cur.execute(\"SELECT publisher FROM Foreign_book\")\n",
    "publishers = cur.fetchall()\n",
    "print(len(publishers))\n",
    "print(hash(publishers[0][0]))\n",
    "print(hash(publishers[1][0]))\n",
    "\n",
    "publisher_list = []\n",
    "for publisher in publishers:\n",
    "    publisher_list.append(hash(publisher[0]))\n",
    "print(publisher_list[:2])\n",
    "print(len(publisher_list))"
   ]
  },
  {
   "cell_type": "markdown",
   "metadata": {},
   "source": [
    "## rating"
   ]
  },
  {
   "cell_type": "code",
   "execution_count": 95,
   "metadata": {},
   "outputs": [
    {
     "name": "stdout",
     "output_type": "stream",
     "text": [
      "47835\n",
      "433\n",
      "450\n",
      "428\n",
      "[433, 450, 428, 426]\n",
      "47835\n"
     ]
    }
   ],
   "source": [
    "import sqlite3\n",
    "con = sqlite3.connect(\"../Books.db\")\n",
    "cur = con.cursor()\n",
    "cur.execute(\"SELECT rating FROM Foreign_book\")\n",
    "ratings = cur.fetchall()\n",
    "print(len(ratings))\n",
    "print(int(100*(ratings[0][0])))\n",
    "print(int(100*(ratings[1][0])))\n",
    "print(int(100*(ratings[2][0])))\n",
    "\n",
    "rating_list = []\n",
    "for rating in ratings:\n",
    "    if rating[0] == None:\n",
    "        rating_list.append(0)\n",
    "    else:\n",
    "        rating_list.append(int(100*(rating[0])))\n",
    "print(rating_list[:4])\n",
    "print(len(rating_list))"
   ]
  },
  {
   "cell_type": "markdown",
   "metadata": {},
   "source": [
    "## page"
   ]
  },
  {
   "cell_type": "code",
   "execution_count": 96,
   "metadata": {},
   "outputs": [
    {
     "name": "stdout",
     "output_type": "stream",
     "text": [
      "47835\n",
      "374\n",
      "870\n",
      "324\n",
      "\n",
      "[374, 870, 324]\n",
      "47835\n"
     ]
    }
   ],
   "source": [
    "import sqlite3\n",
    "con = sqlite3.connect(\"../Books.db\")\n",
    "cur = con.cursor()\n",
    "cur.execute(\"SELECT pages,id FROM Foreign_book\")\n",
    "pages = cur.fetchall()\n",
    "print(len(pages))\n",
    "print(pages[0][0])\n",
    "print(pages[1][0])\n",
    "print(pages[2][0])\n",
    "print()\n",
    "\n",
    "page_list = []\n",
    "for i, page in enumerate(pages):\n",
    "    if page[0] == None:\n",
    "        page_list.append(0)\n",
    "    else:\n",
    "        page_list.append(page[0])\n",
    "print(page_list[:3])\n",
    "print(len(page_list))"
   ]
  },
  {
   "cell_type": "markdown",
   "metadata": {},
   "source": [
    "## id"
   ]
  },
  {
   "cell_type": "code",
   "execution_count": 97,
   "metadata": {},
   "outputs": [
    {
     "name": "stdout",
     "output_type": "stream",
     "text": [
      "47835\n",
      "0\n",
      "1\n",
      "2\n",
      "\n",
      "[0, 1, 2]\n",
      "47835\n"
     ]
    }
   ],
   "source": [
    "import sqlite3\n",
    "con = sqlite3.connect(\"../Books.db\")\n",
    "cur = con.cursor()\n",
    "cur.execute(\"SELECT id FROM Foreign_book\")\n",
    "ids = cur.fetchall()\n",
    "print(len(ids))\n",
    "print(ids[0][0])\n",
    "print(ids[1][0])\n",
    "print(ids[2][0])\n",
    "print()\n",
    "\n",
    "id_list = []\n",
    "for i, id in enumerate(ids):\n",
    "    if id[0] == None:\n",
    "        id_list.append(0)\n",
    "    else:\n",
    "        id_list.append(id[0])\n",
    "print(id_list[:3])\n",
    "print(len(id_list))"
   ]
  },
  {
   "cell_type": "markdown",
   "metadata": {},
   "source": [
    "## genre"
   ]
  },
  {
   "cell_type": "code",
   "execution_count": 13,
   "metadata": {},
   "outputs": [
    {
     "name": "stdout",
     "output_type": "stream",
     "text": [
      "<class 'str'>\n",
      "983\n",
      "['Fiction', 'Romance', 'Fantasy', 'Young Adult', 'Contemporary']\n"
     ]
    }
   ],
   "source": [
    "with open(\"../data/foreign-all-genres.txt\", \"rb\") as f:\n",
    "    all_genres = f.read().decode(\"utf-8\")\n",
    "\n",
    "print(type(all_genres))\n",
    "all_genres = all_genres.split(\"\\n\")\n",
    "print(len(all_genres))\n",
    "print(all_genres[0:5])"
   ]
  },
  {
   "cell_type": "code",
   "execution_count": 24,
   "metadata": {},
   "outputs": [
    {
     "name": "stdout",
     "output_type": "stream",
     "text": [
      "982\n",
      "Guinea\n"
     ]
    }
   ],
   "source": [
    "# all_genres.remove(\"\")\n",
    "print(len(all_genres))\n",
    "print(all_genres[-1])"
   ]
  },
  {
   "cell_type": "code",
   "execution_count": 102,
   "metadata": {},
   "outputs": [
    {
     "name": "stdout",
     "output_type": "stream",
     "text": [
      "(47835, 982)\n"
     ]
    }
   ],
   "source": [
    "import sqlite3\n",
    "import numpy as np\n",
    "con = sqlite3.connect(\"../Books.db\")\n",
    "cur = con.cursor()\n",
    "cur.execute(\"SELECT genres FROM Foreign_book\")\n",
    "genres = cur.fetchall()\n",
    "\n",
    "genre_list = []\n",
    "for genre in genres:\n",
    "    binary = [0 for _ in range(len(all_genres))]\n",
    "    genre = genre[0].split(\", \")\n",
    "    for i,g in enumerate(all_genres):\n",
    "        if g in genre:\n",
    "            binary[i] = 1\n",
    "    genre_list.append(binary)\n",
    "genre_numpy = np.array(genre_list)\n",
    "print(genre_numpy.shape)"
   ]
  },
  {
   "cell_type": "code",
   "execution_count": 103,
   "metadata": {},
   "outputs": [
    {
     "name": "stdout",
     "output_type": "stream",
     "text": [
      "['Young Adult', 'Fiction', 'Dystopia', 'Fantasy', 'Science Fiction', 'Romance', 'Adventure', 'Teen', 'Post Apocalyptic', 'Action']\n",
      "10\n",
      "10\n",
      "\n",
      "['Fiction', 'Dystopia', 'Australia', 'Feminism', 'Science Fiction', 'Book Club', 'Contemporary', 'Literary Fiction', 'Literature', 'Horror']\n",
      "10\n",
      "10\n"
     ]
    }
   ],
   "source": [
    "import sqlite3\n",
    "import numpy as np\n",
    "con = sqlite3.connect(\"../Books.db\")\n",
    "cur = con.cursor()\n",
    "cur.execute(\"SELECT genres FROM Foreign_book\")\n",
    "genres = cur.fetchall()\n",
    "print((genres[0][0].split(\", \")))\n",
    "print(len(genres[0][0].split(\", \")))\n",
    "print(genre_numpy[0,:].sum())\n",
    "print()\n",
    "print((genres[47820][0].split(\", \")))\n",
    "print(len(genres[47820][0].split(\", \")))\n",
    "print(genre_numpy[47820,:].sum())"
   ]
  },
  {
   "cell_type": "code",
   "execution_count": 104,
   "metadata": {},
   "outputs": [
    {
     "name": "stdout",
     "output_type": "stream",
     "text": [
      "(1, 47835)\n",
      "(1, 47835)\n",
      "(1, 47835)\n",
      "(1, 47835)\n",
      "(1, 47835)\n"
     ]
    }
   ],
   "source": [
    "import numpy as np\n",
    "id_numpy = np.array([id_list])\n",
    "print(id_numpy.shape)\n",
    "rating_numpy = np.array([rating_list])\n",
    "print(rating_numpy.shape)\n",
    "page_numpy = np.array([np.array(page_list)])\n",
    "print(page_numpy.shape)\n",
    "author_numpy = np.array([author_list])\n",
    "print(author_numpy.shape)\n",
    "publisher_numpy = np.array([publisher_list])\n",
    "print(publisher_numpy.shape)"
   ]
  },
  {
   "cell_type": "code",
   "execution_count": 77,
   "metadata": {},
   "outputs": [],
   "source": [
    "def check(x):\n",
    "    info = []\n",
    "    for i in range((x.shape[0])):\n",
    "        for j in range((x.shape[1])):\n",
    "            if isinstance(x[i,j], np.int64):\n",
    "                pass\n",
    "            else:\n",
    "                info.append((i,j))\n",
    "    print(len(info))"
   ]
  },
  {
   "cell_type": "code",
   "execution_count": 80,
   "metadata": {},
   "outputs": [
    {
     "name": "stdout",
     "output_type": "stream",
     "text": [
      "0\n",
      "0\n",
      "47855\n",
      "0\n",
      "0\n"
     ]
    }
   ],
   "source": [
    "check(id_numpy)\n",
    "check(rating_numpy)\n",
    "check(page_numpy)\n",
    "check(author_numpy)\n",
    "check(publisher_numpy)"
   ]
  },
  {
   "cell_type": "code",
   "execution_count": 88,
   "metadata": {},
   "outputs": [
    {
     "name": "stdout",
     "output_type": "stream",
     "text": [
      "<class 'int'>\n"
     ]
    }
   ],
   "source": [
    "print(type(page_list[0]))\n",
    "info = []\n",
    "for i in page_list:\n",
    "    if isinstance(i, int):\n",
    "        pass\n",
    "    else:\n",
    "        info.append(i)"
   ]
  },
  {
   "cell_type": "code",
   "execution_count": 90,
   "metadata": {},
   "outputs": [
    {
     "name": "stdout",
     "output_type": "stream",
     "text": [
      "['1 page', '1 page', '1 page', '1 page', '1 page', '1 page', '1 page', '1 page', '1 page', '1 page', '1 page', '1 page', '1 page', '1 page', '1 page', '1 page', '1 page', '1 page', '1 page', '1 page']\n"
     ]
    }
   ],
   "source": [
    "print(info)"
   ]
  },
  {
   "cell_type": "code",
   "execution_count": 105,
   "metadata": {},
   "outputs": [
    {
     "name": "stdout",
     "output_type": "stream",
     "text": [
      "(47835, 987)\n"
     ]
    }
   ],
   "source": [
    "ForBookMatrix = np.concatenate((\n",
    "    id_numpy.T,\n",
    "    genre_numpy,\n",
    "    rating_numpy.T,\n",
    "    page_numpy.T,\n",
    "    author_numpy.T,\n",
    "    publisher_numpy.T\n",
    "), axis=1)\n",
    "print(ForBookMatrix.shape)"
   ]
  },
  {
   "cell_type": "code",
   "execution_count": 106,
   "metadata": {},
   "outputs": [
    {
     "name": "stdout",
     "output_type": "stream",
     "text": [
      "3\n",
      "10\n",
      "433\n",
      "374\n",
      "-8950419322885849737\n",
      "-8950419322885849737\n",
      "4211030327100336265\n",
      "4211030327100336265\n"
     ]
    }
   ],
   "source": [
    "print(ForBookMatrix[3,0])\n",
    "print(ForBookMatrix[0,1:983].sum())\n",
    "print(ForBookMatrix[0,983])\n",
    "print(ForBookMatrix[0,984])\n",
    "print(ForBookMatrix[0,985])\n",
    "print(hash((\"Suzanne Collins\")))\n",
    "print(ForBookMatrix[0,986])\n",
    "print(hash((\"Scholastic Press\")))"
   ]
  },
  {
   "cell_type": "code",
   "execution_count": 107,
   "metadata": {},
   "outputs": [],
   "source": [
    "np.savetxt(\"../data/ForBookMatrix.csv\", ForBookMatrix, delimiter=\",\")"
   ]
  },
  {
   "cell_type": "code",
   "execution_count": 184,
   "metadata": {},
   "outputs": [
    {
     "name": "stdout",
     "output_type": "stream",
     "text": [
      "(43954, 5)\n"
     ]
    }
   ],
   "source": [
    "import pandas as pd\n",
    "forbook = pd.DataFrame({\n",
    "    \"author\":author_list,\n",
    "    \"genre\":genre_list,\n",
    "    \"rating\": rating_list,\n",
    "    \"page\": page_list,\n",
    "    \"publisher\": publisher_list\n",
    "}, index=id_list)\n",
    "print(forbook.shape)"
   ]
  },
  {
   "cell_type": "code",
   "execution_count": 186,
   "metadata": {},
   "outputs": [],
   "source": [
    "forbook.to_csv(\"../data/ForBookDataFrame.csv\")"
   ]
  },
  {
   "cell_type": "code",
   "execution_count": 1,
   "metadata": {},
   "outputs": [
    {
     "ename": "NameError",
     "evalue": "name 'ForBookMatrix' is not defined",
     "output_type": "error",
     "traceback": [
      "\u001b[0;31m---------------------------------------------------------------------------\u001b[0m",
      "\u001b[0;31mNameError\u001b[0m                                 Traceback (most recent call last)",
      "\u001b[0;32m<ipython-input-1-a88c5dff3ac1>\u001b[0m in \u001b[0;36m<module>\u001b[0;34m\u001b[0m\n\u001b[1;32m      4\u001b[0m \u001b[0;32mimport\u001b[0m \u001b[0mpickle\u001b[0m\u001b[0;34m\u001b[0m\u001b[0;34m\u001b[0m\u001b[0m\n\u001b[1;32m      5\u001b[0m \u001b[0;32mwith\u001b[0m \u001b[0mopen\u001b[0m\u001b[0;34m(\u001b[0m\u001b[0;34m\"../data/ForBookMatrix.pkl\"\u001b[0m\u001b[0;34m,\u001b[0m \u001b[0;34m\"wb\"\u001b[0m\u001b[0;34m)\u001b[0m \u001b[0;32mas\u001b[0m \u001b[0mf\u001b[0m\u001b[0;34m:\u001b[0m\u001b[0;34m\u001b[0m\u001b[0;34m\u001b[0m\u001b[0m\n\u001b[0;32m----> 6\u001b[0;31m     \u001b[0mpickle\u001b[0m\u001b[0;34m.\u001b[0m\u001b[0mdump\u001b[0m\u001b[0;34m(\u001b[0m\u001b[0mForBookMatrix\u001b[0m\u001b[0;34m,\u001b[0m \u001b[0mf\u001b[0m\u001b[0;34m)\u001b[0m\u001b[0;34m\u001b[0m\u001b[0;34m\u001b[0m\u001b[0m\n\u001b[0m",
      "\u001b[0;31mNameError\u001b[0m: name 'ForBookMatrix' is not defined"
     ]
    }
   ],
   "source": [
    "from numpy import genfromtxt\n",
    "ForBookMatrix1 = genfromtxt(\"../data/ForBookMatrix.csv\", delimiter=\",\")"
   ]
  },
  {
   "cell_type": "code",
   "execution_count": null,
   "metadata": {},
   "outputs": [],
   "source": [
    "import pickle\n",
    "with open(\"../data/ForBookMatrix.pkl\", \"wb\") as f:\n",
    "    pickle.dump(ForBookMatrix1, f)"
   ]
  }
 ],
 "metadata": {
  "kernelspec": {
   "display_name": "Python 3.6.9 64-bit",
   "language": "python",
   "name": "python3"
  },
  "language_info": {
   "codemirror_mode": {
    "name": "ipython",
    "version": 3
   },
   "file_extension": ".py",
   "mimetype": "text/x-python",
   "name": "python",
   "nbconvert_exporter": "python",
   "pygments_lexer": "ipython3",
   "version": "3.6.9"
  },
  "orig_nbformat": 4,
  "vscode": {
   "interpreter": {
    "hash": "31f2aee4e71d21fbe5cf8b01ff0e069b9275f58929596ceb00d14d90e3e16cd6"
   }
  }
 },
 "nbformat": 4,
 "nbformat_minor": 2
}
