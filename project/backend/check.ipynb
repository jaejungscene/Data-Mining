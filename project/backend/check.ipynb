{
 "cells": [
  {
   "cell_type": "code",
   "execution_count": 40,
   "metadata": {},
   "outputs": [
    {
     "name": "stdout",
     "output_type": "stream",
     "text": [
      "[('COSMETIC VIEW', None)]\n"
     ]
    }
   ],
   "source": [
    "\n",
    "import sqlite3\n",
    "from flask import Flask, request, jsonify\n",
    "\n",
    "conn = sqlite3.connect(\"./Books.db\")\n",
    "cur = conn.cursor()\n",
    "# cur.execute(\"SELECT title, author, publisher FROM Korean_book WHERE title LIKE \\\"%헤%드%스%파%\\\"\")\n",
    "cur.execute(\"SELECT title, rating FROM Korean_book WHERE id==61168\")\n",
    "data = cur.fetchall()\n",
    "print(data)\n",
    "\n",
    "# sentData = []\n",
    "# for title, author, publisher in data:\n",
    "#     sentData.append({\n",
    "#         \"title\":title,\n",
    "#         \"author\":author,\n",
    "#         \"publisher\":publisher,\n",
    "#     })\n",
    "\n",
    "# print(sentData)\n",
    "# print(jsonify(sentData))\n",
    "# print(jsonify(data[0]))\n",
    "cur.close()\n",
    "conn.close()"
   ]
  },
  {
   "cell_type": "code",
   "execution_count": 8,
   "metadata": {},
   "outputs": [
    {
     "name": "stdout",
     "output_type": "stream",
     "text": [
      "히가시노 게이고\n"
     ]
    }
   ],
   "source": [
    "s = \"\\ud788\\uac00\\uc2dc\\ub178 \\uac8c\\uc774\\uace0\"\n",
    "print(s)\n",
    "# import json\n",
    "# d = {\n",
    "#     \"name\":\"jae\",\n",
    "#     \"age\":13,\n",
    "# }\n",
    "# with open(\"result.json\", \"w\") as fp:\n",
    "#     json.dump(d,fp)\n",
    "# print(type(d))\n",
    "# d = str(d)\n",
    "# print(type(d))"
   ]
  },
  {
   "cell_type": "code",
   "execution_count": 33,
   "metadata": {},
   "outputs": [
    {
     "name": "stdout",
     "output_type": "stream",
     "text": [
      "[{'title': '동안 시크릿', 'author': '이병철 외', 'publisher': '페이퍼북'}]\n"
     ]
    }
   ],
   "source": [
    "from utils import search_database\n",
    "searchData = \"동안시크릿\"\n",
    "searchResult = search_database(searchData)\n",
    "print(searchResult)"
   ]
  },
  {
   "cell_type": "code",
   "execution_count": 45,
   "metadata": {},
   "outputs": [
    {
     "name": "stdout",
     "output_type": "stream",
     "text": [
      "[]\n"
     ]
    }
   ],
   "source": [
    "\n",
    "import sqlite3\n",
    "from flask import Flask, request, jsonify\n",
    "\n",
    "conn = sqlite3.connect(\"./Books.db\")\n",
    "cur = conn.cursor()\n",
    "cur.execute(\"SELECT title, rating FROM Korean_book WHERE id==59666\")\n",
    "# cur.execute(\"DELETE FROM Korean_book WHERE id==59666\")\n",
    "data = cur.fetchall()\n",
    "print(data)\n",
    "conn.commit()\n",
    "cur.close()\n",
    "conn.close()\n",
    "\n"
   ]
  },
  {
   "cell_type": "code",
   "execution_count": 12,
   "metadata": {},
   "outputs": [
    {
     "name": "stdout",
     "output_type": "stream",
     "text": [
      "20481\n",
      "('Ceaseless', 'Paranormal, Young Adult, Romance, Fantasy, Paranormal Romance, Supernatural, New Adult, Ghosts, College, Angels')\n"
     ]
    }
   ],
   "source": [
    "import sqlite3\n",
    "con = sqlite3.connect(\"./Books.db\")\n",
    "cur = con.cursor()\n",
    "# cur.execute(\"DELETE FROM Foreign_book Where genres==\\'\\'\")\n",
    "cur.execute(\"SELECT title, genres FROM Foreign_book Where genres LIKE\\'%adult%\\'\")\n",
    "data = cur.fetchall()\n",
    "con.commit()\n",
    "cur.close()\n",
    "con.close()\n",
    "print(len(data))\n",
    "print(data[2000])"
   ]
  },
  {
   "cell_type": "code",
   "execution_count": 15,
   "metadata": {},
   "outputs": [
    {
     "name": "stdout",
     "output_type": "stream",
     "text": [
      "%ED%95%98%EC%96%BC%EB%B9%88%EC%B1%85\n"
     ]
    }
   ],
   "source": [
    "s = \"%ED%95%98%EC%96%BC%EB%B9%88%EC%B1%85\".encode(\"UTF-8\").decode(\"UTF-8\")\n",
    "print(s)"
   ]
  },
  {
   "cell_type": "code",
   "execution_count": 26,
   "metadata": {},
   "outputs": [
    {
     "name": "stdout",
     "output_type": "stream",
     "text": [
      "[(0, '하얼빈', '국내도서,소설,한국소설,역사/대하소설,장르소설,역사소설', '김훈', 9.75, '문학동네', 20220803, 308, '‘우리 시대 최고의 문장가’ ‘작가들의 작가’로 일컬어지는 소설가 김훈의 신작 장편소설 『하얼빈』이 출간되었다. 『하얼빈』은 김훈이 작가로 활동하는 내내 인생 과업으로 삼아왔던 특별한 작품이다. 작가는 청년 시절부터 안중근의 짧고 강렬했던 생애를 소설로 쓰려는 구상을 품고 있었고, 안중근의 움직임이 뿜어내는 에너지를 글로 감당하기 위해 오랜 시간을 들여 ‘인간 안중근’을 깊이 이해해나갔다. 그리고 2022년 여름, 치열하고 절박한 집필 끝에 드디어 그 결과물을 세상에 내놓게 되었다.\\n\\n 『하얼빈』에서는 단순하게 요약되기 쉬운 실존 인물의 삶을 역사적 기록보다도 철저한 상상으로 탄탄하게 재구성하는 김훈의 글쓰기 방식이 빛을 발한다. 이러한 서사는 자연스럽게 김훈의 대표작 『칼의 노래』를 떠올리게 하는데, 『칼의 노래』가 명장으로서 이룩한 업적에 가려졌던 이순신의 요동하는 내면을 묘사했다면 『하얼빈』은 안중근에게 드리워져 있던 영웅의 그늘을 걷어내고 그의 가장 뜨겁고 혼란스러웠을 시간을 현재에 되살려놓는다.\\n\\n난세를 헤쳐가야 하는 운명을 마주한 미약한 인간의 내면에 집중하는 김훈의 시선은 『하얼빈』에서 더욱 깊이 있고 오묘한 장면들을 직조해낸다. 소설 안에서 이토 히로부미로 상징되는 제국주의의 물결과 안중근으로 상징되는 청년기의 순수한 열정이 부딪치고, 살인이라는 중죄에 임하는 한 인간의 대의와 윤리가 부딪치며, 안중근이 천주교인으로서 지닌 신앙심과 속세의 인간으로서 지닌 증오심이 부딪친다. 이토록 다양한 층위에서 벌어지는 복합적인 갈등을 날렵하게 다뤄내며 안중근이라는 인물을 바라보는 시야의 차원을 높이는 이 작품은 김훈의 새로운 대표작으로 소개되기에 모자람이 없다.', 'https://contents.kyobobook.co.kr/sih/fit-in/142x0/pdt/9788954699914.jpg')]\n"
     ]
    }
   ],
   "source": [
    "s = {\"where\":\"korean\"}\n",
    "from analysis.analyse import analyse\n",
    "import json\n",
    "\n",
    "dbname = \"Korean_book\" if(s[\"where\"]==\"korean\") else \"Foreign_book\"\n",
    "con = sqlite3.connect(\"./Books.db\")\n",
    "cur = con.cursor()\n",
    "cur.execute(\"SELECT * FROM Korean_book WHERE id=0\")\n",
    "temp = cur.fetchall()\n",
    "print(temp)\n",
    "cur.close()\n",
    "con.close()\n",
    "\n",
    "# result = analyse(s)\n",
    "# print(result)\n",
    "\n",
    "# with open(\"./test.json\", \"w\") as f:\n",
    "#     json.dump(result, f)"
   ]
  },
  {
   "cell_type": "code",
   "execution_count": 45,
   "metadata": {},
   "outputs": [
    {
     "name": "stdout",
     "output_type": "stream",
     "text": [
      "하얼빈\n"
     ]
    }
   ],
   "source": [
    "# b = b'\\xed\\x95\\x98\\xec\\x96\\xbc\\xeb\\xb9\\x88'\n",
    "# print(b)\n",
    "# print(type(b))\n",
    "# print(str(b,\"utf-8\"))\n",
    "print(\"하얼빈\")\n",
    "# print(b.decode(\"UTF-8\"))\n",
    "# print(type(b.decode(\"UTF-8\")))"
   ]
  },
  {
   "cell_type": "code",
   "execution_count": 27,
   "metadata": {},
   "outputs": [],
   "source": [
    "import sqlite3\n",
    "data = {\"where\":\"korean\"}\n",
    "DATA_PATH = \"/home/ljj0512/private/workspace/data-mining/project/backend\"\n",
    "dbname = \"Korean_book\" if(data[\"where\"]==\"korean\") else \"Foreign_book\"\n",
    "con = sqlite3.connect(f\"{DATA_PATH}/Books.db\")\n",
    "cur = con.cursor()\n",
    "sentData = []\n",
    "for i in range(20):\n",
    "    try:\n",
    "        cur.execute(\n",
    "            f\"\"\"\n",
    "            SELECT title, author, publisher, rating, imgUrl\n",
    "            FROM {dbname}\n",
    "            WHERE id=={i}\n",
    "            \"\"\"\n",
    "        )\n",
    "\n",
    "        temp = cur.fetchall()[0]\n",
    "        temp = {\n",
    "            \"title\":temp[0],\n",
    "            \"author\":temp[1],\n",
    "            \"publisher\":temp[2],\n",
    "            \"rating\":temp[3],\n",
    "            \"imgUrl\":temp[4],\n",
    "        }\n",
    "        sentData.append(temp)\n",
    "    except:\n",
    "        pass\n",
    "cur.close()\n",
    "con.close()\n",
    "\n",
    "import json\n",
    "with open(\"./test.json\", \"w\") as f:\n",
    "    json.dump(sentData, f)"
   ]
  },
  {
   "cell_type": "code",
   "execution_count": 22,
   "metadata": {},
   "outputs": [
    {
     "name": "stdout",
     "output_type": "stream",
     "text": [
      "[('달러구트 꿈 백화점 2(레인보우 에디션)', '이미예', '팩토리나인', 9.77, 'https://contents.kyobobook.co.kr/sih/fit-in/142x0/pdt/9791165343729.jpg')]\n"
     ]
    }
   ],
   "source": [
    "import sqlite3\n",
    "data = {\"where\":\"korean\"}\n",
    "DATA_PATH = \"/home/ljj0512/private/workspace/data-mining/project/backend\"\n",
    "dbname = \"Korean_book\" if(data[\"where\"]==\"korean\") else \"Foreign_book\"\n",
    "con = sqlite3.connect(f\"{DATA_PATH}/Books.db\")\n",
    "cur = con.cursor()\n",
    "sentData = []\n",
    "cur.execute(\n",
    "            f\"\"\"\n",
    "            SELECT title, author, publisher, rating, imgUrl\n",
    "            FROM {dbname}\n",
    "            WHERE rowid=={12}\n",
    "            \"\"\"\n",
    ")\n",
    "temp = cur.fetchall()\n",
    "print(temp)"
   ]
  },
  {
   "cell_type": "markdown",
   "metadata": {},
   "source": [
    "# check and inspect crawl system"
   ]
  },
  {
   "cell_type": "code",
   "execution_count": null,
   "metadata": {},
   "outputs": [],
   "source": [
    "import requests\n",
    "import bs4\n",
    "sub_url = \"https://product.kyobobook.co.kr/detail/\" + \"S000061532442\"\n",
    "data = requests.get(sub_url).content\n",
    "soup = bs4.BeautifulSoup(data, \"lxml\")\n",
    "print(\n",
    "    soup.find(\"table\",class_=\"tbl_row\").tbody.get_text()\\\n",
    "    .strip().replace(\" \",\"\").split(\"\\n\")[5].replace(\"쪽\",\"\")\n",
    ")\n",
    "\n",
    "# .replace(\"\\n\",\"\")\\\n",
    "# .replace(\"\\t\",\"\"))"
   ]
  },
  {
   "cell_type": "code",
   "execution_count": null,
   "metadata": {},
   "outputs": [],
   "source": [
    "import pandas as pd\n",
    "\n",
    "kor_book = pd.DataFrame(columns=[\n",
    "    \"title\", \"genre_list\", \"author\", \"rating\", \"publisher\",\n",
    "    \"p_date\", \"description\", \"pages\", \"imgUrl\"\n",
    "])\n",
    "print(kor_book)"
   ]
  },
  {
   "cell_type": "code",
   "execution_count": null,
   "metadata": {},
   "outputs": [],
   "source": [
    "import json\n",
    "url = \"https://product.kyobobook.co.kr/api/gw/pdt/category/all?page=2&per=20&saleCmdtDvsnCode=KOR&saleCmdtClstCode=0101&sort=new\"\n",
    "url = \"https://product.kyobobook.co.kr/api/gw/pdt/category/all?page=1&per=50&saleCmdtDvsnCode=KOR&saleCmdtClstCode=0101&sort=sel\"\n",
    "data = requests.get(url).content\n",
    "data = json.loads(data.decode(\"utf-8\"))\n",
    "print(data[\"data\"][\"tabContents\"][0][\"inbukCntt\"])\n",
    "# with open(\"content.json\", \"w\", encoding=\"utf-8\") as f:\n",
    "#     json.dump(data,f, indent=\"\\t\", ensure_ascii=False)\n",
    "\n",
    "# img_src_url = \"https://contents.kyobobook.co.kr/sih/fit-in/142x0/pdt/\"\n",
    "# imgUrl = img_src_url + data[\"data\"][\"tabContents\"][0][\"cmdtcode\"] + \".jpg\"\n",
    "# data = requests.get(imgUrl).content\n",
    "# with open(\"test.jpg\", \"wb\") as f:\n",
    "#     f.write(data)"
   ]
  },
  {
   "cell_type": "code",
   "execution_count": null,
   "metadata": {},
   "outputs": [],
   "source": [
    "x =\"['국내도서', '소설', '한국소설', '역사/대하소설', '장르소설', '역사소설']\"\n",
    "x = x.replace(\"[\",\"\").replace(\"]\",\"\").replace(\"\\'\",\"\").replace(\" \",\"\")\n",
    "print(x)\n",
    "y = ['국내도서', '소설', '한국소설', '역사/대하소설', '장르소설', '역사소설']\n",
    "print(str(y).replace(\"[\",\"\").replace(\"]\",\"\").replace(\"\\'\",\"\").replace(\" \",\"\"))"
   ]
  },
  {
   "cell_type": "code",
   "execution_count": null,
   "metadata": {},
   "outputs": [],
   "source": [
    "\n",
    "import sqlite3\n",
    "conn = sqlite3.connect(\"KoreanBook.db\")\n",
    "\n",
    "cur = conn.cursor()\n",
    "\n",
    "conn.execute('CREATE TABLE employee_data(id INTEGER, title TEXT, genres TEXT, author TEXT, rating REAL, publisher TEXT, pages INTEGER, description TEXT, imgUrl TEXT)')\n",
    "\n",
    "cur.execute(\n",
    "    f'INSERT INTO employee_data VALUES (?, ?, ?, ?, ?)'\n",
    ")\n",
    "\n",
    "conn.commit()\n",
    "conn.close()"
   ]
  },
  {
   "cell_type": "code",
   "execution_count": null,
   "metadata": {},
   "outputs": [],
   "source": [
    "import pandas as pd\n",
    "from IPython.display import display\n",
    "df = pd.read_csv(\"./data/korean-books.csv\")\n",
    "# print(df.iloc[0])\n",
    "display(df)"
   ]
  },
  {
   "cell_type": "code",
   "execution_count": null,
   "metadata": {},
   "outputs": [],
   "source": [
    "import bs4\n",
    "import requests\n",
    "import json\n",
    "import pandas as pd\n",
    "import warnings\n",
    "\n",
    "warnings.filterwarnings(action=\"ignore\")\n",
    "\n",
    "kor_book = pd.DataFrame(columns=[\n",
    "    \"title\", \"genre_dic\", \"author\", \"rating\", \"publisher\",\n",
    "    \"p_date\", \"description\", \"pages\", \"imgUrl\"\n",
    "])\n",
    "print(kor_book)\n",
    "\n",
    "subject_list = {\n",
    "    \"01\":\"소설\", \"03\":\"시/에세이\", \"05\":\"인문\",\"13\":\"경제/경영\", \"15\":\"자기계발\", \n",
    "    \"19\":\"역사/문화\", \"21\":\"종교\", \"17\":\"정치/사회\", \"23\":\"예술/대중문화\",\n",
    "    \"29\":\"과학\", \"26\":\"기술/공학\", \"33\":\"컴퓨터/IT\",\n",
    "\n",
    "    \"38\":\"청소년\", \"11\":\"취미/실용/스포츠\", \"27\":\"외국어\", \"32\":\"여행\",\n",
    "    \"07\":\"가정/육아\", \"08\":\"요리\", \"09\":\"건강\"\n",
    "}\n",
    "\n",
    "img_src_url = \"https://contents.kyobobook.co.kr/sih/fit-in/142x0/pdt/\"\n",
    "success = [200,299]\n",
    "max_page = 11\n",
    "print(\"=\"*100)\n",
    "\n",
    "for i in subject_list:\n",
    "    print(\"start \",subject_list[i])\n",
    "    for j in range(1,50,2):\n",
    "        subjectNum = int(i)*100 + j\n",
    "        if i==38:\n",
    "            max_page = 6\n",
    "        for page in range(1,max_page):\n",
    "            url = f\"https://product.kyobobook.co.kr/api/gw/pdt/category/all?page={page}&per=50&saleCmdtDvsnCode=KOR&saleCmdtClstCode={subjectNum:04d}&sort=sel\"\n",
    "            data = requests.get(url)\n",
    "            if success[0]<=data.status_code and data.status_code<=success[1]:\n",
    "                data = json.loads(data.content.decode(\"utf-8\"))\n",
    "                for n in range(50):\n",
    "                    book = data[\"data\"][\"tabContents\"][n]\n",
    "                    title = book[\"cmdtName\"]\n",
    "                    author = book[\"chrcName\"]\n",
    "                    publisher = book[\"pbcmName\"]\n",
    "                    rating = book[\"revwRvgrAvg\"] if book[\"revwRvgrAvg\"]!=0 else None\n",
    "                    p_date = book[\"rlseDate\"]\n",
    "                    description = book[\"inbukCntt\"]\n",
    "                    imgUrl = img_src_url + book[\"cmdtcode\"] + \".jpg\"\n",
    "                    sub_url = \"https://product.kyobobook.co.kr/detail/\" + book[\"saleCmdtId\"]\n",
    "                    sub_data = requests.get(sub_url).content\n",
    "                    sub_soup = bs4.BeautifulSoup(sub_data, \"lxml\")\n",
    "                    genre_dic = {}\n",
    "                    for genres in (sub_soup.find_all(\"li\",class_=\"category_list_item\")):\n",
    "                        for genre in genres.find_all(\"a\"):\n",
    "                            genre_dic[genre.get_text()] = 1\n",
    "                    genre_list = list(genre_dic.keys())\n",
    "                    try:\n",
    "                        pages = sub_soup.find(\"table\",class_=\"tbl_row\").tbody.get_text()\\\n",
    "                            .strip().replace(\" \",\"\").split(\"\\n\")[5].replace(\"쪽\",\"\")\n",
    "                        kor_book = kor_book.append({\n",
    "                            \"title\":title,\n",
    "                            \"genre_list\":genre_list,\n",
    "                            \"author\":author,\n",
    "                            \"rating\":rating,\n",
    "                            \"publisher\":publisher,\n",
    "                            \"p_date\":p_date,\n",
    "                            \"description\":description,\n",
    "                            \"pages\":pages,\n",
    "                            \"imgUrl\":imgUrl,\n",
    "                            },\n",
    "                            ignore_index=True\n",
    "                        )\n",
    "                    except:\n",
    "                        print(title,\"ERROR\")\n",
    "                        pages = None\n",
    "            else:\n",
    "                pass"
   ]
  },
  {
   "cell_type": "code",
   "execution_count": null,
   "metadata": {},
   "outputs": [],
   "source": [
    "print(len(kor_book))\n",
    "print(kor_book.iloc[0:5])"
   ]
  },
  {
   "cell_type": "code",
   "execution_count": null,
   "metadata": {},
   "outputs": [],
   "source": [
    "url = \"https://product.kyobobook.co.kr/detail/S000061532442\"\n",
    "data = requests.get(url).content\n",
    "soup = bs4.BeautifulSoup(data, \"lxml\")\n",
    "print(soup)"
   ]
  },
  {
   "cell_type": "code",
   "execution_count": null,
   "metadata": {},
   "outputs": [],
   "source": [
    "import requests\n",
    "import bs4\n",
    "# url = \"http://www.kyobobook.co.kr/indexKor.laf?mallGb=KOR&orderClick=sg\"\n",
    "# html = requests.get(url).content\n",
    "# soup = bs4.BeautifulSoup(html, \"lxml\")\n",
    "# for i in soup.find_all(\"ul\", class_=\"category\")[0].find_all(\"a\", href=True):\n",
    "#     print(i)\n",
    "#     print()\n",
    "# soup = bs4.BeautifulSoup(bytes(list(soup.find_all(\"ul\", class_=\"category\"))[0]), \"lxml\")\n",
    "# print(soup)\n",
    "\n",
    "subject_list = {\n",
    "    \"01\":\"소설\", \"03\":\"시/에세이\", \"05\":\"인문\", \"13\":\"경제/경영\", \"15\":\"자기계발\",\n",
    "    \"19\":\"역사/문화\", \"21\":\"종교\", \"17\":\"정치사회\", \"23\":\"예술/대중문화\",\n",
    "    \"29\":\"과학\", \"26\":\"기술/공학\", \"33\":\"컴퓨터/IT\"\n",
    "}\n",
    "\n",
    "success = [200,299]\n",
    "\n",
    "for i in subject_list:\n",
    "    for j in range(1,50,2):\n",
    "        num = int(i)*100 + j\n",
    "        url = f\"http://www.kyobobook.co.kr/categoryRenewal/categoryMain.laf?linkClass={num:04d}&mallGb=KOR&orderClick=sga\"\n",
    "        data = requests.get(url)\n",
    "        if success[0]<=data.status_code and data.status_code<=success[1]:\n",
    "            soup = bs4.BeautifulSoup(data.content, \"lxml\")\n",
    "            sublist = soup.find_all(\"p\",class_=\"location\")\n",
    "            # print(len(sublist))\n",
    "            if len(sublist) > 2:\n",
    "                subject = sublist[2].span.a.contents[0].replace('\\r', '').replace('\\t', '').replace('\\n', '')\n",
    "                print(subject)\n",
    "                print(len(subject))\n",
    "                print(\"=\"*100)\n",
    "        else:\n",
    "            pass\n",
    "    break"
   ]
  }
 ],
 "metadata": {
  "kernelspec": {
   "display_name": "Python 3.6.9 64-bit",
   "language": "python",
   "name": "python3"
  },
  "language_info": {
   "codemirror_mode": {
    "name": "ipython",
    "version": 3
   },
   "file_extension": ".py",
   "mimetype": "text/x-python",
   "name": "python",
   "nbconvert_exporter": "python",
   "pygments_lexer": "ipython3",
   "version": "3.6.9"
  },
  "orig_nbformat": 4,
  "vscode": {
   "interpreter": {
    "hash": "31f2aee4e71d21fbe5cf8b01ff0e069b9275f58929596ceb00d14d90e3e16cd6"
   }
  }
 },
 "nbformat": 4,
 "nbformat_minor": 2
}
