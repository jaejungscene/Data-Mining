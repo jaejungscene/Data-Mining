{
 "cells": [
  {
   "cell_type": "code",
   "execution_count": 1,
   "metadata": {},
   "outputs": [
    {
     "name": "stderr",
     "output_type": "stream",
     "text": [
      "/home/ljj0512/.local/lib/python3.6/site-packages/pyspark/context.py:238: FutureWarning: Python 3.6 support is deprecated in Spark 3.2.\n",
      "  FutureWarning\n"
     ]
    }
   ],
   "source": [
    "from pyspark.sql import *\n",
    "from pyspark.sql.functions import *\n",
    "from pyspark import SparkContext\n",
    "import pandas as pd\n",
    "\n",
    "# create the Spark Session\n",
    "spark = SparkSession.builder.appName(\"spark\").getOrCreate()\n",
    "\n",
    "# create the Spark Context\n",
    "sc = spark.sparkContext"
   ]
  },
  {
   "cell_type": "markdown",
   "metadata": {},
   "source": [
    "## check the total number of genres and select the represntative genres"
   ]
  },
  {
   "cell_type": "code",
   "execution_count": 2,
   "metadata": {},
   "outputs": [
    {
     "name": "stdout",
     "output_type": "stream",
     "text": [
      "[('국내도서,소설,한국소설,역사/대하소설,장르소설,역사소설',), ('국내도서,소설,한국소설,한국소설일반',), ('국내도서,소설,한국소설,한국소설일반',)]\n"
     ]
    }
   ],
   "source": [
    "import sqlite3\n",
    "conn = sqlite3.connect(\"../Books.db\")\n",
    "cur = conn.cursor()\n",
    "cur.execute(\"SELECT genres FROM Korean_book\")\n",
    "check = cur.fetchall()\n",
    "print(check[0:3])\n",
    "conn.commit()\n",
    "conn.close()\n"
   ]
  },
  {
   "cell_type": "code",
   "execution_count": 3,
   "metadata": {},
   "outputs": [
    {
     "name": "stdout",
     "output_type": "stream",
     "text": [
      "44749\n",
      "[('국내도서', 1), ('소설', 1), ('한국소설', 1), ('역사/대하소설', 1), ('장르소설', 1)]\n",
      "244815\n"
     ]
    }
   ],
   "source": [
    "rdd = sc.parallelize(check).map(lambda line: line[0].split(\",\"))\n",
    "print(rdd.count())\n",
    "rdd = rdd.flatMap(lambda x: x).map(lambda x: (x,1))\n",
    "print(rdd.take(5))\n",
    "print(rdd.count())\n"
   ]
  },
  {
   "cell_type": "code",
   "execution_count": 27,
   "metadata": {},
   "outputs": [
    {
     "name": "stdout",
     "output_type": "stream",
     "text": [
      "total genres: 2860\n"
     ]
    }
   ],
   "source": [
    "rdd1 = rdd.reduceByKey(lambda x, y: x+y).sortBy(lambda x: -x[1]) # descending\n",
    "rdd2 = rdd.reduceByKey(lambda x, y: x+y).sortBy(lambda x: x[1]) # ascending\n",
    "total_genres_num = rdd1.count()-1\n",
    "print(\"total genres:\",total_genres_num) # <-- (-1)은 국내도서를 없애기 위해"
   ]
  },
  {
   "cell_type": "code",
   "execution_count": 17,
   "metadata": {},
   "outputs": [
    {
     "name": "stdout",
     "output_type": "stream",
     "text": [
      "0| ('국내도서', 44749)\n",
      "1| ('인문', 7794)\n",
      "2| ('대학교재', 7241)\n",
      "3| ('경제/경영', 5368)\n",
      "4| ('외국어', 4323)\n",
      "5| ('소설', 3211)\n",
      "6| ('청소년', 3074)\n",
      "7| ('컴퓨터/IT', 2829)\n",
      "8| ('시/에세이', 2815)\n",
      "9| ('기술/공학', 2793)\n",
      "10| ('예술/대중문화', 2783)\n",
      "11| ('취미/실용/스포츠', 2562)\n",
      "12| ('과학', 2415)\n",
      "13| ('역사/문화', 2300)\n",
      "14| ('정치/사회', 2277)\n",
      "15| ('자기계발', 2221)\n",
      "16| ('요리', 1879)\n",
      "17| ('건강', 1725)\n",
      "18| ('종교', 1638)\n",
      "19| ('컴퓨터', 1458)\n",
      "20| ('가정/육아', 1091)\n",
      "21| ('교육학', 1079)\n",
      "22| ('고전소설/문학선', 917)\n",
      "23| ('기술공학', 887)\n",
      "24| ('나라별에세이', 885)\n",
      "25| ('인물/자전적에세이', 882)\n",
      "26| ('장르소설', 874)\n",
      "27| ('중/고등참고서', 863)\n",
      "28| ('철학', 785)\n",
      "29| ('인문학일반', 767)\n"
     ]
    }
   ],
   "source": [
    "top = 30\n",
    "\n",
    "for i, value in enumerate(rdd1.collect()):\n",
    "    if top <= 0:\n",
    "        break\n",
    "    print(f\"{i}| {value}\")\n",
    "    top-=1\n",
    "\n",
    "\n"
   ]
  },
  {
   "cell_type": "code",
   "execution_count": 26,
   "metadata": {},
   "outputs": [
    {
     "name": "stdout",
     "output_type": "stream",
     "text": [
      "20\n",
      "['인문', '대학교재', '경제/경영', '외국어', '소설', '컴퓨터/IT', '시/에세이', '기술/공학', '예술/대중문화', '취미/실용/스포츠', '과학', '역사/문화', '정치/사회', '자기계발', '요리', '건강', '종교', '가정/육아', '고전소설/문학선', '철학']\n"
     ]
    }
   ],
   "source": [
    "genre_idx = [1,2,3,4,5,7,8,9,10,11,12,13,14,15,16,17,18,20,22,28]\n",
    "print(len(genre_idx))\n",
    "representative_genres = []\n",
    "\n",
    "top = 30\n",
    "for i, value in enumerate(rdd1.collect()):\n",
    "    if top <= 0:\n",
    "        break\n",
    "    if i in genre_idx:\n",
    "        representative_genres.append(value[0])\n",
    "    top-=1\n",
    "\n",
    "print(representative_genres)\n",
    "print(len(representative_genres))\n",
    "\n",
    "with open(\"../../data/korean-representative-genres.txt\", \"wb\") as f:\n",
    "    for value in representative_genres:\n",
    "        f.write((value+\"\\n\").encode(\"UTF-8\"))"
   ]
  },
  {
   "cell_type": "code",
   "execution_count": 30,
   "metadata": {},
   "outputs": [
    {
     "name": "stdout",
     "output_type": "stream",
     "text": [
      "['청소년', '컴퓨터', '교육학', '기술공학', '나라별에세이']\n",
      "2860\n",
      "2860\n"
     ]
    }
   ],
   "source": [
    "others_genres = []\n",
    "for i, value in enumerate(rdd1.collect()):\n",
    "    if i not in genre_idx and i!=0:\n",
    "        others_genres.append(value[0])\n",
    "\n",
    "print(others_genres[0:5])\n",
    "print(len(others_genres)+len(representative_genres))\n",
    "print(total_genres_num)\n",
    "\n",
    "with open(\"../../data/korean-all-genres.txt\", \"wb\") as f:\n",
    "    for value in others_genres:\n",
    "        f.write((value+\"\\n\").encode(\"UTF-8\"))"
   ]
  },
  {
   "cell_type": "markdown",
   "metadata": {},
   "source": [
    "## pracitice"
   ]
  },
  {
   "cell_type": "code",
   "execution_count": 4,
   "metadata": {},
   "outputs": [
    {
     "name": "stdout",
     "output_type": "stream",
     "text": [
      "박희윤\n",
      "김민형\n",
      "이상원\n",
      "이재정\n"
     ]
    }
   ],
   "source": [
    "temp = sc.parallelize([('이재정', '박희윤'), (\"김민형\", \"이재정\"), (\"이재정\", \"박희윤\")])\n",
    "temp.take(1)\n",
    "temp1 = temp.distinct()\n",
    "for i in temp1.collect():\n",
    "    print(i)\n"
   ]
  },
  {
   "cell_type": "code",
   "execution_count": 58,
   "metadata": {},
   "outputs": [
    {
     "name": "stdout",
     "output_type": "stream",
     "text": [
      "['인문', '대학교재', '경제/경영', '외국어', '소설', '컴퓨터/IT', '시/에세이', '기술/공학', '예술/대중문화', '취미/실용/스포츠', '과학', '역사/문화', '정치/사회', '자기계발', '요리', '건강', '종교', '가정/육아', '고전소설/문학선', '철학']\n",
      "20\n"
     ]
    }
   ],
   "source": [
    "with open(\"../data/korean-representative-genres.txt\", \"rb\") as f:\n",
    "    value = f.read().decode(\"UTF-8\").split(\"\\n\")\n",
    "    value = value[:len(value)-1]\n",
    "    print(value)\n",
    "    print(len(value))\n",
    "    "
   ]
  }
 ],
 "metadata": {
  "kernelspec": {
   "display_name": "Python 3.6.9 64-bit",
   "language": "python",
   "name": "python3"
  },
  "language_info": {
   "codemirror_mode": {
    "name": "ipython",
    "version": 3
   },
   "file_extension": ".py",
   "mimetype": "text/x-python",
   "name": "python",
   "nbconvert_exporter": "python",
   "pygments_lexer": "ipython3",
   "version": "3.6.9"
  },
  "orig_nbformat": 4,
  "vscode": {
   "interpreter": {
    "hash": "31f2aee4e71d21fbe5cf8b01ff0e069b9275f58929596ceb00d14d90e3e16cd6"
   }
  }
 },
 "nbformat": 4,
 "nbformat_minor": 2
}
