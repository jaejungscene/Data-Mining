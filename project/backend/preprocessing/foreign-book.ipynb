{
 "cells": [
  {
   "cell_type": "code",
   "execution_count": 2,
   "metadata": {},
   "outputs": [
    {
     "name": "stderr",
     "output_type": "stream",
     "text": [
      "/home/ljj0512/.local/lib/python3.6/site-packages/pyspark/context.py:238: FutureWarning: Python 3.6 support is deprecated in Spark 3.2.\n",
      "  FutureWarning\n"
     ]
    }
   ],
   "source": [
    "from pyspark.sql import *\n",
    "from pyspark.sql.functions import *\n",
    "from pyspark import SparkContext\n",
    "import pandas as pd\n",
    "\n",
    "# create the Spark Session\n",
    "spark = SparkSession.builder.appName(\"spark\").getOrCreate()\n",
    "\n",
    "# create the Spark Context\n",
    "sc = spark.sparkContext"
   ]
  },
  {
   "cell_type": "markdown",
   "metadata": {},
   "source": [
    "## check the total number of genres and select the represntative genres"
   ]
  },
  {
   "cell_type": "code",
   "execution_count": 3,
   "metadata": {},
   "outputs": [
    {
     "name": "stdout",
     "output_type": "stream",
     "text": [
      "47855\n",
      "<class 'list'>\n",
      "<class 'tuple'>\n",
      "('Young Adult, Fiction, Dystopia, Fantasy, Science Fiction, Romance, Adventure, Teen, Post Apocalyptic, Action',)\n"
     ]
    }
   ],
   "source": [
    "import sqlite3\n",
    "con = sqlite3.connect(\"../Books.db\")\n",
    "cur = con.cursor()\n",
    "cur.execute(\"SELECT genres FROM Foreign_book\")\n",
    "data = cur.fetchall()\n",
    "print(len(data))\n",
    "print(type(data))\n",
    "print(type(data[0]))\n",
    "print(data[0])"
   ]
  },
  {
   "cell_type": "code",
   "execution_count": 4,
   "metadata": {},
   "outputs": [
    {
     "name": "stdout",
     "output_type": "stream",
     "text": [
      "['Young Adult, Fiction, Dystopia, Fantasy, Science Fiction, Romance, Adventure, Teen, Post Apocalyptic, Action']\n"
     ]
    }
   ],
   "source": [
    "rdd = sc.parallelize(data).map(lambda genres: genres[0])\n",
    "print(rdd.take(1))"
   ]
  },
  {
   "cell_type": "code",
   "execution_count": 5,
   "metadata": {},
   "outputs": [
    {
     "name": "stdout",
     "output_type": "stream",
     "text": [
      "[('Young Adult', 'Fiction', 'Dystopia', 'Fantasy', 'Science Fiction', 'Romance', 'Adventure', 'Teen', 'Post Apocalyptic', 'Action')]\n",
      "47855\n"
     ]
    }
   ],
   "source": [
    "rdd1 = rdd.map(lambda line: tuple(line.split(\", \")))\n",
    "print(rdd1.take(1))\n",
    "print(rdd1.count())"
   ]
  },
  {
   "cell_type": "code",
   "execution_count": 6,
   "metadata": {},
   "outputs": [
    {
     "name": "stdout",
     "output_type": "stream",
     "text": [
      "['Young Adult', 'Fiction', 'Dystopia', 'Fantasy', 'Science Fiction']\n",
      "407718\n"
     ]
    }
   ],
   "source": [
    "rdd2 = rdd1.flatMap(lambda x: x)\n",
    "print(rdd2.take(5))\n",
    "print(rdd2.count())"
   ]
  },
  {
   "cell_type": "code",
   "execution_count": 7,
   "metadata": {},
   "outputs": [
    {
     "name": "stdout",
     "output_type": "stream",
     "text": [
      "total genres: 982\n",
      "('Young Adult', 11869)\n",
      "('Fiction', 31638)\n",
      "('Dystopia', 1692)\n",
      "('Fantasy', 15046)\n",
      "('Science Fiction', 5374)\n"
     ]
    }
   ],
   "source": [
    "## reduceBy로 하면 계속해서 오류가 나서 python으로 변환하여 실행함\n",
    "genre_dic = {}\n",
    "\n",
    "for i, value in enumerate(rdd2.collect()):\n",
    "    if value in genre_dic:\n",
    "        genre_dic[value] += 1\n",
    "    else:\n",
    "        genre_dic[value] = 1\n",
    "\n",
    "print(\"total genres:\",len(genre_dic))\n",
    "it = zip(genre_dic.keys(), genre_dic.values())\n",
    "print(next(it))\n",
    "print(next(it))\n",
    "print(next(it))\n",
    "print(next(it))\n",
    "print(next(it))"
   ]
  },
  {
   "cell_type": "code",
   "execution_count": 11,
   "metadata": {},
   "outputs": [
    {
     "name": "stdout",
     "output_type": "stream",
     "text": [
      "0 ('Fiction', 31638)\n",
      "1 ('Romance', 15495)\n",
      "2 ('Fantasy', 15046)\n",
      "3 ('Young Adult', 11869)\n",
      "4 ('Contemporary', 10520)\n",
      "5 ('Nonfiction', 8251)\n",
      "6 ('Adult', 8246)\n",
      "7 ('Novels', 7805)\n",
      "8 ('Mystery', 7702)\n",
      "9 ('Historical Fiction', 7665)\n",
      "10 ('Audiobook', 7307)\n",
      "11 ('Classics', 6902)\n",
      "12 ('Adventure', 6452)\n",
      "13 ('Historical', 6383)\n",
      "14 ('Paranormal', 6030)\n",
      "15 ('Literature', 5836)\n",
      "16 ('Science Fiction', 5374)\n",
      "17 ('Childrens', 5226)\n",
      "18 ('Thriller', 4587)\n",
      "19 ('Magic', 4248)\n",
      "20 ('Humor', 4227)\n",
      "21 ('History', 3685)\n",
      "22 ('Crime', 3675)\n",
      "23 ('Contemporary Romance', 3624)\n",
      "24 ('Suspense', 3474)\n"
     ]
    }
   ],
   "source": [
    "all_genres = dict(sorted(genre_dic.items(), key=lambda x: x[1], reverse=True))\n",
    "count = 0\n",
    "for i, item in enumerate(zip(all_genres.keys(), all_genres.values())):\n",
    "    if count >= 25:\n",
    "        break\n",
    "    print(i,item)\n",
    "    count+=1\n",
    "\n",
    "# all_genres = {\"name\":\"hae\", \"age\":12}\n",
    "# print(all_genres.items())\n",
    "# print(all_genres)"
   ]
  },
  {
   "cell_type": "code",
   "execution_count": 14,
   "metadata": {},
   "outputs": [],
   "source": [
    "all_genres = list(all_genres.keys())\n",
    "with open(\"../data/foreign-all-genres.txt\", \"wb\") as f:\n",
    "    for value in all_genres:\n",
    "        f.write((value+\"\\n\").encode(\"UTF-8\"))"
   ]
  },
  {
   "cell_type": "code",
   "execution_count": 15,
   "metadata": {},
   "outputs": [
    {
     "name": "stdout",
     "output_type": "stream",
     "text": [
      "23\n",
      "['Fiction', 'Romance', 'Fantasy', 'Young Adult', 'Contemporary', 'Nonfiction', 'Novels', 'Mystery', 'Historical Fiction', 'Classics', 'Adventure', 'Historical', 'Paranormal', 'Literature', 'Science Fiction', 'Childrens', 'Thriller', 'Magic', 'Humor', 'History', 'Crime', 'Contemporary Romance', 'Suspense']\n"
     ]
    }
   ],
   "source": [
    "exclued_list = [6, 10]\n",
    "selected_genres = []\n",
    "for i, genre in enumerate(all_genres):\n",
    "    if i==25:\n",
    "        break\n",
    "    if i in exclued_list:\n",
    "        pass\n",
    "    else:\n",
    "        selected_genres.append(genre)\n",
    "\n",
    "print(len(selected_genres))\n",
    "print((selected_genres))\n",
    "\n",
    "with open(\"../data/foreign-representative-genres.txt\", \"wb\") as f:\n",
    "    for value in selected_genres:\n",
    "        f.write((value+\"\\n\").encode(\"UTF-8\"))"
   ]
  },
  {
   "cell_type": "markdown",
   "metadata": {},
   "source": [
    "# practice"
   ]
  },
  {
   "cell_type": "code",
   "execution_count": 18,
   "metadata": {},
   "outputs": [],
   "source": [
    "from sklearn.feature_extraction.text import TfidfVectorizer\n",
    "\n",
    "corpus = [\n",
    "    'you know I want your love',\n",
    "    'I like you',\n",
    "    'what should I do ',    \n",
    "]\n",
    "\n",
    "tfidfv = TfidfVectorizer().fit(corpus)\n",
    "print(tfidfv.transform(corpus).toarray())\n",
    "print(tfidfv.vocabulary_)"
   ]
  },
  {
   "cell_type": "code",
   "execution_count": 22,
   "metadata": {},
   "outputs": [],
   "source": [
    "genres_list = (data[\"genres\"].iloc[:].tolist())"
   ]
  },
  {
   "cell_type": "code",
   "execution_count": 27,
   "metadata": {},
   "outputs": [],
   "source": [
    "# import sqlite3\n",
    "# conn = sqlite3.connect(\"../Books.db\")\n",
    "# cur = conn.cursor()\n",
    "# cur.execute(\"SELECT genres FROM Foreign_book\")\n",
    "# data = cur.fetchall()\n",
    "# print(data)\n",
    "# conn.commit()\n",
    "# conn.close()"
   ]
  },
  {
   "cell_type": "code",
   "execution_count": 23,
   "metadata": {},
   "outputs": [
    {
     "name": "stdout",
     "output_type": "stream",
     "text": [
      "0.01590846210843544\n",
      "0.0\n",
      "0.04466970555754857\n",
      "0.10099833641376377\n"
     ]
    }
   ],
   "source": [
    "import numpy as np\n",
    "x = np.array([10,0,1,1])\n",
    "y = np.array([9,1,0,0])\n",
    "z = np.array([3,0,1,1])\n",
    "from scipy.spatial import distance\n",
    "print(distance.cosine(x, y))\n",
    "print(distance.cosine(x, x))\n",
    "print(distance.cosine(x, z))\n",
    "print(distance.cosine(y, z))"
   ]
  },
  {
   "cell_type": "code",
   "execution_count": 28,
   "metadata": {},
   "outputs": [
    {
     "name": "stdout",
     "output_type": "stream",
     "text": [
      "0.9840915378915646\n",
      "0.9553302944424514\n"
     ]
    }
   ],
   "source": [
    "import math\n",
    "def consine_similarity(x, y):\n",
    "    return x.dot(y)/(np.sqrt((x**2).sum())*np.sqrt((y**2).sum()))\n",
    "\n",
    "print(consine_similarity(x,y))\n",
    "print(consine_similarity(x,z))\n",
    "# print(consine_similarity(y,z))\n"
   ]
  },
  {
   "cell_type": "code",
   "execution_count": 35,
   "metadata": {},
   "outputs": [
    {
     "name": "stdout",
     "output_type": "stream",
     "text": [
      "+---------+---+\n",
      "|       _1| _2|\n",
      "+---------+---+\n",
      "|  Finance| 10|\n",
      "|Marketing| 20|\n",
      "|    Sales| 30|\n",
      "|       IT| 40|\n",
      "+---------+---+\n",
      "\n"
     ]
    }
   ],
   "source": [
    "dept = [(\"Finance\",10),(\"Marketing\",20),(\"Sales\",30),(\"IT\",40)]\n",
    "temprdd = sc.parallelize(dept)\n",
    "df = temprdd.toDF()\n",
    "df.show()"
   ]
  },
  {
   "cell_type": "code",
   "execution_count": 6,
   "metadata": {},
   "outputs": [
    {
     "name": "stdout",
     "output_type": "stream",
     "text": [
      "The Hunger Games\n",
      "Young Adult, Fiction, Dystopia, Fantasy, Science Fiction, Romance, Adventure, Teen, Post Apocalyptic, Action\n",
      "Suzanne Collins\n",
      "4.33\n",
      "Scholastic Press\n",
      "09/14/08\n",
      "374\n",
      "English\n",
      "WINNING MEANS FAME AND FORTUNE.LOSING MEANS CERTAIN DEATH.THE HUNGER GAMES HAVE BEGUN. . . .In the ruins of a place once known as North America lies the nation of Panem, a shining Capitol surrounded by twelve outlying districts. The Capitol is harsh and cruel and keeps the districts in line by forcing them all to send one boy and once girl between the ages of twelve and eighteen to participate in the annual Hunger Games, a fight to the death on live TV.Sixteen-year-old Katniss Everdeen regards it as a death sentence when she steps forward to take her sister's place in the Games. But Katniss has been close to dead before—and survival, for her, is second nature. Without really meaning to, she becomes a contender. But if she is to win, she will have to start making choices that weight survival against humanity and life against love.\n",
      "https://i.gr-assets.com/images/S/compressed.photo.goodreads.com/books/1586722975l/2767052.jpg\n",
      "52478\n"
     ]
    }
   ],
   "source": [
    "import pandas as pd\n",
    "data = pd.read_csv(\"./data/foreign-books.csv\")\n",
    "title = data[\"title\"].iloc[0]\n",
    "genres = data[\"genres\"].iloc[0].replace(\"[\",\"\").replace(\"]\",\"\").replace(\"\\'\",\"\")\n",
    "author = data[\"author\"].iloc[0]\n",
    "rating = data[\"rating\"].iloc[0]\n",
    "publisher = data[\"publisher\"].iloc[0]\n",
    "p_date = data[\"publishDate\"].iloc[0]\n",
    "pages = data[\"pages\"].iloc[0]\n",
    "language = data[\"language\"].iloc[0]\n",
    "description = data[\"description\"][0]\n",
    "imgUrl = data[\"coverImg\"][0]\n",
    "\n",
    "print(title)\n",
    "print(genres)\n",
    "print(author)\n",
    "print(rating)\n",
    "print(publisher)\n",
    "print(p_date)\n",
    "print(pages)\n",
    "print(language)\n",
    "print(description)\n",
    "print(imgUrl)\n",
    "print(len(data))"
   ]
  },
  {
   "cell_type": "markdown",
   "metadata": {},
   "source": [
    "# data cleaning"
   ]
  },
  {
   "cell_type": "code",
   "execution_count": 1,
   "metadata": {},
   "outputs": [
    {
     "name": "stdout",
     "output_type": "stream",
     "text": [
      "0\n"
     ]
    }
   ],
   "source": [
    "import sqlite3\n",
    "con = sqlite3.connect(\"../Books.db\")\n",
    "cur = con.cursor()\n",
    "# cur.execute(\"DELETE FROM Foreign_book Where genres==\\'\\'\")\n",
    "cur.execute(\"SELECT * FROM Foreign_book Where genres==\\'\\'\")\n",
    "data = cur.fetchall()\n",
    "con.commit()\n",
    "cur.close()\n",
    "con.close()\n",
    "print(len(data))"
   ]
  }
 ],
 "metadata": {
  "kernelspec": {
   "display_name": "Python 3.6.9 64-bit",
   "language": "python",
   "name": "python3"
  },
  "language_info": {
   "codemirror_mode": {
    "name": "ipython",
    "version": 3
   },
   "file_extension": ".py",
   "mimetype": "text/x-python",
   "name": "python",
   "nbconvert_exporter": "python",
   "pygments_lexer": "ipython3",
   "version": "3.6.9"
  },
  "orig_nbformat": 4,
  "vscode": {
   "interpreter": {
    "hash": "31f2aee4e71d21fbe5cf8b01ff0e069b9275f58929596ceb00d14d90e3e16cd6"
   }
  }
 },
 "nbformat": 4,
 "nbformat_minor": 2
}
