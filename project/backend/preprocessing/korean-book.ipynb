{
 "cells": [
  {
   "cell_type": "code",
   "execution_count": 1,
   "metadata": {},
   "outputs": [
    {
     "name": "stderr",
     "output_type": "stream",
     "text": [
      "/home/ljj0512/.local/lib/python3.6/site-packages/pyspark/context.py:238: FutureWarning: Python 3.6 support is deprecated in Spark 3.2.\n",
      "  FutureWarning\n"
     ]
    }
   ],
   "source": [
    "from pyspark.sql import *\n",
    "from pyspark.sql.functions import *\n",
    "from pyspark import SparkContext\n",
    "import pandas as pd\n",
    "\n",
    "# create the Spark Session\n",
    "spark = SparkSession.builder.appName(\"spark\").getOrCreate()\n",
    "\n",
    "# create the Spark Context\n",
    "sc = spark.sparkContext"
   ]
  },
  {
   "cell_type": "markdown",
   "metadata": {},
   "source": [
    "# check the total number of genres and select the represntative genres"
   ]
  },
  {
   "cell_type": "code",
   "execution_count": 2,
   "metadata": {},
   "outputs": [
    {
     "name": "stdout",
     "output_type": "stream",
     "text": [
      "[('국내도서,소설,한국소설,역사/대하소설,장르소설,역사소설',), ('국내도서,소설,한국소설,한국소설일반',), ('국내도서,소설,한국소설,한국소설일반',)]\n"
     ]
    }
   ],
   "source": [
    "import sqlite3\n",
    "conn = sqlite3.connect(\"../Books.db\")\n",
    "cur = conn.cursor()\n",
    "cur.execute(\"SELECT genres FROM Korean_book\")\n",
    "check = cur.fetchall()\n",
    "print(check[0:3])\n",
    "conn.commit()\n",
    "conn.close()\n"
   ]
  },
  {
   "cell_type": "code",
   "execution_count": 3,
   "metadata": {},
   "outputs": [
    {
     "name": "stdout",
     "output_type": "stream",
     "text": [
      "44208\n",
      "[('국내도서', 1), ('소설', 1), ('한국소설', 1), ('역사/대하소설', 1), ('장르소설', 1)]\n",
      "241726\n"
     ]
    }
   ],
   "source": [
    "rdd = sc.parallelize(check).map(lambda line: line[0].split(\",\"))\n",
    "print(rdd.count())\n",
    "rdd = rdd.flatMap(lambda x: x).map(lambda x: (x,1))\n",
    "print(rdd.take(5))\n",
    "print(rdd.count())\n"
   ]
  },
  {
   "cell_type": "code",
   "execution_count": 4,
   "metadata": {},
   "outputs": [
    {
     "name": "stdout",
     "output_type": "stream",
     "text": [
      "total genres: 2855\n"
     ]
    }
   ],
   "source": [
    "rdd1 = rdd.reduceByKey(lambda x, y: x+y).sortBy(lambda x: -x[1]) # descending\n",
    "rdd2 = rdd.reduceByKey(lambda x, y: x+y).sortBy(lambda x: x[1]) # ascending\n",
    "total_genres_num = rdd1.count()-1\n",
    "print(\"total genres:\",total_genres_num) # <-- (-1)은 국내도서를 없애기 위해"
   ]
  },
  {
   "cell_type": "code",
   "execution_count": 5,
   "metadata": {},
   "outputs": [
    {
     "name": "stdout",
     "output_type": "stream",
     "text": [
      "0| ('국내도서', 44208)\n",
      "1| ('인문', 7693)\n",
      "2| ('대학교재', 7206)\n",
      "3| ('경제/경영', 5346)\n",
      "4| ('외국어', 4285)\n",
      "5| ('소설', 3074)\n",
      "6| ('청소년', 3006)\n",
      "7| ('컴퓨터/IT', 2800)\n",
      "8| ('시/에세이', 2797)\n",
      "9| ('기술/공학', 2758)\n",
      "10| ('예술/대중문화', 2750)\n",
      "11| ('취미/실용/스포츠', 2539)\n",
      "12| ('과학', 2385)\n",
      "13| ('정치/사회', 2275)\n",
      "14| ('역사/문화', 2254)\n",
      "15| ('자기계발', 2205)\n",
      "16| ('요리', 1869)\n",
      "17| ('건강', 1712)\n",
      "18| ('종교', 1626)\n",
      "19| ('컴퓨터', 1454)\n",
      "20| ('가정/육아', 1076)\n",
      "21| ('교육학', 1072)\n",
      "22| ('나라별에세이', 881)\n",
      "23| ('기술공학', 878)\n",
      "24| ('인물/자전적에세이', 874)\n",
      "25| ('고전소설/문학선', 863)\n",
      "26| ('중/고등참고서', 835)\n",
      "27| ('장르소설', 819)\n",
      "28| ('철학', 775)\n",
      "29| ('인문학일반', 762)\n"
     ]
    }
   ],
   "source": [
    "top = 30\n",
    "\n",
    "for i, value in enumerate(rdd1.collect()):\n",
    "    if top <= 0:\n",
    "        break\n",
    "    print(f\"{i}| {value}\")\n",
    "    top-=1"
   ]
  },
  {
   "cell_type": "code",
   "execution_count": 8,
   "metadata": {},
   "outputs": [
    {
     "name": "stdout",
     "output_type": "stream",
     "text": [
      "['국내도서', '인문', '대학교재', '경제/경영', '외국어', '소설', '청소년', '컴퓨터/IT', '시/에세이', '기술/공학', '예술/대중문화', '취미/실용/스포츠', '과학', '정치/사회', '역사/문화', '자기계발', '요리', '건강', '종교', '가정/육아', '교육학', '고전소설/문학선', '중/고등참고서', '철학']\n",
      "24\n"
     ]
    }
   ],
   "source": [
    "exclued_list = [19,22,23,24,27,29]\n",
    "representative_genres = []\n",
    "\n",
    "for i, value in enumerate(rdd1.collect()):\n",
    "    if i==29:\n",
    "        break\n",
    "    if i in exclued_list:\n",
    "        pass\n",
    "    else:\n",
    "        representative_genres.append(value[0])\n",
    "    top-=1\n",
    "\n",
    "print(representative_genres)\n",
    "print(len(representative_genres))\n",
    "\n",
    "with open(\"../data/korean-representative-genres.txt\", \"wb\") as f:\n",
    "    for value in representative_genres:\n",
    "        f.write((value+\"\\n\").encode(\"UTF-8\"))"
   ]
  },
  {
   "cell_type": "code",
   "execution_count": 30,
   "metadata": {},
   "outputs": [
    {
     "name": "stdout",
     "output_type": "stream",
     "text": [
      "['청소년', '컴퓨터', '교육학', '기술공학', '나라별에세이']\n",
      "2860\n",
      "2860\n"
     ]
    }
   ],
   "source": [
    "others_genres = []\n",
    "for i, value in enumerate(rdd1.collect()):\n",
    "    if i not in genre_idx and i!=0:\n",
    "        others_genres.append(value[0])\n",
    "\n",
    "print(others_genres[0:5])\n",
    "print(len(others_genres)+len(representative_genres))\n",
    "print(total_genres_num)\n",
    "\n",
    "with open(\"../../data/korean-all-genres.txt\", \"wb\") as f:\n",
    "    for value in others_genres:\n",
    "        f.write((value+\"\\n\").encode(\"UTF-8\"))"
   ]
  },
  {
   "cell_type": "markdown",
   "metadata": {},
   "source": [
    "# data cleaning"
   ]
  },
  {
   "cell_type": "code",
   "execution_count": 48,
   "metadata": {},
   "outputs": [
    {
     "name": "stdout",
     "output_type": "stream",
     "text": [
      "44021\n"
     ]
    }
   ],
   "source": [
    "import sqlite3\n",
    "conn = sqlite3.connect(\"../Books.db\")\n",
    "cur = conn.cursor()\n",
    "cur.execute(\"SELECT title, author, id FROM Korean_book\")\n",
    "data = cur.fetchall()\n",
    "print(len(data))\n",
    "conn.commit()\n",
    "conn.close()\n"
   ]
  },
  {
   "cell_type": "code",
   "execution_count": 3,
   "metadata": {},
   "outputs": [],
   "source": [
    "# rdd = sc.parallelize(data)\n",
    "# rdd = rdd.map(lambda x: (x,1)).reduceByKey(lambda x, y: x+y)\n",
    "# print(rdd.take(1))\n",
    "# print(rdd.count())"
   ]
  },
  {
   "cell_type": "code",
   "execution_count": 49,
   "metadata": {},
   "outputs": [
    {
     "name": "stdout",
     "output_type": "stream",
     "text": [
      "44021\n",
      "0\n"
     ]
    }
   ],
   "source": [
    "## 중복 도서 삭제 확인\n",
    "rdd = sc.parallelize(data)\n",
    "S = set({})\n",
    "# D = set({})\n",
    "count = 0\n",
    "real_dup_data = []\n",
    "for d in rdd.collect():\n",
    "    if (d[0],d[1]) in S:\n",
    "        real_dup_data.append(d)\n",
    "        count += 1\n",
    "        # D.add(d)\n",
    "    else:\n",
    "        S.add((d[0],d[1]))\n",
    "\n",
    "print(len(S))\n",
    "# print(len(D))\n",
    "print(count)\n",
    "# real_dup_data = list(D)\n",
    "\n",
    "for dup in real_dup_data:\n",
    "    print(dup)"
   ]
  },
  {
   "cell_type": "code",
   "execution_count": 47,
   "metadata": {},
   "outputs": [
    {
     "name": "stdout",
     "output_type": "stream",
     "text": [
      "[('오만과 편견', '제인 오스틴', 527)]\n"
     ]
    }
   ],
   "source": [
    "import sqlite3\n",
    "conn = sqlite3.connect(\"../Books.db\")\n",
    "cur = conn.cursor()\n",
    "cur.execute(f\"SELECT title, author, id FROM Korean_book WHERE title==\\\"오만과 편견\\\"\")\n",
    "temp = cur.fetchall()\n",
    "print(temp)"
   ]
  },
  {
   "cell_type": "code",
   "execution_count": 45,
   "metadata": {},
   "outputs": [],
   "source": [
    "import sqlite3\n",
    "conn = sqlite3.connect(\"../Books.db\")\n",
    "cur = conn.cursor()\n",
    "\n",
    "for item in real_dup_data:\n",
    "    cur.execute(f\"DELETE FROM Korean_book WHERE id={item[2]}\")\n",
    "    conn.commit()\n",
    "\n",
    "cur.close()\n",
    "conn.close()"
   ]
  },
  {
   "cell_type": "code",
   "execution_count": 20,
   "metadata": {},
   "outputs": [
    {
     "name": "stdout",
     "output_type": "stream",
     "text": [
      "[(22420,), (22658,)]\n",
      "[(22658,)]\n",
      "[(23138,), (23168,)]\n",
      "[(23168,)]\n",
      "[(1069,), (1253,)]\n",
      "[(1253,)]\n",
      "[(56152,), (56191,)]\n",
      "[(56191,)]\n",
      "[(4382,), (4483,), (4517,)]\n",
      "[(4483,), (4517,)]\n",
      "[(569,), (944,)]\n",
      "[(944,)]\n",
      "[(2992,), (3029,)]\n",
      "[(3029,)]\n",
      "[(513,), (848,)]\n",
      "[(848,)]\n",
      "[(2493,), (2546,)]\n",
      "[(2546,)]\n",
      "[(2495,), (2511,), (2560,), (2797,), (2836,), (2909,), (2918,)]\n",
      "[(2511,), (2560,), (2797,), (2836,), (2909,), (2918,)]\n",
      "[(50408,), (50440,)]\n",
      "[(50440,)]\n",
      "[(24423,), (24434,)]\n",
      "[(24434,)]\n",
      "[(44467,), (44525,)]\n",
      "[(44525,)]\n",
      "[(2015,), (2051,)]\n",
      "[(2051,)]\n",
      "[(4675,), (4747,)]\n",
      "[(4747,)]\n",
      "[(593,), (994,)]\n",
      "[(994,)]\n",
      "[(3897,), (3958,)]\n",
      "[(3958,)]\n",
      "[(24677,), (24699,)]\n",
      "[(24699,)]\n",
      "[(3903,), (4053,)]\n",
      "[(4053,)]\n",
      "[(3141,), (3354,)]\n",
      "[(3354,)]\n",
      "[(964,), (11509,)]\n",
      "[(11509,)]\n",
      "[(5378,), (5404,), (25427,)]\n",
      "[(5404,), (25427,)]\n",
      "[(527,), (603,), (714,)]\n",
      "[(603,), (714,)]\n",
      "[(8370,), (8484,)]\n",
      "[(8484,)]\n",
      "[(9885,), (10159,)]\n",
      "[(10159,)]\n",
      "[(23969,), (24065,)]\n",
      "[(24065,)]\n",
      "[(22540,), (22742,)]\n",
      "[(22742,)]\n",
      "[(2520,), (2668,), (2739,), (2970,), (53407,)]\n",
      "[(2668,), (2739,), (2970,), (53407,)]\n",
      "[(2520,), (2668,), (2739,), (2970,), (53407,)]\n",
      "[(2668,), (2739,), (2970,), (53407,)]\n",
      "[(546,), (5070,)]\n",
      "[(5070,)]\n",
      "[(43960,), (43977,)]\n",
      "[(43977,)]\n",
      "[(1580,), (1951,)]\n",
      "[(1951,)]\n",
      "[(1001,), (1022,), (1086,), (1242,)]\n",
      "[(1022,), (1086,), (1242,)]\n",
      "[(3079,), (3335,)]\n",
      "[(3335,)]\n",
      "[(2519,), (2577,)]\n",
      "[(2577,)]\n",
      "[(27915,), (27925,)]\n",
      "[(27925,)]\n",
      "[(22717,), (22776,)]\n",
      "[(22776,)]\n",
      "[(695,), (859,)]\n",
      "[(859,)]\n",
      "[(2506,), (2530,), (2630,)]\n",
      "[(2530,), (2630,)]\n",
      "[(3870,), (3874,), (3886,), (4102,), (4127,)]\n",
      "[(3874,), (3886,), (4102,), (4127,)]\n",
      "[(57,), (118,)]\n",
      "[(118,)]\n",
      "[(590,), (869,)]\n",
      "[(869,)]\n",
      "[(2616,), (2733,)]\n",
      "[(2733,)]\n",
      "[(2043,), (2084,)]\n",
      "[(2084,)]\n",
      "[(3881,), (3915,)]\n",
      "[(3915,)]\n"
     ]
    }
   ],
   "source": [
    "import sqlite3\n",
    "conn = sqlite3.connect(\"../Books.db\")\n",
    "cur = conn.cursor()\n",
    "\n",
    "# 하나 빼고 중복되는 도서들 모두 삭제\n",
    "for i in range(len(real_dup_data)):\n",
    "    cur.execute(f\"SELECT id FROM Korean_book WHERE title=\\\"{real_dup_data[i][0]}\\\"\")\n",
    "    same = cur.fetchall()\n",
    "    print(same)\n",
    "    del_id = []\n",
    "    for num, (item) in enumerate(same):\n",
    "        if num==0:\n",
    "            pass\n",
    "        else:\n",
    "            del_id.append(item)\n",
    "    print(del_id)\n",
    "    for id in del_id:\n",
    "        cur.execute(f\"DELETE FROM Korean_book WHERE rowid={id}\")\n",
    "        conn.commit()\n",
    "    cur.execute(f\"SELECT rowid FROM Korean_book WHERE title=\\\"{real_dup_data[i]}\\\"\")\n",
    "    same = cur.fetchall()\n",
    "\n",
    "conn.close()"
   ]
  },
  {
   "cell_type": "code",
   "execution_count": null,
   "metadata": {},
   "outputs": [],
   "source": [
    "## 이름은 같지만 에디션, 큰글씨, 세트 등 부가사항들일 붙어있는 도서 삭제\n",
    "import sqlite3\n",
    "conn = sqlite3.connect(\"../Books.db\")\n",
    "cur = conn.cursor()\n",
    "cur.execute(\"SELECT rowid, title, author FROM Korean_book\")\n",
    "data = cur.fetchall()\n",
    "# print(data[0:3])\n",
    "\n",
    "dup = {}\n",
    "count = 0\n",
    "for id, title, author in data:\n",
    "    if \"(큰글\" in title or \"(리커버)\" in title or \"(초판본)\" in title\\\n",
    "        or \"에디션)\" in title or \"커버)\" in title:\n",
    "        # cur.execute(f\"DELETE FROM Korean_book WHERE rowid=={id}\")\n",
    "        print(id, title, author)\n",
    "        count +=1\n",
    "print(count)\n",
    "conn.commit()\n",
    "cur.close()\n",
    "conn.close()"
   ]
  },
  {
   "cell_type": "code",
   "execution_count": null,
   "metadata": {},
   "outputs": [],
   "source": [
    "## 이름은 같지만 에디션, 큰글씨, 세트 등 부가사항들일 붙어있는 도서 삭제\n",
    "import sqlite3\n",
    "conn = sqlite3.connect(\"../Books.db\")\n",
    "cur = conn.cursor()\n",
    "cur.execute(\"SELECT rowid, title, author FROM Korean_book\")\n",
    "data = cur.fetchall()\n",
    "# print(data[0:3])\n",
    "\n",
    "dup = {}\n",
    "for id, title, author in data:\n",
    "    for i, t, a in data:\n",
    "        if id!=i and author==a:\n",
    "            if (title in t) or (t in title):\n",
    "                dup[author] = ((id,title),(i,t))\n",
    "            else:\n",
    "                pass"
   ]
  },
  {
   "cell_type": "code",
   "execution_count": null,
   "metadata": {},
   "outputs": [],
   "source": [
    "print(len(dup))\n",
    "for author, line in zip(dup.keys(), dup.values()):\n",
    "    print(author,\":\",line)"
   ]
  },
  {
   "cell_type": "code",
   "execution_count": 12,
   "metadata": {},
   "outputs": [
    {
     "name": "stdout",
     "output_type": "stream",
     "text": [
      "0\n",
      "[]\n"
     ]
    }
   ],
   "source": [
    "import sqlite3\n",
    "conn = sqlite3.connect(\"../Books.db\")\n",
    "cur = conn.cursor()\n",
    "# cur.execute(\"DELETE FROM Korean_book WHERE title LIKE \\\"%세트%\\\"\")\n",
    "cur.execute(\"SELECT title FROM Korean_book WHERE title LIKE \\\"%세트%\\\"\")\n",
    "data = cur.fetchall()\n",
    "print(len(data))\n",
    "print(data)\n",
    "conn.commit()\n",
    "cur.close()\n",
    "conn.close()"
   ]
  },
  {
   "cell_type": "code",
   "execution_count": 114,
   "metadata": {},
   "outputs": [
    {
     "name": "stdout",
     "output_type": "stream",
     "text": [
      "0\n",
      "[]\n"
     ]
    }
   ],
   "source": [
    "import sqlite3\n",
    "conn = sqlite3.connect(\"../Books.db\")\n",
    "cur = conn.cursor()\n",
    "# cur.execute(\"DELETE FROM Korean_book WHERE id==4315\")\n",
    "cur.execute(\"SELECT title, id FROM Korean_book WHERE id==4315\")\n",
    "data = cur.fetchall()\n",
    "print(len(data))\n",
    "print(data)\n",
    "conn.commit()\n",
    "cur.close()\n",
    "conn.close()"
   ]
  },
  {
   "cell_type": "code",
   "execution_count": 67,
   "metadata": {},
   "outputs": [
    {
     "name": "stdout",
     "output_type": "stream",
     "text": [
      "6\n",
      "4401 열두 개의 달 시화집 일력 에디션 윤동주 외\n",
      "60489 다이어터 라이트 에디션 1: 결심 편 네온비\n",
      "60493 다이어터 라이트 에디션 5: 자존감 회복 편 네온비\n",
      "60500 다이어터 라이트 에디션 6: 유지 편 네온비\n",
      "60502 다이어터 라이트 에디션 2: 시작 편 네온비\n",
      "60504 다이어터 라이트 에디션 4: 정체기 편 네온비\n"
     ]
    }
   ],
   "source": [
    "import sqlite3\n",
    "conn = sqlite3.connect(\"../Books.db\")\n",
    "cur = conn.cursor()\n",
    "cur.execute(\"SELECT title, id, author FROM Korean_book WHERE title LIKE \\\"%에디션%\\\"\")\n",
    "# cur.execute(\"UPDATE Korean_book SET name WHERE title LIKE \\\"%세트%\\\"\")\n",
    "data = cur.fetchall()\n",
    "# print(len(data))\n",
    "# print(data[0])\n",
    "conn.commit()\n",
    "cur.close()\n",
    "conn.close()\n",
    "print(len(data))\n",
    "\n",
    "# print(data[0][0])\n",
    "# title = data[0][0].split(\"(\")[0]\n",
    "# print(title)\n",
    "# conn = sqlite3.connect(\"../Books.db\")\n",
    "# cur = conn.cursor()\n",
    "# cur.execute(f\"UPDATE Korean_book SET title=\\\"{title}\\\" WHERE id=={data[0][1]}\")\n",
    "# conn.commit()\n",
    "# cur.close()\n",
    "# conn.close()\n",
    "\n",
    "\n",
    "for i, (title,id,author) in enumerate(data):\n",
    "    if i==146:\n",
    "        break\n",
    "    print(id, title, author)\n",
    "#     title = title.split(\"(\")[0]\n",
    "#     conn = sqlite3.connect(\"../Books.db\")\n",
    "#     cur = conn.cursor()\n",
    "#     cur.execute(f\"UPDATE Korean_book SET title=\\\"{title}\\\" WHERE id=={id}\")\n",
    "#     conn.commit()\n",
    "# cur.close()\n",
    "# conn.close()"
   ]
  },
  {
   "cell_type": "code",
   "execution_count": 91,
   "metadata": {},
   "outputs": [
    {
     "name": "stdout",
     "output_type": "stream",
     "text": [
      "28\n",
      "('소마(리커버 양장본)', 242, '채사장')\n",
      "('리버보이(리커버 특별판)', 533, '팀 보울러')\n",
      "('노인과 바다(영한대역)(문학동네 세계문학전집 200번 출간 기념 리커버 특별판)', 610, '어니스트 헤밍웨이')\n",
      "('시녀 이야기(리커버 일반판)', 762, '마거릿 애트우드')\n",
      "('페스트(문학동네  세계문학전집 200번  출간 기념  리커버 특별판)', 2646, '알베르 카뮈')\n",
      "('작은 것들의 신(문학동네 세계문학전집 10주년 기념 리커버 특별판)', 3566, '아룬다티 로이')\n",
      "('소송(문학동네  세계문학전집 200번  출간 기념  리커버 특별판)', 4060, '프란츠 카프카')\n",
      "('데미안+수레바퀴 아래서+싯다르타(초판본)(리커버 한정판)(1900년대 오리지널 초판본 표지디자인)', 4328, '헤르만 헤세')\n",
      "('사랑하고도 불행한(리커버 특별판)', 4594, '김은비')\n",
      "('너에게만 좋은 사람이 되고 싶어(리커버 한정판)', 5140, '유귀선')\n",
      "('작가란 무엇인가 1(헤밍웨이 탄생 123주년 기념 리커버)', 5551, '파리 리뷰')\n",
      "('개인주의자 선언(30만 부 기념 리커버)', 6918, '문유석')\n",
      "('거의 모든 사생활의 역사(리커버판)', 7198, '빌 브라이슨')\n",
      "('몰입의 즐거움(리커버판)', 7389, '미하이 칙센트미하이')\n",
      "('매우 예민한 사람들을 위한 책(10만 부 기념 리커버)', 7409, '전홍진')\n",
      "('수학부진아 지도 프로그램 매스리커버리', 8592, '로버트 라이트 외')\n",
      "('오십에 읽는 논어(교보문고 특별판 리커버)', 9876, '최종엽')\n",
      "('새로운 미래가 온다(리커버 특별판)', 16450, '다니엘 핑크')\n",
      "('스티브 니슨의 캔들차트 투자기법(리커버판)', 20602, '스티브 니슨')\n",
      "('원씽(The One Thing)(리커버 특별판)', 22418, '게리 켈러 외')\n",
      "('회복탄력성(15만부 기념 리커버)', 22501, '김주환')\n",
      "('정상에서 만납시다(25주년 리커버판)', 22847, '지그 지글러')\n",
      "('나의 하루는 4시 30분에 시작된다(리커버 한정판)', 22951, '김유진')\n",
      "('가슴을 적시는 부처님 말씀 300가지(리커버판)', 28114, '석성우  외')\n",
      "('진중권의 서양미술사: 고전예술(리커버판)', 30973, '진중권')\n",
      "('진중권의 서양미술사: 후기 모더니즘과 포스트모더니즘(리커버판)', 30996, '진중권')\n",
      "('진중권의 서양미술사: 인상주의(리커버판)', 31044, '진중권')\n",
      "('진중권의 서양미술사 모더니즘(리커버판)', 31058, '진중권')\n"
     ]
    }
   ],
   "source": [
    "import sqlite3\n",
    "conn = sqlite3.connect(\"../Books.db\")\n",
    "cur = conn.cursor()\n",
    "cur.execute(\"SELECT title, id, author FROM Korean_book WHERE title LIKE \\\"%리커버%\\\"\")\n",
    "# cur.execute(\"SELECT title, id, author FROM Korean_book WHERE title LIKE \\\"%달력%\\\"\")\n",
    "# cur.execute(\"DELETE FROM Korean_book WHERE id==32427 or id==32431\")\n",
    "# cur.execute(\"UPDATE Korean_book SET name WHERE title LIKE \\\"%세트%\\\"\")\n",
    "data = cur.fetchall()\n",
    "conn.commit()\n",
    "cur.close()\n",
    "conn.close()\n",
    "\n",
    "delete_list = []\n",
    "print(len(data))\n",
    "for i, item in enumerate(data):\n",
    "    print(item)\n",
    "    # if i>3:\n",
    "    #     # print(item)\n",
    "    #     delete_list.append(item[1])\n",
    "\n",
    "\n",
    "for item in data:\n",
    "    con = sqlite3.connect(\"../Books.db\")\n",
    "    cur = con.cursor()\n",
    "    cur.execute(f\"DELETE FROM Korean_book WHERE id=={item[1]}\")\n",
    "    con.commit()\n",
    "    cur.close()\n",
    "    con.close()\n"
   ]
  },
  {
   "cell_type": "code",
   "execution_count": 98,
   "metadata": {},
   "outputs": [
    {
     "name": "stdout",
     "output_type": "stream",
     "text": [
      "0\n"
     ]
    }
   ],
   "source": [
    "import sqlite3\n",
    "conn = sqlite3.connect(\"../Books.db\")\n",
    "cur = conn.cursor()\n",
    "cur.execute(\"SELECT title, id, author FROM Korean_book WHERE title LIKE \\\"%리커버%\\\"\")\n",
    "data = cur.fetchall()\n",
    "conn.commit()\n",
    "cur.close()\n",
    "conn.close()\n",
    "\n",
    "delete_list = []\n",
    "print(len(data))\n",
    "for i, item in enumerate(data):\n",
    "    print(item)\n",
    "\n",
    "\n",
    "# for item in data:\n",
    "#     title = item[0].split(\"(\")[0]\n",
    "#     con = sqlite3.connect(\"../Books.db\")\n",
    "#     cur = con.cursor()\n",
    "#     cur.execute(f\"UPDATE Korean_book SET title=\\\"{title}\\\" WHERE id=={item[1]}\")\n",
    "#     con.commit()\n",
    "#     cur.close()\n",
    "#     con.close()\n"
   ]
  },
  {
   "cell_type": "code",
   "execution_count": 100,
   "metadata": {},
   "outputs": [
    {
     "name": "stdout",
     "output_type": "stream",
     "text": [
      "2\n",
      "('대한민국헌법 양장 포켓북 ', 29466, '대한민국')\n",
      "('기출탄탄 양장기능사 필기', 31960, '정서경 외')\n"
     ]
    }
   ],
   "source": [
    "import sqlite3\n",
    "conn = sqlite3.connect(\"../Books.db\")\n",
    "cur = conn.cursor()\n",
    "cur.execute(\"SELECT title, id, author FROM Korean_book WHERE title LIKE \\\"%양장%\\\"\")\n",
    "data = cur.fetchall()\n",
    "conn.commit()\n",
    "cur.close()\n",
    "conn.close()\n",
    "\n",
    "delete_list = []\n",
    "print(len(data))\n",
    "for i, item in enumerate(data):\n",
    "    print(item)\n",
    "\n",
    "\n",
    "# for item in data:\n",
    "#     title = item[0].split(\"(\")[0]\n",
    "#     con = sqlite3.connect(\"../Books.db\")\n",
    "#     cur = con.cursor()\n",
    "#     cur.execute(f\"UPDATE Korean_book SET title=\\\"{title}\\\" WHERE id=={item[1]}\")\n",
    "#     con.commit()\n",
    "#     cur.close()\n",
    "#     con.close()\n"
   ]
  },
  {
   "cell_type": "code",
   "execution_count": 107,
   "metadata": {},
   "outputs": [
    {
     "name": "stdout",
     "output_type": "stream",
     "text": [
      "37\n",
      "('젊은작가상 수상작품집 10주년 특별판', 310, '편혜영 외')\n",
      "('여기는 커스터드, 특별한 도시락을 팝니다', 1007, '가토 겐')\n",
      "('블레이크씨의 특별한 심리치료법', 3667, '아리엘 도르프만')\n",
      "('우리들의 특별한 언어', 5917, '김지영 외')\n",
      "('특별한 아이에서 평범한 아이로', 8902, '권현정 외')\n",
      "('나의 뇌는 특별하다', 9069, '템플 그랜딘 외')\n",
      "('[Prestige Lounge 전용 특별 사인본] 오십에 읽는 논어', 9879, '최종엽')\n",
      "('쿤&포퍼: 과학에는 뭔가 특별한 것이 있다', 14457, '장대익')\n",
      "('마르크스의 특별한 눈', 14603, '고병권')\n",
      "('[Prestige Lounge 전용 특별 사인본] 인플레이션에서 살아남기', 20397, '오건영')\n",
      "('조선시대 사가기록화, 옛 그림에 담긴 조선 양반가의 특별한 순간들', 25539, '박정혜')\n",
      "('조금 특별한 불교 이야기', 28064, '자현 스님')\n",
      "('특별행정법', 28993, '김철용 외')\n",
      "('특별형법', 29470, '이주원')\n",
      "('주석 특별형법', 29554, '손동권 외')\n",
      "('형사특별법', 29657, '박상기 외')\n",
      "('평범한 수집가의 특별한 초대', 30968, '최필규')\n",
      "('MMCA 이건희컬렉션 특별전 이중섭', 31287, '국립현대미술관')\n",
      "('특별한 옷장', 32076, '이유미')\n",
      "('아주 특별한 인연', 33493, '앙브루아즈볼라르')\n",
      "('특별한 강아지옷 만들기', 46951, '유아연')\n",
      "('특별한 날의 손뜨개 인형', 47009, '아미구루미닷컴')\n",
      "('아름답고 특별한 비누 레시피', 47151, '앤마리 파이올라')\n",
      "('내 아이 200% 채워주는 특별한 유학 + 자녀교육 레시피', 51468, '전영미')\n",
      "('내게는 특별한 일본어를 부탁해', 52102, '이수경')\n",
      "('내게는 특별한 프랑스어 어휘를 부탁해', 54206, '이경자')\n",
      "('내게는 특별한 스페인어 어휘를 부탁해', 54508, '조혜진')\n",
      "('내게는 특별한 태국어를 부탁해', 54562, '신근혜 외')\n",
      "('내게는 특별한 아랍어를 부탁해', 54584, '김재희')\n",
      "('특별하게 제주', 54930, '강경필 외')\n",
      "('서울특별시전도', 54965, '영진문화사 편집부')\n",
      "('특별하게 런던', 55167, '김선태')\n",
      "('조금 특별한 음악태교', 56028, '이노경')\n",
      "('산만한 아이의 특별한 잠재력', 56286, '이슬기')\n",
      "('14데이의 특별한 마카롱 수업', 57484, '김수진')\n",
      "('[Prestige Lounge 전용 특별 도서] 미식 잡학 사전 프랑스', 57939, '프랑수아 레지스 고드리')\n",
      "('특별한 주말밥상', 58394, '반찬가게 편집부')\n"
     ]
    }
   ],
   "source": [
    "import sqlite3\n",
    "conn = sqlite3.connect(\"../Books.db\")\n",
    "cur = conn.cursor()\n",
    "cur.execute(\"SELECT title, id, author FROM Korean_book WHERE title LIKE \\\"%특별%\\\"\")\n",
    "data = cur.fetchall()\n",
    "conn.commit()\n",
    "cur.close()\n",
    "conn.close()\n",
    "\n",
    "print(len(data))\n",
    "for i, item in enumerate(data):\n",
    "    print(item)\n",
    "\n",
    "\n",
    "# for item in data:\n",
    "#     title = item[0].split(\"(\")[0]\n",
    "#     con = sqlite3.connect(\"../Books.db\")\n",
    "#     cur = con.cursor()\n",
    "#     cur.execute(f\"UPDATE Korean_book SET title=\\\"{title}\\\" WHERE id=={item[1]}\")\n",
    "#     con.commit()\n",
    "#     cur.close()\n",
    "#     con.close()\n"
   ]
  },
  {
   "cell_type": "code",
   "execution_count": 115,
   "metadata": {},
   "outputs": [
    {
     "name": "stdout",
     "output_type": "stream",
     "text": [
      "1\n",
      "('김기태의 초판본 이야기', 13020, '김기태')\n"
     ]
    }
   ],
   "source": [
    "import sqlite3\n",
    "conn = sqlite3.connect(\"../Books.db\")\n",
    "cur = conn.cursor()\n",
    "cur.execute(\"SELECT title, id, author FROM Korean_book WHERE title LIKE \\\"%초판%\\\"\")\n",
    "data = cur.fetchall()\n",
    "conn.commit()\n",
    "cur.close()\n",
    "conn.close()\n",
    "\n",
    "print(len(data))\n",
    "for i, item in enumerate(data):\n",
    "    print(item)\n",
    "\n",
    "\n",
    "# for item in data:\n",
    "#     title = item[0].split(\"(\")[0]\n",
    "#     con = sqlite3.connect(\"../Books.db\")\n",
    "#     cur = con.cursor()\n",
    "#     cur.execute(f\"UPDATE Korean_book SET title=\\\"{title}\\\" WHERE id=={item[1]}\")\n",
    "#     con.commit()\n",
    "#     cur.close()\n",
    "#     con.close()"
   ]
  },
  {
   "cell_type": "code",
   "execution_count": 123,
   "metadata": {},
   "outputs": [
    {
     "name": "stdout",
     "output_type": "stream",
     "text": [
      "10\n",
      "0 ('완역 금병매 1', 1639, '소소생')\n",
      "1 ('동국병감(신완역)(한국고전명저정선 2)', 11018, '김종권 역')\n",
      "2 ('연해자평 완역정해(상)', 14095, '정진엽')\n",
      "3 ('완역상주주역', 14317, '임동석')\n",
      "4 ('펠로폰네소스 전쟁사(상)(완역본)', 25007, '투키디데스')\n",
      "5 ('난중일기 교주본(신완역)', 25431, '이순신')\n",
      "6 ('교감완역 난중일기', 25469, '이순신')\n",
      "7 ('메시지 완역본(영한대역)(가죽장정)', 27649, '유진 피터슨')\n",
      "8 ('완역집성 정재무도홀기', 48688, '성무경 외')\n",
      "9 ('동의보감 한글완역본', 59865, '허준')\n"
     ]
    }
   ],
   "source": [
    "import sqlite3\n",
    "conn = sqlite3.connect(\"../Books.db\")\n",
    "cur = conn.cursor()\n",
    "cur.execute(\"SELECT title, id, author FROM Korean_book WHERE title LIKE \\\"%완역%\\\"\")\n",
    "data = cur.fetchall()\n",
    "conn.commit()\n",
    "cur.close()\n",
    "conn.close()\n",
    "\n",
    "print(len(data))\n",
    "for i, item in enumerate(data):\n",
    "    # if i>16:\n",
    "    #     break\n",
    "    print(i, item)\n",
    "\n",
    "# L = [4,5,6,11,12,13]\n",
    "# for i, item in enumerate(data):\n",
    "#     if i in L:\n",
    "#         title = item[0].split(\"(\")[0]\n",
    "#         con = sqlite3.connect(\"../Books.db\")\n",
    "#         cur = con.cursor()\n",
    "#         cur.execute(f\"UPDATE Korean_book SET title=\\\"{title}\\\" WHERE id=={item[1]}\")\n",
    "#         con.commit()\n",
    "# cur.close()\n",
    "# con.close()"
   ]
  },
  {
   "cell_type": "markdown",
   "metadata": {},
   "source": [
    "# pracitice"
   ]
  },
  {
   "cell_type": "code",
   "execution_count": 4,
   "metadata": {},
   "outputs": [
    {
     "name": "stdout",
     "output_type": "stream",
     "text": [
      "박희윤\n",
      "김민형\n",
      "이상원\n",
      "이재정\n"
     ]
    }
   ],
   "source": [
    "temp = sc.parallelize([('이재정', '박희윤'), (\"김민형\", \"이재정\"), (\"이재정\", \"박희윤\")])\n",
    "temp.take(1)\n",
    "temp1 = temp.distinct()\n",
    "for i in temp1.collect():\n",
    "    print(i)\n"
   ]
  },
  {
   "cell_type": "code",
   "execution_count": 58,
   "metadata": {},
   "outputs": [
    {
     "name": "stdout",
     "output_type": "stream",
     "text": [
      "['인문', '대학교재', '경제/경영', '외국어', '소설', '컴퓨터/IT', '시/에세이', '기술/공학', '예술/대중문화', '취미/실용/스포츠', '과학', '역사/문화', '정치/사회', '자기계발', '요리', '건강', '종교', '가정/육아', '고전소설/문학선', '철학']\n",
      "20\n"
     ]
    }
   ],
   "source": [
    "with open(\"../data/korean-representative-genres.txt\", \"rb\") as f:\n",
    "    value = f.read().decode(\"UTF-8\").split(\"\\n\")\n",
    "    value = value[:len(value)-1]\n",
    "    print(value)\n",
    "    print(len(value))\n",
    "    "
   ]
  }
 ],
 "metadata": {
  "kernelspec": {
   "display_name": "Python 3.6.9 64-bit",
   "language": "python",
   "name": "python3"
  },
  "language_info": {
   "codemirror_mode": {
    "name": "ipython",
    "version": 3
   },
   "file_extension": ".py",
   "mimetype": "text/x-python",
   "name": "python",
   "nbconvert_exporter": "python",
   "pygments_lexer": "ipython3",
   "version": "3.6.9"
  },
  "orig_nbformat": 4,
  "vscode": {
   "interpreter": {
    "hash": "31f2aee4e71d21fbe5cf8b01ff0e069b9275f58929596ceb00d14d90e3e16cd6"
   }
  }
 },
 "nbformat": 4,
 "nbformat_minor": 2
}
