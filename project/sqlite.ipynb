{
 "cells": [
  {
   "cell_type": "code",
   "execution_count": 18,
   "metadata": {},
   "outputs": [],
   "source": [
    "import sqlite3"
   ]
  },
  {
   "cell_type": "code",
   "execution_count": 37,
   "metadata": {},
   "outputs": [
    {
     "name": "stdout",
     "output_type": "stream",
     "text": [
      "[('https://contents.kyobobook.co.kr/sih/fit-in/142x0/pdt/9788954699914.jpg',), ('https://contents.kyobobook.co.kr/sih/fit-in/142x0/pdt/9788936438838.jpg',), ('https://contents.kyobobook.co.kr/sih/fit-in/142x0/pdt/9791161571379.jpg',), ('https://contents.kyobobook.co.kr/sih/fit-in/142x0/pdt/9791161571188.jpg',), ('https://contents.kyobobook.co.kr/sih/fit-in/142x0/pdt/9791191114225.jpg',), ('https://contents.kyobobook.co.kr/sih/fit-in/142x0/pdt/9791197377143.jpg',)]\n",
      "<class 'list'>\n"
     ]
    }
   ],
   "source": [
    "conn = sqlite3.connect(\"Books.db\")\n",
    "cur = conn.cursor()\n",
    "cur.execute('SELECT imgUrl from korean_book WHERE id<=5')\n",
    "data = cur.fetchall()\n",
    "print(data)\n",
    "print(type(data))\n",
    "conn.commit()\n",
    "conn.close()"
   ]
  },
  {
   "cell_type": "code",
   "execution_count": 10,
   "metadata": {},
   "outputs": [],
   "source": [
    "conn = sqlite3.connect(\"employee.db\")\n",
    "cur = conn.cursor()"
   ]
  },
  {
   "cell_type": "code",
   "execution_count": 17,
   "metadata": {},
   "outputs": [],
   "source": [
    "conn.execute('INSERT INTO employee_data VALUES(?, ?, ?, ?, ?)',\n",
    "    (1004, 'JAEJUNG','genius', 'Sales', '2020-04-01 00:00:00.000')\n",
    ")\n",
    "conn.commit()\n",
    "conn.close()"
   ]
  }
 ],
 "metadata": {
  "kernelspec": {
   "display_name": "Python 3.10.4 ('data-mining')",
   "language": "python",
   "name": "python3"
  },
  "language_info": {
   "codemirror_mode": {
    "name": "ipython",
    "version": 3
   },
   "file_extension": ".py",
   "mimetype": "text/x-python",
   "name": "python",
   "nbconvert_exporter": "python",
   "pygments_lexer": "ipython3",
   "version": "3.10.4"
  },
  "orig_nbformat": 4,
  "vscode": {
   "interpreter": {
    "hash": "20bc2612d0fd8be19af488bbfe75d6267421c3080aa839bfd424fa57a3ef4dc6"
   }
  }
 },
 "nbformat": 4,
 "nbformat_minor": 2
}
