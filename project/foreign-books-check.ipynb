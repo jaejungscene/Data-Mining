{
 "cells": [
  {
   "cell_type": "code",
   "execution_count": 11,
   "metadata": {},
   "outputs": [
    {
     "name": "stdout",
     "output_type": "stream",
     "text": [
      "[{'title': 2, 'author_num': 4, 'price': 2}, {'title': 4, 'author_num': 1, 'price': 1}, {'title': 7, 'author_num': 2, 'price': 0}, {'title': 2, 'author_num': 3, 'price': 5}, {'title': 4, 'author_num': 4, 'price': 8}, {'title': 8, 'author_num': 7, 'price': 0}, {'title': 0, 'author_num': 8, 'price': 2}, {'title': 9, 'author_num': 1, 'price': 6}, {'title': 7, 'author_num': 9, 'price': 2}, {'title': 9, 'author_num': 2, 'price': 6}]\n"
     ]
    }
   ],
   "source": [
    "import pandas as pd\n",
    "\n",
    "df = pd.DataFrame(columns=[\n",
    "    \"title_num\",'author_num',\"price\"\n",
    "])\n",
    "\n",
    "import numpy as np\n",
    "iter = 10\n",
    "total_list = []\n",
    "for i in range(10):\n",
    "    dic = {}\n",
    "    dic[\"title\"] = np.random.randint(10)\n",
    "    dic[\"author_num\"] = np.random.randint(10)\n",
    "    dic[\"price\"] = np.random.randint(10)\n",
    "    total_list.append(dic)\n",
    "print(total_list)\n"
   ]
  },
  {
   "cell_type": "code",
   "execution_count": 13,
   "metadata": {},
   "outputs": [
    {
     "name": "stdout",
     "output_type": "stream",
     "text": [
      "52478\n",
      "bookId                                       2767052-the-hunger-games\n",
      "title                                                The Hunger Games\n",
      "series                                            The Hunger Games #1\n",
      "author                                                Suzanne Collins\n",
      "rating                                                           4.33\n",
      "description         WINNING MEANS FAME AND FORTUNE.LOSING MEANS CE...\n",
      "language                                                      English\n",
      "isbn                                                    9780439023481\n",
      "genres              ['Young Adult', 'Fiction', 'Dystopia', 'Fantas...\n",
      "characters          ['Katniss Everdeen', 'Peeta Mellark', 'Cato (H...\n",
      "bookFormat                                                  Hardcover\n",
      "edition                                                 First Edition\n",
      "pages                                                             374\n",
      "publisher                                            Scholastic Press\n",
      "publishDate                                                  09/14/08\n",
      "firstPublishDate                                                  NaN\n",
      "awards              ['Locus Award Nominee for Best Young Adult Boo...\n",
      "numRatings                                                    6376780\n",
      "ratingsByStars      ['3444695', '1921313', '745221', '171994', '93...\n",
      "likedPercent                                                       96\n",
      "setting             ['District 12, Panem', 'Capitol, Panem', 'Pane...\n",
      "coverImg            https://i.gr-assets.com/images/S/compressed.ph...\n",
      "bbeScore                                                      2993816\n",
      "bbeVotes                                                        30516\n",
      "price                                                            5.09\n",
      "Name: 0, dtype: object\n",
      "https://i.gr-assets.com/images/S/compressed.photo.goodreads.com/books/1586722975l/2767052.jpg\n",
      "WINNING MEANS FAME AND FORTUNE.LOSING MEANS CERTAIN DEATH.THE HUNGER GAMES HAVE BEGUN. . . .In the ruins of a place once known as North America lies the nation of Panem, a shining Capitol surrounded by twelve outlying districts. The Capitol is harsh and cruel and keeps the districts in line by forcing them all to send one boy and once girl between the ages of twelve and eighteen to participate in the annual Hunger Games, a fight to the death on live TV.Sixteen-year-old Katniss Everdeen regards it as a death sentence when she steps forward to take her sister's place in the Games. But Katniss has been close to dead before—and survival, for her, is second nature. Without really meaning to, she becomes a contender. But if she is to win, she will have to start making choices that weight survival against humanity and life against love.\n"
     ]
    }
   ],
   "source": [
    "import pandas as pd\n",
    "\n",
    "data = pd.read_csv(\"./data/foreign-books.csv\")\n",
    "title = data[\"title\"].iloc[0]\n",
    "\n",
    "print(len(data))\n",
    "print(data.iloc[0])\n",
    "print(data[\"coverImg\"].iloc[0])\n",
    "print(data[\"description\"].iloc[0])"
   ]
  },
  {
   "cell_type": "code",
   "execution_count": 6,
   "metadata": {},
   "outputs": [
    {
     "name": "stdout",
     "output_type": "stream",
     "text": [
      "The Hunger Games\n",
      "Young Adult, Fiction, Dystopia, Fantasy, Science Fiction, Romance, Adventure, Teen, Post Apocalyptic, Action\n",
      "Suzanne Collins\n",
      "4.33\n",
      "Scholastic Press\n",
      "09/14/08\n",
      "374\n",
      "English\n",
      "WINNING MEANS FAME AND FORTUNE.LOSING MEANS CERTAIN DEATH.THE HUNGER GAMES HAVE BEGUN. . . .In the ruins of a place once known as North America lies the nation of Panem, a shining Capitol surrounded by twelve outlying districts. The Capitol is harsh and cruel and keeps the districts in line by forcing them all to send one boy and once girl between the ages of twelve and eighteen to participate in the annual Hunger Games, a fight to the death on live TV.Sixteen-year-old Katniss Everdeen regards it as a death sentence when she steps forward to take her sister's place in the Games. But Katniss has been close to dead before—and survival, for her, is second nature. Without really meaning to, she becomes a contender. But if she is to win, she will have to start making choices that weight survival against humanity and life against love.\n",
      "https://i.gr-assets.com/images/S/compressed.photo.goodreads.com/books/1586722975l/2767052.jpg\n",
      "52478\n"
     ]
    }
   ],
   "source": [
    "import pandas as pd\n",
    "data = pd.read_csv(\"./data/foreign-books.csv\")\n",
    "title = data[\"title\"].iloc[0]\n",
    "genres = data[\"genres\"].iloc[0].replace(\"[\",\"\").replace(\"]\",\"\").replace(\"\\'\",\"\")\n",
    "author = data[\"author\"].iloc[0]\n",
    "rating = data[\"rating\"].iloc[0]\n",
    "publisher = data[\"publisher\"].iloc[0]\n",
    "p_date = data[\"publishDate\"].iloc[0]\n",
    "pages = data[\"pages\"].iloc[0]\n",
    "language = data[\"language\"].iloc[0]\n",
    "description = data[\"description\"][0]\n",
    "imgUrl = data[\"coverImg\"][0]\n",
    "\n",
    "print(title)\n",
    "print(genres)\n",
    "print(author)\n",
    "print(rating)\n",
    "print(publisher)\n",
    "print(p_date)\n",
    "print(pages)\n",
    "print(language)\n",
    "print(description)\n",
    "print(imgUrl)\n",
    "print(len(data))"
   ]
  },
  {
   "cell_type": "code",
   "execution_count": 14,
   "metadata": {},
   "outputs": [
    {
     "name": "stderr",
     "output_type": "stream",
     "text": [
      "/home/ljj0512/.local/lib/python3.6/site-packages/pyspark/context.py:238: FutureWarning: Python 3.6 support is deprecated in Spark 3.2.\n",
      "  FutureWarning\n"
     ]
    }
   ],
   "source": [
    "from pyspark.sql import *\n",
    "from pyspark.sql.functions import *\n",
    "from pyspark import SparkContext\n",
    "import pandas as pd\n",
    "\n",
    "# create the Spark Session\n",
    "spark = SparkSession.builder.appName(\"spark\").getOrCreate()\n",
    "\n",
    "# create the Spark Context\n",
    "sc = spark.sparkContext"
   ]
  },
  {
   "cell_type": "code",
   "execution_count": 22,
   "metadata": {},
   "outputs": [],
   "source": [
    "genres_list = (data[\"genres\"].iloc[:].tolist())"
   ]
  },
  {
   "cell_type": "code",
   "execution_count": 32,
   "metadata": {},
   "outputs": [
    {
     "name": "stdout",
     "output_type": "stream",
     "text": [
      "<class 'list'>\n",
      "<class 'list'>\n"
     ]
    }
   ],
   "source": [
    "\n",
    "rdd = sc.parallelize(genres_list)\n",
    "print(rdd.take(1))\n",
    "# print(rdd.take(2))\n",
    "rdd1 = rdd.map(lambda line: line.replace(\"[\",\"\").replace(\"]\",\"\").replace(\"\\'\",\"\").split(\",\"))\n",
    "print(type(rdd1.take(1)))"
   ]
  },
  {
   "cell_type": "code",
   "execution_count": 20,
   "metadata": {},
   "outputs": [
    {
     "name": "stdout",
     "output_type": "stream",
     "text": [
      "[]\n"
     ]
    }
   ],
   "source": [
    "import sqlite3\n",
    "conn = sqlite3.connect(\"Books.db\")\n",
    "cur = conn.cursor()\n",
    "cur.execute(\"SELECT title FROM Korean_book WHERE rowid=24416\")\n",
    "data = cur.fetchall()\n",
    "print(data)\n",
    "conn.commit()\n",
    "conn.close()"
   ]
  }
 ],
 "metadata": {
  "kernelspec": {
   "display_name": "Python 3.10.4 ('data-mining')",
   "language": "python",
   "name": "python3"
  },
  "language_info": {
   "codemirror_mode": {
    "name": "ipython",
    "version": 3
   },
   "file_extension": ".py",
   "mimetype": "text/x-python",
   "name": "python",
   "nbconvert_exporter": "python",
   "pygments_lexer": "ipython3",
   "version": "3.10.4"
  },
  "orig_nbformat": 4,
  "vscode": {
   "interpreter": {
    "hash": "20bc2612d0fd8be19af488bbfe75d6267421c3080aa839bfd424fa57a3ef4dc6"
   }
  }
 },
 "nbformat": 4,
 "nbformat_minor": 2
}
