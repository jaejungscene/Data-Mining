{
  "cells": [
    {
      "cell_type": "code",
      "execution_count": 1,
      "metadata": {
        "id": "ekaFfjOtkTvI"
      },
      "outputs": [],
      "source": [
        "# !pip install pyspark\n",
        "# !pip install -U -q PyDrive\n",
        "# !apt install openjdk-8-jdk-headless -qq"
      ]
    },
    {
      "cell_type": "code",
      "execution_count": 2,
      "metadata": {
        "id": "XiDfep0JnWlY"
      },
      "outputs": [],
      "source": [
        "# import os\n",
        "# os.environ[\"JAVA_HOME\"] = \"/usr/lib/jvm/java-8-openjdk-amd64\""
      ]
    },
    {
      "cell_type": "code",
      "execution_count": 3,
      "metadata": {
        "id": "oCNWijoqkWYE"
      },
      "outputs": [],
      "source": [
        "import pandas as pd\n",
        "import numpy as np\n",
        "import matplotlib.pyplot as plt\n",
        "%matplotlib inline\n",
        "\n",
        "# Spark Library\n",
        "import pyspark\n",
        "from pyspark.sql import *\n",
        "from pyspark.sql.functions import *\n",
        "from pyspark import SparkContext, SparkConf"
      ]
    },
    {
      "cell_type": "code",
      "execution_count": 4,
      "metadata": {
        "id": "Bh7rr4YZqQ4v"
      },
      "outputs": [],
      "source": [
        "import re\n",
        "import sys\n",
        "import itertools as it"
      ]
    },
    {
      "cell_type": "code",
      "execution_count": 5,
      "metadata": {
        "id": "OxdqYMsokZwl"
      },
      "outputs": [
        {
          "name": "stderr",
          "output_type": "stream",
          "text": [
            "/home/ljj0512/.local/lib/python3.6/site-packages/pyspark/context.py:238: FutureWarning: Python 3.6 support is deprecated in Spark 3.2.\n",
            "  FutureWarning\n"
          ]
        }
      ],
      "source": [
        "\"\"\"\n",
        "Initializing Spark and preparation for data analysis\n",
        "\"\"\"\n",
        "\n",
        "conf = SparkConf()\n",
        "sc = pyspark.SparkContext(conf=conf)\n",
        "spark = SparkSession.builder.getOrCreate()"
      ]
    },
    {
      "cell_type": "code",
      "execution_count": 6,
      "metadata": {
        "colab": {
          "base_uri": "https://localhost:8080/"
        },
        "id": "yGXjjHdZgQnO",
        "outputId": "f504fd70-69c5-4abf-ad73-cbc4f4f46af9"
      },
      "outputs": [],
      "source": [
        "# # Google drive mount\n",
        "# from google.colab import drive\n",
        "# drive.mount('/content/drive')"
      ]
    },
    {
      "cell_type": "code",
      "execution_count": 7,
      "metadata": {
        "id": "ZO_XgvBikdyV"
      },
      "outputs": [],
      "source": [
        "friendLines = sc.textFile('./soc-LiveJournal1Adj.txt') \n",
        "# Your folder path"
      ]
    },
    {
      "cell_type": "code",
      "execution_count": 8,
      "metadata": {
        "id": "tKF3ZiIolTlm"
      },
      "outputs": [],
      "source": [
        "user_friends = friendLines.map(lambda l: l.split())"
      ]
    },
    {
      "cell_type": "code",
      "execution_count": 9,
      "metadata": {
        "id": "YlPCQtyFlVCK"
      },
      "outputs": [],
      "source": [
        "user  = user_friends.map(lambda x: x[0])\n",
        "Users = user.collect()\n",
        "Users = map(int, Users)"
      ]
    },
    {
      "cell_type": "code",
      "execution_count": 10,
      "metadata": {
        "id": "JB7Q7bStlptt"
      },
      "outputs": [],
      "source": [
        "user_w_friends = user_friends.filter(lambda e: len(e) == 2)"
      ]
    },
    {
      "cell_type": "code",
      "execution_count": 11,
      "metadata": {
        "id": "OKbjoBiopfpv"
      },
      "outputs": [],
      "source": [
        "user_friendList = user_w_friends.map(lambda p: (int(p[0]), map(int, sorted(p[1].split(',')))))"
      ]
    },
    {
      "cell_type": "code",
      "execution_count": 12,
      "metadata": {
        "id": "JQa0xPUBps-g"
      },
      "outputs": [],
      "source": [
        "def friend_pairs_of_user(user_friendslist):\n",
        "\t\"\"\"\n",
        "\tpairing user and friends.\n",
        "\t\"\"\"\n",
        "\tfrom_user = user_friendslist[0]\n",
        "\tfriendLst = user_friendslist[1]\n",
        "\treturn [(pair_of_usersFriend, 1) for pair_of_usersFriend in it.combinations(friendLst, 2)]"
      ]
    },
    {
      "cell_type": "code",
      "execution_count": 13,
      "metadata": {
        "id": "7V9EJ0EfqVRf"
      },
      "outputs": [],
      "source": [
        "pairs_from_commonFriend = user_friendList.map(friend_pairs_of_user).flatMap(lambda x: x)"
      ]
    },
    {
      "cell_type": "code",
      "execution_count": 14,
      "metadata": {
        "id": "BesH7PSDqirI"
      },
      "outputs": [],
      "source": [
        "pairs_CntOf_commonFriends = pairs_from_commonFriend.reduceByKey(lambda c1, c2: c1 + c2) \n",
        "# Transformation. Refer to this site if you don't know \"reduceByKey\" -> \"https://seamless.tistory.com/101\" (출처 :tistory blog, \"reduceByKey\")"
      ]
    },
    {
      "cell_type": "code",
      "execution_count": 15,
      "metadata": {
        "id": "4Pp32LQoqomj"
      },
      "outputs": [],
      "source": [
        "user2friendsMap = user_friendList.collectAsMap() \n",
        "# Create a key-value RDD and convert it to a Scala Map"
      ]
    },
    {
      "cell_type": "code",
      "execution_count": 16,
      "metadata": {
        "id": "6PPNpiAWqu7W"
      },
      "outputs": [],
      "source": [
        "pairs_hasCommon_yetFriends = pairs_CntOf_commonFriends.filter(lambda pC: pC[0][1] not in user2friendsMap[pC[0][0]])"
      ]
    },
    {
      "cell_type": "code",
      "execution_count": 17,
      "metadata": {
        "id": "ENXysK3zq5db"
      },
      "outputs": [],
      "source": [
        "user_recommendList_byShareCnt = pairs_hasCommon_yetFriends.map(lambda pC: [(pC[0][0], {pC[1]: [pC[0][1]]}), (pC[0][1], {pC[1]: [pC[0][0]]})]).flatMap(lambda x: x)"
      ]
    },
    {
      "cell_type": "code",
      "execution_count": 18,
      "metadata": {
        "id": "qcaU8Q7UrKS1"
      },
      "outputs": [],
      "source": [
        "def mergeByShareCnt(d1, d2):\n",
        "\t\"\"\"\n",
        "\tmerge in the same index (between d1 and d2)\n",
        "\t\"\"\"\n",
        "\tfor k2 in d2:\n",
        "\t\tif k2 in d1:\n",
        "\t\t\td1[k2] += d2[k2]\n",
        "\t\telse:\n",
        "\t\t\td1[k2] = d2[k2]\n",
        "\treturn d1"
      ]
    },
    {
      "cell_type": "code",
      "execution_count": 19,
      "metadata": {
        "id": "ACnQZP7MrSFW"
      },
      "outputs": [],
      "source": [
        "recommendList_byShareCnt = user_recommendList_byShareCnt.reduceByKey(mergeByShareCnt)"
      ]
    },
    {
      "cell_type": "code",
      "execution_count": 20,
      "metadata": {
        "id": "IOzaR3_mrZLv"
      },
      "outputs": [],
      "source": [
        "def sortRecommendsByCnt(recommendTuple):\n",
        "\t\"\"\"\n",
        "\tsimply sort by cnt\n",
        "\t\"\"\"\n",
        "\trlist = []\n",
        "\trdict = recommendTuple[1]\n",
        "\tckeys = sorted(rdict, reverse=True)\n",
        "\tfor cnt in ckeys:\n",
        "\t    rlist.append((cnt, sorted(rdict[cnt])))\n",
        "\treturn (recommendTuple[0], rlist)"
      ]
    },
    {
      "cell_type": "code",
      "execution_count": 21,
      "metadata": {
        "id": "QzcfQ2S6rm-4"
      },
      "outputs": [],
      "source": [
        "recommends = recommendList_byShareCnt.map(sortRecommendsByCnt)"
      ]
    },
    {
      "cell_type": "code",
      "execution_count": 22,
      "metadata": {
        "id": "pHjM9-cFrr-V"
      },
      "outputs": [],
      "source": [
        "def recList(pair):\n",
        "  person = pair[0]\n",
        "  cntfList = pair[1]\n",
        "  cntfLen = len(cntfList)\n",
        "  rlist = []\n",
        "\n",
        "  for i in range(cntfLen):\n",
        "    for j in range(len(cntfList[i][1])):\n",
        "      rlist.append(cntfList[i][1][j])\n",
        "  return (person, rlist)"
      ]
    },
    {
      "cell_type": "code",
      "execution_count": 23,
      "metadata": {
        "id": "eb0lFCs4r5MB"
      },
      "outputs": [],
      "source": [
        "recommendList = recommends.map(recList)"
      ]
    },
    {
      "cell_type": "code",
      "execution_count": 24,
      "metadata": {
        "colab": {
          "base_uri": "https://localhost:8080/",
          "height": 1000
        },
        "id": "sGmjI4bur8E2",
        "outputId": "35d9e853-8647-48a6-b25b-5ebfe061859d"
      },
      "outputs": [],
      "source": [
        "recommendMap = recommendList.collectAsMap()"
      ]
    },
    {
      "cell_type": "code",
      "execution_count": 25,
      "metadata": {
        "id": "bEWu6O_Wr-1N"
      },
      "outputs": [],
      "source": [
        "def pMap2file(pMap, pList, N, fname):\n",
        "  fp = open(fname, 'w+')\n",
        "  for k in pList:\n",
        "    if k in pMap:\n",
        "      plen = np.min([len(pMap[k]), N])\n",
        "      s = ','.join(str(e) for e in pMap[k][:plen])\n",
        "      write_doc = str(k) + \"\\t\" + str(s)\n",
        "      fp.write(write_doc + \"\\n\")\n",
        "    else:\n",
        "      fp.write(str(k))\n",
        "  fp.close()"
      ]
    },
    {
      "cell_type": "code",
      "execution_count": 26,
      "metadata": {
        "id": "cxPqv2-isT0S"
      },
      "outputs": [],
      "source": [
        "uList = [924, 8941, 8942, 9019, 9020, 9021, 9022, 9990, 9992, 9993]\n",
        "pMap2file(recommendMap, uList, 10, 'select_out.txt')\n",
        "\n",
        "sc.stop()"
      ]
    },
    {
      "cell_type": "code",
      "execution_count": null,
      "metadata": {
        "id": "EX4bkSP4Ntz2"
      },
      "outputs": [],
      "source": []
    }
  ],
  "metadata": {
    "colab": {
      "collapsed_sections": [],
      "provenance": []
    },
    "kernelspec": {
      "display_name": "Python 3.6.9 64-bit",
      "language": "python",
      "name": "python3"
    },
    "language_info": {
      "codemirror_mode": {
        "name": "ipython",
        "version": 3
      },
      "file_extension": ".py",
      "mimetype": "text/x-python",
      "name": "python",
      "nbconvert_exporter": "python",
      "pygments_lexer": "ipython3",
      "version": "3.6.9"
    },
    "vscode": {
      "interpreter": {
        "hash": "31f2aee4e71d21fbe5cf8b01ff0e069b9275f58929596ceb00d14d90e3e16cd6"
      }
    }
  },
  "nbformat": 4,
  "nbformat_minor": 0
}
