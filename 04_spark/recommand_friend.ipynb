{
 "cells": [
  {
   "cell_type": "code",
   "execution_count": 1,
   "metadata": {},
   "outputs": [
    {
     "name": "stderr",
     "output_type": "stream",
     "text": [
      "/home/ljj0512/.local/lib/python3.6/site-packages/pyspark/context.py:238: FutureWarning: Python 3.6 support is deprecated in Spark 3.2.\n",
      "  FutureWarning\n"
     ]
    }
   ],
   "source": [
    "from pyspark.sql import SparkSession\n",
    "spark = SparkSession.builder.appName(\"spakr-01\").getOrCreate()\n",
    "sc = spark.sparkContext"
   ]
  },
  {
   "cell_type": "code",
   "execution_count": 17,
   "metadata": {},
   "outputs": [
    {
     "name": "stdout",
     "output_type": "stream",
     "text": [
      "[['0', '1,2,3,4,5,6,7,8,9,10,11,12,13,14,15,16,17,18,19,20,21,22,23,24,25,26,27,28,29,30,31,32,33,34,35,36,37,38,39,40,41,42,43,44,45,46,47,48,49,50,51,52,53,54,55,56,57,58,59,60,61,62,63,64,65,66,67,68,69,70,71,72,73,74,75,76,77,78,79,80,81,82,83,84,85,86,87,88,89,90,91,92,93,94']]\n",
      "49995\n"
     ]
    }
   ],
   "source": [
    "doc = sc.textFile(\"./soc-LiveJournal1Adj.txt\")\n",
    "usr_friends = doc.map(lambda x: x.split(\"\\t\")).filter(lambda x: len(x)==2)\n",
    "print(usr_friends.take(1))\n",
    "print(usr_friends.count())"
   ]
  },
  {
   "cell_type": "code",
   "execution_count": 16,
   "metadata": {},
   "outputs": [
    {
     "name": "stdout",
     "output_type": "stream",
     "text": [
      "[[('0', '1'), ('0', '2'), ('0', '3'), ('0', '4'), ('0', '5'), ('0', '6'), ('0', '7'), ('0', '8'), ('0', '9'), ('0', '10'), ('0', '11'), ('0', '12'), ('0', '13'), ('0', '14'), ('0', '15'), ('0', '16'), ('0', '17'), ('0', '18'), ('0', '19'), ('0', '20'), ('0', '21'), ('0', '22'), ('0', '23'), ('0', '24'), ('0', '25'), ('0', '26'), ('0', '27'), ('0', '28'), ('0', '29'), ('0', '30'), ('0', '31'), ('0', '32'), ('0', '33'), ('0', '34'), ('0', '35'), ('0', '36'), ('0', '37'), ('0', '38'), ('0', '39'), ('0', '40'), ('0', '41'), ('0', '42'), ('0', '43'), ('0', '44'), ('0', '45'), ('0', '46'), ('0', '47'), ('0', '48'), ('0', '49'), ('0', '50'), ('0', '51'), ('0', '52'), ('0', '53'), ('0', '54'), ('0', '55'), ('0', '56'), ('0', '57'), ('0', '58'), ('0', '59'), ('0', '60'), ('0', '61'), ('0', '62'), ('0', '63'), ('0', '64'), ('0', '65'), ('0', '66'), ('0', '67'), ('0', '68'), ('0', '69'), ('0', '70'), ('0', '71'), ('0', '72'), ('0', '73'), ('0', '74'), ('0', '75'), ('0', '76'), ('0', '77'), ('0', '78'), ('0', '79'), ('0', '80'), ('0', '81'), ('0', '82'), ('0', '83'), ('0', '84'), ('0', '85'), ('0', '86'), ('0', '87'), ('0', '88'), ('0', '89'), ('0', '90'), ('0', '91'), ('0', '92'), ('0', '93'), ('0', '94')]]\n",
      "====================================================================================================\n",
      "[('0', '1'), ('0', '2'), ('0', '3'), ('0', '4'), ('0', '5')]\n"
     ]
    }
   ],
   "source": [
    "def pair_usr_friend(line):\n",
    "    pair_list = []\n",
    "    for now_friend in line[1].split(\",\"):\n",
    "        pair_list.append((line[0], now_friend))\n",
    "    return pair_list\n",
    "pair_usr_friends = usr_friends.map(pair_usr_friend)\n",
    "print(pair_usr_friends.take(1))\n",
    "print(\"=\"*100)\n",
    "pair_usr_friends = pair_usr_friends.flatMap(lambda x:x)\n",
    "print(pair_usr_friends.take(5))"
   ]
  },
  {
   "cell_type": "code",
   "execution_count": 18,
   "metadata": {},
   "outputs": [
    {
     "name": "stdout",
     "output_type": "stream",
     "text": [
      "[['1', '2', '3', '4', '5', '6', '7', '8', '9', '10', '11', '12', '13', '14', '15', '16', '17', '18', '19', '20', '21', '22', '23', '24', '25', '26', '27', '28', '29', '30', '31', '32', '33', '34', '35', '36', '37', '38', '39', '40', '41', '42', '43', '44', '45', '46', '47', '48', '49', '50', '51', '52', '53', '54', '55', '56', '57', '58', '59', '60', '61', '62', '63', '64', '65', '66', '67', '68', '69', '70', '71', '72', '73', '74', '75', '76', '77', '78', '79', '80', '81', '82', '83', '84', '85', '86', '87', '88', '89', '90', '91', '92', '93', '94']]\n"
     ]
    }
   ],
   "source": [
    "friends = doc.map(lambda x: x.split(\"\\t\")[1].split(\",\"))\n",
    "print(friends.take(1))"
   ]
  },
  {
   "cell_type": "code",
   "execution_count": 24,
   "metadata": {},
   "outputs": [
    {
     "name": "stdout",
     "output_type": "stream",
     "text": [
      "1\n",
      "2\n",
      "4\n",
      "5\n",
      "10\n",
      "3\n",
      "4\n",
      "5\n",
      "9\n",
      "====================================================================================================\n",
      "1\n",
      "2\n",
      "4\n",
      "5\n",
      "10\n"
     ]
    }
   ],
   "source": [
    "rdd1 = sc.parallelize([1,2,4,5,10])\n",
    "rdd2 = sc.parallelize([3,4,5,9])\n",
    "\n",
    "unrdd = sc.union([rdd1, rdd2])\n",
    "for i in unrdd.collect():\n",
    "    print(i)\n",
    "\n",
    "print(\"=\"*100)\n",
    "interrdd = rdd1.intersection(rdd1)\n",
    "for i in interrdd.collect():\n",
    "    print(i)"
   ]
  }
 ],
 "metadata": {
  "kernelspec": {
   "display_name": "Python 3.10.4 ('data-mining')",
   "language": "python",
   "name": "python3"
  },
  "language_info": {
   "codemirror_mode": {
    "name": "ipython",
    "version": 3
   },
   "file_extension": ".py",
   "mimetype": "text/x-python",
   "name": "python",
   "nbconvert_exporter": "python",
   "pygments_lexer": "ipython3",
   "version": "3.10.4"
  },
  "orig_nbformat": 4,
  "vscode": {
   "interpreter": {
    "hash": "20bc2612d0fd8be19af488bbfe75d6267421c3080aa839bfd424fa57a3ef4dc6"
   }
  }
 },
 "nbformat": 4,
 "nbformat_minor": 2
}
